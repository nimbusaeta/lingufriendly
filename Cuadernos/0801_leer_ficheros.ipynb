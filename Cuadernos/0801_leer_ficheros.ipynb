{
 "cells": [
  {
   "cell_type": "markdown",
   "metadata": {},
   "source": [
    "# Tema 8: Ficheros y módulos (I)\n",
    "Hasta ahora, hemos escrito programas en los que, cada vez que los ejecutábamos, había que introducir toda la información, y esta se perdía una vez salíamos de ellos. Pero hay una forma de superar esta limitación y conservar información entre distintas ejecuciones de un programa: guardarla en ficheros.\n",
    "\n",
    "Pero aprender a leer y escribir en ficheros no solo sirve para escribir programas con esas características, sino que también es útil para compartir datos, es decir, para poder trabajar con datos de terceros, o que otros puedan trabajar con los nuestros. Esto es especialmente importante en proyectos de [_open data_](https://es.wikipedia.org/wiki/Datos_abiertos) o [_linked data_](https://es.wikipedia.org/wiki/Datos_enlazados).\n",
    "\n",
    "Existen dos tipos de ficheros: de texto y binarios. Los primeros se pueden leer y escribir con programas de edición de textos (como Notepad++, el bloc de notas, Sublime, PyCharm, TextMate, etc.). Los segundos almacenan la información en largas secuencias de números que solo tienen sentido para los programas. En este curso vamos a aprender a manejar los primeros.\n",
    "\n",
    "## Crear ficheros de texto\n",
    "Vamos a crear un fichero de texto. La forma más fácil es a través de un editor de texto plano. Puedes usar el que quieras, pero si no sabes cuál usar, te recomiendo el Notepad++. Lo más importante es que no utilices un procesador de textos como puede ser el Word del Microsoft Office, WordPad, o el Writer de LibreOffice/OpenOffice."
   ]
  },
  {
   "cell_type": "markdown",
   "metadata": {},
   "source": [
    "Escribe unas líneas en tu archivo nuevo. Por ejemplo:\n",
    "\n",
    "    Muchos años después, frente al pelotón de fusilamiento,\n",
    "    el coronel Aureliano Buendía había de recordar aquella\n",
    "    tarde remota en que su padre lo llevó a conocer el hielo.\n",
    "    Macondo era entonces una aldea de veinte casas de barro y\n",
    "    cañabrava construidas a la orilla de un río de aguas\n",
    "    diáfanas que se precipitaban por un lecho de piedras\n",
    "    pulidas, blancas y enormes como huevos prehistóricos.\n",
    "\n",
    "Ahora guárdalo como `datos.txt` en la misma carpeta en la que guardes tus archivos .py o .ipynb. Si usas Colab, sube el archivo a la misma carpeta en que tengas los cuadernos y presta atención a la siguiente subsección; si no, puedes saltar directamente a [Abrir ficheros de texto en Python](#Abrir-ficheros-de-texto-en-Python).\n",
    "\n",
    "### Acceder a archivos en Colab\n",
    "Si estás usando Colab, tienes que ejecutar estas líneas siempre que vayas a querer acceder a archivos desde un cuaderno:"
   ]
  },
  {
   "cell_type": "code",
   "execution_count": null,
   "metadata": {},
   "outputs": [],
   "source": [
    "from google.colab import drive\n",
    "drive.mount('/content/drive')"
   ]
  },
  {
   "attachments": {
    "pic-0801-1.png": {
     "image/png": "[encoded data removed]"
    }
   },
   "cell_type": "markdown",
   "metadata": {},
   "source": [
    "Al hacerlo, tienen que salirte un enlace y un campo donde escribir como los de la siguiente imagen:\n",
    "\n",
    "![Dos líneas. Una dice \"Go to this URL in a browser\", seguida de una URL. La siguiente dice: \"Enter your authorization code\" y tiene una caja de texto debajo](attachment:pic-0801-1.png)\n",
    "\n",
    "Simplemente, sigue las instrucciones: ve al enlace, copia el código y pégalo en el campo que ha aparecido en tu cuaderno. Ya puedes seguir :)\n",
    "\n",
    "## Abrir ficheros de texto en Python\n",
    "Ahora vamos a crear un programa que lea ese archivo. Para ello, lo primero que necesitamos es que el archivo «exista» dentro del programa, es decir, que exista un objeto que lo represente, igual que las variables representan strings, números o booleanos. Eso lo vamos a hacer con la función `open()`, a la que le tenemos que pasar como argumento la ruta o _path_ del archivo entre comillas. También tenemos que guardar su salida en una variable, a la que llamaremos, por ejemplo, `fichero`.\n",
    "\n",
    "Si estás ejecutando los cuadernos en local o estás trabajando con archivos .py, y has guardado el archivo en la misma carpeta, la ruta será `\"datos.txt\"`, sin más (hay que poner las comillas porque `open()` requiere un dato de tipo string). Si estás usando Colab y has subido el fichero a la misma carpeta que los cuadernos, la ruta será `\"/content/drive/My Drive/Introducción a la programación para humanistas/datos.txt\"` (suponiendo que la carpeta se llama \"Introducción a la programación para humanistas\" y que no está dentro de otra carpeta de tu Drive). En realidad, no hay ningún problema en guardar el fichero en otro sitio que no sea el mismo que el programa que va a acceder a él, pero entonces habría que modificar la ruta. Así que decide bien dónde colocarlo y no lo muevas mucho de ahí."
   ]
  },
  {
   "cell_type": "code",
   "execution_count": 36,
   "metadata": {},
   "outputs": [],
   "source": [
    "fichero = open(\"datos.txt\")"
   ]
  },
  {
   "cell_type": "markdown",
   "metadata": {},
   "source": [
    "Si nos equivocamos con la ruta del fichero, obtendremos un error porque el programa no será capaz de encontrarlo:"
   ]
  },
  {
   "cell_type": "code",
   "execution_count": 1,
   "metadata": {},
   "outputs": [
    {
     "ename": "FileNotFoundError",
     "evalue": "[Errno 2] No such file or directory: 'dato.txt'",
     "output_type": "error",
     "traceback": [
      "\u001b[1;31m---------------------------------------------------------------------------\u001b[0m",
      "\u001b[1;31mFileNotFoundError\u001b[0m                         Traceback (most recent call last)",
      "\u001b[1;32m<ipython-input-1-9a226982a83a>\u001b[0m in \u001b[0;36m<module>\u001b[1;34m()\u001b[0m\n\u001b[1;32m----> 1\u001b[1;33m \u001b[0mfichero_error\u001b[0m \u001b[1;33m=\u001b[0m \u001b[0mopen\u001b[0m\u001b[1;33m(\u001b[0m\u001b[1;34m\"dato.txt\"\u001b[0m\u001b[1;33m)\u001b[0m\u001b[1;33m\u001b[0m\u001b[0m\n\u001b[0m",
      "\u001b[1;31mFileNotFoundError\u001b[0m: [Errno 2] No such file or directory: 'dato.txt'"
     ]
    }
   ],
   "source": [
    "fichero_error = open(\"dato.txt\")"
   ]
  },
  {
   "cell_type": "markdown",
   "metadata": {},
   "source": [
    "Ahora podemos comprobar el tipo de objeto que es `fichero` con `type()` y obtendremos `_io.TextIOWrapper`. Esto simplemente es la forma que tiene Python de representar los ficheros."
   ]
  },
  {
   "cell_type": "code",
   "execution_count": 7,
   "metadata": {},
   "outputs": [
    {
     "data": {
      "text/plain": [
       "_io.TextIOWrapper"
      ]
     },
     "execution_count": 7,
     "metadata": {},
     "output_type": "execute_result"
    }
   ],
   "source": [
    "type(fichero)"
   ]
  },
  {
   "cell_type": "markdown",
   "metadata": {},
   "source": [
    "## Leer ficheros de texto"
   ]
  },
  {
   "cell_type": "markdown",
   "metadata": {},
   "source": [
    "Es importante entender que no podemos tratar los objetos de ficheros como si fueran strings, es decir, `print(fichero)` probablemente no se va a comportar como esperas:"
   ]
  },
  {
   "cell_type": "code",
   "execution_count": 8,
   "metadata": {},
   "outputs": [
    {
     "name": "stdout",
     "output_type": "stream",
     "text": [
      "<_io.TextIOWrapper name='datos.txt' mode='r' encoding='cp1252'>\n"
     ]
    }
   ],
   "source": [
    "print(fichero)"
   ]
  },
  {
   "cell_type": "markdown",
   "metadata": {},
   "source": [
    "Como ves, nos devuelve la información del fichero, pero no imprime su contenido. En cambio, para acceder a su contenido, nos falta un último paso, que es leerlo. Esto se puede hacer de muchas maneras; vamos a ver aquí las más habituales.\n",
    "\n",
    "Empecemos por el método `.read()`, cuyo output meteremos en una variable que ya sí será de tipo string y podremos imprimir:"
   ]
  },
  {
   "cell_type": "code",
   "execution_count": 9,
   "metadata": {},
   "outputs": [
    {
     "name": "stdout",
     "output_type": "stream",
     "text": [
      "Muchos aÃ±os despuÃ©s, frente al pelotÃ³n de fusilamiento,\n",
      "el coronel Aureliano BuendÃ­a habÃ­a de recordar aquella\n",
      "tarde remota en que su padre lo llevÃ³ a conocer el hielo.\n",
      "Macondo era entonces una aldea de veinte casas de barro y\n",
      "caÃ±abrava construidas a la orilla de un rÃ­o de aguas\n",
      "diÃ¡fanas que se precipitaban por un lecho de piedras\n",
      "pulidas, blancas y enormes como huevos prehistÃ³ricos.\n"
     ]
    }
   ],
   "source": [
    "contenido = fichero.read()\n",
    "print(contenido)"
   ]
  },
  {
   "cell_type": "markdown",
   "metadata": {},
   "source": [
    "¡Ahora sí! Aunque hay un problema: las tildes y las eñes no se ven bien. Si pasa esto en un texto, indica que hay un problema con la codificación, lo cual casi siempre es un quebradero de cabeza, porque puede deberse al programa que estemos usando para ver el texto (el navegador, el bloc de notas, la terminal...) o a nuestro código.\n",
    "\n",
    "En este caso, fíjate en que cuando hemos usado `print()` hemos visto en la información del fichero `encoding='cp1252'`, cuando lo deseable es siempre (al menos cuando trabajamos con textos distintos del inglés) usar la codificación utf-8.\n",
    "\n",
    "Por suerte, podemos arreglarlo. Uno de los parámetros opcionales que admite la función `open()` es `encoding`, y por defecto no es utf-8, así que tenemos que especificárselo de la siguiente manera:"
   ]
  },
  {
   "cell_type": "code",
   "execution_count": 15,
   "metadata": {},
   "outputs": [
    {
     "name": "stdout",
     "output_type": "stream",
     "text": [
      "La codificación de este fichero es UTF-8\n",
      "\n",
      "Muchos años después, frente al pelotón de fusilamiento,\n",
      "el coronel Aureliano Buendía había de recordar aquella\n",
      "tarde remota en que su padre lo llevó a conocer el hielo.\n",
      "Macondo era entonces una aldea de veinte casas de barro y\n",
      "cañabrava construidas a la orilla de un río de aguas\n",
      "diáfanas que se precipitaban por un lecho de piedras\n",
      "pulidas, blancas y enormes como huevos prehistóricos.\n"
     ]
    }
   ],
   "source": [
    "fichero = open(\"datos.txt\", encoding = \"UTF-8\")\n",
    "contenido = fichero.read()\n",
    "print(\"La codificación de este fichero es\", fichero.encoding)\n",
    "print()\n",
    "print(contenido)"
   ]
  },
  {
   "cell_type": "markdown",
   "metadata": {},
   "source": [
    "Perfecto. Fíjate en que en la tercera línea estamos imprimiendo solo la información de `fichero` que nos interesa, en ese caso, la que está bajo la clave `encoding`, separándolo con un punto del objeto al que pertenece. Se parece a cómo llamamos a los métodos, pero es distinto en que no necesita un paréntesis al final.\n",
    "## Cerrar ficheros de texto\n",
    "Ahora, antes de terminar, todavía nos queda por hacer algo muy importante: cerrar el archivo. Sí, en el código también hay que cerrar las cosas después de abrirlas. Y es importante, porque si se quedan abiertas gastan recursos innecesariamente.\n",
    "\n",
    "Para cerrar un fichero usaremos el método `.close()`."
   ]
  },
  {
   "cell_type": "code",
   "execution_count": 16,
   "metadata": {},
   "outputs": [],
   "source": [
    "fichero.close()"
   ]
  },
  {
   "cell_type": "markdown",
   "metadata": {},
   "source": [
    "## Leer ficheros de texto línea por línea\n",
    "Otra forma de leer ficheros es hacerlo línea por línea, es decir, después de volcar su contenido en una variable con `read()` podemos usar `.splitlines()` para que nos devuelva, en vez de una string, una lista, con tantos elementos como líneas tenía el fichero:"
   ]
  },
  {
   "cell_type": "code",
   "execution_count": 31,
   "metadata": {},
   "outputs": [
    {
     "name": "stdout",
     "output_type": "stream",
     "text": [
      "['Muchos años después, frente al pelotón de fusilamiento,', 'el coronel Aureliano Buendía había de recordar aquella', 'tarde remota en que su padre lo llevó a conocer el hielo.', 'Macondo era entonces una aldea de veinte casas de barro y', 'cañabrava construidas a la orilla de un río de aguas', 'diáfanas que se precipitaban por un lecho de piedras', 'pulidas, blancas y enormes como huevos prehistóricos.']\n"
     ]
    }
   ],
   "source": [
    "fichero = open(\"datos.txt\", encoding=\"UTF-8\")\n",
    "contenido = fichero.read()\n",
    "fichero.close() # cerramos el fichero porque ya hemos volcado su contenido en una variable\n",
    "\n",
    "lineas = contenido.splitlines()\n",
    "print(lineas)"
   ]
  },
  {
   "cell_type": "markdown",
   "metadata": {},
   "source": [
    "Pero podemos leerlo directamente como una lista en un solo paso, usando `.readlines()` sobre el fichero:"
   ]
  },
  {
   "cell_type": "code",
   "execution_count": 32,
   "metadata": {},
   "outputs": [
    {
     "name": "stdout",
     "output_type": "stream",
     "text": [
      "['Muchos años después, frente al pelotón de fusilamiento,\\n', 'el coronel Aureliano Buendía había de recordar aquella\\n', 'tarde remota en que su padre lo llevó a conocer el hielo.\\n', 'Macondo era entonces una aldea de veinte casas de barro y\\n', 'cañabrava construidas a la orilla de un río de aguas\\n', 'diáfanas que se precipitaban por un lecho de piedras\\n', 'pulidas, blancas y enormes como huevos prehistóricos.']\n"
     ]
    }
   ],
   "source": [
    "fichero = open(\"datos.txt\", encoding=\"UTF-8\")\n",
    "lineas2 = fichero.readlines()\n",
    "fichero.close()\n",
    "\n",
    "print(lineas2)"
   ]
  },
  {
   "cell_type": "markdown",
   "metadata": {},
   "source": [
    "### Caracteres de salto de línea\n",
    "Fíjate en que usar `.splitlines()` hace que se eliminen del final de las líneas los caracteres de salto de línea (`\\n`). Sin embargo, `.readlines()` mete directamente lo que encuentra en cada línea, incluido el salto. Por tanto, si intentamos imprimir cada una de las listas de forma \"bonita\" (recorriendo cada elemento e imprimiéndolo, no imprimiéndolo como una lista como hemos hecho antes), habrá una gran diferencia:"
   ]
  },
  {
   "cell_type": "code",
   "execution_count": 34,
   "metadata": {},
   "outputs": [
    {
     "name": "stdout",
     "output_type": "stream",
     "text": [
      "Usando read() y .splitlines():\n",
      "\n",
      "Muchos años después, frente al pelotón de fusilamiento,\n",
      "el coronel Aureliano Buendía había de recordar aquella\n",
      "tarde remota en que su padre lo llevó a conocer el hielo.\n",
      "Macondo era entonces una aldea de veinte casas de barro y\n",
      "cañabrava construidas a la orilla de un río de aguas\n",
      "diáfanas que se precipitaban por un lecho de piedras\n",
      "pulidas, blancas y enormes como huevos prehistóricos.\n",
      "\n",
      "Usando .readlines()\n",
      "\n",
      "Muchos años después, frente al pelotón de fusilamiento,\n",
      "\n",
      "el coronel Aureliano Buendía había de recordar aquella\n",
      "\n",
      "tarde remota en que su padre lo llevó a conocer el hielo.\n",
      "\n",
      "Macondo era entonces una aldea de veinte casas de barro y\n",
      "\n",
      "cañabrava construidas a la orilla de un río de aguas\n",
      "\n",
      "diáfanas que se precipitaban por un lecho de piedras\n",
      "\n",
      "pulidas, blancas y enormes como huevos prehistóricos.\n"
     ]
    }
   ],
   "source": [
    "print(\"Usando read() y .splitlines():\")\n",
    "print()\n",
    "for linea in lineas:\n",
    "    print(linea)\n",
    "\n",
    "print()\n",
    "print(\"Usando .readlines():\")\n",
    "print()\n",
    "for linea in lineas2:\n",
    "    print(linea)"
   ]
  },
  {
   "cell_type": "markdown",
   "metadata": {},
   "source": [
    "Pero podemos arreglarlo fácilmente con `.strip()`:"
   ]
  },
  {
   "cell_type": "code",
   "execution_count": 36,
   "metadata": {},
   "outputs": [
    {
     "name": "stdout",
     "output_type": "stream",
     "text": [
      "Muchos años después, frente al pelotón de fusilamiento,\n",
      "el coronel Aureliano Buendía había de recordar aquella\n",
      "tarde remota en que su padre lo llevó a conocer el hielo.\n",
      "Macondo era entonces una aldea de veinte casas de barro y\n",
      "cañabrava construidas a la orilla de un río de aguas\n",
      "diáfanas que se precipitaban por un lecho de piedras\n",
      "pulidas, blancas y enormes como huevos prehistóricos.\n"
     ]
    }
   ],
   "source": [
    "for linea in lineas2:\n",
    "    print(linea.strip())"
   ]
  },
  {
   "cell_type": "markdown",
   "metadata": {},
   "source": [
    "Al leer texto e imprimirlo siempre hay que tener cuidado con los saltos de línea: son caracteres que no vemos, pero que están ahí siempre que hay separación en líneas, y que obviamente el programa sí ve y lee. El problema es que `print()` está hecho para imprimir bonito para humanos, así que cada cosa que imprime (por ejemplo, un elemento de un bucle), la separa por un salto de línea. Además, cuando encuentra un carácter de salto de línea, lo interpreta y lo ejecuta, lo cual puede hacer que se junten los dos saltos. Simplemente, ten en cuenta que esto puede pasar y prepárate para arreglarlo."
   ]
  },
  {
   "cell_type": "markdown",
   "metadata": {},
   "source": [
    "Pero volviendo a las maneras de leer un fichero, trabajar así puede ser un poco problemático. Tanto con `read()` como con `.readlines()` estamos cargando todo el contenido del archivo en memoria, y esto puede valernos cuando trabajamos con archivos pequeños, pero en cuanto manejemos volúmenes más grandes de datos el código tardará demasiado en ejecutarse.\n",
    "\n",
    "Por suerte, los ficheros son objetos iterables, así que los podemos recorrer con un `for`:"
   ]
  },
  {
   "cell_type": "code",
   "execution_count": 23,
   "metadata": {},
   "outputs": [
    {
     "name": "stdout",
     "output_type": "stream",
     "text": [
      "Muchos años después, frente al pelotón de fusilamiento,\n",
      "el coronel Aureliano Buendía había de recordar aquella\n",
      "tarde remota en que su padre lo llevó a conocer el hielo.\n",
      "Macondo era entonces una aldea de veinte casas de barro y\n",
      "cañabrava construidas a la orilla de un río de aguas\n",
      "diáfanas que se precipitaban por un lecho de piedras\n",
      "pulidas, blancas y enormes como huevos prehistóricos.\n"
     ]
    }
   ],
   "source": [
    "fichero = open(\"datos.txt\", encoding = \"UTF-8\")\n",
    "for linea in fichero:\n",
    "    print(linea.strip()) # eliminamos el carácter de salto de línea\n",
    "fichero.close()"
   ]
  },
  {
   "cell_type": "markdown",
   "metadata": {},
   "source": [
    "Puede que te preguntes por qué hay tantas formas distintas de leer un fichero. En programación te vas a encontrar todo el rato con que hay muchas formas de hacer lo mismo, pero siempre se diferencian en algún detalle y eso nos va a permitir elegir una para cada ocasión, según nos convenga."
   ]
  },
  {
   "cell_type": "markdown",
   "metadata": {},
   "source": [
    "## Abrir ficheros con `with ... as`\n",
    "Finalmente, existe una forma rápida de abrir ficheros en Python que consiste en usar las instrucciones `with` y `as`. La principal diferencia y la causa de que sea rápida es que no hace falta cerrar después el archivo, porque ya lo hace Python. Además, el esquema cambia ligeramente:\n",
    "\n",
    "    with open(ruta) as nombre_del_fichero:\n",
    "        <instrucciones sobre el fichero>\n",
    "\n",
    "Por ejemplo:"
   ]
  },
  {
   "cell_type": "code",
   "execution_count": 2,
   "metadata": {},
   "outputs": [
    {
     "name": "stdout",
     "output_type": "stream",
     "text": [
      "Muchos años después, frente al pelotón de fusilamiento,\n",
      "el coronel Aureliano Buendía había de recordar aquella\n",
      "tarde remota en que su padre lo llevó a conocer el hielo.\n",
      "Macondo era entonces una aldea de veinte casas de barro y\n",
      "cañabrava construidas a la orilla de un río de aguas\n",
      "diáfanas que se precipitaban por un lecho de piedras\n",
      "pulidas, blancas y enormes como huevos prehistóricos.\n"
     ]
    }
   ],
   "source": [
    "with open(\"datos.txt\", encoding=\"UTF-8\") as fichero:\n",
    "    for linea in fichero:\n",
    "        print(linea.strip())"
   ]
  },
  {
   "cell_type": "markdown",
   "metadata": {},
   "source": [
    "En vez de guardar lo que sale de `open()` en una variable con el operador de asignación (`=`), lo hacemos con `with` y `as` (que se parece bastante más al lenguaje natural).\n",
    "\n",
    "Como hemos visto, muchas veces solo abrimos el fichero para cargarlo en una variable y a partir de ahí trabajar con él, así que enseguida lo cerrábamos. Por eso se inventó esta manera de abrir archivos. Por supuesto, no es recomendable si vamos a necesitar que el fichero siga abierto para continuar leyendo o escribiendo en él."
   ]
  },
  {
   "cell_type": "markdown",
   "metadata": {},
   "source": [
    "## Ejercicios\n",
    "### 080101\n",
    "Modifica la función `fichero_a_lista` para que:\n",
    "\n",
    "1. en vez de usar `open()` y `.close()`, use `with ... as`\n",
    "2. en vez de recorrer el fichero con un `for`, use `read()` y `.splitlines()`\n",
    "\n",
    "Comprueba que has hecho bien cada modificación ejecutando de nuevo la celda; debería salir el mismo texto."
   ]
  },
  {
   "cell_type": "code",
   "execution_count": 8,
   "metadata": {},
   "outputs": [
    {
     "name": "stdout",
     "output_type": "stream",
     "text": [
      "Muchos años después, frente al pelotón de fusilamiento,\n",
      "el coronel Aureliano Buendía había de recordar aquella\n",
      "tarde remota en que su padre lo llevó a conocer el hielo.\n",
      "Macondo era entonces una aldea de veinte casas de barro y\n",
      "cañabrava construidas a la orilla de un río de aguas\n",
      "diáfanas que se precipitaban por un lecho de piedras\n",
      "pulidas, blancas y enormes como huevos prehistóricos.\n"
     ]
    }
   ],
   "source": [
    "def fichero_a_lista(ruta):\n",
    "    # Convierte las líneas de un fichero de texto en elementos de una lista y devuelve la lista\n",
    "    lista_de_lineas = []\n",
    "    fichero = open(ruta, encoding=\"UTF-8\")\n",
    "    for linea in fichero:\n",
    "        lista_de_lineas.append(linea.strip())\n",
    "    fichero.close()\n",
    "    return lista_de_lineas\n",
    "\n",
    "# Programa\n",
    "lista = fichero_a_lista(\"datos.txt\")\n",
    "for elemento in lista:\n",
    "    print(elemento)"
   ]
  },
  {
   "cell_type": "markdown",
   "metadata": {},
   "source": [
    "### 080102\n",
    "Vamos a hacer algo más que imprimir por pantalla los ficheros que abramos. Podemos convertir un texto en una lista de líneas para contar, por ejemplo, la longitud de cada línea en caracteres o en palabras (atención, en la siguiente celda reutilizaremos la función `fichero_a_lista` del ejercicio anterior):"
   ]
  },
  {
   "cell_type": "code",
   "execution_count": 9,
   "metadata": {},
   "outputs": [
    {
     "name": "stdout",
     "output_type": "stream",
     "text": [
      "Estadísticas del fichero datos.txt\n",
      "------------------------------------------------------------\n",
      "Línea 1\n",
      "Contenido: Muchos años después, frente al pelotón de fusilamiento,\n",
      "Número de palabras: 8\n",
      "Número de caracteres: 55\n",
      "Línea 2\n",
      "Contenido: el coronel Aureliano Buendía había de recordar aquella\n",
      "Número de palabras: 8\n",
      "Número de caracteres: 54\n",
      "Línea 3\n",
      "Contenido: tarde remota en que su padre lo llevó a conocer el hielo.\n",
      "Número de palabras: 12\n",
      "Número de caracteres: 57\n",
      "Línea 4\n",
      "Contenido: Macondo era entonces una aldea de veinte casas de barro y\n",
      "Número de palabras: 11\n",
      "Número de caracteres: 57\n",
      "Línea 5\n",
      "Contenido: cañabrava construidas a la orilla de un río de aguas\n",
      "Número de palabras: 10\n",
      "Número de caracteres: 52\n",
      "Línea 6\n",
      "Contenido: diáfanas que se precipitaban por un lecho de piedras\n",
      "Número de palabras: 9\n",
      "Número de caracteres: 52\n",
      "Línea 7\n",
      "Contenido: pulidas, blancas y enormes como huevos prehistóricos.\n",
      "Número de palabras: 7\n",
      "Número de caracteres: 53\n"
     ]
    }
   ],
   "source": [
    "def num_caracteres(lista):\n",
    "    # Devuelve una lista con la longitud, en caracteres, de las líneas de una lista\n",
    "    caracteres_por_linea = []\n",
    "    for elemento in lista:\n",
    "        caracteres_por_linea.append(len(elemento)) # Contamos los caracteres en cada línea y metemos cada resultado en una lista\n",
    "    return caracteres_por_linea\n",
    "\n",
    "def num_palabras(lista):\n",
    "    # Devuelve una lista con la longitud, en palabras, de las líneas de una lista\n",
    "    palabras_por_linea = []\n",
    "    for elemento in lista:\n",
    "        lista_de_palabras = elemento.split() # Convertimos cada línea en una lista de palabras\n",
    "        palabras_por_linea.append(len(lista_de_palabras)) # Contamos las palabras en cada línea y metemos cada resultado en una lista\n",
    "    return palabras_por_linea\n",
    "\n",
    "def estadisticas_fichero(ruta):\n",
    "    # Saca las estadísticas de caracteres y palabras por línea de un fichero\n",
    "    lineas = fichero_a_lista(ruta)\n",
    "    print(\"Estadísticas del fichero\", ruta) # Imprimimos un cabecero\n",
    "    print(\"-\" * 60)\n",
    "    palabras = num_palabras(lineas) # Creamos una lista con el número de palabras por línea\n",
    "    caracteres = num_caracteres(lineas) # Creamos una lista con el número de caracteres por línea\n",
    "    i = 1 # Creamos un índice para poder usarlo al imprimir el número de cada línea\n",
    "    for linea in lineas:\n",
    "        print(\"Línea\", i)\n",
    "        print(\"Contenido:\", linea)\n",
    "        print(\"Número de palabras:\", palabras[i-1]) # Restamos 1 al índice, porque Python empieza a contar por el 0\n",
    "        print(\"Número de caracteres:\", caracteres[i-1])\n",
    "        i = i + 1 # Al final, añadimos 1 al índice para que se imprima bien el número de línea y se consulten las posiciones correctas de las líneas\n",
    "\n",
    "# Programa\n",
    "ruta = \"datos.txt\"\n",
    "estadisticas_fichero(ruta)"
   ]
  },
  {
   "cell_type": "markdown",
   "metadata": {},
   "source": [
    "Ahora crea otro fichero de texto y modifica solo la ruta en la línea 32, para que el programa haga lo mismo pero con el nuevo fichero."
   ]
  },
  {
   "cell_type": "markdown",
   "metadata": {},
   "source": [
    "### 080103\n",
    "Guarda en un archivo `temperaturas.txt` el siguiente texto:\n",
    "\n",
    "    17\n",
    "    20\n",
    "    20\n",
    "    21\n",
    "    20\n",
    "    22\n",
    "    18\n",
    "\n",
    "Define una función `lee_temperaturas()` que:\n",
    "- reciba como argumento una ruta de fichero\n",
    "- cree una lista vacía llamada `valores`\n",
    "- abra el fichero con `open()`\n",
    "- recorra el fichero línea por línea\n",
    "- convierta cada línea en un número entero y la guarde en una variable `valor`\n",
    "- añada `valor` a `valores`\n",
    "- cierre el fichero\n",
    "- devuelva `valores`\n",
    "\n",
    "Comprueba que el programa te ha salido bien ejecutando este código:"
   ]
  },
  {
   "cell_type": "code",
   "execution_count": 4,
   "metadata": {},
   "outputs": [
    {
     "name": "stdout",
     "output_type": "stream",
     "text": [
      "Temperaturas:\n",
      "17\n",
      "20\n",
      "20\n",
      "21\n",
      "20\n",
      "22\n",
      "18\n"
     ]
    }
   ],
   "source": [
    "temperaturas = lee_temperaturas(\"temperaturas.txt\")\n",
    "print(\"Temperaturas:\")\n",
    "for t in temperaturas:\n",
    "    print(t)"
   ]
  },
  {
   "cell_type": "markdown",
   "metadata": {},
   "source": [
    "El output esperado es:\n",
    "\n",
    "    Temperaturas:\n",
    "    17\n",
    "    20\n",
    "    20\n",
    "    21\n",
    "    20\n",
    "    22\n",
    "    18"
   ]
  }
 ],
 "metadata": {
  "kernelspec": {
   "display_name": "Python 3",
   "language": "python",
   "name": "python3"
  },
  "language_info": {
   "codemirror_mode": {
    "name": "ipython",
    "version": 3
   },
   "file_extension": ".py",
   "mimetype": "text/x-python",
   "name": "python",
   "nbconvert_exporter": "python",
   "pygments_lexer": "ipython3",
   "version": "3.7.0"
  }
 },
 "nbformat": 4,
 "nbformat_minor": 2
}
