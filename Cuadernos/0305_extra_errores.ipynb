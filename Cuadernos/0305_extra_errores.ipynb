{
 "cells": [
  {
   "cell_type": "markdown",
   "metadata": {},
   "source": [
    "# Cuaderno extra tema 3: Errores\n",
    "A veces nos pensamos que los mensajes de error no hay que leerlos o que no están pensados para que los lea un humano. ¡Todo lo contrario! Hay que leer los mensajes de error, están ahí para facilitarnos la vida. Nos dan la información necesaria para que podamos resolver el problema, y nada más que la información necesaria, así que son muy útiles. Sí es cierto que se necesita saber un poco de inglés, porque solo están en este idioma.\n",
    "\n",
    "Este anexo está pensado para que lo leas si ves que no entiendes bien qué pasa cuando te sale un error o si no sabes por dónde empezar a leer el mensaje de error, no tanto para que consultes aquí cualquier error que te encuentres. En otras palabras, no es una recopilación exhaustiva de errores, sino que pretende explicar cómo entenderlos. Para recopilaciones, mejor consultar directamente en un buscador como Google o en [la sección de Errores y excepciones de la documentación oficial de Python](https://docs.python.org/es/3.9/tutorial/errors.html), que seguro que encuentras lo que necesitas.\n",
    "\n",
    "Lo primero que debes saber es que existen dos tipos de errores:\n",
    "- **Errores de sintaxis**. Lo primero que hace el intérprete de Python, antes de ejecutar nada, es leer el código entero y mirar si está todo bien escrito: si no se te ha pasado ningún paréntesis, ninguna indentación... ¡Ya hemos dicho que es muy quisquilloso! En informática se le llama a esto *sintaxis*. Se fija en que el texto esté bien escrito desde el punto de vista **formal**.\n",
    "- **Excepciones**. Si la sintaxis está bien, el intérprete pasa a ejecutar el programa. Los errores que encuentra en esta fase se deben a que estamos intentando hacer cosas que no se pueden hacer: mezclar tipos, usar objetos que no existen... Estamos dándole al código un **uso no esperado**. A diferencia de los errores de sintaxis, las excepciones se pueden manejar.\n",
    "\n",
    "¿Qué significa todo esto? Que si nuestro programa tiene errores de sintaxis y excepciones, en una primera ejecución solo nos va a mostrar los errores de sintaxis. Cuando los corrijamos, veremos las excepciones que saltan.\n",
    "\n",
    "Pero antes de entrar en cada uno de los errores más típicos, vamos a ver lo que tienen en común: la estructura que tiene todo mensaje de error."
   ]
  },
  {
   "cell_type": "markdown",
   "metadata": {},
   "source": [
    "## Cómo se muestran los errores\n",
    "Un mensaje de error siempre consta de tres partes:\n",
    "- **Localización del error**. Ten en cuenta que puede que haya más errores, pero el programa se para en el primero que encuentra. Normalmente esta parte incluye:\n",
    "    - el fichero: a veces pone `File` seguido del nombre del fichero, a veces solo sale el nombre del fichero entre comparadores (`<>`) o comillas (`\"\"`), o las dos cosas;\n",
    "    - la línea: para que sea fácil encontrar el error cuando miremos en el fichero;\n",
    "    - la función: el nombre de la función problemática o, si el problema no está dentro de una función, algo como `module` o nada.\n",
    "- **Contenido de la línea problemática**. Además, cuando el error es de sintaxis, debajo se indica con un acento circunflejo (`^`) exactamente en qué carácter está el problema (hay que mirar justo a su izquierda). Ahí es donde algo falta, sobra o hay que reemplazar por otra cosa. ¡No me digas que no es preciso!\n",
    "- **Información sobre el error**. Normalmente incluye:\n",
    "    - el tipo de error;\n",
    "    - una explicación, que puede ser más o menos transparente.\n",
    "\n",
    "Aunque todavía no hemos visto las funciones, debes saber que a veces el código _llama_ a otras partes del código, que pueden estar en el mismo archivo o en otro. Eso implica que esas partes se ejecutan y luego se vuelve a la ejecución principal. Si el error no está en la ejecución principal sino en una de esas llamadas, el mensaje de error imprimirá la parte de localización y de contenido de la línea tantas veces como llamadas haya ejecutado, para que puedas rastrear el error. En ese caso suele poner `Traceback (most recent call last)`, que significa que el primer archivo mostrado debajo es el de la ejecución principal, y el último es donde ha encontrado el error.\n",
    "\n",
    "Veamos todo esto con ejemplos de mensajes de error en los distintos sitios donde puedes ejecutar Python."
   ]
  },
  {
   "cell_type": "markdown",
   "metadata": {},
   "source": [
    "### En el intérprete\n",
    "Como sabes, si vas a la terminal e introduces `python` entrarás en el intérprete de Python.\n",
    "Así es como se ven un par de errores desde el intérprete:\n",
    "<img src=\"terminal-errores-rotulado.png\" alt=\"Imagen de error desde el intérprete\" style=\"width: 500px;\"/>\n",
    "Fíjate en que aquí el fichero siempre es `stdin`, es decir, _standard input_ o _entrada estándar_. Esto simplemente quiere decir que estamos comunicándonos directamente con el intérprete, sin usar ningún fichero."
   ]
  },
  {
   "cell_type": "markdown",
   "metadata": {},
   "source": [
    "### Ejecutando un archivo .py\n",
    "Si lo que hacemos es ejecutar un archivo .py desde la terminal, los mensajes de error se ven así:\n",
    "<img src=\"programa-errores-rotulado.png\" alt=\"Imagen de error desde un archivo\" style=\"width: 550px;\"/>\n",
    "Fíjate en que, en el segundo caso, el error está en la llamada a la función `estadisticas_fichero`."
   ]
  },
  {
   "cell_type": "markdown",
   "metadata": {},
   "source": [
    "### En un cuaderno Jupyter\n",
    "Y finalmente, lo particular de los mensajes de error desde Jupyter es que el tipo de error sale arriba y abajo:\n",
    "<img src=\"cuaderno-errores-rotulado.png\" alt=\"Imagen de error desde el cuaderno\" style=\"width: 600px;\"/>"
   ]
  },
  {
   "cell_type": "markdown",
   "metadata": {},
   "source": [
    "## Tipos de errores\n",
    "### Errores de sintaxis\n",
    "Se caracterizan por que la consola imprime **`SyntaxError`**.\n",
    "\n",
    "Veamos algunos ejemplos. Tienes una lista exhaustiva en [la documentación de Python](https://docs.python.org/es/3.9/tutorial/errors.html), pero aquí voy a recoger los más comunes al empezar. Aun así, los mensajes suelen ser bastante transparentes y te irán sonando de tanto salirte hasta que te acostumbres.\n",
    "\n",
    "#### Que falten los paréntesis\n",
    "Si llamas a una función sin los paréntesis te sale este error. En el caso concreto de `print()`, el mensaje es muy claro, e incluso nos dice cómo arreglarlo; pero no siempre tenemos esa suerte."
   ]
  },
  {
   "cell_type": "code",
   "execution_count": 1,
   "metadata": {
    "scrolled": true
   },
   "outputs": [
    {
     "ename": "SyntaxError",
     "evalue": "Missing parentheses in call to 'print'. Did you mean print(\"elefante\")? (<ipython-input-1-7762b35bccf1>, line 1)",
     "output_type": "error",
     "traceback": [
      "\u001b[1;36m  File \u001b[1;32m\"<ipython-input-1-7762b35bccf1>\"\u001b[1;36m, line \u001b[1;32m1\u001b[0m\n\u001b[1;33m    print \"elefante\"\u001b[0m\n\u001b[1;37m                   ^\u001b[0m\n\u001b[1;31mSyntaxError\u001b[0m\u001b[1;31m:\u001b[0m Missing parentheses in call to 'print'. Did you mean print(\"elefante\")?\n"
     ]
    }
   ],
   "source": [
    "print \"elefante\""
   ]
  },
  {
   "cell_type": "markdown",
   "metadata": {},
   "source": [
    "✅ ¿Cómo resolverlo? Colocando los paréntesis:"
   ]
  },
  {
   "cell_type": "code",
   "execution_count": 2,
   "metadata": {},
   "outputs": [
    {
     "name": "stdout",
     "output_type": "stream",
     "text": [
      "elefante\n"
     ]
    }
   ],
   "source": [
    "print(\"elefante\")"
   ]
  },
  {
   "cell_type": "markdown",
   "metadata": {},
   "source": [
    "Con cualquier otra función, solo dice `invalid syntax` y ya tenemos que pensar nosotros solitos qué podemos haber escrito mal:"
   ]
  },
  {
   "cell_type": "code",
   "execution_count": 3,
   "metadata": {},
   "outputs": [
    {
     "ename": "SyntaxError",
     "evalue": "invalid syntax (<ipython-input-3-f1c3aa203c82>, line 1)",
     "output_type": "error",
     "traceback": [
      "\u001b[1;36m  File \u001b[1;32m\"<ipython-input-3-f1c3aa203c82>\"\u001b[1;36m, line \u001b[1;32m1\u001b[0m\n\u001b[1;33m    input \"Dime tu animal favorito: \"\u001b[0m\n\u001b[1;37m                                    ^\u001b[0m\n\u001b[1;31mSyntaxError\u001b[0m\u001b[1;31m:\u001b[0m invalid syntax\n"
     ]
    }
   ],
   "source": [
    "input \"Dime tu animal favorito: \""
   ]
  },
  {
   "cell_type": "markdown",
   "metadata": {},
   "source": [
    "✅ ¿Cómo resolverlo? Lo correcto sería:"
   ]
  },
  {
   "cell_type": "code",
   "execution_count": 4,
   "metadata": {},
   "outputs": [
    {
     "name": "stdout",
     "output_type": "stream",
     "text": [
      "Dime tu animal favorito: elefante\n"
     ]
    },
    {
     "data": {
      "text/plain": [
       "'elefante'"
      ]
     },
     "execution_count": 4,
     "metadata": {},
     "output_type": "execute_result"
    }
   ],
   "source": [
    "input(\"Dime tu animal favorito: \")"
   ]
  },
  {
   "cell_type": "markdown",
   "metadata": {},
   "source": [
    "#### No haber cerrado una string\n",
    "Si queremos escribir saltos de línea en una cadena de caracteres, tenemos que acotarla con tres comillas (`'''`) en lugar de con las comillas normales (`\"\"` o `''`). Si no, Python dirá que se ha topado con el final de una línea (_EOL_, _end of line_) mientras estaba leyendo una string y eso simplemente no puede ser."
   ]
  },
  {
   "cell_type": "code",
   "execution_count": 5,
   "metadata": {},
   "outputs": [
    {
     "ename": "SyntaxError",
     "evalue": "EOL while scanning string literal (<ipython-input-5-23eb752c157c>, line 1)",
     "output_type": "error",
     "traceback": [
      "\u001b[1;36m  File \u001b[1;32m\"<ipython-input-5-23eb752c157c>\"\u001b[1;36m, line \u001b[1;32m1\u001b[0m\n\u001b[1;33m    print(\"elefante)\u001b[0m\n\u001b[1;37m                    ^\u001b[0m\n\u001b[1;31mSyntaxError\u001b[0m\u001b[1;31m:\u001b[0m EOL while scanning string literal\n"
     ]
    }
   ],
   "source": [
    "print(\"elefante)"
   ]
  },
  {
   "cell_type": "markdown",
   "metadata": {},
   "source": [
    "✅ ¿Cómo resolverlo? Cerrando la string:"
   ]
  },
  {
   "cell_type": "code",
   "execution_count": 6,
   "metadata": {},
   "outputs": [
    {
     "name": "stdout",
     "output_type": "stream",
     "text": [
      "elefante\n"
     ]
    }
   ],
   "source": [
    "print(\"elefante\")"
   ]
  },
  {
   "cell_type": "markdown",
   "metadata": {},
   "source": [
    "#### No haber cerrado un paréntesis\n",
    "Que no es lo mismo que haber olvidado ambos paréntesis. Si olvidas el segundo, el intérprete llegará al final del archivo (_EOF_, _end of file_) sin encontrar ese cierre y se quejará:"
   ]
  },
  {
   "cell_type": "code",
   "execution_count": 7,
   "metadata": {},
   "outputs": [
    {
     "ename": "SyntaxError",
     "evalue": "unexpected EOF while parsing (<ipython-input-7-6aefcabf4aba>, line 1)",
     "output_type": "error",
     "traceback": [
      "\u001b[1;36m  File \u001b[1;32m\"<ipython-input-7-6aefcabf4aba>\"\u001b[1;36m, line \u001b[1;32m1\u001b[0m\n\u001b[1;33m    input(\"Dime tu animal favorito: \"\u001b[0m\n\u001b[1;37m                                     ^\u001b[0m\n\u001b[1;31mSyntaxError\u001b[0m\u001b[1;31m:\u001b[0m unexpected EOF while parsing\n"
     ]
    }
   ],
   "source": [
    "input(\"Dime tu animal favorito: \""
   ]
  },
  {
   "cell_type": "markdown",
   "metadata": {},
   "source": [
    "Si el que olvidas es el primero, cuando llegue al segundo se dará cuenta de que falta uno de apertura."
   ]
  },
  {
   "cell_type": "code",
   "execution_count": 8,
   "metadata": {},
   "outputs": [
    {
     "ename": "SyntaxError",
     "evalue": "invalid syntax (<ipython-input-8-cc961938d999>, line 1)",
     "output_type": "error",
     "traceback": [
      "\u001b[1;36m  File \u001b[1;32m\"<ipython-input-8-cc961938d999>\"\u001b[1;36m, line \u001b[1;32m1\u001b[0m\n\u001b[1;33m    input\"Dime tu animal favorito: \")\u001b[0m\n\u001b[1;37m                                   ^\u001b[0m\n\u001b[1;31mSyntaxError\u001b[0m\u001b[1;31m:\u001b[0m invalid syntax\n"
     ]
    }
   ],
   "source": [
    "input\"Dime tu animal favorito: \")"
   ]
  },
  {
   "cell_type": "markdown",
   "metadata": {},
   "source": [
    "✅ ¿Cómo resolverlo? Lo correcto en ambos casos sería:"
   ]
  },
  {
   "cell_type": "code",
   "execution_count": 9,
   "metadata": {},
   "outputs": [
    {
     "name": "stdout",
     "output_type": "stream",
     "text": [
      "Dime tu animal favorito: zorro\n"
     ]
    },
    {
     "data": {
      "text/plain": [
       "'zorro'"
      ]
     },
     "execution_count": 9,
     "metadata": {},
     "output_type": "execute_result"
    }
   ],
   "source": [
    "input(\"Dime tu animal favorito: \")"
   ]
  },
  {
   "cell_type": "markdown",
   "metadata": {},
   "source": [
    "#### Que sobre algún carácter\n",
    "Es difícil que te ocurran estos errores en los que falta algo porque la mayoría de los editores escriben dos comillas o dos paréntesis cuando presionas una de las teclas correspondientes. ¡Pero también puede ocurrir lo contrario y sobrar algo que no debería estar ahí!"
   ]
  },
  {
   "cell_type": "code",
   "execution_count": 10,
   "metadata": {},
   "outputs": [
    {
     "ename": "SyntaxError",
     "evalue": "invalid syntax (<ipython-input-10-ae2f3452f2fb>, line 1)",
     "output_type": "error",
     "traceback": [
      "\u001b[1;36m  File \u001b[1;32m\"<ipython-input-10-ae2f3452f2fb>\"\u001b[1;36m, line \u001b[1;32m1\u001b[0m\n\u001b[1;33m    print('zorro'))\u001b[0m\n\u001b[1;37m                  ^\u001b[0m\n\u001b[1;31mSyntaxError\u001b[0m\u001b[1;31m:\u001b[0m invalid syntax\n"
     ]
    }
   ],
   "source": [
    "print('zorro'))"
   ]
  },
  {
   "cell_type": "markdown",
   "metadata": {},
   "source": [
    "✅ ¿Cómo resolverlo? Eliminando lo que sobra:"
   ]
  },
  {
   "cell_type": "code",
   "execution_count": 11,
   "metadata": {},
   "outputs": [
    {
     "name": "stdout",
     "output_type": "stream",
     "text": [
      "zorro\n"
     ]
    }
   ],
   "source": [
    "print('zorro')"
   ]
  },
  {
   "cell_type": "markdown",
   "metadata": {},
   "source": [
    "#### Que falten dos puntos\n",
    "Como veremos en el siguiente tema, un esquema que utiliza Python para saber que una línea, por así decirlo, depende de otra, es con dos puntos (`:`) al final de la primera e indentación (un margen de una tabulación o cuatro espacios, según tengamos configurado nuestro editor) en la siguiente. Si faltan los dos puntos, es un error de sintaxis:"
   ]
  },
  {
   "cell_type": "code",
   "execution_count": 12,
   "metadata": {},
   "outputs": [
    {
     "ename": "SyntaxError",
     "evalue": "invalid syntax (<ipython-input-12-ace095f361bf>, line 1)",
     "output_type": "error",
     "traceback": [
      "\u001b[1;36m  File \u001b[1;32m\"<ipython-input-12-ace095f361bf>\"\u001b[1;36m, line \u001b[1;32m1\u001b[0m\n\u001b[1;33m    if 2 < 3\u001b[0m\n\u001b[1;37m            ^\u001b[0m\n\u001b[1;31mSyntaxError\u001b[0m\u001b[1;31m:\u001b[0m invalid syntax\n"
     ]
    }
   ],
   "source": [
    "if 2 < 3\n",
    "    print(\"elefante\")"
   ]
  },
  {
   "cell_type": "markdown",
   "metadata": {},
   "source": [
    "✅ ¿Cómo resolverlo? Poniendo los dos puntos donde faltan:"
   ]
  },
  {
   "cell_type": "code",
   "execution_count": 13,
   "metadata": {},
   "outputs": [
    {
     "name": "stdout",
     "output_type": "stream",
     "text": [
      "elefante\n"
     ]
    }
   ],
   "source": [
    "if 2 < 3:\n",
    "    print(\"elefante\")"
   ]
  },
  {
   "cell_type": "markdown",
   "metadata": {},
   "source": [
    "#### Liarla con la indentación\n",
    "Si lo que falla la indentación (no está cuando se la espera o está cuando no se la espera), también estaremos cometiendo un error de sintaxis. Solo que en este caso no va a salir **`SyntaxError`** sino **`IndentationError`**; digamos que tiene nombre propio."
   ]
  },
  {
   "cell_type": "code",
   "execution_count": 14,
   "metadata": {},
   "outputs": [
    {
     "ename": "IndentationError",
     "evalue": "unexpected indent (<ipython-input-14-b13e5d432d10>, line 2)",
     "output_type": "error",
     "traceback": [
      "\u001b[1;36m  File \u001b[1;32m\"<ipython-input-14-b13e5d432d10>\"\u001b[1;36m, line \u001b[1;32m2\u001b[0m\n\u001b[1;33m    print(2)\u001b[0m\n\u001b[1;37m    ^\u001b[0m\n\u001b[1;31mIndentationError\u001b[0m\u001b[1;31m:\u001b[0m unexpected indent\n"
     ]
    }
   ],
   "source": [
    "print(1)\n",
    "    print(2)"
   ]
  },
  {
   "cell_type": "markdown",
   "metadata": {},
   "source": [
    "✅ ¿Cómo resolverlo? Dependiendo del caso, tendrás que quitarla o ponerla, prestando mucha atención al código:"
   ]
  },
  {
   "cell_type": "code",
   "execution_count": 15,
   "metadata": {},
   "outputs": [
    {
     "name": "stdout",
     "output_type": "stream",
     "text": [
      "1\n",
      "2\n"
     ]
    }
   ],
   "source": [
    "print(1)\n",
    "print(2)"
   ]
  },
  {
   "cell_type": "markdown",
   "metadata": {},
   "source": [
    "### Excepciones\n",
    "#### Usar una variable que no existe\n",
    "Si intentamos usar una variable antes de asignarle ningún valor, saldrá **`NameError`** y el nombre de la variable que no ha podido encontrar."
   ]
  },
  {
   "cell_type": "code",
   "execution_count": 16,
   "metadata": {},
   "outputs": [
    {
     "ename": "NameError",
     "evalue": "name 'mensaje' is not defined",
     "output_type": "error",
     "traceback": [
      "\u001b[1;31m---------------------------------------------------------------------------\u001b[0m",
      "\u001b[1;31mNameError\u001b[0m                                 Traceback (most recent call last)",
      "\u001b[1;32m<ipython-input-16-b499db79d3fc>\u001b[0m in \u001b[0;36m<module>\u001b[1;34m()\u001b[0m\n\u001b[1;32m----> 1\u001b[1;33m \u001b[0mprint\u001b[0m\u001b[1;33m(\u001b[0m\u001b[0mmensaje\u001b[0m\u001b[1;33m)\u001b[0m\u001b[1;33m\u001b[0m\u001b[0m\n\u001b[0m",
      "\u001b[1;31mNameError\u001b[0m: name 'mensaje' is not defined"
     ]
    }
   ],
   "source": [
    "print(mensaje)"
   ]
  },
  {
   "cell_type": "markdown",
   "metadata": {},
   "source": [
    "✅ ¿Cómo resolverlo? Quizá hayas modificado el nombre de la variable en la línea en que se crea, pero no en la que la llamas, o al revés. O simplemente se te ha olvidado crearla:"
   ]
  },
  {
   "cell_type": "code",
   "execution_count": 17,
   "metadata": {},
   "outputs": [
    {
     "name": "stdout",
     "output_type": "stream",
     "text": [
      "Mi animal favorito es la serpiente\n"
     ]
    }
   ],
   "source": [
    "mensaje = \"Mi animal favorito es la serpiente\"\n",
    "print(mensaje)"
   ]
  },
  {
   "cell_type": "markdown",
   "metadata": {},
   "source": [
    "#### Hacer cosas impropias de los tipos\n",
    "Los operadores aritméticos (`+`, `-`, `*`, `/`...) sirven para hacer cálculos con números, pero algunos también se pueden usar con strings para concatenarlas (en el caso del `+`) o repetirlas cuantas veces queramos (en el caso del `*`).\n",
    "\n",
    "Lo que no podemos hacer es concatenar, sumar o restar strings y números, porque no son datos del mismo tipo. En cualquiera de estos casos, y en muchos otros que todavía no hemos visto, el error que nos saldrá es **`TypeError`**, que suele ser bastante claro porque indica los tipos de datos que estamos manejando."
   ]
  },
  {
   "cell_type": "code",
   "execution_count": 18,
   "metadata": {},
   "outputs": [
    {
     "ename": "TypeError",
     "evalue": "can only concatenate str (not \"int\") to str",
     "output_type": "error",
     "traceback": [
      "\u001b[1;31m---------------------------------------------------------------------------\u001b[0m",
      "\u001b[1;31mTypeError\u001b[0m                                 Traceback (most recent call last)",
      "\u001b[1;32m<ipython-input-18-d2b23a1db757>\u001b[0m in \u001b[0;36m<module>\u001b[1;34m()\u001b[0m\n\u001b[1;32m----> 1\u001b[1;33m \u001b[1;34m'2'\u001b[0m \u001b[1;33m+\u001b[0m \u001b[1;36m2\u001b[0m\u001b[1;33m\u001b[0m\u001b[0m\n\u001b[0m",
      "\u001b[1;31mTypeError\u001b[0m: can only concatenate str (not \"int\") to str"
     ]
    }
   ],
   "source": [
    "'2' + 2"
   ]
  },
  {
   "cell_type": "code",
   "execution_count": 19,
   "metadata": {},
   "outputs": [
    {
     "ename": "TypeError",
     "evalue": "unsupported operand type(s) for -: 'int' and 'str'",
     "output_type": "error",
     "traceback": [
      "\u001b[1;31m---------------------------------------------------------------------------\u001b[0m",
      "\u001b[1;31mTypeError\u001b[0m                                 Traceback (most recent call last)",
      "\u001b[1;32m<ipython-input-19-938d45fc1674>\u001b[0m in \u001b[0;36m<module>\u001b[1;34m()\u001b[0m\n\u001b[1;32m----> 1\u001b[1;33m \u001b[1;36m2\u001b[0m \u001b[1;33m-\u001b[0m \u001b[1;34m'2'\u001b[0m\u001b[1;33m\u001b[0m\u001b[0m\n\u001b[0m",
      "\u001b[1;31mTypeError\u001b[0m: unsupported operand type(s) for -: 'int' and 'str'"
     ]
    }
   ],
   "source": [
    "2 - '2'"
   ]
  },
  {
   "cell_type": "markdown",
   "metadata": {},
   "source": [
    "✅ ¿Cómo resolverlo? Depende de la ocasión y de lo que pretendamos hacer, pero, en general, asegurándonos de tratar cada tipo como lo que es:"
   ]
  },
  {
   "cell_type": "code",
   "execution_count": 20,
   "metadata": {},
   "outputs": [
    {
     "data": {
      "text/plain": [
       "'22'"
      ]
     },
     "execution_count": 20,
     "metadata": {},
     "output_type": "execute_result"
    }
   ],
   "source": [
    "'2' + '2' "
   ]
  },
  {
   "cell_type": "code",
   "execution_count": 21,
   "metadata": {},
   "outputs": [
    {
     "data": {
      "text/plain": [
       "4"
      ]
     },
     "execution_count": 21,
     "metadata": {},
     "output_type": "execute_result"
    }
   ],
   "source": [
    "2 + 2"
   ]
  },
  {
   "cell_type": "markdown",
   "metadata": {},
   "source": [
    "#### Usar métodos impropios de los tipos\n",
    "Hemos aprendido los métodos de las strings. Una forma muy rápida de probar que son propios de las strings y no de otros tipos de datos es intentar aplicárselos a esos tipos de datos y ver que saldrá el error **`AttributeError`**:"
   ]
  },
  {
   "cell_type": "code",
   "execution_count": 22,
   "metadata": {},
   "outputs": [
    {
     "ename": "AttributeError",
     "evalue": "'bool' object has no attribute 'lower'",
     "output_type": "error",
     "traceback": [
      "\u001b[1;31m---------------------------------------------------------------------------\u001b[0m",
      "\u001b[1;31mAttributeError\u001b[0m                            Traceback (most recent call last)",
      "\u001b[1;32m<ipython-input-22-56aa386a7948>\u001b[0m in \u001b[0;36m<module>\u001b[1;34m()\u001b[0m\n\u001b[0;32m      1\u001b[0m \u001b[0mrespuesta\u001b[0m \u001b[1;33m=\u001b[0m \u001b[1;32mTrue\u001b[0m\u001b[1;33m\u001b[0m\u001b[0m\n\u001b[1;32m----> 2\u001b[1;33m \u001b[0mrespuesta\u001b[0m\u001b[1;33m.\u001b[0m\u001b[0mlower\u001b[0m\u001b[1;33m(\u001b[0m\u001b[1;33m)\u001b[0m\u001b[1;33m\u001b[0m\u001b[0m\n\u001b[0m",
      "\u001b[1;31mAttributeError\u001b[0m: 'bool' object has no attribute 'lower'"
     ]
    }
   ],
   "source": [
    "respuesta = True\n",
    "respuesta.lower()"
   ]
  },
  {
   "cell_type": "markdown",
   "metadata": {},
   "source": [
    "✅ ¿Cómo resolverlo? Dependiendo de la ocasión, tal vez lo que haya pasado es que se nos haya olvidado alguna transformación:"
   ]
  },
  {
   "cell_type": "code",
   "execution_count": 23,
   "metadata": {},
   "outputs": [
    {
     "data": {
      "text/plain": [
       "'true'"
      ]
     },
     "execution_count": 23,
     "metadata": {},
     "output_type": "execute_result"
    }
   ],
   "source": [
    "respuesta = str(True)\n",
    "respuesta.lower()"
   ]
  },
  {
   "cell_type": "markdown",
   "metadata": {},
   "source": [
    "#### Convertir en número algo que no lo es\n",
    "Podemos usar `str()`, `int()`, `float()` y `bool()` para convertir variables de un tipo a otro, pero ¡tienen que poder convertirse! Cualquier número lo puedes convertir en string, pero no cualquier string la puedes convertir en número, así que cuando Python no sabe qué hacer con ella te devuelve el error **`ValueError`** diciéndote que es un _literal_ (otra forma de llamar a las strings) no válido:"
   ]
  },
  {
   "cell_type": "code",
   "execution_count": 24,
   "metadata": {},
   "outputs": [
    {
     "ename": "ValueError",
     "evalue": "invalid literal for int() with base 10: 'ocho'",
     "output_type": "error",
     "traceback": [
      "\u001b[1;31m---------------------------------------------------------------------------\u001b[0m",
      "\u001b[1;31mValueError\u001b[0m                                Traceback (most recent call last)",
      "\u001b[1;32m<ipython-input-24-91f546e4d9f2>\u001b[0m in \u001b[0;36m<module>\u001b[1;34m()\u001b[0m\n\u001b[1;32m----> 1\u001b[1;33m \u001b[0mint\u001b[0m\u001b[1;33m(\u001b[0m\u001b[1;34m\"ocho\"\u001b[0m\u001b[1;33m)\u001b[0m\u001b[1;33m\u001b[0m\u001b[0m\n\u001b[0m",
      "\u001b[1;31mValueError\u001b[0m: invalid literal for int() with base 10: 'ocho'"
     ]
    }
   ],
   "source": [
    "int(\"ocho\")"
   ]
  },
  {
   "cell_type": "markdown",
   "metadata": {},
   "source": [
    "✅ ¿Cómo resolverlo? Pasándole una string que sí sea interpretable como número."
   ]
  },
  {
   "cell_type": "code",
   "execution_count": 25,
   "metadata": {},
   "outputs": [
    {
     "data": {
      "text/plain": [
       "8"
      ]
     },
     "execution_count": 25,
     "metadata": {},
     "output_type": "execute_result"
    }
   ],
   "source": [
    "int('8')"
   ]
  },
  {
   "cell_type": "markdown",
   "metadata": {},
   "source": [
    "#### Interrumpir el programa\n",
    "Por razones de seguridad, siempre podemos parar de golpe nuestro programa. Esto es especialmente útil cuando no hay otra forma de hacer que pare (como cuando le hacemos entrar en un bucle infinito, como veremos en el tema 5).\n",
    "\n",
    "En la terminal, interrumpir el programa se hace con Ctrl+C (tanto en Windows como en Mac) y en los cuadernos se hace en los menús (Kernel > Interrupt si ejecutas en local, Entorno de ejecución > Interrumpir ejecución si ejecutas en Colab). Lo que aparecerá en el mensaje es **`KeyboardInterrupt`**.\n",
    "\n",
    "No es tanto un error como una forma de parar la ejecución del programa en caso de emergencia."
   ]
  }
 ],
 "metadata": {
  "kernelspec": {
   "display_name": "Python 3",
   "language": "python",
   "name": "python3"
  },
  "language_info": {
   "codemirror_mode": {
    "name": "ipython",
    "version": 3
   },
   "file_extension": ".py",
   "mimetype": "text/x-python",
   "name": "python",
   "nbconvert_exporter": "python",
   "pygments_lexer": "ipython3",
   "version": "3.7.0"
  }
 },
 "nbformat": 4,
 "nbformat_minor": 2
}
