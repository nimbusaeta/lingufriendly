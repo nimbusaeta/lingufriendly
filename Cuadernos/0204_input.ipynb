{
 "cells": [
  {
   "cell_type": "markdown",
   "metadata": {},
   "source": [
    "# Tema 2: variables (IV)"
   ]
  },
  {
   "cell_type": "markdown",
   "metadata": {},
   "source": [
    "## Pedir datos al usuario\n",
    "Todos los programas que hemos escrito hasta ahora realizan cálculos sencillos e imprimen mensajes. Ahora vamos a aprender cómo hacer programas un poco más dinámicos, que solicitan datos al usuario.\n",
    "\n",
    "Para pedir un dato al usuario utilizamos la función `input()`. La siguiente celda imprime el mensaje `Dime tu nombre: ` y se queda esperando hasta que el usuario introduce algún dato. Para ello haz click con el ratón en el área en blanco que aparece, escribe tu nombre y pulsa la tecla Intro. El texto que hayas introducido se asigna a la variable `nombre` y, a continuación, se usa para mostrar un mensaje."
   ]
  },
  {
   "cell_type": "code",
   "execution_count": 1,
   "metadata": {},
   "outputs": [
    {
     "name": "stdout",
     "output_type": "stream",
     "text": [
      "Dime tu nombre: Ana\n",
      "Tu nombre es Ana\n"
     ]
    }
   ],
   "source": [
    "nombre = input(\"Dime tu nombre: \")\n",
    "print(\"Tu nombre es\", nombre)"
   ]
  },
  {
   "cell_type": "markdown",
   "metadata": {},
   "source": [
    "Siguiendo la misma idea podemos concatenar cadenas de textos «estáticas», que siempre son iguales, y dinámicas, que dependen de lo que haya escrito el usuario:"
   ]
  },
  {
   "cell_type": "code",
   "execution_count": 2,
   "metadata": {},
   "outputs": [
    {
     "name": "stdout",
     "output_type": "stream",
     "text": [
      "¿Quién escribió 'El Quijote'?: Cervantes\n",
      "Cervantes escribió 'El Quijote'\n"
     ]
    }
   ],
   "source": [
    "autor = input(\"¿Quién escribió 'El Quijote'?: \")\n",
    "print(autor, \"escribió 'El Quijote'\")"
   ]
  },
  {
   "cell_type": "code",
   "execution_count": 3,
   "metadata": {},
   "outputs": [
    {
     "name": "stdout",
     "output_type": "stream",
     "text": [
      "Dime tu nombre: Ana\n",
      "Dime tu libro favorito: El Quijote\n",
      "A Ana le gusta El Quijote\n"
     ]
    }
   ],
   "source": [
    "nombre = input(\"Dime tu nombre: \")\n",
    "libro = input(\"Dime tu libro favorito: \")\n",
    "print(\"A\", nombre, \"le gusta\", libro)"
   ]
  },
  {
   "cell_type": "markdown",
   "metadata": {},
   "source": [
    "## Ejercicios\n",
    "### 020401\n",
    "Escribe unas líneas de código en las que le preguntes al usuario su nombre, sus apellidos y su edad, y después imprima los datos de forma redactada, es decir, insertando los datos facilitados por el usuario entre distintas cadenas de texto. Puedes escribirlo todo en una sola frase o en varias líneas, como tú quieras."
   ]
  },
  {
   "cell_type": "markdown",
   "metadata": {},
   "source": [
    "### 020402\n",
    "¿Sabrías concatenar cadenas de caracteres estáticas y dinámicas en una sola línea de código? Es decir, reducir la siguiente celda a una sola línea de código en vez de tres, sin que deje de hacer exactamente lo mismo."
   ]
  },
  {
   "cell_type": "code",
   "execution_count": null,
   "metadata": {},
   "outputs": [],
   "source": [
    "nombre = input(\"Dime tu nombre: \")\n",
    "libro = input(\"Dime tu libro favorito: \")\n",
    "print(\"A\", nombre, \"le gusta\", libro)"
   ]
  },
  {
   "cell_type": "markdown",
   "metadata": {},
   "source": [
    "Pista: no guardes lo que sale de las llamadas con `input()` en ninguna variable; imprímelo directamente."
   ]
  }
 ],
 "metadata": {
  "kernelspec": {
   "display_name": "Python 3",
   "language": "python",
   "name": "python3"
  },
  "language_info": {
   "codemirror_mode": {
    "name": "ipython",
    "version": 3
   },
   "file_extension": ".py",
   "mimetype": "text/x-python",
   "name": "python",
   "nbconvert_exporter": "python",
   "pygments_lexer": "ipython3",
   "version": "3.7.0"
  }
 },
 "nbformat": 4,
 "nbformat_minor": 2
}
