{
 "cells": [
  {
   "cell_type": "markdown",
   "metadata": {},
   "source": [
    "# Tema 9: expresiones regulares (III)\n",
    "Vamos a ver los conceptos más avanzados de las expresiones regulares.\n",
    "\n",
    "## Avaricia y pereza\n",
    "Los cuantificadores que hemos visto en el cuaderno anterior, `?`, `+` y `*` son, por defecto, avariciosos (_greedy_); eso quiere decir que abarcarán todo lo que puedan.\n",
    "\n",
    "Las etiquetas HTML son ejemplos típicos. Imaginemos que tenemos un texto con etiquetas HTML y queremos quitárselas todas:"
   ]
  },
  {
   "cell_type": "code",
   "execution_count": 2,
   "metadata": {},
   "outputs": [],
   "source": [
    "import re\n",
    "\n",
    "HTML = \"Podemos llamarlas <em>expresiones regulares</em>, <em>regexp</em> o <em>regex</em>.\""
   ]
  },
  {
   "cell_type": "markdown",
   "metadata": {},
   "source": [
    "La regex `<.+>` a priori es muy suculenta para cazar cada etiqueta, pero en vez de capturar cada una de las etiquetas, lo que hace es capturar desde el primer `<` hasta el último `>`, porque es avariciosa:"
   ]
  },
  {
   "cell_type": "code",
   "execution_count": 37,
   "metadata": {},
   "outputs": [
    {
     "name": "stdout",
     "output_type": "stream",
     "text": [
      "['<em>expresiones regulares</em>, <em>regexp</em> o <em>regex</em>']\n"
     ]
    }
   ],
   "source": [
    "a = re.findall(\"<.+>\", HTML)\n",
    "print(a)"
   ]
  },
  {
   "cell_type": "markdown",
   "metadata": {},
   "source": [
    "Tampoco nos sirve restringirlo a fragmentos de texto sin espacios, porque hay fragmentos de texto entre etiqueta y etiqueta que pueden ser una palabra sola:"
   ]
  },
  {
   "cell_type": "code",
   "execution_count": 38,
   "metadata": {},
   "outputs": [
    {
     "name": "stdout",
     "output_type": "stream",
     "text": [
      "['<em>', '</em>', '<em>regexp</em>', '<em>regex</em>']\n"
     ]
    }
   ],
   "source": [
    "a = re.findall(\"<[^ ]+>\", HTML)\n",
    "print(a)"
   ]
  },
  {
   "cell_type": "markdown",
   "metadata": {},
   "source": [
    "Solución: con `?` la hacemos perezosa (_lazy_); es decir, dejará de buscar tras la primera instancia de `>`. Con `<.+?>` capturamos todas las etiquetas y solo las etiquetas."
   ]
  },
  {
   "cell_type": "code",
   "execution_count": 39,
   "metadata": {},
   "outputs": [
    {
     "name": "stdout",
     "output_type": "stream",
     "text": [
      "['<em>', '</em>', '<em>', '</em>', '<em>', '</em>']\n"
     ]
    }
   ],
   "source": [
    "a = re.findall(\"<.+?>\", HTML)\n",
    "print(a)"
   ]
  },
  {
   "cell_type": "markdown",
   "metadata": {},
   "source": [
    "Ahora ya podemos usar `re.sub()` para sustituirlas por una cadena vacía y obtener el texto limpio:"
   ]
  },
  {
   "cell_type": "code",
   "execution_count": 3,
   "metadata": {},
   "outputs": [
    {
     "name": "stdout",
     "output_type": "stream",
     "text": [
      "Podemos llamarlas expresiones regulares, regexp o regex.\n"
     ]
    }
   ],
   "source": [
    "a = re.sub(\"<.+?>\", \"\", HTML)\n",
    "print(a)"
   ]
  },
  {
   "cell_type": "markdown",
   "metadata": {},
   "source": [
    "Para distinguir entre este `?` y el cuantificador `?`, piensa que cada uno es distinto; el que acabamos de aprender va necesariamente detrás de un cuantificador indeterminado (`?`, `+` o `*`, vaya). El otro es un cuantificador y siempre va detrás de un carácter (ya sea literal o metacarácter, expresado como un rango, como un conjunto, como un grupo (que ahora aprenderemos), etc.)."
   ]
  },
  {
   "cell_type": "markdown",
   "metadata": {},
   "source": [
    "## Agrupación\n",
    "Con los paréntesis `()` se pueden agrupar varios caracteres, lo cual es muy útil para:\n",
    "- poder aplicarle a todo ese grupo un mismo cuantificador;\n",
    "- guardar ese grupo, es decir, poder usarlo después (en la misma regex de búsqueda o en la de reemplazo).\n",
    "\n",
    "Por ejemplo, podemos querer buscar palabras repetidas. Una forma de hacerlo es sabiendo la palabra que se repite:"
   ]
  },
  {
   "cell_type": "code",
   "execution_count": 6,
   "metadata": {},
   "outputs": [
    {
     "name": "stdout",
     "output_type": "stream",
     "text": [
      "<re.Match object; span=(12, 19), match='for for'>\n"
     ]
    }
   ],
   "source": [
    "a = re.search(r\"(for ??){2}\", \"Always look for for the bright side of life\")\n",
    "print(a)"
   ]
  },
  {
   "cell_type": "markdown",
   "metadata": {},
   "source": [
    "Observa que en el anterior ejemplo hemos usado `?` una vez como cuantificador y otra como indicador de _laziness_. Esto nos permite capturar el espacio después de `for` solo cuando nos conviene (el que está entre las dos palabras, pero no el de después de la última palabra).\n",
    "\n",
    "Pero supongamos que el texto es demasiado largo o no podemos leerlo a priori, vamos, que no tenemos forma de saber qué palabras se van a repetir. Para ello podemos agrupar la expresión regular con la que describimos la palabra y después `\\1`:"
   ]
  },
  {
   "cell_type": "code",
   "execution_count": 8,
   "metadata": {},
   "outputs": [
    {
     "name": "stdout",
     "output_type": "stream",
     "text": [
      "['for', 'of']\n"
     ]
    }
   ],
   "source": [
    "a = re.findall(r\"(\\w+) \\1\", \"Always look for for the bright side of of life\")\n",
    "print(a)"
   ]
  },
  {
   "cell_type": "markdown",
   "metadata": {},
   "source": [
    "Pero, desde luego, donde más útiles son los grupos es en las sustituciones. A veces necesitamos describir en el patrón una parte del texto que no queremos sustituir, así que podemos captuarla y usar en el reemplazo el mismo grupo. Por ejemplo, para separar los guiones de las palabras:"
   ]
  },
  {
   "cell_type": "code",
   "execution_count": 10,
   "metadata": {},
   "outputs": [
    {
     "name": "stdout",
     "output_type": "stream",
     "text": [
      "de ninguna manera - dijo\n"
     ]
    }
   ],
   "source": [
    "a = re.sub(r\"([^ ])[-—]([^ ])\", r\"\\1 - \\2\", \"de ninguna manera-dijo\")\n",
    "print(a)"
   ]
  },
  {
   "cell_type": "markdown",
   "metadata": {},
   "source": [
    "Por supuesto, también podemos cambiar de sitio los grupos:"
   ]
  },
  {
   "cell_type": "code",
   "execution_count": 11,
   "metadata": {},
   "outputs": [
    {
     "name": "stdout",
     "output_type": "stream",
     "text": [
      "Máquina: machine\n",
      "Usuario: user\n"
     ]
    }
   ],
   "source": [
    "a = re.sub(r\"(\\w+)@(\\w+)\\.\\w+\", r\"Máquina: \\2\\nUsuario: \\1\", \"user@machine.ext\")\n",
    "print(a)"
   ]
  },
  {
   "cell_type": "markdown",
   "metadata": {},
   "source": [
    "## Grupos anidados\n",
    "Los grupos se pueden anidar, es decir, podemos hacer que un fragmento de string pertenezca a dos grupos distintos.\n",
    "\n",
    "Imagina que en las siguientes strings queremos capturar tanto el año como el mes y el año. Tendremos que meter entre paréntesis una regex que capture el año, y luego poner otro paréntesis alrededor de la que incluya el mes:"
   ]
  },
  {
   "cell_type": "code",
   "execution_count": 50,
   "metadata": {},
   "outputs": [
    {
     "name": "stdout",
     "output_type": "stream",
     "text": [
      "[('Jan 1987', '1987'), ('May 1969', '1969'), ('Aug 2011', '2011')]\n"
     ]
    }
   ],
   "source": [
    "a = re.findall(\"(.*(\\d{4}))\", \"\"\"Jan 1987\\nMay 1969\\nAug 2011\"\"\")\n",
    "print(a)"
   ]
  },
  {
   "cell_type": "markdown",
   "metadata": {},
   "source": [
    "## Ejercicios\n",
    "### 090301\n",
    "Encuentra cada oración por separado en esta cita de las _Meditaciones_ de Marco Aurelio, rellenando la celda con la regex correcta. El resultado debe ser una lista con las distintas oraciones."
   ]
  },
  {
   "cell_type": "code",
   "execution_count": null,
   "metadata": {},
   "outputs": [],
   "source": [
    "a = re.findall(\"\", \"No actúes en la idea de que vas a vivir diez mil años. La necesidad ineludible pende sobre ti. Mientras vives, mientras es posible, sé virtuoso.\")\n",
    "print(a)"
   ]
  },
  {
   "cell_type": "markdown",
   "metadata": {},
   "source": [
    "### 090302\n",
    "Encuentra todas las líneas aéreas:"
   ]
  },
  {
   "cell_type": "code",
   "execution_count": null,
   "metadata": {},
   "outputs": [],
   "source": [
    "airlines = \"\"\"Andes Líneas Aéreas\n",
    "Plus Ultra Líneas Aéreas\n",
    "Líneas Aéreas del Estado\"\"\"\n",
    "\n",
    "a = re.findall(\"\", airlines)\n",
    "print(a)"
   ]
  },
  {
   "cell_type": "markdown",
   "metadata": {},
   "source": [
    "### 090303\n",
    "Captura por un lado el ancho y por otro el alto en estas medidas:"
   ]
  },
  {
   "cell_type": "code",
   "execution_count": null,
   "metadata": {},
   "outputs": [],
   "source": [
    "a = re.findall(r\"\", \"1280x720\")\n",
    "print(a)\n",
    "a = re.findall(r\"\", \"1920x1600\")\n",
    "print(a)\n",
    "a = re.findall(r\"\", \"1024x768\")\n",
    "print(a)"
   ]
  },
  {
   "cell_type": "markdown",
   "metadata": {},
   "source": [
    "### 090304\n",
    "Ahora, con los mismos textos que en el ejercicio 090206, no solo queremos capturar los errores, sino además sustituirlos por las palabras correctas (`lo`, `las` y `les`):"
   ]
  },
  {
   "cell_type": "code",
   "execution_count": null,
   "metadata": {},
   "outputs": [],
   "source": [
    "texto = \"\"\"todo estaba oscuro\n",
    "era to más parecido\n",
    "una de tas mejores obras\n",
    "según decían, «tes asustaban»\"\"\"\n",
    "\n",
    "resultados = re.sub(r\"\\bt([aoe]s?)\\b\", r\"\", texto)\n",
    "print(resultados)"
   ]
  },
  {
   "cell_type": "markdown",
   "metadata": {},
   "source": [
    "### 090305\n",
    "La regex para encontrar las 3 formas de referirse a las regex (`regex`, `regexp` y `regular expressions`) es…"
   ]
  },
  {
   "cell_type": "code",
   "execution_count": null,
   "metadata": {},
   "outputs": [],
   "source": [
    "frases = [\n",
    "    \"Las regex se estudian en el tema 9.\",\n",
    "    \"También podemos encontrarlas escritas como regexp.\",\n",
    "    \"La librería re quiere decir regular expressions.\"\n",
    "]\n",
    "\n",
    "for frase in frases:\n",
    "    resultado = re.search(\"\", frase)\n",
    "    print(resultado)"
   ]
  },
  {
   "cell_type": "markdown",
   "metadata": {},
   "source": [
    "### 090306\n",
    "Captura en grupos el prefijo de estos números de teléfono estadounidenses, que están escritos con distintos formatos. Los prefijos son, en cada línea: `415`, `650`, `416`, `202`, `403` y `416`."
   ]
  },
  {
   "cell_type": "code",
   "execution_count": null,
   "metadata": {},
   "outputs": [],
   "source": [
    "numeros = \"\"\"415-555-1234\n",
    "650-555-2345\n",
    "(416)555-3456\n",
    "202 555 4567\n",
    "4035555678\n",
    "1 416 555 9292\"\"\"\n",
    "a = re.findall(\"\", numeros)\n",
    "print(a)"
   ]
  }
 ],
 "metadata": {
  "kernelspec": {
   "display_name": "Python 3",
   "language": "python",
   "name": "python3"
  },
  "language_info": {
   "codemirror_mode": {
    "name": "ipython",
    "version": 3
   },
   "file_extension": ".py",
   "mimetype": "text/x-python",
   "name": "python",
   "nbconvert_exporter": "python",
   "pygments_lexer": "ipython3",
   "version": "3.7.0"
  }
 },
 "nbformat": 4,
 "nbformat_minor": 2
}
