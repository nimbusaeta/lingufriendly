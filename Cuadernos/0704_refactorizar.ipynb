{
 "cells": [
  {
   "cell_type": "markdown",
   "metadata": {},
   "source": [
    "# Tema 7: Funciones (IV)"
   ]
  },
  {
   "cell_type": "markdown",
   "metadata": {},
   "source": [
    "## Refactorizar un programa\n",
    "Como te adelantaba, en este cuaderno vamos a modificar un programa ya hecho, para optimizarlo o _refactorizarlo_, creando funciones donde sea posible y deseable."
   ]
  },
  {
   "cell_type": "markdown",
   "metadata": {},
   "source": [
    "Imagina que tengo el siguiente código y quiero convertir las partes que se repiten en funciones, para luego solo tener que llamarlas:"
   ]
  },
  {
   "cell_type": "code",
   "execution_count": null,
   "metadata": {
    "scrolled": true
   },
   "outputs": [],
   "source": [
    "### Programa para elaborar listas con las colecciones de peliculas y libros que tiene el usuario\n",
    "\n",
    "# Listas de colecciones\n",
    "pelis = []\n",
    "libros = []\n",
    "\n",
    "# Menú\n",
    "continuar = True\n",
    "while continuar:\n",
    "    opcion = int(input(\"¿Qué quieres hacer?\\n1. Añadir una película.\\n2. Añadir un libro.\\n3. Consultar mi colección.\\n4. Salir.\\n\"))\n",
    "    \n",
    "    # Opción 1. Película\n",
    "    if opcion == 1:\n",
    "        \n",
    "        # Pedir datos\n",
    "        titulo = input(\"Escribe el título: \")\n",
    "        prestamo = input(\"¿Es un préstamo?: \")\n",
    "        if prestamo.lower() == \"s\" or prestamo.lower() == \"si\" or prestamo.lower() == \"sí\":\n",
    "            amigo = input(\"¿Quién es el prestamista?: \")\n",
    "        else:\n",
    "            amigo = None\n",
    "\n",
    "        # Guardar datos en un diccionario\n",
    "        dicc = {}\n",
    "        dicc[\"título\"] = titulo\n",
    "        dicc[\"prestamista\"] = amigo\n",
    "        \n",
    "        # Añadir diccionario a la lista de películas\n",
    "        pelis.append(dicc)\n",
    "        \n",
    "        # Imprimir mensaje de confirmación\n",
    "        print(\"Ok, se ha añadido\", titulo, \"a tu colección.\")\n",
    "        print()\n",
    "\n",
    "    # Opción 2. Libro\n",
    "    elif opcion == 2:\n",
    "        \n",
    "        # Pedir datos\n",
    "        titulo = input(\"Escribe el título: \")\n",
    "        prestamo = input(\"¿Es un préstamo?: \")\n",
    "        if prestamo.lower() == \"s\" or prestamo.lower() == \"si\" or prestamo.lower() == \"sí\":\n",
    "            amigo = input(\"¿Quién es el prestamista?: \")\n",
    "        else:\n",
    "            amigo = None\n",
    "\n",
    "        # Guardar datos en un diccionario\n",
    "        dicc = {}\n",
    "        dicc[\"título\"] = titulo\n",
    "        dicc[\"prestamista\"] = amigo\n",
    "        \n",
    "        # Añadir diccionario a la lista de libros\n",
    "        libros.append(dicc)\n",
    "        \n",
    "        # Imprimir mensaje de confirmación\n",
    "        print(\"Ok, se ha añadido\", titulo, \"a tu colección.\")\n",
    "        print()\n",
    "\n",
    "    # Opción 3. Consulta\n",
    "    elif opcion == 3:\n",
    "        \n",
    "        # Imprimir lista de películas\n",
    "        print(\"Tienes todas estas pelis:\")\n",
    "        for peli in pelis:\n",
    "            print(\"Título:\", peli['título'])\n",
    "            if peli['prestamista'] != None:\n",
    "                print(\"Devolver a:\", peli['prestamista'])\n",
    "            print()\n",
    "        \n",
    "        # Imprimir lista de libros\n",
    "        print(\"Tienes todos estos libros:\")\n",
    "        for libro in libros:\n",
    "            print(\"Título:\", libro['título'])\n",
    "            if libro['prestamista'] != None:\n",
    "                print(\"Devolver a:\", libro['prestamista'])\n",
    "            print()\n",
    "    \n",
    "    # Opción 4. Salir\n",
    "    elif opcion == 4:\n",
    "        print(\"¡Adiós!\")\n",
    "        continuar = False\n",
    "    \n",
    "    # Fallback\n",
    "    else:\n",
    "        print(\"Debes escribir un número entre 1 y 4.\")\n"
   ]
  },
  {
   "cell_type": "markdown",
   "metadata": {},
   "source": [
    "Fíjate en que las líneas 15-26 (pedir datos al usuario y guardarlos en un diccionario) son iguales que las líneas 38-49. También las líneas 31-33 (imprimir el mensaje de confirmación) son iguales a las 54-56. Por otro lado, tanto 28-29 como 51-52 hacen una cosa muy parecida, guardar el diccionario en su lista correspondiente, y las líneas 61-67 (imprimir lista de películas) son casi iguales que 69-75 (imprimir lista de libros), solo cambia la lista que recorremos. Pues bien, esto quiere decir que podemos convertirlas en funciones.\n",
    "\n",
    "Vamos a escribir la función para pedir datos el usuario:"
   ]
  },
  {
   "cell_type": "code",
   "execution_count": 2,
   "metadata": {},
   "outputs": [],
   "source": [
    "def pedir_datos():\n",
    "    # Pide los datos al usuario y los devuelve\n",
    "    titulo = input(\"Escribe el título: \")\n",
    "    prestamo = input(\"¿Es un préstamo?: \")\n",
    "    if prestamo.lower() == \"s\" or prestamo.lower() == \"si\" or prestamo.lower() == \"sí\":\n",
    "        amigo = input(\"¿Quién es el prestamista?: \")\n",
    "    else:\n",
    "        amigo = None\n",
    "    return titulo, amigo"
   ]
  },
  {
   "cell_type": "markdown",
   "metadata": {},
   "source": [
    "Observa que hemos dejado las líneas iguales, salvo por la indentación, y que hemos añadido la primera línea, para definir la función, y la última línea, para que cuando llamemos a esta función nos devuelva el diccionario con toda la información del usuario.\n",
    "\n",
    "Vamos a probar si funciona como queremos, y para ello vamos a ejecutar la función:"
   ]
  },
  {
   "cell_type": "code",
   "execution_count": 5,
   "metadata": {},
   "outputs": [
    {
     "name": "stdout",
     "output_type": "stream",
     "text": [
      "Escribe el título: El perfume\n",
      "¿Es un préstamo?: sí\n",
      "¿Quién es el prestamista?: Paula\n"
     ]
    },
    {
     "data": {
      "text/plain": [
       "('El perfume', 'Paula')"
      ]
     },
     "execution_count": 5,
     "metadata": {},
     "output_type": "execute_result"
    }
   ],
   "source": [
    "pedir_datos()"
   ]
  },
  {
   "cell_type": "markdown",
   "metadata": {},
   "source": [
    "¡Tiene buena pinta! El Out de la izquierda nos señala que la salida del programa son las dos strings que nos interesan.\n",
    "\n",
    "Vamos con la función de guardar los datos en un diccionario:"
   ]
  },
  {
   "cell_type": "code",
   "execution_count": 6,
   "metadata": {},
   "outputs": [],
   "source": [
    "def guardar_datos(titulo, amigo):\n",
    "    # Guarda los datos del usuario en un diccionario\n",
    "    dicc = {}\n",
    "    dicc[\"título\"] = titulo\n",
    "    dicc[\"prestamista\"] = amigo\n",
    "    return dicc"
   ]
  },
  {
   "cell_type": "markdown",
   "metadata": {},
   "source": [
    "Esta función requiere dos parámetros, el título de la obra y el nombre del amigo, y devuelve el diccionario que crea."
   ]
  },
  {
   "cell_type": "code",
   "execution_count": 8,
   "metadata": {},
   "outputs": [
    {
     "data": {
      "text/plain": [
       "{'título': 'El perfume', 'prestamista': 'Paula'}"
      ]
     },
     "execution_count": 8,
     "metadata": {},
     "output_type": "execute_result"
    }
   ],
   "source": [
    "guardar_datos(\"El perfume\", \"Paula\")"
   ]
  },
  {
   "cell_type": "markdown",
   "metadata": {},
   "source": [
    "¡Bien! La salida es justamente un diccionario con la información correctamente almacenada.\n",
    "\n",
    "Vamos a convertir también en función la parte de añadir el diccionario a una lista:"
   ]
  },
  {
   "cell_type": "code",
   "execution_count": 9,
   "metadata": {},
   "outputs": [],
   "source": [
    "def añadir_a_lista(dicc, lista):\n",
    "    # Añade un diccionario a la lista que se especifique\n",
    "    lista.append(dicc)"
   ]
  },
  {
   "cell_type": "markdown",
   "metadata": {},
   "source": [
    "Esta vez, como queremos poder usar esta función tanto con la lista de películas como con la de libros, hemos añadido el parámetro `lista` para poder especificar en cada llamada a esta función la lista a la que queremos añadirle el diccionario. Por eso, también hemos tenido que cambiar el nombre de la lista en la segunda línea de la función."
   ]
  },
  {
   "cell_type": "code",
   "execution_count": 10,
   "metadata": {},
   "outputs": [
    {
     "name": "stdout",
     "output_type": "stream",
     "text": [
      "[{'título': 'El perfume', 'prestamista': 'Paula'}]\n"
     ]
    }
   ],
   "source": [
    "lista = []\n",
    "añadir_a_lista({'título': 'El perfume', 'prestamista': 'Paula'}, lista)\n",
    "print(lista)"
   ]
  },
  {
   "cell_type": "markdown",
   "metadata": {},
   "source": [
    "En este caso hemos tenido que poner `print(lista)` porque la función de por sí no nos devuelve ningún dato, solo guarda información en un sitio, y tenemos que comprobar que ese sitio se actualiza como queremos.\n",
    "\n",
    "Solo nos queda definir la función para imprimir el mensaje de confirmación."
   ]
  },
  {
   "cell_type": "code",
   "execution_count": 11,
   "metadata": {},
   "outputs": [],
   "source": [
    "def imprimir_confirmacion(titulo):\n",
    "    # Imprime el mensaje de confirmación\n",
    "    print(\"Ok, se ha añadido\", titulo, \"a tu colección.\")\n",
    "    print()"
   ]
  },
  {
   "cell_type": "markdown",
   "metadata": {},
   "source": [
    "Como el mensaje de confirmación contiene información variable, necesitaremos pedir ese dato al llamar a la función, así que tenemos que convertirlo en parámetro y pasárselo cuando la llamemos."
   ]
  },
  {
   "cell_type": "code",
   "execution_count": 14,
   "metadata": {},
   "outputs": [
    {
     "name": "stdout",
     "output_type": "stream",
     "text": [
      "Ok, se ha añadido Titanic a tu colección.\n",
      "\n"
     ]
    }
   ],
   "source": [
    "imprimir_confirmacion(\"Titanic\")"
   ]
  },
  {
   "cell_type": "markdown",
   "metadata": {},
   "source": [
    "Perfecto.\n",
    "\n",
    "Ahora, como todas estas funciones ocurren en el programa original una después de la otra, y manejan los mismos datos, tiene sentido definir una función que las llame a todas en el orden correcto y a la que solo haya que especificarle el nombre de la lista que ha de modificar, pues eso depende de la elección del usuario. Así:"
   ]
  },
  {
   "cell_type": "code",
   "execution_count": 12,
   "metadata": {},
   "outputs": [],
   "source": [
    "def gestionar_datos(nombre_lista):\n",
    "    # Pide y guarda los datos en la lista correspondiente\n",
    "    titulo, amigo = pedir_datos()\n",
    "    dicc = guardar_datos(titulo, amigo)\n",
    "    añadir_a_lista(dicc, nombre_lista)\n",
    "    imprimir_confirmacion(titulo)"
   ]
  },
  {
   "cell_type": "markdown",
   "metadata": {},
   "source": [
    "Ahora vamos a poner todas las funciones dentro del programa:"
   ]
  },
  {
   "cell_type": "code",
   "execution_count": 13,
   "metadata": {
    "scrolled": true
   },
   "outputs": [
    {
     "name": "stdout",
     "output_type": "stream",
     "text": [
      "¿Qué quieres hacer?\n",
      "1. Añadir una película.\n",
      "2. Añadir un libro.\n",
      "3. Consultar mi colección.\n",
      "4. Salir.\n",
      "1\n",
      "Escribe el título: Titanic\n",
      "¿Es un préstamo?: no\n",
      "Ok, se ha añadido Titanic a tu colección.\n",
      "\n",
      "¿Qué quieres hacer?\n",
      "1. Añadir una película.\n",
      "2. Añadir un libro.\n",
      "3. Consultar mi colección.\n",
      "4. Salir.\n",
      "2\n",
      "Escribe el título: El perfume\n",
      "¿Es un préstamo?: sí\n",
      "¿Quién es el prestamista?: Paula\n",
      "Ok, se ha añadido El perfume a tu colección.\n",
      "\n",
      "¿Qué quieres hacer?\n",
      "1. Añadir una película.\n",
      "2. Añadir un libro.\n",
      "3. Consultar mi colección.\n",
      "4. Salir.\n",
      "3\n",
      "Tienes todas estas pelis:\n",
      "Título: Titanic\n",
      "\n",
      "Tienes todos estos libros:\n",
      "Título: El perfume\n",
      "Devolver a: Paula\n",
      "\n",
      "¿Qué quieres hacer?\n",
      "1. Añadir una película.\n",
      "2. Añadir un libro.\n",
      "3. Consultar mi colección.\n",
      "4. Salir.\n",
      "4\n",
      "¡Adiós!\n"
     ]
    }
   ],
   "source": [
    "### Programa para elaborar listas con las colecciones de peliculas y libros que tiene el usuario\n",
    "\n",
    "# Listas de colecciones\n",
    "pelis = []\n",
    "libros = []\n",
    "\n",
    "# Menú\n",
    "continuar = True\n",
    "while continuar:\n",
    "    opcion = int(input(\"¿Qué quieres hacer?\\n1. Añadir una película.\\n2. Añadir un libro.\\n3. Consultar mi colección.\\n4. Salir.\\n\"))\n",
    "    \n",
    "    # Opción 1. Película\n",
    "    if opcion == 1:\n",
    "        gestionar_datos(pelis)\n",
    "\n",
    "    # Opción 2. Libro\n",
    "    elif opcion == 2:\n",
    "        gestionar_datos(libros)\n",
    "\n",
    "    # Opción 3. Consulta\n",
    "    elif opcion == 3:\n",
    "        \n",
    "        # Imprimir lista de películas\n",
    "        print(\"Tienes todas estas pelis:\")\n",
    "        for peli in pelis:\n",
    "            print(\"Título:\", peli['título'])\n",
    "            if peli['prestamista'] != None:\n",
    "                print(\"Devolver a:\", peli['prestamista'])\n",
    "            print()\n",
    "        \n",
    "        # Imprimir lista de libros\n",
    "        print(\"Tienes todos estos libros:\")\n",
    "        for libro in libros:\n",
    "            print(\"Título:\", libro['título'])\n",
    "            if libro['prestamista'] != None:\n",
    "                print(\"Devolver a:\", libro['prestamista'])\n",
    "            print()\n",
    "    \n",
    "    # Opción 4. Salir\n",
    "    elif opcion == 4:\n",
    "        print(\"¡Adiós!\")\n",
    "        continuar = False\n",
    "    \n",
    "    # Fallback\n",
    "    else:\n",
    "        print(\"Debes escribir un número entre 1 y 4.\")\n"
   ]
  },
  {
   "cell_type": "markdown",
   "metadata": {},
   "source": [
    "## Ejercicios\n",
    "### 070401\n",
    "Todavía se puede optimizar un poco más el programa anterior. Por ejemplo, para imprimir las listas, se usa el mismo código y solo cambia el nombre de la lista a la que accedemos. Escribe una función `imprimir_lista()` que sirva para poder llamarla pasándole el nombre de la lista."
   ]
  },
  {
   "cell_type": "markdown",
   "metadata": {},
   "source": [
    "### 070402\n",
    "Modifica las funciones `pedir_datos()` e `imprimir_confirmacion()` para que sean ligeramente distintas dependiendo de si estamos en la opción 1 o 2.\n",
    "\n",
    "El objetivo es hacer los mensajes más naturales. En `pedir_datos()` queremos que, en vez de preguntar `¿Quién es el prestamista?`, pregunte `¿Quién te la ha prestado?` si el usuario ha elegido introducir una nueva película, y `¿Quién te lo ha prestado?` si el usuario ha elegido introducir un nuevo libro. Y en `imprimir_confirmacion()` molaría que, cuando el usuario quiere introducir un nuevo libro, en vez de imprimir `a tu colección` diga `a tu biblioteca`."
   ]
  }
 ],
 "metadata": {
  "kernelspec": {
   "display_name": "Python 3",
   "language": "python",
   "name": "python3"
  },
  "language_info": {
   "codemirror_mode": {
    "name": "ipython",
    "version": 3
   },
   "file_extension": ".py",
   "mimetype": "text/x-python",
   "name": "python",
   "nbconvert_exporter": "python",
   "pygments_lexer": "ipython3",
   "version": "3.7.0"
  }
 },
 "nbformat": 4,
 "nbformat_minor": 2
}
