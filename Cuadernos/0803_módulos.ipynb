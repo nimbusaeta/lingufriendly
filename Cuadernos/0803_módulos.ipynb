{
 "cells": [
  {
   "cell_type": "markdown",
   "metadata": {},
   "source": [
    "# Tema 8: Ficheros y módulos (III)\n",
    "## Módulos\n",
    "Hasta ahora, hemos separado nuestros programas en funciones y programa principal. Esta distinción no es trivial, como verás, porque de hecho lo que hacen los programadores no es solo separar en partes el mismo programa, sino guardar la parte de las funciones en un archivo especial, llamado _módulo_, del programa principal. ¿Y cómo se comunican ambos archivos? El programa principal tiene que _importar_ el módulo para poder usar las funciones que este contiene.\n",
    "\n",
    "Y es que hasta ahora solo hemos usado funciones básicas de Python, que se pueden usar sin más. Imprimir por pantalla, pedir input al usuario, transformar variables de un tipo a otro, crear rangos, manejar archivos... son funcionalidades comunes a muchos proyectos. Pero en cuanto tenemos necesidades un poco más específicas, vamos a necesitar usar funciones que pertenecen a ciertos módulos, pensados especialmente para esas necesidades. Y para poder utilizar las funcionalidades que ofrecen los distintos módulos deberemos importarlos en nuestros programas.\n",
    "### Crear módulos\n",
    "Un módulo no es más que un archivo con la extensión `.py` en el que se definen una serie de funciones, idealmente sobre la misma temática o finalidad. Simplemente tenemos que guardar nuestras funciones en un archivo `.py` (y guardarlo en la misma carpeta que el programa principal) y el nombre que le demos al archivo será el nombre del módulo a los efectos de programación.\n",
    "\n",
    "Por ejemplo, tenemos imagina que queremos meter las tres funciones del ejercicio 080102, `num_caracteres()`, `num_palabras()` y `estadisticas_fichero()` en un módulo.\n",
    "\n",
    "Tan solo tenemos que copiarlas y pegarlas en un fichero y darle la extensión `.py`. En este caso, ya lo hemos hecho, en `moduloejemplo.py`.\n",
    "### Importar módulos\n",
    "Si ahora mismo intentamos usar una de nuestras funciones, obtendremos un error, porque no hemos ejecutado el código en el que se define:"
   ]
  },
  {
   "cell_type": "code",
   "execution_count": 2,
   "metadata": {},
   "outputs": [],
   "source": [
    "lista = [\"Del salón en el ángulo oscuro,\",\n",
    "         \"de su dueño tal vez olvidada,\",\n",
    "         \"silenciosa y cubierta de polvo\",\n",
    "         \"veíase el arpa\"]"
   ]
  },
  {
   "cell_type": "code",
   "execution_count": 3,
   "metadata": {},
   "outputs": [
    {
     "ename": "NameError",
     "evalue": "name 'num_caracteres' is not defined",
     "output_type": "error",
     "traceback": [
      "\u001b[1;31m---------------------------------------------------------------------------\u001b[0m",
      "\u001b[1;31mNameError\u001b[0m                                 Traceback (most recent call last)",
      "\u001b[1;32m<ipython-input-3-a9d8228486ca>\u001b[0m in \u001b[0;36m<module>\u001b[1;34m()\u001b[0m\n\u001b[1;32m----> 1\u001b[1;33m \u001b[0mnum_caracteres\u001b[0m\u001b[1;33m(\u001b[0m\u001b[0mlista\u001b[0m\u001b[1;33m)\u001b[0m\u001b[1;33m\u001b[0m\u001b[0m\n\u001b[0m",
      "\u001b[1;31mNameError\u001b[0m: name 'num_caracteres' is not defined"
     ]
    }
   ],
   "source": [
    "num_caracteres(lista)"
   ]
  },
  {
   "cell_type": "markdown",
   "metadata": {},
   "source": [
    "Para poder usarla, primero tendremos que importar el módulo `moduloejemplo`. Importar un módulo es tan sencillo como usar la palabra reservada `import` y el nombre del fichero que queremos importar, sin la extensión. Normalmente, las líneas en que se importan módulos se agrupan al principio de los programas.\n",
    "\n",
    "Usando el ejemplo de antes, se importaría así:"
   ]
  },
  {
   "cell_type": "code",
   "execution_count": 4,
   "metadata": {},
   "outputs": [
    {
     "name": "stdout",
     "output_type": "stream",
     "text": [
      "[30, 29, 30, 14]\n"
     ]
    }
   ],
   "source": [
    "import moduloejemplo\n",
    "\n",
    "print(moduloejemplo.num_caracteres(lista))"
   ]
  },
  {
   "cell_type": "markdown",
   "metadata": {},
   "source": [
    "Puedes considerar que lo que hace la línea 1 es equivalente a ejecutar el archivo `moduloejemplo.py`, de modo que el código en el que se define la función será parte de nuestro programa y, por tanto, podremos usar las funciones que estén definidas en él.\n",
    "\n",
    "En la línea 2, estamos ejecutando la función, pero como es una función que está dentro de un módulo, hay que especificar el módulo al que pertenece, escribiendo su nombre delante del nombre de la función y separándolos por un punto. Cada vez que la usemos hay que escribir el nombre del módulo, lo cual es un poco molesto, así que se han creado otras formas de importar módulos.\n",
    "#### Importar módulos con `as`\n",
    "Podemos escribir `as` detrás del nombre del módulo para darle un nuevo nombre, abreviado, dentro de nuestro programa y que invocarlo sea más sencillo:"
   ]
  },
  {
   "cell_type": "code",
   "execution_count": 5,
   "metadata": {},
   "outputs": [
    {
     "name": "stdout",
     "output_type": "stream",
     "text": [
      "[30, 29, 30, 14]\n"
     ]
    }
   ],
   "source": [
    "import moduloejemplo as mej\n",
    "\n",
    "print(mej.num_caracteres(lista))"
   ]
  },
  {
   "cell_type": "markdown",
   "metadata": {},
   "source": [
    "#### Importar módulos con `from`\n",
    "Pero existe una forma de importar módulos que hace que llamar a sus funciones sea todavía más rápida: usar `from`. Siguiendo con nuestro ejemplo, se hace así:"
   ]
  },
  {
   "cell_type": "code",
   "execution_count": 3,
   "metadata": {},
   "outputs": [
    {
     "name": "stdout",
     "output_type": "stream",
     "text": [
      "[30, 29, 30, 14]\n"
     ]
    }
   ],
   "source": [
    "from moduloejemplo import num_caracteres\n",
    "\n",
    "print(num_caracteres(lista))"
   ]
  },
  {
   "cell_type": "markdown",
   "metadata": {},
   "source": [
    "Como ves, ya no tenemos que escribir nada relativo al módulo cada vez que usamos una de sus funciones. Pero claro, el incoveniente es que tenemos que escribir detrás del `import` todas y cada una de las funciones que queramos usar. Así que, obviamente, la recomendación es que solo uses este método cuando el número de funciones que te interesen sea manejable.\n",
    "\n",
    "Si nos interesa más de una función, podemos separarlas por comas:"
   ]
  },
  {
   "cell_type": "code",
   "execution_count": 6,
   "metadata": {},
   "outputs": [
    {
     "name": "stdout",
     "output_type": "stream",
     "text": [
      "[30, 29, 30, 14]\n",
      "[6, 6, 5, 3]\n"
     ]
    }
   ],
   "source": [
    "from moduloejemplo import num_caracteres, num_palabras\n",
    "\n",
    "print(num_caracteres(lista))\n",
    "print(num_palabras(lista))"
   ]
  },
  {
   "cell_type": "markdown",
   "metadata": {},
   "source": [
    "Incluso podemos combinar `from` y `as` para renombrar las funciones que queremos importar:"
   ]
  },
  {
   "cell_type": "code",
   "execution_count": 7,
   "metadata": {},
   "outputs": [
    {
     "name": "stdout",
     "output_type": "stream",
     "text": [
      "[30, 29, 30, 14]\n"
     ]
    }
   ],
   "source": [
    "from moduloejemplo import num_caracteres as nc\n",
    "\n",
    "print(nc(lista))"
   ]
  },
  {
   "cell_type": "markdown",
   "metadata": {},
   "source": [
    "## Módulos que vienen con Python\n",
    "Con la instalación de Python se instalan, además, una serie de módulos que han creado otras personas. Como son más bien conjuntos de módulos y es código bastante estable, se les suele llamar _paquetes_ o _librerías_ (sí, mala traducción de _library_, pero nadie lo llama bibliotecas en español). Pero se importan exactamente igual que los que podemos crear nosotros.\n",
    "\n",
    "Por ejemplo, el módulo `math` contiene muchas funciones matemáticas que no trae Python por sí solo, como la raíz cuadrada:"
   ]
  },
  {
   "cell_type": "code",
   "execution_count": 8,
   "metadata": {},
   "outputs": [
    {
     "name": "stdout",
     "output_type": "stream",
     "text": [
      "3.0\n"
     ]
    }
   ],
   "source": [
    "import math\n",
    "\n",
    "print(math.sqrt(9))"
   ]
  },
  {
   "cell_type": "markdown",
   "metadata": {},
   "source": [
    "La librería `random` tiene funciones para generar números aleatorios: "
   ]
  },
  {
   "cell_type": "code",
   "execution_count": 9,
   "metadata": {},
   "outputs": [
    {
     "name": "stdout",
     "output_type": "stream",
     "text": [
      "0.9212101581839297\n",
      "603\n"
     ]
    }
   ],
   "source": [
    "from random import uniform\n",
    "from random import randint as rnd\n",
    "\n",
    "print(uniform(0, 1)) # Genera un número float aleatorio entre 0 y 1\n",
    "print(rnd(100, 1000)) # Genera un número entero aleatorio entre los números que le pasemos como argumentos"
   ]
  },
  {
   "cell_type": "markdown",
   "metadata": {},
   "source": [
    "La librería `os` nos permite interactuar con el sistema operativo:"
   ]
  },
  {
   "cell_type": "code",
   "execution_count": 10,
   "metadata": {},
   "outputs": [
    {
     "name": "stdout",
     "output_type": "stream",
     "text": [
      "C:\\Users\\Leticia\\Dropbox\\UNED\n",
      "True\n"
     ]
    }
   ],
   "source": [
    "import os\n",
    "\n",
    "print(os.getcwd()) # Devuelve la ruta de la carpeta en la que estemos ejecutando el programa\n",
    "print(os.path.isfile(\"moduloejemplo.py\")) # Comprueba si existe un determinado archivo"
   ]
  },
  {
   "cell_type": "markdown",
   "metadata": {},
   "source": [
    "Etcétera.\n",
    "\n",
    "En el tema 9 nos adentraremos en la librería re (de _regular expressions_), ya que es muy útil para el tratamiento de strings."
   ]
  },
  {
   "cell_type": "markdown",
   "metadata": {},
   "source": [
    "## Módulos que no vienen con Python\n",
    "La cantidad de librerías incluidas en la instalación de Python no es nada comparada con la cantidad de librerías que hay disponibles en internet. El repositorio de software de Python, donde puedes encontrar todas las que se han desarrollado para este lenguaje, es el [Python Package Index (PyPI)](https://pypi.org/). Si queremos usar alguna librería solo tenemos que buscarla, descargarla e instalarla, y ya podremos importarla a nuestros programas.\n",
    "\n",
    "Python tiene una comunidad especialmente grande y variada, por lo que hay muchísimas librerías para todo tipo de aplicaciones. Es lo bueno de que sea un lenguaje tan conocido, que mucha gente contribuye de esta forma. De hecho, hay bastantes bromas sobre que [cualquier cosa es posible en Python](https://es.xkcd.com/strips/python/).\n",
    "\n",
    "En el tema 10 nos descargaremos una librería, NLTK, para el tratamiento avanzado de strings y textos.\n",
    "\n",
    "Estos dos últimos tipos de módulos no son distintos de los que has creado tú. En el fondo, cuando descargas una librería estás bajándote un montón de archivos de texto y binarios que puedes abrir y modificar (si se trata, como en el caso de Python, de un lenguaje de código libre). Si en algún momento desarrollas un módulo tan grande y útil que crees que a otras personas les podría interesar usarlo, puedes contribuir enviando tu librería al repositorio.\n",
    "## Ejercicios\n",
    "### 080301\n",
    "Imagina que necesitamos un programa para escribir notas en ficheros. Escribe una función `escribir()` que pregunte al usuario cómo quiere que se llame el archivo en el que se va a guardar la nota. Si el nombre que da es el nombre de un archivo ya existente, el programa debe imprimir `Lo siento, ese nombre ya está siendo usado` y volver a preguntarle por el nombre del archivo hasta que dé uno que no exista todavía."
   ]
  },
  {
   "cell_type": "markdown",
   "metadata": {},
   "source": [
    "### 080302\n",
    "Añade, al programa anterior, una función llamada `consultar()` que pregunte al usuario el nombre del archivo de la nota que quiere consultar y, si no existe, le siga preguntando hasta que dé un nombre válido. En ese momento, deberá imprimir la nota, es decir, el contenido del fichero correspondiente."
   ]
  },
  {
   "cell_type": "markdown",
   "metadata": {},
   "source": [
    "### 080303\n",
    "Divide el programa anterior en módulo y programa principal: guarda las funciones `escribir()` y `consultar()` en el módulo y haz que el programa principal tenga esta estructura:"
   ]
  },
  {
   "cell_type": "code",
   "execution_count": null,
   "metadata": {},
   "outputs": [],
   "source": [
    "# Programa principal\n",
    "\n",
    "from notas import escribir, consultar\n",
    "\n",
    "continuar = True\n",
    "while continuar:\n",
    "    \n",
    "    print(\"\"\"Menú de opciones:\n",
    "        1. Escribir una nota\n",
    "        2. Consultar una nota\n",
    "        3. Salir\n",
    "    \"\"\")\n",
    "\n",
    "    eleccion = input(\"Elección: \")\n",
    "    \n",
    "    if eleccion == \"1\":\n",
    "        escribir()\n",
    "    elif eleccion == \"2\":\n",
    "        consultar()\n",
    "    elif eleccion == \"3\":\n",
    "        print(\"¡Hasta pronto!\")\n",
    "        continuar = False\n",
    "    else:\n",
    "        print(\"Debes ingresar un número del 1 al 3\")"
   ]
  }
 ],
 "metadata": {
  "kernelspec": {
   "display_name": "Python 3",
   "language": "python",
   "name": "python3"
  },
  "language_info": {
   "codemirror_mode": {
    "name": "ipython",
    "version": 3
   },
   "file_extension": ".py",
   "mimetype": "text/x-python",
   "name": "python",
   "nbconvert_exporter": "python",
   "pygments_lexer": "ipython3",
   "version": "3.7.0"
  }
 },
 "nbformat": 4,
 "nbformat_minor": 2
}
