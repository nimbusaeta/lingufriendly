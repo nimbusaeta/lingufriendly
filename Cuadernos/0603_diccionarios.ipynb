{
 "cells": [
  {
   "cell_type": "markdown",
   "metadata": {},
   "source": [
    "# Tema 6: estructuras de datos (III)"
   ]
  },
  {
   "cell_type": "markdown",
   "metadata": {},
   "source": [
    "## Diccionarios\n",
    "Los diccionarios son estructuras de datos que almacenan pares clave-valor y nos permiten recuperar los valores asociados a las claves de manera muy rápida.\n",
    "\n",
    "Por ejemplo, podemos utilizar un diccionario para almacenar la información de un empleado en una empresa: su nombre, apellidos, edad, puesto de trabajo, estudios, etc. Cada uno de esos campos será una clave en nuestro diccionario que tendrá asociado un valor concreto para ese empleado."
   ]
  },
  {
   "cell_type": "markdown",
   "metadata": {},
   "source": [
    "### Crear diccionarios\n",
    "La forma más sencilla de crear un diccionario es enumerando los pares clave-valor entre llaves. Los pares se separan con dos puntos (`:`):"
   ]
  },
  {
   "cell_type": "code",
   "execution_count": 1,
   "metadata": {},
   "outputs": [
    {
     "name": "stdout",
     "output_type": "stream",
     "text": [
      "{'título': 'Cien años de soledad', 'autor': 'Gabriel García Márquez', 'año de publicación': 1967}\n"
     ]
    }
   ],
   "source": [
    "ficha_libro = { \"título\": \"Cien años de soledad\", \"autor\": \"Gabriel García Márquez\",\n",
    "               \"año de publicación\": 1967 }\n",
    "print(ficha_libro)"
   ]
  },
  {
   "cell_type": "markdown",
   "metadata": {},
   "source": [
    "Este diccionario contiene 3 __claves__ (“título”, “autor” y “año de publicación”) y tres __valores__ asociados a esas respectivas claves (“Cien años de soledad”, “Gabriel García Márquez” y 1967).\n",
    "\n",
    "Fíjate en que, aunque en las claves y los valores del diccionario usemos las comillas, estas no son parte del contenido de esas claves y valores, sino que solo indican que son strings.\n",
    "\n",
    "Podemos crear diccionarios vacíos usando `{}`:"
   ]
  },
  {
   "cell_type": "code",
   "execution_count": 9,
   "metadata": {},
   "outputs": [],
   "source": [
    "dic_vacio = {}"
   ]
  },
  {
   "cell_type": "markdown",
   "metadata": {},
   "source": [
    "### Número de claves\n",
    "La función `len()` devuelve el número de claves almacenadas en el diccionario. Si el diccionario está vacío, no contiene ninguna clave:"
   ]
  },
  {
   "cell_type": "code",
   "execution_count": 2,
   "metadata": {},
   "outputs": [
    {
     "name": "stdout",
     "output_type": "stream",
     "text": [
      "{'título': 'Cien años de soledad', 'autor': 'Gabriel García Márquez', 'año de publicación': 1967}\n",
      "3\n",
      "0\n"
     ]
    }
   ],
   "source": [
    "ficha_libro = { \"título\": \"Cien años de soledad\", \"autor\": \"Gabriel García Márquez\",\n",
    "               \"año de publicación\": 1967 }\n",
    "print(ficha_libro)\n",
    "print(len(ficha_libro))\n",
    "\n",
    "print(len({}))"
   ]
  },
  {
   "cell_type": "markdown",
   "metadata": {},
   "source": [
    "### Consultar si un diccionario contiene una clave\n",
    "En el caso de las listas y los conjuntos, para saber si un elemento estaba includo en ellos utilizábamos el operador `in`. Podemos hacerlo también con diccionarios:"
   ]
  },
  {
   "cell_type": "code",
   "execution_count": 3,
   "metadata": {},
   "outputs": [
    {
     "name": "stdout",
     "output_type": "stream",
     "text": [
      "Título: Cien años de soledad\n",
      "Autor: Gabriel García Márquez\n",
      "Año de publicación: 1967\n",
      "La ficha del libro no indica el género.\n"
     ]
    }
   ],
   "source": [
    "if \"título\" in ficha_libro:\n",
    "    print(\"Título:\", ficha_libro[\"título\"])\n",
    "else:\n",
    "    print(\"La ficha del libro no indica el título.\")\n",
    "\n",
    "if \"autor\" in ficha_libro:\n",
    "    print(\"Autor:\", ficha_libro[\"autor\"])\n",
    "else:\n",
    "    print(\"La ficha del libro no indica el autor.\")\n",
    "\n",
    "if \"año de publicación\" in ficha_libro:\n",
    "    print(\"Año de publicación:\", ficha_libro[\"año de publicación\"])\n",
    "else:\n",
    "    print(\"La ficha del libro no indica el año de publicación.\")\n",
    "\n",
    "if \"género\" in ficha_libro:\n",
    "    print(\"Género:\", ficha_libro[\"género\"])\n",
    "else:\n",
    "    print(\"La ficha del libro no indica el género.\")"
   ]
  },
  {
   "cell_type": "markdown",
   "metadata": {},
   "source": [
    "Pero los diccionarios cuentan con un método mejor para consultar el valor asociado a una clave que no sabemos seguro si contiene: `.get()`.\n",
    "\n",
    "Este método funciona de la siguiente manera:\n",
    "- Se aplica a un diccionario;\n",
    "- Como primer parámetro hay que pasarle la clave cuyo valor queramos consultar;\n",
    "- Como segundo parámetro (opcional) podemos pasarle el valor que queramos obtener en caso de que la clave no exista.\n",
    "\n",
    "Veámoslo con el diccionario del ejemplo anterior: en vez de imprimir `La ficha del libro no indica el género.`, puede que queramos que el género por defecto sea `novela`. En ese caso es mucho más práctico usar `.get()`:"
   ]
  },
  {
   "cell_type": "code",
   "execution_count": 7,
   "metadata": {},
   "outputs": [
    {
     "name": "stdout",
     "output_type": "stream",
     "text": [
      "Género: novela\n"
     ]
    }
   ],
   "source": [
    "print(\"Género:\", ficha_libro.get(\"género\", \"novela\")) # si no existe la clave \"género\", imprimimos \"novela\""
   ]
  },
  {
   "cell_type": "markdown",
   "metadata": {},
   "source": [
    "De hecho, podríamos aplicárselo a todas las claves; el valor por defecto no se imprimirá si la clave existe:"
   ]
  },
  {
   "cell_type": "code",
   "execution_count": 5,
   "metadata": {},
   "outputs": [
    {
     "name": "stdout",
     "output_type": "stream",
     "text": [
      "Título: Cien años de soledad\n",
      "Autor: Gabriel García Márquez\n",
      "Año de publicación: 1967\n",
      "Género: novela\n"
     ]
    }
   ],
   "source": [
    "print(\"Título:\", ficha_libro.get(\"título\", \"desconocido\"))\n",
    "print(\"Autor:\", ficha_libro.get(\"autor\", \"desconocido\"))\n",
    "print(\"Año de publicación:\", ficha_libro.get(\"año de publicación\", \"desconocido\"))\n",
    "print(\"Género:\", ficha_libro.get(\"género\", \"novela\"))"
   ]
  },
  {
   "cell_type": "markdown",
   "metadata": {},
   "source": [
    "### Acceder al valor asociado a una clave y modificarlo\n",
    "Para acceder al valor asociado a una clave escribimos la clave entre corchetes, pegado al nombre del diccionario:"
   ]
  },
  {
   "cell_type": "code",
   "execution_count": 13,
   "metadata": {},
   "outputs": [
    {
     "name": "stdout",
     "output_type": "stream",
     "text": [
      "Cien años de soledad\n",
      "Gabriel García Márquez\n",
      "1967\n"
     ]
    }
   ],
   "source": [
    "print(ficha_libro[\"título\"])\n",
    "print(ficha_libro[\"autor\"])\n",
    "print(ficha_libro[\"año de publicación\"])"
   ]
  },
  {
   "cell_type": "markdown",
   "metadata": {},
   "source": [
    "En este caso, tenemos que saber con seguridad que esa clave existe, o si no nos dará error:"
   ]
  },
  {
   "cell_type": "code",
   "execution_count": 8,
   "metadata": {},
   "outputs": [
    {
     "ename": "KeyError",
     "evalue": "'género'",
     "output_type": "error",
     "traceback": [
      "\u001b[1;31m---------------------------------------------------------------------------\u001b[0m",
      "\u001b[1;31mKeyError\u001b[0m                                  Traceback (most recent call last)",
      "\u001b[1;32m<ipython-input-8-15cd34b3a834>\u001b[0m in \u001b[0;36m<module>\u001b[1;34m()\u001b[0m\n\u001b[1;32m----> 1\u001b[1;33m \u001b[0mprint\u001b[0m\u001b[1;33m(\u001b[0m\u001b[0mficha_libro\u001b[0m\u001b[1;33m[\u001b[0m\u001b[1;34m\"género\"\u001b[0m\u001b[1;33m]\u001b[0m\u001b[1;33m)\u001b[0m\u001b[1;33m\u001b[0m\u001b[0m\n\u001b[0m",
      "\u001b[1;31mKeyError\u001b[0m: 'género'"
     ]
    }
   ],
   "source": [
    "print(ficha_libro[\"género\"])"
   ]
  },
  {
   "cell_type": "markdown",
   "metadata": {},
   "source": [
    "Del mismo modo, podemos modicar el valor asociado a una clave asignándole el nuevo valor:"
   ]
  },
  {
   "cell_type": "code",
   "execution_count": 14,
   "metadata": {},
   "outputs": [
    {
     "name": "stdout",
     "output_type": "stream",
     "text": [
      "{'título': 'Cien años de soledad', 'autor': 'García Márquez, Gabriel', 'año de publicación': 1967}\n"
     ]
    }
   ],
   "source": [
    "ficha_libro[\"autor\"] = \"García Márquez, Gabriel\"\n",
    "print(ficha_libro)"
   ]
  },
  {
   "cell_type": "markdown",
   "metadata": {},
   "source": [
    "### Añadir un nuevo elemento\n",
    "Para añadir elementos a un diccionario basta con asignar un valor a una clave que aún no existe:"
   ]
  },
  {
   "cell_type": "code",
   "execution_count": 16,
   "metadata": {},
   "outputs": [
    {
     "name": "stdout",
     "output_type": "stream",
     "text": [
      "{'título': 'Cien años de soledad', 'autor': 'García Márquez, Gabriel', 'año de publicación': 1967, 'género': 'realismo mágico'}\n"
     ]
    }
   ],
   "source": [
    "ficha_libro[\"género\"] = \"realismo mágico\"\n",
    "print(ficha_libro)"
   ]
  },
  {
   "cell_type": "markdown",
   "metadata": {},
   "source": [
    "### Eliminar un elemento\n",
    "Para eliminar una clave del diccionario y su valor asociado escribiremos la palabra reservada `del` y después la clave que queramos eliminar:"
   ]
  },
  {
   "cell_type": "code",
   "execution_count": 17,
   "metadata": {},
   "outputs": [
    {
     "name": "stdout",
     "output_type": "stream",
     "text": [
      "{'título': 'Cien años de soledad', 'autor': 'García Márquez, Gabriel', 'año de publicación': 1967}\n"
     ]
    }
   ],
   "source": [
    "del ficha_libro[\"género\"]\n",
    "print(ficha_libro)"
   ]
  },
  {
   "cell_type": "markdown",
   "metadata": {},
   "source": [
    "Si intentamos eliminar una clave que no existe en el diccionario, se producirá un error:"
   ]
  },
  {
   "cell_type": "code",
   "execution_count": 19,
   "metadata": {},
   "outputs": [
    {
     "ename": "KeyError",
     "evalue": "'número de páginas'",
     "output_type": "error",
     "traceback": [
      "\u001b[0;31m---------------------------------------------------------------------------\u001b[0m",
      "\u001b[0;31mKeyError\u001b[0m                                  Traceback (most recent call last)",
      "\u001b[0;32m<ipython-input-19-6bb14552cbdc>\u001b[0m in \u001b[0;36m<module>\u001b[0;34m\u001b[0m\n\u001b[0;32m----> 1\u001b[0;31m \u001b[0;32mdel\u001b[0m \u001b[0mficha_libro\u001b[0m\u001b[0;34m[\u001b[0m\u001b[0;34m\"número de páginas\"\u001b[0m\u001b[0;34m]\u001b[0m\u001b[0;34m\u001b[0m\u001b[0m\n\u001b[0m",
      "\u001b[0;31mKeyError\u001b[0m: 'número de páginas'"
     ]
    }
   ],
   "source": [
    "del ficha_libro[\"número de páginas\"]"
   ]
  },
  {
   "cell_type": "markdown",
   "metadata": {},
   "source": [
    "### Recorrer los elementos de un diccionario\n",
    "En un diccionario podemos querer recorrer:\n",
    "- las claves;\n",
    "- los valores; o\n",
    "- las claves y los valores a la vez.\n",
    "\n",
    "Para recorrer las claves aplicaremos `.keys()` al diccionario, aunque también podemos usar directamente el nombre del diccionario como si recorriéramos una lista, porque las claves son los elementos por defecto de los diccionarios. Observa cómo los siguientes bucles hacen lo mismo:"
   ]
  },
  {
   "cell_type": "code",
   "execution_count": 1,
   "metadata": {},
   "outputs": [
    {
     "name": "stdout",
     "output_type": "stream",
     "text": [
      "title\n",
      "author\n",
      "year\n",
      "\n",
      "title\n",
      "author\n",
      "year\n"
     ]
    }
   ],
   "source": [
    "libro = {'title': 'El retrato de Dorian Gray', 'author': 'Oscar Wilde', 'year': '1890'}\n",
    "\n",
    "for clave in libro.keys():\n",
    "    print(clave)\n",
    "\n",
    "print()    \n",
    "    \n",
    "for clave in libro:\n",
    "    print(clave)"
   ]
  },
  {
   "cell_type": "markdown",
   "metadata": {},
   "source": [
    "Los valores de un diccionario se recorren usando `.values()`:"
   ]
  },
  {
   "cell_type": "code",
   "execution_count": 2,
   "metadata": {},
   "outputs": [
    {
     "name": "stdout",
     "output_type": "stream",
     "text": [
      "El retrato de Dorian Gray\n",
      "Oscar Wilde\n",
      "1890\n"
     ]
    }
   ],
   "source": [
    "for value in libro.values():\n",
    "    print(value)"
   ]
  },
  {
   "cell_type": "markdown",
   "metadata": {},
   "source": [
    "Y finalmente si lo que queremos es obtener tanto la clave como su valor asociado usaremos `.items()`:"
   ]
  },
  {
   "cell_type": "code",
   "execution_count": 3,
   "metadata": {},
   "outputs": [
    {
     "name": "stdout",
     "output_type": "stream",
     "text": [
      "title: El retrato de Dorian Gray\n",
      "author: Oscar Wilde\n",
      "year: 1890\n"
     ]
    }
   ],
   "source": [
    "for clave, valor in libro.items():\n",
    "    print(clave, \": \", valor, sep=\"\")"
   ]
  },
  {
   "cell_type": "markdown",
   "metadata": {},
   "source": [
    "#### Diccionarios por comprensión (o _dictionary comprehensions_)\n",
    "Podemos crear diccionarios de forma compacta de la misma manera que hemos hecho con las listas y los conjuntos; la única diferencia es que tenemos que especificar la clave y el valor para cada elemento:"
   ]
  },
  {
   "cell_type": "code",
   "execution_count": 3,
   "metadata": {},
   "outputs": [
    {
     "name": "stdout",
     "output_type": "stream",
     "text": [
      "{'gato': 'G', 'perro': 'P', 'mono': 'M'}\n"
     ]
    }
   ],
   "source": [
    "lista = [\"gato\", \"perro\", \"mono\"]\n",
    "\n",
    "iniciales_mayus = {palabra: palabra[0].upper() for palabra in lista}\n",
    "\n",
    "print(iniciales_mayus)"
   ]
  },
  {
   "cell_type": "markdown",
   "metadata": {},
   "source": [
    "Podemos imprimir el diccionario resultante de una forma más elegante si queremos:"
   ]
  },
  {
   "cell_type": "code",
   "execution_count": 4,
   "metadata": {},
   "outputs": [
    {
     "name": "stdout",
     "output_type": "stream",
     "text": [
      "La inicial de gato es G\n",
      "La inicial de perro es P\n",
      "La inicial de mono es M\n"
     ]
    }
   ],
   "source": [
    "for clave, valor in iniciales_mayus.items():\n",
    "    print(\"La inicial de\", clave, \"es\", valor)"
   ]
  },
  {
   "cell_type": "markdown",
   "metadata": {},
   "source": [
    "## Estructuras dentro de otras estructuras\n",
    "Por supuesto, las estructuras pueden contener estructuras a su vez. Por ejemplo, una lista puede contener conjuntos, diccionarios, otras listas... y al revés.\n",
    "\n",
    "Podríamos tener un diccionario cuyos valores sean listas. Esta es una estructura muy conveniente para la representación de conceptos padre-hijos: hipónimos de palabras, obras de artistas, ejemplos de conceptos, etc.\n",
    "\n",
    "Por ejemplo, los álbumes de Dua Lipa:"
   ]
  },
  {
   "cell_type": "code",
   "execution_count": 4,
   "metadata": {},
   "outputs": [],
   "source": [
    "### Datos\n",
    "dualipa = {\n",
    "    \"Future Nostalgia\": [\n",
    "        \"Future Nostalgia\",\n",
    "        \"Don't Start Now\",\n",
    "        \"Cool\",\n",
    "        \"Physical\",\n",
    "        \"Levitating\",\n",
    "        \"Pretty Please\",\n",
    "        \"Hallucinate\",\n",
    "        \"Love Again\",\n",
    "        \"Break My Heart\",\n",
    "        \"Good in Bed\",\n",
    "        \"Boys Will Be Boys\"\n",
    "    ],\n",
    "    \"Dua Lipa\": [\n",
    "        \"Genesis\",\n",
    "        \"Lost in Your Light\",\n",
    "        \"Hotter than Hell\",\n",
    "        \"Be the One\",\n",
    "        \"IDGAF\",\n",
    "        \"Blow Your Mind (Mwah)\",\n",
    "        \"Garden\",\n",
    "        \"No Goodbyes\",\n",
    "        \"Thinking 'Bout You\",\n",
    "        \"New Rules\",\n",
    "        \"Begging\",\n",
    "        \"Homesick\"\n",
    "    ]\n",
    "}"
   ]
  },
  {
   "cell_type": "markdown",
   "metadata": {},
   "source": [
    "Si queremos consultar el artista al que pertenece una obra, el hiperónimo de una palabra... no podemos usar `.values()` (por ejemplo, `if item in dicc.values()`) sin más, porque los valores son una lista y porque necesitamos saber a qué clave está asociado el valor.\n",
    "\n",
    "Pero podemos recorrer el diccionario para ver si está en cada una de las listas asociadas a la clave que miremos en cada iteración del bucle. Tenemos varias opciones:\n",
    "- Si elegimos recorrer solo las claves, deberemos representar el valor asociado a la clave como `dicc[clave]`:"
   ]
  },
  {
   "cell_type": "code",
   "execution_count": 5,
   "metadata": {},
   "outputs": [
    {
     "name": "stdout",
     "output_type": "stream",
     "text": [
      "'Break My Heart' aparece en el álbum Future Nostalgia\n"
     ]
    }
   ],
   "source": [
    "### Programa\n",
    "for album in dualipa:\n",
    "    if \"Break My Heart\" in dualipa[album]:\n",
    "        print(\"'Break My Heart' aparece en el álbum\", album)"
   ]
  },
  {
   "cell_type": "markdown",
   "metadata": {},
   "source": [
    "- Si elegimos recorrer los pares `clave, valor`, podemos representar el valor como `valor`:"
   ]
  },
  {
   "cell_type": "code",
   "execution_count": 15,
   "metadata": {},
   "outputs": [
    {
     "name": "stdout",
     "output_type": "stream",
     "text": [
      "'Break My Heart' aparece en el álbum Future Nostalgia\n"
     ]
    }
   ],
   "source": [
    "### Programa\n",
    "for album, canciones in dualipa.items():\n",
    "    if \"Break My Heart\" in canciones:\n",
    "        print(\"'Break My Heart' aparece en el álbum\", album)"
   ]
  },
  {
   "cell_type": "markdown",
   "metadata": {},
   "source": [
    "Ahora veamos otra estructura.\n",
    "\n",
    "Imaginemos que nos han recomendado una serie de libros y solo queremos añadir a la lista de la compra los que no tenemos ya. Podemos meter la información de cada libro en un diccionario, y todos estos diccionarios dentro de una lista, para después recorrer esa lista y comprobar el dato de si lo tenemos en casa o no.\n",
    "- Si lo tenemos, no haremos nada.\n",
    "- Si no lo tenemos, lo añadiremos a la lista.\n",
    "\n",
    "Después, imprimiremos cada uno de los elementos de la lista con otro bucle, ya que no podemos saber de antemano cuántos habrá."
   ]
  },
  {
   "cell_type": "code",
   "execution_count": 5,
   "metadata": {},
   "outputs": [
    {
     "name": "stdout",
     "output_type": "stream",
     "text": [
      "Tengo que comprar:\n",
      "In Our Own Image\n",
      "The Age of Surveillance Capitalism\n"
     ]
    }
   ],
   "source": [
    "### Datos\n",
    "libros = [\n",
    "    {\n",
    "        'title': 'Sapiens',\n",
    "        'lo tengo': True\n",
    "    }, {\n",
    "        'title': 'In Our Own Image',\n",
    "        'lo tengo': False\n",
    "    }, {\n",
    "        'title': 'The Age of Surveillance Capitalism',\n",
    "        'lo tengo': False\n",
    "    }\n",
    "]\n",
    "\n",
    "### Programa\n",
    "# Obtengo los libros que tengo que comprar\n",
    "lista_de_la_compra = []\n",
    "for libro in libros:\n",
    "    if not libro['lo tengo']:\n",
    "        lista_de_la_compra.append(libro['title'])\n",
    "\n",
    "# Imprimo un mensaje para saber qué libros tengo que comprar\n",
    "print(\"Tengo que comprar:\")\n",
    "for elemento in lista_de_la_compra:\n",
    "    print(elemento)"
   ]
  },
  {
   "cell_type": "markdown",
   "metadata": {},
   "source": [
    "En cada caso tendrás que pensar cuál es la mejor estructura para representar la realidad."
   ]
  },
  {
   "cell_type": "markdown",
   "metadata": {},
   "source": [
    "# Ejercicios\n",
    "## 060301\n",
    "Crea un diccionario con información de un libro, película, disco musical, videojuego... Escribe un programa que le diga al usuario que puede consultar los datos que quiera de esa obra. Si el dato no está recogido en el diccionario, que imprima un mensaje que diga que esa información no está disponible."
   ]
  },
  {
   "cell_type": "markdown",
   "metadata": {},
   "source": [
    "## 060302\n",
    "Escribe un programa que rete al usuario a adivinar la obra anterior. Debe darle a elegir el dato que quiere consultar (de entre 6 datos o más) y, una vez elegido, responder con el dato. El usuario debe hacer 4 preguntas; tras la cuarta, debe introducir el título de la obra que crea que es. Puedes hacerlo usando `for` y sin usarlo.\n",
    "\n",
    "Este sería un ejemplo del output esperado:\n",
    "\n",
    "    ¡Adivina la película!\n",
    "    \n",
    "    Puedo darte las siguientes pistas:\n",
    "    1. Año de estreno\n",
    "    2. Director\n",
    "    3. Protagonista masculino\n",
    "    4. Protagonista femenina\n",
    "    5. Sinopsis\n",
    "    6. Género\n",
    "    \n",
    "    ¿Qué pista quieres que te dé?: 6\n",
    "    Corresponde al género de drama, acción, histórica, romance\n",
    "    \n",
    "    Puedo darte las siguientes pistas:\n",
    "    1. Año de estreno\n",
    "    2. Director\n",
    "    3. Protagonista masculino\n",
    "    4. Protagonista femenina\n",
    "    5. Sinopsis\n",
    "    6. Género\n",
    "    \n",
    "    ¿Qué pista quieres que te dé?: 4\n",
    "    La actriz principal es Kate Winslet\n",
    "    \n",
    "    Puedo darte las siguientes pistas:\n",
    "    1. Año de estreno\n",
    "    2. Director\n",
    "    3. Protagonista masculino\n",
    "    4. Protagonista femenina\n",
    "    5. Sinopsis\n",
    "    6. Género\n",
    "    \n",
    "    ¿Qué pista quieres que te dé?: 2\n",
    "    La dirigió James Cameron\n",
    "    \n",
    "    Puedo darte las siguientes pistas:\n",
    "    1. Año de estreno\n",
    "    2. Director\n",
    "    3. Protagonista masculino\n",
    "    4. Protagonista femenina\n",
    "    5. Sinopsis\n",
    "    6. Género\n",
    "    \n",
    "    ¿Qué pista quieres que te dé?: 1\n",
    "    Es el momento de que adivines. ¿Cuál es el título de la película?: Titanic\n",
    "    ¡Enhorabuena, has acertado!"
   ]
  },
  {
   "cell_type": "markdown",
   "metadata": {},
   "source": [
    "## 060303\n",
    "Crea un diccionario que contenga como claves los nombres de los números del 1 al 10 en español (`uno`, `dos`…) y como valores los nombres de los mismos números en inglés (`one`, `two`…). Después pide al usuario números en español y muéstrale su traducción al inglés."
   ]
  }
 ],
 "metadata": {
  "kernelspec": {
   "display_name": "Python 3",
   "language": "python",
   "name": "python3"
  },
  "language_info": {
   "codemirror_mode": {
    "name": "ipython",
    "version": 3
   },
   "file_extension": ".py",
   "mimetype": "text/x-python",
   "name": "python",
   "nbconvert_exporter": "python",
   "pygments_lexer": "ipython3",
   "version": "3.7.0"
  }
 },
 "nbformat": 4,
 "nbformat_minor": 2
}
