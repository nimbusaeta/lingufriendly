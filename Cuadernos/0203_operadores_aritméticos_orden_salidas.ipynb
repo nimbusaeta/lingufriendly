{
 "cells": [
  {
   "cell_type": "markdown",
   "metadata": {},
   "source": [
    "# Tema 2: variables (III)"
   ]
  },
  {
   "cell_type": "markdown",
   "metadata": {},
   "source": [
    "## Usar Python como una calculadora\n",
    "Podemos utilizar Python como si fuera una calculadora. Intenta adivinar el resultado de ejecutar la siguiente celda:"
   ]
  },
  {
   "cell_type": "code",
   "execution_count": 1,
   "metadata": {},
   "outputs": [
    {
     "name": "stdout",
     "output_type": "stream",
     "text": [
      "9\n",
      "4.5\n",
      "15\n"
     ]
    }
   ],
   "source": [
    "print(9)\n",
    "print(4.5)\n",
    "print(8 + 7)"
   ]
  },
  {
   "cell_type": "markdown",
   "metadata": {},
   "source": [
    "El programa consta de 3 instrucciones que se ejecutan una detrás de otra, y cada una imprime un número. La primera y segunda instrucción imprimen los números que se les pasan, y la tercera instrucción imprime el resultado de evaluar la expresión 8 + 7, o lo que es lo mismo, 15. Es decir, siempre que usemos operadores estos se _evalúan_ y trabajaremos con su resultado.\n",
    "\n",
    "Podemos utilizar los operadores habituales para trabajar con números: la suma, la resta, la multiplicación, la\n",
    "división, etc. Por ejemplo:"
   ]
  },
  {
   "cell_type": "code",
   "execution_count": 2,
   "metadata": {},
   "outputs": [
    {
     "name": "stdout",
     "output_type": "stream",
     "text": [
      "15\n",
      "-3\n",
      "5.0\n",
      "14\n"
     ]
    }
   ],
   "source": [
    "print(3 * 5)\n",
    "print(5 - 8)\n",
    "print(10 / 2)\n",
    "print(2 + 3 * 4) # Cuidado, * tiene más precedencia que +"
   ]
  },
  {
   "cell_type": "markdown",
   "metadata": {},
   "source": [
    "Fíjate en el último ejemplo, donde la multiplicación tiene más precedencia que la suma y se calcula antes (3 por 4 y al resultado se le suma 2). Si queremos cambiar el orden en el que se calcula la suma y la multiplicación podemos utilizar paréntesis. Por ejemplo:"
   ]
  },
  {
   "cell_type": "code",
   "execution_count": 3,
   "metadata": {},
   "outputs": [
    {
     "name": "stdout",
     "output_type": "stream",
     "text": [
      "14\n",
      "20\n"
     ]
    }
   ],
   "source": [
    "print(2 + 3 * 4)\n",
    "print((2 + 3) * 4) # Podemos usar paréntesis para cambiar la precedencia"
   ]
  },
  {
   "cell_type": "markdown",
   "metadata": {},
   "source": [
    "### Operadores aritméticos\n",
    "La siguiente tabla resume el conjunto de operadores aritméticos que podemos utilizar para construir\n",
    "expresiones numéricas.\n",
    "\n",
    "Operador | Operación | Ejemplo | Resultado\n",
    "-------- | --------- | ------- | ---------\n",
    "+ | Suma | 5 + 2 | 7\n",
    "- | Resta | 5 - 2 | 3\n",
    "* | Multiplicación | 5 * 2 | 10\n",
    "/ | División | 5 / 2 | 2.5\n",
    "// | División entera | 5 // 2 | 2\n",
    "% | Módulo | 5 % 2 | 1\n",
    "** | Potencia | 5 ** 2 | 25\n",
    "\n",
    "Los operadores de suma (`+`), resta (`-`), multiplicación (`*`) y división (`/`) funcionan del modo habitual. Los últimos 3 operadores no son tan comunes:\n",
    "- La división entera (`//`) devuelve el cociente de la división entera. Por ejemplo, `7 // 3` devuelve `2` porque 7 dividido por 3 tiene cociente 2 y resto 1.\n",
    "- El módulo (`%`) devuelve el resto de la división entera. Por ejemplo, `7 % 2` devuelve `1`.\n",
    "- La potencia (`**`) eleva un número a otro. Por ejemplo, `5 ** 3` devuelve `125` porque 5 elevando al cubo es 125."
   ]
  },
  {
   "cell_type": "markdown",
   "metadata": {},
   "source": [
    "### Orden de lectura\n",
    "En este punto es importante hablar del orden de lectura del intérprete de Python. Cuando usamos el operador de asignación que vimos en la sección anterior (`=`), primero se evalúa la parte de la derecha y después se asigna a la variable. Esto quiere decir que es perfectamente posible escribir un código como el siguiente:"
   ]
  },
  {
   "cell_type": "code",
   "execution_count": 4,
   "metadata": {},
   "outputs": [
    {
     "name": "stdout",
     "output_type": "stream",
     "text": [
      "3\n"
     ]
    }
   ],
   "source": [
    "numero = 2\n",
    "numero = numero + 1\n",
    "\n",
    "print(numero)"
   ]
  },
  {
   "cell_type": "markdown",
   "metadata": {},
   "source": [
    "Como el orden de ejecución es de derecha a izquierda, el valor que tiene la variable `numero` en la segunda línea es 2, pero para cuando el intérprete termina de leer esa línea, el valor de `numero` se ha convertido en 3, porque le hemos sumado 1 y lo hemos vuelto a asignar a la misma variable.\n",
    "\n",
    "Por esto mismo, en las asignaciones siempre se escribe el nombre de la variable a la izquierda y el valor que queramos asociarle a la derecha del operador, y nunca al revés.\n",
    "\n",
    "## Salida estándar en la terminal y en los cuadernos Jupyter\n",
    "Ahora que hemos usado un poco la función `print()`, vamos a ver una pequeña diferencia a tener en cuenta entre el intérprete de Python en la terminal y los cuadernos Jupyter: la forma de indicar la salida estándar. La salida estándar es la salida por defecto del programa; por ejemplo, tanto en la terminal como en los cuadernos, si ponemos una suma obtenemos el resultado:"
   ]
  },
  {
   "cell_type": "code",
   "execution_count": 1,
   "metadata": {},
   "outputs": [
    {
     "data": {
      "text/plain": [
       "3"
      ]
     },
     "execution_count": 1,
     "metadata": {},
     "output_type": "execute_result"
    }
   ],
   "source": [
    "1+2"
   ]
  },
  {
   "cell_type": "markdown",
   "metadata": {},
   "source": [
    "Pero fíjate en que en la terminal simplemente sale un 3 en la siguiente línea, y en los cuadernos sale `Out[x]` en rojo a la izquierda de la salida, siendo x el mismo número que haya en la entrada (indicada con `In[x]`).\n",
    "\n",
    "Sin embargo, si le pasamos esa expresión a `print()`, se imprime un 3 pero no sale `Out[x]` a la izquierda:"
   ]
  },
  {
   "cell_type": "code",
   "execution_count": 2,
   "metadata": {},
   "outputs": [
    {
     "name": "stdout",
     "output_type": "stream",
     "text": [
      "3\n"
     ]
    }
   ],
   "source": [
    "print(1+2)"
   ]
  },
  {
   "cell_type": "markdown",
   "metadata": {},
   "source": [
    "Eso es porque este tipo de salida ya no es la estándar. Es simplemente lo que hace el programa. \n",
    "\n",
    "Esto es importante porque, en los cuadernos, si el programa tiene los dos tipos de salidas, solo veremos la salida del programa (porque la estándar es solo la salida por defecto, que vemos cuando no hay otra). Fíjate, por ejemplo, en la diferencia entre estas dos celdas:"
   ]
  },
  {
   "cell_type": "code",
   "execution_count": 3,
   "metadata": {},
   "outputs": [
    {
     "name": "stdout",
     "output_type": "stream",
     "text": [
      "4\n"
     ]
    }
   ],
   "source": [
    "1+2\n",
    "print(1+3)"
   ]
  },
  {
   "cell_type": "code",
   "execution_count": 4,
   "metadata": {},
   "outputs": [
    {
     "name": "stdout",
     "output_type": "stream",
     "text": [
      "3\n",
      "4\n"
     ]
    }
   ],
   "source": [
    "print(1+2)\n",
    "print(1+3)"
   ]
  },
  {
   "cell_type": "markdown",
   "metadata": {},
   "source": [
    "La primera celda tiene dos salidas: `3` por la estándar y `4` por la del programa, así que solo vemos el `4`. En la segunda celda obligamos al programa a imprimir el `3`, haciendo que salgan dos líneas por la salida del programa.\n",
    "\n",
    "No te preocupes si te resulta lioso, simplemente ten en cuenta que funcionan así si alguna vez las celdas no se comportan como esperadas.\n",
    "\n",
    "Por último, fíjate en que en la terminal no se distinguen de ninguna manera estas dos salidas (prueba a ejecutar `1+2` y `print(1+2)`)."
   ]
  },
  {
   "cell_type": "markdown",
   "metadata": {},
   "source": [
    "## Ejercicios\n",
    "### 020301\n",
    "Escribe un programa en el que una variable `recuento` cambie 4 veces de valor: puedes usar todos los operadores que acabas de aprender. Después de cada nueva asignación, imprime por pantalla el valor de `recuento`, y observa cómo va cambiando."
   ]
  },
  {
   "cell_type": "markdown",
   "metadata": {},
   "source": [
    "### 020302\n",
    "¿Has jugado alguna vez a uno de esos juegos en los que te piden que pienses un número y hagas una serie de operaciones matemáticas con él, para que al final te sorprendan adivinando el resultado? Pues vamos a construir uno.\n",
    "\n",
    "Si alguna vez te has preguntado cómo funcionan estos juegos, no es más que una expresión algebraica en la que la incógnita es independiente del resultado. Es decir, da igual qué número elijamos porque no es parte de la solución.\n",
    "\n",
    "Escribe un programa que asigne un número a la variable `num_1`, el que sea. Después, que asigne a la variable `num_2` distintos valores, siguiendo este ejemplo de juego al estilo «Piensa un número...», usando `num_1` como «número inicial»:\n",
    "\n",
    "- Multiplícalo por 5\n",
    "- Súmale 1\n",
    "- Multiplícalo por 2\n",
    "- Réstale 12\n",
    "- Divide entre 10\n",
    "- Réstale tu número inicial\n",
    "\n",
    "Finalmente, debe imprimir el valor de `num_2` por pantalla. Este valor, da igual qué número hayas asignado a `num_1`, será siempre -1 (aunque el cuaderno imprimirá `-1.0`, pero de eso hablaremos más adelante). ¿Cómo te quedas?"
   ]
  }
 ],
 "metadata": {
  "kernelspec": {
   "display_name": "Python 3",
   "language": "python",
   "name": "python3"
  },
  "language_info": {
   "codemirror_mode": {
    "name": "ipython",
    "version": 3
   },
   "file_extension": ".py",
   "mimetype": "text/x-python",
   "name": "python",
   "nbconvert_exporter": "python",
   "pygments_lexer": "ipython3",
   "version": "3.7.0"
  }
 },
 "nbformat": 4,
 "nbformat_minor": 2
}
