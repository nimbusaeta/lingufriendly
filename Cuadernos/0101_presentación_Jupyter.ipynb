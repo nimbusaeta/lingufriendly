{
 "cells": [
  {
   "cell_type": "markdown",
   "metadata": {},
   "source": [
    "# Tema 1: calentando motores (I)"
   ]
  },
  {
   "cell_type": "markdown",
   "metadata": {},
   "source": [
    "## Presentación"
   ]
  },
  {
   "cell_type": "markdown",
   "metadata": {},
   "source": [
    "### Objetivos del curso\n",
    "¡Hola! Este es un curso de introducción a la programación orientado a humanidades, en el que vamos a centrarnos en el lenguaje de programación Python. Durante el curso aprenderás las instrucciones y estructuras básicas que se usan para construir programas en general. Estas estructuras no son exclusivas de Python, sino que existen en casi todos los lenguajes de programación, por lo que, tras completar este curso, también te será más fácil aprender otros de estos lenguajes.\n",
    "\n",
    "Es importante entender desde el principio los objetivos de este curso. No vamos a aspirar a convertirnos en programadores expertos, para eso ya están los programadores profesionales. Pero sí serás capaz de escribir pequeños programas que resuelvan tareas sencillas que te pueden ayudar en tu día a día. También podrás comprender programas ya escritos en Python y colaborar en ellos. Y lo que quizá es más importante: contarás con los conocimientos necesarios para abordar otros cursos más avanzados o aprender por tu cuenta consultando documentación, tutoriales, el código de otras personas, etc."
   ]
  },
  {
   "cell_type": "markdown",
   "metadata": {},
   "source": [
    "### A quién va dirigido el curso\n",
    "Este curso va dirigido a personas de perfil humanístico que quieran iniciarse en el mundo de la programación. Para seguir este curso debes manejarte con soltura con el ordenador a nivel de usuario. En particular debes ser capaz de instalar programas, usar el explorador de archivos, editar ficheros de texto, etc. Nada que no hayas hecho alguna vez.\n",
    "\n",
    "Se da por hecho que los alumnos no conocen otros lenguajes de programación, por lo que, a diferencia de otros cursos, los conceptos generales manejados en programación también se explican. A menudo, se utiliza la cursiva en el texto la primera vez que aparece un término, para indicar que es terminología informática, que se dice así entre programadores.\n",
    "\n",
    "Además, te animamos a aprender a usar la terminal. No es necesario para el curso, pero puede ser muy práctico si te decides a usarla."
   ]
  },
  {
   "cell_type": "markdown",
   "metadata": {},
   "source": [
    "### ¿Por qué Python?\n",
    "Existen multitud de lenguajes de programación (y se siguen inventando nuevos), cada uno con sus ventajas y sus inconvenientes. Unos están más orientados a análisis de datos, como R o Matlab; a sistemas operativos o software (C, C++, Go); a desarrollo web (Javascript), o son de propósito general (Java, C#, Python). Algunos lenguajes se centran en la eficiencia, otros en el desarrollo y mantenimiento de grandes proyectos, etc. No existe el lenguaje perfecto, sino que cada uno se centra en unos aspectos distintos, por lo que el mejor lenguaje en cada momento dependerá de los objetivos y requisitos de cada persona y proyecto.\n",
    "\n",
    "Python es un lenguaje de propósito general, es decir, con él se pueden desarrollar aplicaciones muy diversas. Además, permite escribir código compacto y sencillo de leer. De hecho, su filosofía de diseño hace especial hincapié en escribir código legible e inteligible, y por eso se usa mucho para enseñar a programar.\n",
    "\n",
    "Python es también uno de los lenguajes más populares en GitHub, la plataforma de desarrollo colaborativo más popular hoy en día, y se usa mucho en investigación científica, desarrollo web y procesamiento de lenguaje natural."
   ]
  },
  {
   "cell_type": "markdown",
   "metadata": {},
   "source": [
    "### Estructura del curso\n",
    "El curso está estructurado en temas y cada tema se divide en cuadernos. En cada tema se aborda el uso de un determinado tipo de instrucciones o estructuras que te permitirán resolver problemas cada vez más complejos.\n",
    "\n",
    "Cada cuaderno se centra en un aspecto muy concreto de cada tema. Es importante que asimiles los conceptos que se explican en cada cuaderno antes de pasar al siguiente, porque cada concepto nuevo se apoya en los anteriores. Tendrás que ir combinando todo lo aprendido para poder resolver los ejercicios.\n",
    "\n",
    "En cada cuaderno encontrarás muchos programas de ejemplo. Te animo a que pruebes cada uno de estos programas y los modifiques para entender mejor su funcionamiento.\n",
    "\n",
    "Al final de algunos cuadernos encontrarás ejercicios para practicar y profundizar en los conceptos que se explican en cada cuaderno. Al final de cada tema encontrarás un ejercicio más largo, que se irá construyendo sobre el ejercicio del tema anterior, pensado para que te habitúes a escribir programas más largos y para que no siempre escribas código nuevo, sino que partas de un código previo."
   ]
  },
  {
   "cell_type": "markdown",
   "metadata": {},
   "source": [
    "## Cuadernos Jupyter\n",
    "El contenido de cada tema va en formato de cuadernos Jupyter como el que estás leyendo. Como puedes ver, los cuadernos intercalan celdas de código y celdas de texto. Por ejemplo, la siguiente es una celda de código. Eso significa que la puedes ejecutar y el resultado (o la _salida_) saldrá debajo de ella."
   ]
  },
  {
   "cell_type": "code",
   "execution_count": 1,
   "metadata": {},
   "outputs": [
    {
     "name": "stdout",
     "output_type": "stream",
     "text": [
      "¡Hola, mundo!\n"
     ]
    }
   ],
   "source": [
    "print(\"¡Hola, mundo!\")"
   ]
  },
  {
   "cell_type": "markdown",
   "metadata": {},
   "source": [
    "Puedes seleccionar una celda haciendo click en cualquier parte de ella, y ejecutarla haciendo Ctrl + Intro. También puede que te resulte útil hacer Shift + Intro para ir leyendo el cuaderno, porque en este caso se ejecuta la celda y, después, se selecciona la celda siguiente. Puedes moverte por las celdas con las flechas, pero de esta forma no se ejecutarán.\n",
    "\n",
    "En realidad, las celdas de texto también se ejecutan. Están pensadas para escribir en [Markdown](https://es.wikipedia.org/wiki/Markdown), que es un etiquetado de texto para darle formato. Al hacer doble click sobre una celda de texto (o, teniéndola seleccionada, al pulsar Intro), podrás editarla. En cambio, para editar una celda de código solo tienes que hacer click con el cursor en la posición en que quieras empezar a editar."
   ]
  },
  {
   "cell_type": "markdown",
   "metadata": {},
   "source": [
    "### Celdas de código\n",
    "#### Atajos\n",
    "Cuando editas una celda de código, están en funcionamiento ciertos «atajos» muy típicos de las interfaces de programación. No hace falta que te los aprendas ahora todos; más bien piensa en este epígrafe como un sitio donde consultar cuando no entiendas cómo se comportan las celdas de código.\n",
    "\n",
    "##### Escritura rápida de signos dobles\n",
    "Por ejemplo, verás que al pulsar Shift + 2 para escribir una comilla, se escriben dos en vez de una. Esto es así porque lo normal es que estemos abriendo una comilla que queramos cerrar después, y también pasa con los paréntesis (`()`), los corchetes (`[]`) y las llaves (`{}`).\n",
    "\n",
    "Además, si borras ese primer carácter, se borra también el segundo. Entonces, ¿cómo escribir una sola comilla o un solo paréntesis? Tendrías que escribir un carácter y borrar el siguiente.\n",
    "\n",
    "Este atajo solo se activa cuando detrás del cursor hay un espacio o el cursor está en la última posición.\n",
    "\n",
    "##### Escritura rápida de signos dobles mediante selección\n",
    "Puedes, además, seleccionar el texto que quieras y escribir uno de estos caracteres «dobles» para rodear ese texto con ese carácter.\n",
    "\n",
    "##### Escritura rápida de variables y funciones\n",
    "Puedes parar de escribir a mitad del nombre de una variable o de una función (ya veremos más adelante qué son) para pulsar el tabulador. Esto hará que se te autocomplete el nombre de la variable o función, según las que hayas ido creado, lo cual te ahorrará mucho tiempo de consultar cómo se llamaban exactamente.\n",
    "\n",
    "##### Editar múltiples líneas a la vez\n",
    "Pulsando Alt mientras seleccionamos varias líneas nos permite escribir o borrar el mismo texto en todas las líneas que hayamos seleccionado. Es especialmente útil en código porque solemos tener muchas líneas iguales con ligeras modificaciones.\n",
    "\n",
    "##### Espacios en vez de tabulador\n",
    "Otra cosa que pasa es que cuando usas el tabulador, en vez de escribir una tabulación escribe cuatro espacios. Esto es para facilitar la consistencia del código. Ya verás que hay veces que necesitaremos _indentar_ nuestro código (que no es más que usar márgenes) y hay dos formas de hacerlo: con tabulador o con espacios. Los programadores están ahora mismo [divididos con respecto a cuál de los dos métodos es mejor](https://www.reddit.com/r/SiliconValleyHBO/comments/60vbok/stackoverflow_survey_on_tabs_vs_spaces/); pero eso nos da igual en los cuadernos, porque transforman los tabuladores automáticamente a espacios.\n",
    "\n",
    "#### Orden de ejecución\n",
    "Las celdas de código llevan a la izquierda un número que marca el orden en que ha sido ejecutada. Lo normal es que se ejecuten en el orden en que aparecen en el cuaderno, pero no tiene por qué (a lo mejor has querido volver a lo que has leído anteriormente). En ese caso, son muy útiles porque el orden en que se ejecutan las órdenes en programación es muy importante.\n",
    "\n",
    "#### Ajuste de línea\n",
    "En las celdas de código, si una línea es más larga que el ancho de la pantalla, solo podrás ver sus primeros caracteres, a no ser que desplaces la barra inferior:"
   ]
  },
  {
   "cell_type": "code",
   "execution_count": 1,
   "metadata": {},
   "outputs": [],
   "source": [
    "# Este es un ejemplo de línea demasiado larga. Para evitar este problema, te recomiendo que introduzcas saltos de línea cuando sea necesario. Así:\n",
    "\n",
    "# En las celdas de texto el ajuste de línea es automático, es decir,\n",
    "# que no te tendrás que preocupar por poner saltos de línea."
   ]
  },
  {
   "cell_type": "markdown",
   "metadata": {},
   "source": [
    "### Celdas de texto\n",
    "#### Markdown\n",
    "En las celdas de texto, para pasar del modo edición (haciendo doble click) al modo de lectura, hay que ejecutarlas. Es decir, hacer exactamente lo mismo que con las celdas de código: Ctrl + Intro.\n",
    "\n",
    "Estas son algunas cosas básicas que sirven para dar formato en Markdown. No tienes por qué aprenderlas, y menos ahora, pero las verás en los cuadernos a lo largo del curso y te pueden ser útiles para usar los cuadernos Jupyter:\n",
    "- Almohadillas (`#`): sirven para poner títulos.\n",
    "- El acento grave (```): sirve para convertir la fuente del texto en una [fuente monoespaciada](https://es.wikipedia.org/wiki/Tipo_de_letra_monoespaciado), que es la que se usa al mostrar código porque ayuda a leerlo fácilmente. Lo usaremos para hablar de funciones, comandos de la terminal, archivos, errores y, en general, todo lo que sea código.\n",
    "- Los guiones bajos (`_`): sirven para poner la _cursiva_ (uno al principio y uno al final) y la __negrita__ (dos al principio y dos al final).\n",
    "- Los corchetes (`[]`) y los paréntesis (`()`): sirven para insertar enlaces. Entre corchetes se escribe el texto que se quiere crear en hipervínculo, y entre paréntesis, inmediatamente pegados al corchete, se pone el enlace.\n",
    "- La tabulación: sirve para escribir toda una línea en fuente monoespaciada.\n",
    "- El signo de menos (`-`): sirve para dar formato a cada uno de los elementos de una lista.\n",
    "- La pleca (`|`) y el signo de menos (`-`): sirven para dar formato a tablas."
   ]
  }
 ],
 "metadata": {
  "kernelspec": {
   "display_name": "Python 3",
   "language": "python",
   "name": "python3"
  },
  "language_info": {
   "codemirror_mode": {
    "name": "ipython",
    "version": 3
   },
   "file_extension": ".py",
   "mimetype": "text/x-python",
   "name": "python",
   "nbconvert_exporter": "python",
   "pygments_lexer": "ipython3",
   "version": "3.7.0"
  }
 },
 "nbformat": 4,
 "nbformat_minor": 2
}
