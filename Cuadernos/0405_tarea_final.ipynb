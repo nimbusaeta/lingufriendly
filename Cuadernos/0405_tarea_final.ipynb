{
 "cells": [
  {
   "cell_type": "markdown",
   "metadata": {},
   "source": [
    "# Ejercicio final del tema 4 - Red social\n",
    "En temas anteriores, el usuario no tenía ninguna capacidad de decisión. Solo iba respondiendo a lo que el programa le pedía.\n",
    "\n",
    "Pero acabamos de aprender cómo hacer que el programa vaya por un camino u otro dependiendo de distintas condiciones, así que vamos a aplicarlo a nuestra red social. Ahora vamos a dejar al usuario tomar pequeñas decisiones, implantando un sencillo menú.\n",
    "\n",
    "Modifica el programa anterior de forma que:\n",
    "- Se presente un menú con 3 opciones, dándole a entender que si escribe `1` elige la primera opción, si escribe `2` la segunda, etcétera. Las opciones serán:\n",
    "    - Crear un perfil nuevo: usaremos el código que ya tenemos escrito en el ejercicio final del tema 3 para pedirle sus datos e imprimirlos por pantalla, diciendo `Tu perfil ha sido creado`. Pero nada más; ya no le pediremos un mensaje de estado después.\n",
    "    - Modificar sus datos: también reutilizaremos el mismo código con el que le pedíamos sus datos y los imprimíamos por pantalla, pero esta vez diremos `Tu perfil ha sido actualizado`.\n",
    "    - Publicar un mensaje: en este caso, usaremos el código que habíamos escrito para preguntarle qué quiere publicar e imprimirlo por pantalla. Como en este caso no nos ha dado ningún nombre, pondremos algo como `El usuario dice:` antes de imprimir su mensaje.\n",
    "\n",
    "Aquí tienes 3 ejemplos de cómo debería quedar el programa, según lo que haya decidido hacer el usuario:\n",
    "\n",
    "Ejemplo 1 - El usuario crea un perfil\n",
    "\n",
    "    MENÚ\n",
    "    1. Rellenar perfil de usuario\n",
    "    2. Modificar mis datos\n",
    "    3. Publicar un mensaje de estado\n",
    "    \n",
    "    Elige tu opción: 1\n",
    "    ¿Cómo te llamas?: JUANA\n",
    "    ¿Cuál es tu primer apellido?: asbaje\n",
    "    ¿Y el segundo?: ramírez\n",
    "    ¿Cuál es tu año de nacimiento?: 1648\n",
    "    Y para acabar, ¿cuál es tu estatura? (en centímetros): 171\n",
    "    \n",
    "    Tu perfil ha sido creado.\n",
    "    \n",
    "    Nombre: Juana Asbaje Ramírez\n",
    "    Edad: 374 años\n",
    "    Estatura: 1.61 metros\n",
    "\n",
    "Ejemplo 2 - El usuario actualiza su perfil\n",
    "\n",
    "    MENÚ\n",
    "    1. Rellenar perfil de usuario\n",
    "    2. Modificar mis datos\n",
    "    3. Publicar un mensaje de estado\n",
    "    \n",
    "    Elige tu opción: 2\n",
    "    ¿Cómo te llamas?: JUANA\n",
    "    ¿Cuál es tu primer apellido?: asbaje\n",
    "    ¿Y el segundo?: ramírez\n",
    "    ¿Cuál es tu año de nacimiento?: 1648\n",
    "    Y para acabar, ¿cuál es tu estatura? (en centímetros): 161\n",
    "    \n",
    "    Tu perfil ha sido actualizado.\n",
    "    \n",
    "    Nombre: Juana Asbaje Ramírez\n",
    "    Edad: 374 años\n",
    "    Estatura: 1.61 metros\n",
    "\n",
    "Ejemplo 3 - El usuario publica un mensaje\n",
    "\n",
    "    MENÚ\n",
    "    1. Rellenar perfil de usuario\n",
    "    2. Modificar mis datos\n",
    "    3. Publicar un mensaje de estado\n",
    "    \n",
    "    Elige tu opción: 3\n",
    "    ¿Qué estás pensando?: Yo no estimo tesoros ni riquezas; y así, siempre me causa más contento poner riquezas en mi pensamiento que no mi pensamiento en las riquezas.\n",
    "    \n",
    "    Juana dice: Yo no estimo tesoros ni riquezas; y así, siempre me causa más contento poner riquezas en mi pensamiento que no mi pensamiento en las riquezas.\n",
    "\n",
    "Recuerda que el código que envíes debe poder satisfacer todas estas necesidades del usuario. También es importante que mantengas tu programa bien documentado; ya empieza a volverse un poco largo, así que, como ves, cada vez es más crítico para saber en qué parte del programa estamos."
   ]
  },
  {
   "cell_type": "markdown",
   "metadata": {},
   "source": [
    "**Bonus track** (solo si te apetece hacerlo):\n",
    "\n",
    "Para practicar un poco más, puedes averiguar la edad exacta del usuario de la siguiente forma: le preguntas, además del año, el mes y el día. Puedes hacerlo por separado y no convertirlos directamente a números, para poder concatenar las strings usando `+`. Después, conviertes esa string a número y obtendrás algo como `724` para el 24 de julio o `1203` para el 3 de diciembre.\n",
    "\n",
    "Ya puedes comparar esa string con otra que refleje el día actual: si es mayor la del nacimiento, tendrás que restar el año de nacimiento de 2021; si es mayor la actual, réstalo de 2022. Por supuesto, en este punto es muy tentador comprobar si estamos precisamente en el mismo día en que nació el usuario, para así poder felicitarle :)"
   ]
  }
 ],
 "metadata": {
  "kernelspec": {
   "display_name": "Python 3",
   "language": "python",
   "name": "python3"
  },
  "language_info": {
   "codemirror_mode": {
    "name": "ipython",
    "version": 3
   },
   "file_extension": ".py",
   "mimetype": "text/x-python",
   "name": "python",
   "nbconvert_exporter": "python",
   "pygments_lexer": "ipython3",
   "version": "3.7.0"
  }
 },
 "nbformat": 4,
 "nbformat_minor": 2
}
