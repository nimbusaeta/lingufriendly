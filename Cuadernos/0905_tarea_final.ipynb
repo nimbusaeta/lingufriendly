{
 "cells": [
  {
   "cell_type": "markdown",
   "metadata": {},
   "source": [
    "# Ejercicio final del tema 9 - Red social\n",
    "Como nuestro programa consiste en pedir datos al usuario, vamos a practicar lo aprendido validando estos datos. Vamos a añadir un nuevo dato y a modificar uno que ya pedíamos.\n",
    "\n",
    "Modifica el programa del tema anterior, para que:\n",
    "- Le pida un nuevo dato al usuario dentro de la función `pedir_datos()`: el del correo electrónico, y valide que sea correcto, es decir, que consista en una serie de caracteres alfanuméricos, guiones (`-`) o guiones bajos (`_`), después la arroba `@`, otra serie con las mismas características, un punto y otra serie. Pídele el dato tantas veces como haga falta hasta que lo escriba correctamente (utilizando un bucle con `while`).\n",
    "- En vez del año de nacimiento, le pida al usuario la fecha de nacimiento, obligándole a escribirla, por ejemplo, en el formato dd/mm/aaaa. Después, que obtenga el dato del año a partir de la fecha completa (puedes hacerlo con el _slicing_), y calcule su edad como hacía hasta ahora. De nuevo, pídele el dato tantas veces como haga falta hasta que lo escriba correctamente.\n",
    "\n",
    "Esta es la salida esperada para una ejecución del código en la que haya errores de formato al introducir la fecha y la dirección:\n",
    "    \n",
    "        MENÚ\n",
    "        1. Rellenar perfil de usuario\n",
    "        2. Modificar mis datos\n",
    "        3. Ver mi perfil\n",
    "        4. Publicar un mensaje de estado\n",
    "        5. Salir\n",
    "    \n",
    "        Elige tu opción: 1\n",
    "    ¿Cómo te llamas?: emilia\n",
    "    ¿Cuál es tu primer apellido?: pardo\n",
    "    ¿Y el segundo?: bazán\n",
    "    ¿Cuál es tu dirección de correo electrónico?: epardobazan@gmail,com\n",
    "    Introduce una dirección de correo válida: epardobazan@gmail.com\n",
    "    ¿Cuál es tu fecha de nacimiento?: 16 de septiembre de 1851\n",
    "    Escribe la fecha con el formato dd/mm/aaaa: 16/9/1851\n",
    "    Escribe la fecha con el formato dd/mm/aaaa: 16/09/1851\n",
    "    ¿En qué provincia vives?: a coruña\n",
    "    Y para acabar, ¿cuál es tu estatura? (en centímetros): 172\n",
    "    \n",
    "    Tu perfil ha sido creado.\n",
    "    Nombre: Emilia Pardo Bazán\n",
    "    Edad: 170 años\n",
    "    Provincia: A Coruña\n",
    "    Comunidad autónoma: Galicia\n",
    "    Estatura: 1.72 metros\n",
    "    \n",
    "    \n",
    "        MENÚ\n",
    "        1. Rellenar perfil de usuario\n",
    "        2. Modificar mis datos\n",
    "        3. Ver mi perfil\n",
    "        4. Publicar un mensaje de estado\n",
    "        5. Salir\n",
    "        \n",
    "        Elige tu opción: 1\n",
    "    ¡Hasta pronto!\n",
    "\n",
    "Recuerda que debes importar `re`, que para hacer operaciones aritméticas los elementos deben ser de tipo integer o float, y que, al añadir o quitar datos que le pedimos al usuario, hay que prestar atención a los argumentos y los valores devueltos de todas las funciones."
   ]
  }
 ],
 "metadata": {
  "kernelspec": {
   "display_name": "Python 3",
   "language": "python",
   "name": "python3"
  },
  "language_info": {
   "codemirror_mode": {
    "name": "ipython",
    "version": 3
   },
   "file_extension": ".py",
   "mimetype": "text/x-python",
   "name": "python",
   "nbconvert_exporter": "python",
   "pygments_lexer": "ipython3",
   "version": "3.7.0"
  }
 },
 "nbformat": 4,
 "nbformat_minor": 2
}
