{
 "cells": [
  {
   "cell_type": "markdown",
   "metadata": {},
   "source": [
    "# Tema 3: objetos y métodos (III)"
   ]
  },
  {
   "cell_type": "markdown",
   "metadata": {},
   "source": [
    "## Pedir datos de tipo numérico al usuario\n",
    "Al final del tema 2 vimos cómo pedir datos al usuario. Pero solo necesitábamos datos de tipo textual. Ahora que ya conoces los tipos básicos de objetos en Python, vamos a ver cómo pedirle datos de tipo numérico (enteros y reales). También vamos a aprender a transformar los tipos de los objetos (lo que se llama _casting_ o _castear_).\n",
    "\n",
    "## Transformaciones entre números\n",
    "Los valores que devuelve la función `input()` son siempre de tipo cadena de caracteres, escriba lo que escriba el usuario. Pero podemos transformarlos a números enteros usando `int()` o a números reales con `float()`:"
   ]
  },
  {
   "cell_type": "code",
   "execution_count": 1,
   "metadata": {},
   "outputs": [
    {
     "name": "stdout",
     "output_type": "stream",
     "text": [
      "¿Cuántos años tienes?: 67\n",
      "<class 'str'>\n",
      "<class 'int'>\n",
      "<class 'float'>\n"
     ]
    }
   ],
   "source": [
    "edad = input(\"¿Cuántos años tienes?: \")\n",
    "print(type(edad))\n",
    "\n",
    "edad_en_int = int(edad) # transformamos edad, que contiene una string, en int y la guardamos en edad_en_int\n",
    "print(type(edad_en_int))\n",
    "edad_en_float = float(edad) # transformamos edad en float y la guardamos en edad_en_float\n",
    "print(type(edad_en_float))"
   ]
  },
  {
   "cell_type": "markdown",
   "metadata": {},
   "source": [
    "Esto es importante porque si quisiéramos manipular los datos que nos proporciona el usuario necesitamos que los tipos de los datos sean los apropiados:"
   ]
  },
  {
   "cell_type": "code",
   "execution_count": 3,
   "metadata": {},
   "outputs": [
    {
     "name": "stdout",
     "output_type": "stream",
     "text": [
      "Introduce tu nombre: Federico\n",
      "Introduce tu edad: 67\n",
      "Introduce tu altura en metros: 1.65\n",
      "Federico tiene 67 años y mide 165 centímetros\n"
     ]
    }
   ],
   "source": [
    "nombre = input(\"Introduce tu nombre: \")\n",
    "edad = int(input(\"Introduce tu edad: \")) # transformamos directamente en int lo que nos da input()\n",
    "altura = float(input(\"Introduce tu altura en metros: \"))\n",
    "altura_en_cm = altura * 100\n",
    "print(nombre, \"tiene\", edad, \"años y mide\", int(altura_en_cm), \"centímetros\")"
   ]
  },
  {
   "cell_type": "markdown",
   "metadata": {},
   "source": [
    "En la primera línea no hacemos ninguna transformación, porque el nombre es típicamente una cadena de caracteres.\n",
    "\n",
    "En la segunda, pasamos el dato a enteros porque la edad no suele llevar parte decimal.\n",
    "\n",
    "En la tercera instrucción, transformamos a reales porque la altura sí suele expresarse con decimales.\n",
    "\n",
    "Seguidamente, manipulamos el dato de la altura: lo usamos para calcular una variable `altura_en_cm`. Si no fuera de tipo float, no podríamos hacer esta operación.\n",
    "\n",
    "En la última línea, a la hora de imprimir la altura en centímetros, la transformamos a enteros, pues ahora se trata de un número entero."
   ]
  },
  {
   "cell_type": "markdown",
   "metadata": {},
   "source": [
    "## Transformaciones entre números y cadenas de caracteres\n",
    "De forma similar, con `str()` podemos transformar números a cadenas de caracteres:"
   ]
  },
  {
   "cell_type": "code",
   "execution_count": 6,
   "metadata": {},
   "outputs": [
    {
     "name": "stdout",
     "output_type": "stream",
     "text": [
      "2\n",
      "2.75\n",
      "2.0\n",
      "2\n"
     ]
    }
   ],
   "source": [
    "print(str(2))\n",
    "print(str(2.75))\n",
    "print(str(float(2)))\n",
    "print(str(int(2.75)))"
   ]
  },
  {
   "cell_type": "markdown",
   "metadata": {},
   "source": [
    "Fíjate en lo importante que es el orden en que apliques las funciones. En el ejemplo anterior, en la primera línea convertimos un número entero en string, y en la segunda un número real en string. Pero en la tercera tomamos un número entero, lo convertimos a real y después a cadena de caracteres; por eso imprime `.0`. Finalmente, tomamos un número real, lo pasamos a entero (en este paso se pierde la parte decimal) y luego a una cadena; por eso no imprime `.75`."
   ]
  },
  {
   "cell_type": "markdown",
   "metadata": {},
   "source": [
    "### Errores al leer los datos\n",
    "Las conversiones pueden generar errores si el usuario se equivoca al introducir los datos. Por ejemplo, intenta introducir en el siguiente programa la cadena `veintiuno`."
   ]
  },
  {
   "cell_type": "code",
   "execution_count": 5,
   "metadata": {},
   "outputs": [
    {
     "name": "stdout",
     "output_type": "stream",
     "text": [
      "Introduce tu edad: veintiuno\n"
     ]
    },
    {
     "ename": "ValueError",
     "evalue": "invalid literal for int() with base 10: 'veintiuno'",
     "output_type": "error",
     "traceback": [
      "\u001b[1;31m---------------------------------------------------------------------------\u001b[0m",
      "\u001b[1;31mValueError\u001b[0m                                Traceback (most recent call last)",
      "\u001b[1;32m<ipython-input-5-2d71fa9bb6d0>\u001b[0m in \u001b[0;36m<module>\u001b[1;34m()\u001b[0m\n\u001b[1;32m----> 1\u001b[1;33m \u001b[0medad\u001b[0m \u001b[1;33m=\u001b[0m \u001b[0mint\u001b[0m\u001b[1;33m(\u001b[0m\u001b[0minput\u001b[0m\u001b[1;33m(\u001b[0m\u001b[1;34m\"Introduce tu edad: \"\u001b[0m\u001b[1;33m)\u001b[0m\u001b[1;33m)\u001b[0m\u001b[1;33m\u001b[0m\u001b[0m\n\u001b[0m",
      "\u001b[1;31mValueError\u001b[0m: invalid literal for int() with base 10: 'veintiuno'"
     ]
    }
   ],
   "source": [
    "edad = int(input(\"Introduce tu edad: \"))"
   ]
  },
  {
   "cell_type": "markdown",
   "metadata": {},
   "source": [
    "El programa no sabe cómo transformar esa cadena de texto en un número (¡no es tan listo!), por lo que generará un error.\n",
    "\n",
    "Este tipo de errores se pueden (y se suelen) controlar, pero nosotros supondremos que el usuario introduce siempre los datos en el formato correcto."
   ]
  },
  {
   "cell_type": "markdown",
   "metadata": {},
   "source": [
    "# Ejercicios\n",
    "## 030301\n",
    "Haz un programa que pida al usuario la longitud de un lado de un cuadrado e imprima su\n",
    "perímetro y su área.\n",
    "\n",
    "- La fórmula del perímetro de un cuadrado es: `P = lado * 4`\n",
    "- La fórmula del área de un cuadrado es: `P = lado * lado`"
   ]
  },
  {
   "cell_type": "markdown",
   "metadata": {},
   "source": [
    "## 030302\n",
    "Escribe un programa calcule la nota final de un alumno a partir de las calificaciones de los 3 exámenes parciales que ha realizado, que pedirá al usuario. El primer examen parcial vale un 20 %, el segundo, un 30 % y el último un 50 % de la nota final."
   ]
  }
 ],
 "metadata": {
  "kernelspec": {
   "display_name": "Python 3",
   "language": "python",
   "name": "python3"
  },
  "language_info": {
   "codemirror_mode": {
    "name": "ipython",
    "version": 3
   },
   "file_extension": ".py",
   "mimetype": "text/x-python",
   "name": "python",
   "nbconvert_exporter": "python",
   "pygments_lexer": "ipython3",
   "version": "3.7.0"
  }
 },
 "nbformat": 4,
 "nbformat_minor": 2
}
