{
 "cells": [
  {
   "cell_type": "markdown",
   "metadata": {},
   "source": [
    "# Tema 6: estructuras de datos (I)"
   ]
  },
  {
   "cell_type": "markdown",
   "metadata": {},
   "source": [
    "Hasta ahora hemos utilizado variables que eran capaces de almacenar un único valor. Sin embargo, es posible crear variables que almacenen grandes cantidades de datos. Estos datos pueden estar organizados de distintas maneras en la memoria del ordenador dependiendo de cómo queramos utilizarlos. Las estructuras de datos permiten almacenar grandes cantidades de información de manera eficiente.\n",
    "\n",
    "En este curso vamos a estudiar 3 estructuras de datos principales: listas, conjuntos y diccionarios. También existen las _tuplas_, pero las veremos en el tema 7.\n",
    "\n",
    "## Listas\n",
    "Una _lista_ es una secuencia de elementos. Este término, _secuencia_, es importante porque indica que los elementos están ordenados. Por ejemplo, una lista de empleados contendrá la información de los empleados de una empresa ordenados por algún criterio (quizás los apellidos o la fecha de incorporación).\n",
    "\n",
    "Los pasos de una receta de cocina también los podríamos almacenar como una lista, porque el orden en que se ejecutan es importante (no es lo mismo echar primero el aceite que el huevo). El concepto de orden es importante porque diferencia las listas de otras estructuras de datos como, por ejemplo, los conjuntos.\n",
    "### Crear listas\n",
    "Podemos definir una lista escribiendo sus elementos entre corchetes y separándolos por comas:"
   ]
  },
  {
   "cell_type": "code",
   "execution_count": 1,
   "metadata": {},
   "outputs": [
    {
     "data": {
      "text/plain": [
       "[1, 2, 3, 4, 5]"
      ]
     },
     "execution_count": 1,
     "metadata": {},
     "output_type": "execute_result"
    }
   ],
   "source": [
    "[1, 2, 3, 4, 5]"
   ]
  },
  {
   "cell_type": "markdown",
   "metadata": {},
   "source": [
    "La lista anterior contiene 5 elementos, todos ellos números enteros. Pero las listas también pueden contener elementos de distintos tipos:"
   ]
  },
  {
   "cell_type": "code",
   "execution_count": 4,
   "metadata": {},
   "outputs": [
    {
     "data": {
      "text/plain": [
       "['uno', 2, True, 4.57, 'cinco', 6]"
      ]
     },
     "execution_count": 4,
     "metadata": {},
     "output_type": "execute_result"
    }
   ],
   "source": [
    "['uno', 2, True, 4.57, 'cinco', 2 + 4]"
   ]
  },
  {
   "cell_type": "markdown",
   "metadata": {},
   "source": [
    "Podemos almacenar listas en variables con el operador de asignación:"
   ]
  },
  {
   "cell_type": "code",
   "execution_count": 2,
   "metadata": {},
   "outputs": [
    {
     "name": "stdout",
     "output_type": "stream",
     "text": [
      "['uno', 2, True, 4.57, 'cinco', 6]\n"
     ]
    }
   ],
   "source": [
    "mi_lista = ['uno', 2, True, 4.57, 'cinco', 2 + 4]\n",
    "print(mi_lista)"
   ]
  },
  {
   "cell_type": "markdown",
   "metadata": {},
   "source": [
    "También podemos, y nos va a ser muy útil en algunos momentos, crear listas vacías, simplemente escribiendo los corchetes. Una lista vacía es una lista que no contiene ningún elemento."
   ]
  },
  {
   "cell_type": "code",
   "execution_count": 7,
   "metadata": {},
   "outputs": [],
   "source": [
    "lista_vacia = []"
   ]
  },
  {
   "cell_type": "markdown",
   "metadata": {},
   "source": [
    "### Número de elementos: `len()`\n",
    "La función `len()` devuelve la longitud de la lista, es decir, el número de elementos que contiene:"
   ]
  },
  {
   "cell_type": "code",
   "execution_count": 12,
   "metadata": {},
   "outputs": [
    {
     "data": {
      "text/plain": [
       "6"
      ]
     },
     "execution_count": 12,
     "metadata": {},
     "output_type": "execute_result"
    }
   ],
   "source": [
    "len(mi_lista)"
   ]
  },
  {
   "cell_type": "markdown",
   "metadata": {},
   "source": [
    "Como es de esperar, la longitud de una lista vacía es 0, por lo tanto, si le pasamos como argumento a `len()` una lista vacía, nos devolverá 0."
   ]
  },
  {
   "cell_type": "code",
   "execution_count": 14,
   "metadata": {},
   "outputs": [
    {
     "data": {
      "text/plain": [
       "0"
      ]
     },
     "execution_count": 14,
     "metadata": {},
     "output_type": "execute_result"
    }
   ],
   "source": [
    "len(lista_vacia)"
   ]
  },
  {
   "cell_type": "markdown",
   "metadata": {},
   "source": [
    "### Consultar si una lista contiene un elemento\n",
    "Podemos consultar si un elemento aparece en la lista con el operador `in`:"
   ]
  },
  {
   "cell_type": "code",
   "execution_count": 15,
   "metadata": {},
   "outputs": [
    {
     "data": {
      "text/plain": [
       "True"
      ]
     },
     "execution_count": 15,
     "metadata": {},
     "output_type": "execute_result"
    }
   ],
   "source": [
    "'cinco' in mi_lista"
   ]
  },
  {
   "cell_type": "markdown",
   "metadata": {},
   "source": [
    "Junto con las condiciones que hemos aprendido, esto permite comprobaciones muy poderosas. Un ejemplo sencillo sería tener una lista cerrada de datos, como pueden ser los continentes, y probar distintos nombres para ver si pertenecen a esa lista."
   ]
  },
  {
   "cell_type": "code",
   "execution_count": 16,
   "metadata": {},
   "outputs": [
    {
     "name": "stdout",
     "output_type": "stream",
     "text": [
      "Según esta fuente, América NO es un continente.\n"
     ]
    }
   ],
   "source": [
    "continentes = ['Europa', 'Asia', 'Oceanía', 'África', 'América del Norte', 'América del Sur', 'Antártida']\n",
    "america = 'América'\n",
    "if america in continentes:\n",
    "    print('Según esta fuente,', america, 'es un continente.')\n",
    "else:\n",
    "    print('Según esta fuente,', america, 'NO es un continente.')"
   ]
  },
  {
   "cell_type": "markdown",
   "metadata": {},
   "source": [
    "### Acceder a un elemento\n",
    "Podemos acceder a los elementos de una lista de la misma forma que accedíamos a los caracteres de una string: escribiendo el nombre de la lista y, seguidamente, la posición del elemento que nos interese entre corchetes. También podemos usar el slicing usando los dos puntos para indicar las posiciones inicial y final de la sublista que nos interese.\n",
    "\n",
    "Recuerda que el primer elemento de una lista está en la posición 0. En Python, siempre empezamos a contar desde 0."
   ]
  },
  {
   "cell_type": "code",
   "execution_count": 3,
   "metadata": {},
   "outputs": [
    {
     "name": "stdout",
     "output_type": "stream",
     "text": [
      "uno\n",
      "['uno', 2]\n",
      "[2, True, 4.57]\n"
     ]
    }
   ],
   "source": [
    "print(mi_lista[0])\n",
    "print(mi_lista[0:2])\n",
    "print(mi_lista[1:4])"
   ]
  },
  {
   "cell_type": "markdown",
   "metadata": {},
   "source": [
    "### Modificar elementos\n",
    "Podemos modificar un elemento de una lista simplemente asignándole un nuevo valor:"
   ]
  },
  {
   "cell_type": "code",
   "execution_count": 33,
   "metadata": {},
   "outputs": [
    {
     "name": "stdout",
     "output_type": "stream",
     "text": [
      "['Rembrandt', 'Rafael', 'Boticelli', 'Van Gogh']\n",
      "['Rembrandt', 'Rafael', 'Botticelli', 'Van Gogh']\n"
     ]
    }
   ],
   "source": [
    "pintores = ['Rembrandt', 'Rafael', 'Boticelli', 'Van Gogh']\n",
    "print(pintores)\n",
    "pintores[2] = 'Botticelli' # corregimos la errata\n",
    "print(pintores)"
   ]
  },
  {
   "cell_type": "markdown",
   "metadata": {},
   "source": [
    "O modificar varios elementos de una vez utilizando rangos:"
   ]
  },
  {
   "cell_type": "code",
   "execution_count": 34,
   "metadata": {},
   "outputs": [
    {
     "name": "stdout",
     "output_type": "stream",
     "text": [
      "['Rembrandt', 'Rafael', 'Botticelli', 'Picasso']\n"
     ]
    }
   ],
   "source": [
    "pintores[2:4] = ['Botticelli', 'Picasso']\n",
    "print(pintores)"
   ]
  },
  {
   "cell_type": "markdown",
   "metadata": {},
   "source": [
    "El rango 2:4 contiene 2 elementos (recuerda que el último queda fuera del rango) y por tanto tenemos que asignarle una lista de longitud 2."
   ]
  },
  {
   "cell_type": "markdown",
   "metadata": {},
   "source": [
    "### Añadir un nuevo elemento\n",
    "Para añadir un nuevo elemento a una lista, podemos usar el método `.append()`:"
   ]
  },
  {
   "cell_type": "code",
   "execution_count": 40,
   "metadata": {},
   "outputs": [
    {
     "name": "stdout",
     "output_type": "stream",
     "text": [
      "['harina', 'huevos', 'azúcar', 'mantequilla']\n"
     ]
    }
   ],
   "source": [
    "compra = []\n",
    "compra.append('harina')\n",
    "compra.append('huevos')\n",
    "compra.append('azúcar')\n",
    "compra.append('mantequilla')\n",
    "print(compra)"
   ]
  },
  {
   "cell_type": "markdown",
   "metadata": {},
   "source": [
    "También podemos añadir elementos en una posición determinada usando el método `.insert()`, que recibe dos argumentos: la posición en la que insertar y el nuevo elemento:"
   ]
  },
  {
   "cell_type": "code",
   "execution_count": 41,
   "metadata": {},
   "outputs": [
    {
     "name": "stdout",
     "output_type": "stream",
     "text": [
      "['levadura', 'harina', 'huevos', 'azúcar', 'mantequilla']\n"
     ]
    }
   ],
   "source": [
    "compra.insert(0, 'levadura')\n",
    "print(compra)"
   ]
  },
  {
   "cell_type": "markdown",
   "metadata": {},
   "source": [
    "### Eliminar un elemento\n",
    "Podemos eliminar el elemento que ocupa una posición determinada en la lista usando la palabra reservada `del`:"
   ]
  },
  {
   "cell_type": "code",
   "execution_count": 42,
   "metadata": {},
   "outputs": [
    {
     "name": "stdout",
     "output_type": "stream",
     "text": [
      "['harina', 'huevos', 'azúcar', 'mantequilla']\n"
     ]
    }
   ],
   "source": [
    "del compra[0]\n",
    "print(compra)"
   ]
  },
  {
   "cell_type": "markdown",
   "metadata": {},
   "source": [
    "También podemos eliminar la primera aparición de un elemento en una lista, esté donde esté, con el método `.remove()`:"
   ]
  },
  {
   "cell_type": "code",
   "execution_count": 43,
   "metadata": {},
   "outputs": [
    {
     "name": "stdout",
     "output_type": "stream",
     "text": [
      "['harina', 'huevos', 'mantequilla']\n"
     ]
    }
   ],
   "source": [
    "compra.remove('azúcar')\n",
    "print(compra)"
   ]
  },
  {
   "cell_type": "markdown",
   "metadata": {},
   "source": [
    "### Encontrar un elemento\n",
    "Podemos encontrar la posición que ocupa un elemento en la lista usando el método `.index()`:"
   ]
  },
  {
   "cell_type": "code",
   "execution_count": 44,
   "metadata": {},
   "outputs": [
    {
     "data": {
      "text/plain": [
       "1"
      ]
     },
     "execution_count": 44,
     "metadata": {},
     "output_type": "execute_result"
    }
   ],
   "source": [
    "letras = ['a', 'b', 'c']\n",
    "letras.index('b')"
   ]
  },
  {
   "cell_type": "markdown",
   "metadata": {},
   "source": [
    "Si el elemento aparece varias veces en la lista, `.index()` devolverá la posición de la primera aparición. Y si el elemento buscado no aparece en la lista, se producirá un error."
   ]
  },
  {
   "cell_type": "code",
   "execution_count": 45,
   "metadata": {},
   "outputs": [
    {
     "data": {
      "text/plain": [
       "0"
      ]
     },
     "execution_count": 45,
     "metadata": {},
     "output_type": "execute_result"
    }
   ],
   "source": [
    "letras = ['a', 'b', 'c', 'a']\n",
    "letras.index('a')"
   ]
  },
  {
   "cell_type": "code",
   "execution_count": 46,
   "metadata": {},
   "outputs": [
    {
     "ename": "ValueError",
     "evalue": "'z' is not in list",
     "output_type": "error",
     "traceback": [
      "\u001b[1;31m---------------------------------------------------------------------------\u001b[0m",
      "\u001b[1;31mValueError\u001b[0m                                Traceback (most recent call last)",
      "\u001b[1;32m<ipython-input-46-8dbff3d6e848>\u001b[0m in \u001b[0;36m<module>\u001b[1;34m()\u001b[0m\n\u001b[1;32m----> 1\u001b[1;33m \u001b[0mletras\u001b[0m\u001b[1;33m.\u001b[0m\u001b[0mindex\u001b[0m\u001b[1;33m(\u001b[0m\u001b[1;34m'z'\u001b[0m\u001b[1;33m)\u001b[0m\u001b[1;33m\u001b[0m\u001b[0m\n\u001b[0m",
      "\u001b[1;31mValueError\u001b[0m: 'z' is not in list"
     ]
    }
   ],
   "source": [
    "letras.index('z')"
   ]
  },
  {
   "cell_type": "markdown",
   "metadata": {},
   "source": [
    "## Bucles `for` con estructuras de datos\n",
    "Como hemos dicho en el anterior tema, `for` no solo se puede usar con rangos, sino también con listas, conjuntos y diccionarios. Se usa de una forma similar:\n",
    "\n",
    "    for <variable> in <estructura>:\n",
    "        <instrucciones_dentro_del_for>\n",
    "    <resto_del_programa>\n",
    "    \n",
    "Podríamos preguntarnos: ¿en qué se diferencia una estructura de datos, como puede ser una lista, de un rango? Efectivamente, un rango es casi una lista, pero no. Y esto es por una cuestión de memoria. `range()` genera un objeto iterable similar a una lista, pero que solo mantiene en memoria un número a la vez, de forma que lo hace perfecto, muy eficiente, para usarlo en bucles si solo necesitamos los números. Las listas mantienen en la memoria todos sus elementos cada vez.\n",
    "\n",
    "Sería muy ineficiente que `range()` generara una lista solo para recorrerla en un bucle, así que simplemente genera un objeto iterable similar a una lista, pero que solo mantiene en memoria un número a la vez, en lugar de todos, como hacen las listas.\n",
    "\n",
    "### Recorrer los elementos de una lista\n",
    "Podemos recorrer los elementos de una lista usando `for` y dando un nombre temporal a los elementos de la lista, normalmente un nombre descriptivo que se haga entender:"
   ]
  },
  {
   "cell_type": "code",
   "execution_count": 1,
   "metadata": {},
   "outputs": [
    {
     "name": "stdout",
     "output_type": "stream",
     "text": [
      "sócrates\n",
      "platón\n",
      "aristóteles\n"
     ]
    }
   ],
   "source": [
    "filosofos = [\"sócrates\", \"platón\", \"aristóteles\"]\n",
    "for filosofo in filosofos:\n",
    "    print(filosofo)"
   ]
  },
  {
   "cell_type": "markdown",
   "metadata": {},
   "source": [
    "Ya sabes que los elementos de las listas siempre están en el mismo orden. Por eso, a veces querremos recorrer los elementos de una lista a la vez que la posición que ocupan en ella. Esto se puede hacer dando dos nombres temporales a la posición y al elemento, separados por una coma, y recorriendo la función `enumerate()`, que debe tomar como argumento el nombre de la lista. Como en el siguiente ejemplo:"
   ]
  },
  {
   "cell_type": "code",
   "execution_count": 2,
   "metadata": {},
   "outputs": [
    {
     "name": "stdout",
     "output_type": "stream",
     "text": [
      "0 sócrates\n",
      "1 platón\n",
      "2 aristóteles\n"
     ]
    }
   ],
   "source": [
    "for orden, filosofo in enumerate(filosofos):\n",
    "    print(orden, filosofo)"
   ]
  },
  {
   "cell_type": "markdown",
   "metadata": {},
   "source": [
    "#### Listas por comprensión (o _list comprehensions_)\n",
    "Las _lists comprehensions_ son una forma muy compacta de recorrer una lista o un rango para crear otra lista. En vez de declarar una lista vacía en una línea, escribir el `for` en otra, escribir las instrucciones dentro del `for` en otra y usar `.append()` en otra, se le aplican las instrucciones al elemento y se mete directamente en la lista resultante, todo en una sola línea, usando este esquema:\n",
    "\n",
    "    <lista_resultante> = [<instrucción con el elemento> for <elemento> in <lista_inicial>]\n",
    "    \n",
    "Por ejemplo:"
   ]
  },
  {
   "cell_type": "code",
   "execution_count": 3,
   "metadata": {},
   "outputs": [
    {
     "name": "stdout",
     "output_type": "stream",
     "text": [
      "['Sócrates', 'Platón', 'Aristóteles']\n"
     ]
    }
   ],
   "source": [
    "filosofos_corregidos = [filosofo.capitalize() for filosofo in filosofos]\n",
    "\n",
    "print(filosofos_corregidos)"
   ]
  },
  {
   "cell_type": "markdown",
   "metadata": {},
   "source": [
    "Los programadores de Python usan esta forma de crear listas de manera habitual, pero puede ser un tanto opaca. Te recomiendo usarla si tienes la seguridad de que al volver a pasar por ella vas a saber qué hace esa línea (porque has puesto un comentario, porque te has acostumbrado...).\n",
    "\n",
    "En todo caso, solo se pueden usar cuando las instrucciones dentro del `for` son muy cortas. Y siempre van a poder escribirse de la manera básica (observa la cantidad de líneas que nos podemos ahorrar):"
   ]
  },
  {
   "cell_type": "code",
   "execution_count": 4,
   "metadata": {},
   "outputs": [
    {
     "name": "stdout",
     "output_type": "stream",
     "text": [
      "['Sócrates', 'Platón', 'Aristóteles']\n"
     ]
    }
   ],
   "source": [
    "filosofos_corregidos = []\n",
    "for filosofo in filosofos:\n",
    "    filosofo = filosofo.capitalize()\n",
    "    filosofos_corregidos.append(filosofo)\n",
    "\n",
    "print(filosofos_corregidos)"
   ]
  },
  {
   "cell_type": "markdown",
   "metadata": {},
   "source": [
    "Además, en estas _comprehensions_ también podemos incluir condiciones de forma abreviada:\n",
    "\n",
    "    <lista_resultante> = [<instrucción con el elemento> for <elemento> in <lista_inicial> if <condición>]"
   ]
  },
  {
   "cell_type": "code",
   "execution_count": 34,
   "metadata": {},
   "outputs": [
    {
     "name": "stdout",
     "output_type": "stream",
     "text": [
      "['Sócrates', 'Aristóteles']\n"
     ]
    }
   ],
   "source": [
    "filosofos_corregidos = [filosofo.capitalize() for filosofo in filosofos if filosofo.endswith(\"s\")]\n",
    "\n",
    "print(filosofos_corregidos)"
   ]
  },
  {
   "cell_type": "markdown",
   "metadata": {},
   "source": [
    "## Las strings son listas… o casi\n",
    "Las listas y las cadenas de caracteres son muy parecidas. Como habrás observado, muchas de las operaciones que acabamos de hacer con listas se pueden hacer con cadenas."
   ]
  },
  {
   "cell_type": "code",
   "execution_count": 3,
   "metadata": {},
   "outputs": [
    {
     "name": "stdout",
     "output_type": "stream",
     "text": [
      "a\n",
      "o\n",
      "chofa\n",
      "True\n"
     ]
    }
   ],
   "source": [
    "palabra = 'alcachofa'\n",
    "print(palabra[0])\n",
    "print(palabra[6])\n",
    "print(palabra[4:9])\n",
    "print('a' in palabra)"
   ]
  },
  {
   "cell_type": "markdown",
   "metadata": {},
   "source": [
    "La principal diferencia entre ambas es que los elementos de una lista de pueden modificar, pero los de una cadena de caracteres no. Si lo intentamos, saltará un error."
   ]
  },
  {
   "cell_type": "code",
   "execution_count": 28,
   "metadata": {},
   "outputs": [
    {
     "ename": "TypeError",
     "evalue": "'str' object does not support item assignment",
     "output_type": "error",
     "traceback": [
      "\u001b[1;31m---------------------------------------------------------------------------\u001b[0m",
      "\u001b[1;31mTypeError\u001b[0m                                 Traceback (most recent call last)",
      "\u001b[1;32m<ipython-input-28-52f407eeab52>\u001b[0m in \u001b[0;36m<module>\u001b[1;34m()\u001b[0m\n\u001b[1;32m----> 1\u001b[1;33m \u001b[0mpalabra\u001b[0m\u001b[1;33m[\u001b[0m\u001b[1;36m6\u001b[0m\u001b[1;33m]\u001b[0m \u001b[1;33m=\u001b[0m \u001b[1;34m'a'\u001b[0m\u001b[1;33m\u001b[0m\u001b[0m\n\u001b[0m",
      "\u001b[1;31mTypeError\u001b[0m: 'str' object does not support item assignment"
     ]
    }
   ],
   "source": [
    "palabra[6] = 'a'"
   ]
  },
  {
   "cell_type": "markdown",
   "metadata": {},
   "source": [
    "### Bucles con strings\n",
    "Las cadenas de caracteres se pueden recorrer también, lo cual es muy útil para aplicar transformaciones a ciertos caracteres.\n",
    "\n",
    "Supongamos que, por lo que sea, queremos eliminar la puntuación de la cadena que introduzca el usuario. Pues tendremos que recorrerla y meter cada elemento en una nueva lista, excepto si se trata de un carácter de puntuación (que podemos averiguar evaluando si se encuentra en una lista de caracteres de puntuación)."
   ]
  },
  {
   "cell_type": "code",
   "execution_count": 6,
   "metadata": {},
   "outputs": [
    {
     "name": "stdout",
     "output_type": "stream",
     "text": [
      "¿Qué estás pensando?: Eso digo yo, ¿qué estaré pensando?\n",
      "['E', 's', 'o', ' ', 'd', 'i', 'g', 'o', ' ', 'y', 'o', ' ', 'q', 'u', 'é', ' ', 'e', 's', 't', 'a', 'r', 'é', ' ', 'p', 'e', 'n', 's', 'a', 'n', 'd', 'o']\n"
     ]
    }
   ],
   "source": [
    "punctuation = [\".\", \",\", \":\", \";\", \"-\", \"_\", \"¿\", \"?\", \"¡\", \"!\", \"'\", '\"']\n",
    "curated_text = [] # creamos una lista vacía en la que iremos metiendo nuestro texto sin puntuación\n",
    "\n",
    "raw_text = input(\"¿Qué estás pensando?: \")\n",
    "for character in raw_text:\n",
    "    if character not in punctuation:\n",
    "        curated_text.append(character)\n",
    "\n",
    "print(curated_text)"
   ]
  },
  {
   "cell_type": "markdown",
   "metadata": {},
   "source": [
    "Pero ¡hay un problema! Hemos partido de una string y hemos terminado con una lista. ¿Y cómo convertir una lista en una string?\n",
    "\n",
    "Podemos pasar de strings a listas de dos maneras, dependiendo de lo que queramos hacer:\n",
    "- si lo que queremos es convertir cada carácter en un elemento de una lista, podemos usar `list()` pasándole la string como argumento\n",
    "- si lo que queremos es que la string se divida en elementos de una lista dependiendo de cierto carácter (por ejemplo, es muy interesante hacerlo con el espacio o la coma), podemos aplicarle el método `.split()` a la string, y pasarle como argumento el carácter separador (que por defecto, si dejamos el paréntesis vacío, va a ser el espacio)"
   ]
  },
  {
   "cell_type": "code",
   "execution_count": 7,
   "metadata": {},
   "outputs": [
    {
     "name": "stdout",
     "output_type": "stream",
     "text": [
      "['l', 'l', 'a', 'v', 'e', 's', ',', ' ', 'm', 'ó', 'v', 'i', 'l', ',', ' ', 'c', 'a', 'r', 't', 'e', 'r', 'a', ',', ' ', 'm', 'a', 's', 'c', 'a', 'r', 'i', 'l', 'l', 'a']\n",
      "['llaves,', 'móvil,', 'cartera,', 'mascarilla']\n",
      "['llaves,', 'móvil,', 'cartera,', 'mascarilla']\n",
      "['llaves', 'móvil', 'cartera', 'mascarilla']\n"
     ]
    }
   ],
   "source": [
    "print(list(\"llaves, móvil, cartera, mascarilla\"))\n",
    "print(\"llaves, móvil, cartera, mascarilla\".split())\n",
    "print(\"llaves, móvil, cartera, mascarilla\".split(\" \"))\n",
    "print(\"llaves, móvil, cartera, mascarilla\".split(\", \"))"
   ]
  },
  {
   "cell_type": "markdown",
   "metadata": {},
   "source": [
    "Observa cómo las líneas 2 y 3 imprimen lo mismo, y cómo la línea 4 no imprime ni la coma ni el espacio.\n",
    "\n",
    "También podemos pasar de listas a strings con el método `.join()`. Este método se aplica al carácter que queramos usar como pegamento, es decir, si queremos que salga todo pegado pondremos simplemente una string vacía, `''`; y si queremos por ejemplo que se separe por espacios escribiremos `' '`. Toma como argumento la lista que queremos convertir en string. Es el mismo razonamiento que cuando creamos una lista vacía para luego meterle elementos."
   ]
  },
  {
   "cell_type": "code",
   "execution_count": 9,
   "metadata": {},
   "outputs": [
    {
     "name": "stdout",
     "output_type": "stream",
     "text": [
      "Esto es una lista:  ['llaves', 'móvil', 'cartera', 'mascarilla']\n",
      "Esto es una string: llaves móvil cartera mascarilla\n"
     ]
    }
   ],
   "source": [
    "lista = \"llaves, móvil, cartera, mascarilla\".split(\", \")\n",
    "print(\"Esto es una lista: \", lista)\n",
    "\n",
    "string = ' '.join(lista)\n",
    "print(\"Esto es una string:\", string)"
   ]
  },
  {
   "cell_type": "markdown",
   "metadata": {},
   "source": [
    "Así, volviendo al problema de limpiar un texto de puntuación, podemos arreglar nuestro `curated_text` de la siguiente manera:"
   ]
  },
  {
   "cell_type": "code",
   "execution_count": 10,
   "metadata": {},
   "outputs": [
    {
     "name": "stdout",
     "output_type": "stream",
     "text": [
      "Eso digo yo qué estaré pensando\n"
     ]
    }
   ],
   "source": [
    "curated_text = ''.join(curated_text)\n",
    "print(curated_text)"
   ]
  },
  {
   "cell_type": "markdown",
   "metadata": {},
   "source": [
    "# Ejercicios\n",
    "## 060101\n",
    "Toma esta lista de los 27 Estados miembros de la Unión Europea y escribe un programa que pida al usuario un nombre de país y le responda si está o no en la UE. El usuario debe introducir el nombre del país correctamente."
   ]
  },
  {
   "cell_type": "code",
   "execution_count": 2,
   "metadata": {},
   "outputs": [],
   "source": [
    "ue = [\n",
    "    \"Alemania\",\n",
    "    \"Austria\",\n",
    "    \"Bélgica\",\n",
    "    \"Bulgaria\",\n",
    "    \"Chipre\",\n",
    "    \"Croacia\",\n",
    "    \"Dinamarca\",\n",
    "    \"Eslovaquia\",\n",
    "    \"Eslovenia\",\n",
    "    \"España\",\n",
    "    \"Estonia\",\n",
    "    \"Finlandia\",\n",
    "    \"Francia\",\n",
    "    \"Grecia\",\n",
    "    \"Hungría\",\n",
    "    \"Irlanda\",\n",
    "    \"Italia\",\n",
    "    \"Letonia\",\n",
    "    \"Lituania\",\n",
    "    \"Luxemburgo\",\n",
    "    \"Malta\",\n",
    "    \"Países Bajos\",\n",
    "    \"Polonia\",\n",
    "    \"Portugal\",\n",
    "    \"República Checa\",\n",
    "    \"Rumanía\",\n",
    "    \"Suecia\"\n",
    "]"
   ]
  },
  {
   "cell_type": "markdown",
   "metadata": {},
   "source": [
    "## 060102\n",
    "Ahora, haz lo mismo que en 060101 pero permitiendo que el usuario escriba el nombre del país en minúsculas. Es decir, crea una lista `ue_minus`, a partir de la lista `ue`, que contenga los mismos elementos pero en minúsculas, para después poder consultar directamente si el input del usuario en minúsculas está en la lista.\n",
    "\n",
    "(Nota: para pasar los elementos de `ue` a minúsculas puedes usar `.lower()`. Puedes usar listas por comprensión.)"
   ]
  },
  {
   "cell_type": "markdown",
   "metadata": {},
   "source": [
    "## 060103\n",
    "La siguiente lista contiene todos los países que están en Europa:"
   ]
  },
  {
   "cell_type": "code",
   "execution_count": 4,
   "metadata": {},
   "outputs": [],
   "source": [
    "europa = [\n",
    "    \"Albania\",\n",
    "    \"Alemania\",\n",
    "    \"Andorra\",\n",
    "    \"Armenia\",\n",
    "    \"Austria\",\n",
    "    \"Azerbaiyán\",\n",
    "    \"Bélgica\",\n",
    "    \"Bielorrusia\",\n",
    "    \"Bosnia y Herzegovina\",\n",
    "    \"Bulgaria\",\n",
    "    \"Chipre\",\n",
    "    \"Croacia\",\n",
    "    \"Dinamarca\",\n",
    "    \"Eslovaquia\",\n",
    "    \"Eslovenia\",\n",
    "    \"España\",\n",
    "    \"Estonia\",\n",
    "    \"Finlandia\",\n",
    "    \"Francia\",\n",
    "    \"Georgia\",\n",
    "    \"Grecia\",\n",
    "    \"Hungría\",\n",
    "    \"Irlanda\",\n",
    "    \"Islandia\",\n",
    "    \"Italia\",\n",
    "    \"Letonia\",\n",
    "    \"Liechtenstein\",\n",
    "    \"Lituania\",\n",
    "    \"Luxemburgo\",\n",
    "    \"Macedonia\",\n",
    "    \"Malta\",\n",
    "    \"Moldavia\",\n",
    "    \"Mónaco\",\n",
    "    \"Montenegro\",\n",
    "    \"Noruega\",\n",
    "    \"Países Bajos\", \n",
    "    \"Polonia\",\n",
    "    \"Portugal\",\n",
    "    \"Reino Unido\",\n",
    "    \"República Checa\",\n",
    "    \"Rumanía\",\n",
    "    \"Rusia\",\n",
    "    \"San Marino\",\n",
    "    \"Serbia\",\n",
    "    \"Suecia\",\n",
    "    \"Suiza\",\n",
    "    \"Ucrania\",\n",
    "    \"Vaticano\"\n",
    "]"
   ]
  },
  {
   "cell_type": "markdown",
   "metadata": {},
   "source": [
    "Obtén los países europeos que no están en la Unión Europea a partir de las listas `ue` y `europa`, y mételos en una nueva lista `no_ue`."
   ]
  },
  {
   "cell_type": "markdown",
   "metadata": {},
   "source": [
    "## 060104\n",
    "Crea otra lista `europa_minus` a partir de `europa`, que contenga los mismos países que esta pero en minúsculas. La idea es, ahora, pedir un nombre de país europeo al usuario y decirle si está en la UE o no (consultando en `ue_minus`), y si es europeo o se ha equivocado (consultando en `europa_minus`).\n",
    "\n",
    "Puedes hacer que pregunte hasta que el usuario introduzca un país europeo, por ejemplo:\n",
    "\n",
    "    Dime un país europeo y te digo si está en la UE: EEUU\n",
    "    ¡Eso ni siquiera es un país europeo!\n",
    "    Dime un país europeo y te digo si está en la UE: india\n",
    "    ¡Eso ni siquiera es un país europeo!\n",
    "    Dime un país europeo y te digo si está en la UE: irlanda\n",
    "    Pertenece a la UE."
   ]
  }
 ],
 "metadata": {
  "kernelspec": {
   "display_name": "Python 3",
   "language": "python",
   "name": "python3"
  },
  "language_info": {
   "codemirror_mode": {
    "name": "ipython",
    "version": 3
   },
   "file_extension": ".py",
   "mimetype": "text/x-python",
   "name": "python",
   "nbconvert_exporter": "python",
   "pygments_lexer": "ipython3",
   "version": "3.7.0"
  }
 },
 "nbformat": 4,
 "nbformat_minor": 2
}
