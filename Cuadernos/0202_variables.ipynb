{
 "cells": [
  {
   "cell_type": "markdown",
   "metadata": {},
   "source": [
    "# Tema 2: variables (II)"
   ]
  },
  {
   "cell_type": "markdown",
   "metadata": {},
   "source": [
    "## Variables\n",
    "Python es (principalmente) un lenguaje de [programación orientada a objetos](https://es.wikipedia.org/wiki/Programaci%C3%B3n_orientada_a_objetos). Esto significa, simplemente, que todo se define a partir de los _objetos_. ¿Y qué son los objetos? Por decirlo de alguna manera, son los elementos con los que vamos a trabajar. Pero lo vamos a explicar en esta sección.\n",
    "\n",
    "Los objetos vienen dados por el lenguaje de programación, pero uno mismo también puede crear sus propios objetos (aunque esto es muy avanzado).\n",
    "\n",
    "Una variable es un ejemplo de objeto. ¿Y qué es una _variable_? Puedes visualizarla como una caja en la que introducimos algo y a la que le ponemos una etiqueta para acordarnos de lo que hemos metido en ella.\n",
    "\n",
    "Por ejemplo, en el siguiente código le asigno un _valor_ a una variable:"
   ]
  },
  {
   "cell_type": "code",
   "execution_count": 1,
   "metadata": {},
   "outputs": [],
   "source": [
    "palabra = 'lechuga'"
   ]
  },
  {
   "cell_type": "markdown",
   "metadata": {},
   "source": [
    "Como ves, al ejecutar la celda anterior, __parece__ que no ha pasado nada. Pero en realidad sí ha pasado algo, solo que no se ve. La función de _asignación_ (`=`) no produce ningún resultado por pantalla, pero sí ha hecho algo. En concreto, con esta línea hemos metido el valor 'lechuga' en una caja que hemos llamado `palabra`. Esto hace que sea posible recuperar el valor 'lechuga' siempre que queramos escribiendo simplemente la variable `palabra`. Por ejemplo, imprimiéndola:"
   ]
  },
  {
   "cell_type": "code",
   "execution_count": 2,
   "metadata": {},
   "outputs": [
    {
     "name": "stdout",
     "output_type": "stream",
     "text": [
      "lechuga\n"
     ]
    }
   ],
   "source": [
    "print(palabra)"
   ]
  },
  {
   "cell_type": "markdown",
   "metadata": {},
   "source": [
    "Fíjate en que en la anterior celda ya no hemos tenido que usar comillas, porque no estamos llamando a la cadena de texto 'lechuga' sino a la variable `palabra`.\n",
    "\n",
    "Otra cuestión: es importante que la primera celda la ejecutes antes que la segunda, porque de lo contrario estarás intentando usar lo que hay dentro de la caja antes de que la caja exista siquiera. Para comprobarlo, ejecuta la siguiente celda:"
   ]
  },
  {
   "cell_type": "code",
   "execution_count": 3,
   "metadata": {},
   "outputs": [
    {
     "ename": "NameError",
     "evalue": "name 'palabrita' is not defined",
     "output_type": "error",
     "traceback": [
      "\u001b[1;31m---------------------------------------------------------------------------\u001b[0m",
      "\u001b[1;31mNameError\u001b[0m                                 Traceback (most recent call last)",
      "\u001b[1;32m<ipython-input-3-c1808c2fd1ef>\u001b[0m in \u001b[0;36m<module>\u001b[1;34m()\u001b[0m\n\u001b[1;32m----> 1\u001b[1;33m \u001b[0mprint\u001b[0m\u001b[1;33m(\u001b[0m\u001b[0mpalabrita\u001b[0m\u001b[1;33m)\u001b[0m\u001b[1;33m\u001b[0m\u001b[0m\n\u001b[0m",
      "\u001b[1;31mNameError\u001b[0m: name 'palabrita' is not defined"
     ]
    }
   ],
   "source": [
    "print(palabrita)"
   ]
  },
  {
   "cell_type": "markdown",
   "metadata": {},
   "source": [
    "Devuelve un error llamado `NameError`; en concreto dice que `name 'palabrita' is not defined`. ¿Ves?\n",
    "\n",
    "También puedes comprobarlo yendo al menú Kernel > Restart & Clear Output. Nos va a preguntar precisamente si estamos seguros de hacer eso, porque todos los valores de las variables se van a perder. Dale a Restart and Clear All Outputs, y ahora ejecuta la segunda celda de código directamente, sin ejecutar la primera. Te da el mismo error, ¿verdad?\n",
    "\n",
    "En la siguiente sección veremos otra cosa importante sobre el orden."
   ]
  },
  {
   "cell_type": "markdown",
   "metadata": {},
   "source": [
    "### Nombres de variables válidos\n",
    "\n",
    "#### Palabras reservadas\n",
    "Mola mucho nombrar variables porque parece que puedes llamarlas como te dé la gana siempre que te acuerdes de cómo se llamaba cada una. Pero no te emociones demasiado; hay ciertas palabras que no puedes usar para nombrar una variable. En Python 3 las _palabras reservadas_ son las siguientes:\n",
    "\n",
    "`False None True and as assert break class continue def del elif else except finally for from global if import in is lambda nonlocal not or pass raise return try while with yield`\n",
    "\n",
    "Estas palabras no se pueden usar como nombres de variables porque son palabras del propio lenguaje, y hacen otras cosas. Siempre que las ve, el intérprete de Python creerá que están usadas en el sentido para el que están reservadas, puesto que no entiende de contextos.\n",
    "\n",
    "#### Reglas de oro\n",
    "Aparte de las palabras reservadas, puedes llamar a tus variables como quieras... siempre que el nombre cumpla con estas dos reglas:\n",
    "\n",
    "- No contener nada más que letras (minúsculas o mayúsculas), números o el guion bajo ( _ ).\n",
    "- No empezar con un número.\n",
    "\n",
    "#### Recomendaciones\n",
    "Aunque se pueden usar letras mayúsculas, por convención no se hace. Pero si las usas, ten en cuenta que las mayúsculas importan, es decir, que `Pedro` y `pedro` son variables diferentes.\n",
    "\n",
    "Si necesitas separar distintas palabras dentro del nombre de la variable, usa el guion bajo en vez de letras mayúsculas. Es decir, la convención para escribir nombres de variables en Python es la [snake_case](https://en.wikipedia.org/wiki/Snake_case) en vez de la [CamelCase](https://es.wikipedia.org/wiki/CamelCase).\n",
    "\n",
    "No uses el guion bajo a principio de nombre, ya que normalmente se reserva para variables con un significado especial.\n",
    "\n",
    "También se recomienda no usar tildes, eñes o caracteres que no aparezcan en la ortografía del inglés. ¿Por qué? Porque los lenguajes se suelen diseñar dando por hecho que quienes los usen sabrán inglés, así que es posible que en algunas plataformas, interfaces, etc. no funcione tu código si usas caracteres extraños al inglés. Aquí, en principio, sí vas a poder usarlos. Pero reflexionar sobre este tema antes de compartir tu código con otras personas o ejecutarlo en distintos sitios no está de más.\n",
    "\n",
    "Además, puedes usar la lengua que quieras para nombrar a tus variables (el ordenador no va a hacer distinciones), pero se aconseja que no se mezclen lenguas, por normalizar (las personas sí se pueden liar).\n",
    "\n",
    "Por otro lado, recuerda que la etiqueta que le poníamos a la caja tenía su función: acordarnos de lo que habíamos metido dentro. Así, es importante nombrar las variables con criterios claros y sencillos de entender por otras personas o por nosotros mismos cuando volvamos sobre nuestro código. Los nombres que les pongamos a las variables influirán en la legibilidad de nuestro código."
   ]
  },
  {
   "cell_type": "markdown",
   "metadata": {},
   "source": [
    "## Ejercicios\n",
    "### 020201\n",
    "¿Qué está mal en este código? ¿Sabrías decirlo sin ejecutar la celda?"
   ]
  },
  {
   "cell_type": "code",
   "execution_count": null,
   "metadata": {},
   "outputs": [],
   "source": [
    "7vidas = '7 vidas'"
   ]
  },
  {
   "cell_type": "markdown",
   "metadata": {},
   "source": [
    "### 020202\n",
    "¿Qué está mal en este código? ¿Sabrías decirlo sin ejecutar la celda?"
   ]
  },
  {
   "cell_type": "code",
   "execution_count": null,
   "metadata": {},
   "outputs": [],
   "source": [
    "70 = mi_numero"
   ]
  }
 ],
 "metadata": {
  "kernelspec": {
   "display_name": "Python 3",
   "language": "python",
   "name": "python3"
  },
  "language_info": {
   "codemirror_mode": {
    "name": "ipython",
    "version": 3
   },
   "file_extension": ".py",
   "mimetype": "text/x-python",
   "name": "python",
   "nbconvert_exporter": "python",
   "pygments_lexer": "ipython3",
   "version": "3.7.0"
  }
 },
 "nbformat": 4,
 "nbformat_minor": 2
}
