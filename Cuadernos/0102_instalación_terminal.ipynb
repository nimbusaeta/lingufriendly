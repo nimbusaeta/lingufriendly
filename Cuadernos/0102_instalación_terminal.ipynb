{
 "cells": [
  {
   "cell_type": "markdown",
   "metadata": {},
   "source": [
    "# Tema 1: calentando motores (II)"
   ]
  },
  {
   "cell_type": "markdown",
   "metadata": {},
   "source": [
    "## Instalando las herramientas necesarias\n",
    "En principio y para facilitarte la vida, no hace falta que instales nada. Todo el código que quieras probar y ejecutar lo puedes escribir en cuadernos Jupyter en Google Colaboratory y podrás entregarlo en este formato.\n",
    "\n",
    "Sin embargo, te recomiendo que instales Python en tu ordenador para que puedas probarlo directamente desde la terminal de tu ordenador (ahora veremos qué es eso) y puedas seguir usando Python más allá de este curso: tiene la ventaja de que podrás almacenarlo en tu ordenador, compartirlo con otras personas, etc.\n",
    "\n",
    "Es decir, que si tu objetivo es simplemente superar el curso, o tienes algún problema con el ordenador, o no tienes ordenador propio o derechos de administrador para instalar programas, no te preocupes; el plan B de no instalar nada te cubre. Pero también, para aquellos que busquéis la «experiencia completa», explicaré cómo instalar Python y cómo usar la terminal, que no tiene nada que ver con Python, pero recordemos que esto es un curso de introducción a la programación en general."
   ]
  },
  {
   "cell_type": "markdown",
   "metadata": {},
   "source": [
    "## Instalar Python\n",
    "### En Windows\n",
    "Tanto en Windows 10 y 11 como en Windows 7 y 8 la instalación es un poco complicada, porque tenemos que toquetear un poquito la configuración del sistema. La siguiente explicación vale para los 4 casos, aunque si tienes Windows 10 u 11 ten en cuenta que puede que tengas que instalar Python desde la Microsoft Store.\n",
    "\n",
    "#### 1. Instalar Python\n",
    "Vamos a la [página de descargas de la web oficial de Python](https://www.python.org/downloads/) y por defecto nos salen los enlaces para Windows. Pulsa en `Download Python 3.10.1` y acepta la descarga.\n",
    "\n",
    "Ejecutamos el archivo .exe que nos hemos bajado y seguimos los pasos del asistente para instalar el programa. Para la segunda parte de la instalación es importante acordarse de la carpeta en que hemos guardado los archivos de Python.\n",
    "\n",
    "#### 2. Configurar path\n",
    "Path es una variable del sistema que tenemos que configurar un poquito para poder ejecutar Python con comodidad. Vamos a explicar paso a paso cómo hacerlo en Windows.\n",
    "\n",
    "1. Ve a Equipo y, debajo de la barra de menús, haz click en Propiedades de sistema.\n",
    "2. Ahora ve a Configuración avanzada del sistema.\n",
    "3. Te saldrá una ventana. Ve al botón `Variables de entorno...` y haz click sobre él.\n",
    "4. En la siguiente ventana que te aparece, busca en la parte de abajo Path. Selecciona la línea y luego haz click en `Editar...` (o haz doble click en la fila de Path).\n",
    "5. En la siguiente ventana, lo que tenemos que hacer es escribir un par de cosas en el cuadro de abajo, el que dice Valor de la variable. En este cuadro aparecen las rutas de todos los programas que tenemos instalados. Tienes que ir al final del texto de ese cuadro y pegar `;` seguido de la ruta de la carpeta en que hayas instalado Python. Es posible que sea algo así como `D:\\Programas\\Python\\`, pero no tiene por qué. Lo importante es que tienes que averiguar dónde instalaste Python. Para ello, cuando estés en la carpeta en que estén los archivos de Python, puedes copiar la ruta con el siguiente truco: haz click en la barra superior (donde puedes navegar hacia carpetas anteriores) sobre la parte vacía. Así seleccionarás la ruta de esa carpeta. Ahora solo tienes que copiar y pegar ese texto al final del cuadro Valor de la variable, que vimos antes (recuerda, seguido de un punto y coma).\n",
    "8. Y el último paso es que vuelvas a pegar, detrás de otro punto y coma, esa misma ruta que tienes copiada en el portapapeles más el texto `\\Scripts`.\n",
    "\n",
    "#### 3. Instalar pip\n",
    "Pip es un gestor de paquetes de Python, y vamos a instalarlo porque va a ahorrarnos muchos pasos a la hora de programar en Python. No lo necesitaremos en este curso, pero a la hora de seguir programando por tu cuenta, te será más cómodo.\n",
    "\n",
    "Primero, hay que descargar el [fichero get-pip.py](https://bootstrap.pypa.io/get-pip.py) (click derecho en el link y `Guardar como...`).\n",
    "\n",
    "Abre la consola yendo a Inicio, y en el cuadro de texto que dice `Buscar programas y archivos...` escribe `cmd` y dale a intro. Te saldrá la consola (*Símbolo del sistema*), donde ya puedes escribir.\n",
    "\n",
    "Luego, ejecuta (desde el intérprete de Bash, no desde el intérprete de Python; puedes leer la diferencia en la [siguiente sección, sobre la terminal](#Usar-la-terminal) lo siguiente: `python get-pip.py`. ¡Recuerda que tendrás que ir hasta el directorio en el que guardaste ese archivo!"
   ]
  },
  {
   "cell_type": "markdown",
   "metadata": {},
   "source": [
    "### En Linux\n",
    "Abre la terminal y pon: `sudo apt-get install python3.10`\n",
    "\n",
    "### En Mac\n",
    "Te recomiendo que sigas [este tutorial de Tania Karaseva](http://lingwars.github.io/blog/python-mac.html), no podría explicarlo mejor."
   ]
  },
  {
   "cell_type": "markdown",
   "metadata": {},
   "source": [
    "## Usar la terminal\n",
    "Los scripts o programas no son más que archivos de texto cuya extensión es .py (en el caso de que estén escritos en Python).\n",
    "\n",
    "Hay dos modalidades de uso de la terminal que vas a poder usar:\n",
    "- con el intérprete de Bash\n",
    "- con el intérprete de Python"
   ]
  },
  {
   "cell_type": "markdown",
   "metadata": {},
   "source": [
    "### Intérprete de Bash\n",
    "Bash es el lenguaje en el que la terminal espera que le hables cuando la abres.\n",
    "\n",
    "El _prompt_ (el texto que sale justo antes de donde podemos escribir, que indica en todo momento dónde «estamos») en Windows es algo como `C:\\Users\\Nombre>`, y en Mac `$`.\n",
    "\n",
    "Los comandos que se le pueden pasar a Bash son del tipo:\n",
    "\n",
    "    <comando> <argumento>\n",
    "\n",
    "Vamos a aprender algunos:\n",
    "- Cambiar de directorio. Cuando entramos en la terminal, nos sitúa en una carpeta de nuestro sistema, normalmente la carpeta o directorio de usuario. Con `cd` podemos cambiar a otra carpeta. Prueba a poner `cd Desktop` y darle a intro, y ya verás cómo el prompt cambia, porque ahora incluye `/Desktop`.\n",
    "- Subir a la carpeta madre. Se hace con `cd ..`. Prueba a ponerlo y verás cómo desaparece el `/Desktop` del prompt.\n",
    "- Ver las carpetas y archivos que hay en el directorio en el que estamos. Se hace poniendo `ls`.\n",
    "- Ejecutar un script de Python. Se hace poniendo `python` y después el nombre del archivo que contiene el script, que tiene que estar en el directorio en el que nos encontremos. Por ejemplo, `python prueba.py`.\n",
    "- Ejecutar un script de Python y guardar el output en un archivo. Se hace escribiendo `>` detrás del nombre del script, y después el nombre del archivo donde queramos guardar el output. Por ejemplo, `python prueba.py > info.txt`\n",
    "- Pasar a la modalidad «intérprete de Python». Se hace escribiendo simplemente `python`. Esto nos saca de Bash, pasando a la otra modalidad de uso de la terminal, el intérprete de Python.\n",
    "\n",
    "Es posible que, en vez de simplemente `python`, debas escribir `py`, o `python3`, para entrar en el intérprete de Python 3, si ya tenías instalado Python 2."
   ]
  },
  {
   "cell_type": "markdown",
   "metadata": {},
   "source": [
    "### Intérprete de Python\n",
    "Cuando entramos en el intérprete de Python podemos usar directamente todas las órdenes que vamos a aprender en este curso.\n",
    "\n",
    "Notarás que estás en el intérprete porque te saldrán 2 líneas muy parecidas a estas:\n",
    "    \n",
    "    Python 3.10.1 (tags/v3.10.1:2cd268a, Dec  6 2021, 19:10:37) [MSC v.1929 64 bit (AMD64)] on win32\n",
    "    Type \"help\", \"copyright\", \"credits\" or \"license\" for more information.\n",
    "\n",
    "Además, el prompt se habrá convertido en `>>>`.\n",
    "\n",
    "La gran diferencia con los scripts es que en el intérprete puedes poner directamente el nombre de una variable e imprimirá por pantalla su contenido. En los scripts tendrás que usar `print()`.\n",
    "\n",
    "Para salir, hay que poner `quit()`, y volvemos al intérprete de Bash."
   ]
  }
 ],
 "metadata": {
  "kernelspec": {
   "display_name": "Python 3",
   "language": "python",
   "name": "python3"
  },
  "language_info": {
   "codemirror_mode": {
    "name": "ipython",
    "version": 3
   },
   "file_extension": ".py",
   "mimetype": "text/x-python",
   "name": "python",
   "nbconvert_exporter": "python",
   "pygments_lexer": "ipython3",
   "version": "3.7.0"
  }
 },
 "nbformat": 4,
 "nbformat_minor": 2
}
