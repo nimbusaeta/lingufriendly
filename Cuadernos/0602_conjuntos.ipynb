{
 "cells": [
  {
   "cell_type": "markdown",
   "metadata": {},
   "source": [
    "# Tema 6: estructuras de datos (II)"
   ]
  },
  {
   "cell_type": "markdown",
   "metadata": {},
   "source": [
    "## Conjuntos o _sets_\n",
    "Un conjunto es una estructura de datos que también permite almacenar grandes cantidades de información. A diferencia de las listas, los conjuntos no pueden tener elementos repetidos y, además, sus elementos no se almacenan en ningún orden determinado.\n",
    "\n",
    "En los conjuntos, al igual que en las listas, podemos añadir y eliminar elementos o consultar si contienen un elemento determinado. Sin embargo, como los elementos del conjunto no están ordenados, no tiene sentido pedir el primer o tercer elemento del conjunto."
   ]
  },
  {
   "cell_type": "markdown",
   "metadata": {},
   "source": [
    "### Crear conjuntos\n",
    "La forma más sencilla de crear un conjunto es enumerar sus elementos entre llaves (`{}`):"
   ]
  },
  {
   "cell_type": "code",
   "execution_count": 17,
   "metadata": {},
   "outputs": [
    {
     "name": "stdout",
     "output_type": "stream",
     "text": [
      "{1, 3.3, 'adios', 'hola'}\n"
     ]
    }
   ],
   "source": [
    "mi_conjunto = {1, \"hola\", 3.3, \"adios\"}\n",
    "print(mi_conjunto)"
   ]
  },
  {
   "cell_type": "markdown",
   "metadata": {},
   "source": [
    "Como puedes ver, los elementos no se imprimen en el mismo orden en el que se declararon. Esto es porque, como hemos dicho, los conjuntos no almacenan los elementos en ningún orden concreto.\n",
    "\n",
    "Para crear un conjunto vacío debemos usar la función `set()`."
   ]
  },
  {
   "cell_type": "code",
   "execution_count": 19,
   "metadata": {},
   "outputs": [],
   "source": [
    "conjunto_vacio = set()"
   ]
  },
  {
   "cell_type": "markdown",
   "metadata": {},
   "source": [
    "No podemos crear conjuntos vacíos usando llaves vacías (`{}`) porque las llaves se usan para crear diccionarios, que se explicarán en la siguiente sección.\n",
    "\n",
    "También podemos crear conjuntos a partir de los elementos de una lista:"
   ]
  },
  {
   "cell_type": "code",
   "execution_count": 20,
   "metadata": {},
   "outputs": [
    {
     "name": "stdout",
     "output_type": "stream",
     "text": [
      "Lista: [1, 1, 2, 3, 3, 3, 3]\n",
      "Conjunto: {1, 2, 3}\n"
     ]
    }
   ],
   "source": [
    "lista = [1, 1, 2, 3, 3, 3, 3]\n",
    "conjunto = set(lista)\n",
    "print(\"Lista:\", lista)\n",
    "print(\"Conjunto:\", conjunto)"
   ]
  },
  {
   "cell_type": "markdown",
   "metadata": {},
   "source": [
    "Como puedes observar, han desaparecido todos los elementos repetidos; un conjunto no puede contener elementos repetidos."
   ]
  },
  {
   "cell_type": "markdown",
   "metadata": {},
   "source": [
    "### Número de elementos\n",
    "Al igual que en las listas, la función `len()` devuelve el número de elementos en el conjunto. Y si está vacío, devuelve `0`."
   ]
  },
  {
   "cell_type": "code",
   "execution_count": 3,
   "metadata": {},
   "outputs": [
    {
     "name": "stdout",
     "output_type": "stream",
     "text": [
      "{1, 3.3, 'adios', 'hola'}\n",
      "Longitud de mi conjunto: 4\n",
      "Longitud del conjunto vacío: 0\n"
     ]
    }
   ],
   "source": [
    "mi_conjunto = {1, \"hola\", 3.3, \"adios\"}\n",
    "conjunto_vacio = set()\n",
    "\n",
    "print(mi_conjunto)\n",
    "print(\"Longitud de mi conjunto:\", len(mi_conjunto))\n",
    "print(\"Longitud del conjunto vacío:\", len(conjunto_vacio))"
   ]
  },
  {
   "cell_type": "markdown",
   "metadata": {},
   "source": [
    "### Consultar si un conjunto contiene un elemento\n",
    "Para comprobar si un elemento pertenece a un conjunto usamos el operador `in`:"
   ]
  },
  {
   "cell_type": "code",
   "execution_count": 3,
   "metadata": {},
   "outputs": [
    {
     "name": "stdout",
     "output_type": "stream",
     "text": [
      "El dos está en el conjunto\n"
     ]
    }
   ],
   "source": [
    "conjunto = {\"uno\", \"dos\", \"tres\", \"cuatro\"}\n",
    "if \"dos\" in conjunto:\n",
    "    print(\"El dos está en el conjunto\")\n",
    "else:\n",
    "    print(\"El dos no está en el conjunto\")"
   ]
  },
  {
   "cell_type": "markdown",
   "metadata": {},
   "source": [
    "### Añadir un nuevo elemento\n",
    "El método `.add()` permite añadir elementos a un conjunto. Si el elemento ya existe en el conjunto no se\n",
    "añadirá."
   ]
  },
  {
   "cell_type": "code",
   "execution_count": 5,
   "metadata": {},
   "outputs": [
    {
     "name": "stdout",
     "output_type": "stream",
     "text": [
      "{'dos', 'tres', 'uno'}\n"
     ]
    }
   ],
   "source": [
    "conjunto = set() # Creamos un conjunto vacío\n",
    "conjunto.add(\"uno\") # Añadimos elementos\n",
    "conjunto.add(\"dos\")\n",
    "conjunto.add(\"tres\")\n",
    "conjunto.add(\"tres\") # Añadimos un elemento que ya existe\n",
    "print(conjunto)"
   ]
  },
  {
   "cell_type": "markdown",
   "metadata": {},
   "source": [
    "### Eliminar un elemento\n",
    "Podemos eliminar elementos de un conjunto con la operación `.discard()`. Si el elemento que queremos eliminar no está en el conjunto, la operación no hace nada."
   ]
  },
  {
   "cell_type": "code",
   "execution_count": 6,
   "metadata": {},
   "outputs": [
    {
     "name": "stdout",
     "output_type": "stream",
     "text": [
      "{'dos', 'tres'}\n"
     ]
    }
   ],
   "source": [
    "conjunto = {'uno', 'dos', 'tres'}\n",
    "conjunto.discard(\"uno\")\n",
    "conjunto.discard(\"cuatro\")\n",
    "print(conjunto)"
   ]
  },
  {
   "cell_type": "markdown",
   "metadata": {},
   "source": [
    "### Operaciones entre conjuntos\n",
    "Existen métodos para realizar las operaciones más habituales con conjuntos:\n",
    "\n",
    "- La unión de dos conjuntos contiene todos los elementos que aparecen en alguno de ellos. Se hace con el método `.union()`, aplicándolo a uno de los conjuntos (no importa cuál) y pasando el otro como argumento.\n",
    "- La intersección de dos conjuntos contiene los elementos comunes de ambos. Para esto utilizamos `.intersection()`, cuyos parámetros funcionan de la misma manera que `.union()`.\n",
    "- La diferencia de dos conjuntos contiene los elementos que están en uno pero no en el otro. El método que usaremos para ello es `.difference()`, que nos devolverá los elementos que están en el conjunto al que se lo apliquemos, pero no estén en el que pasemos como parámetro.\n",
    "\n",
    "Todas estas operaciones devuelven un nuevo conjunto con el resultado. Con ejemplos se entiende mucho mejor:"
   ]
  },
  {
   "cell_type": "code",
   "execution_count": 9,
   "metadata": {},
   "outputs": [
    {
     "name": "stdout",
     "output_type": "stream",
     "text": [
      "Unión: {1, 2, 3, 4, 5, 7, 9}\n",
      "Intersección: {1, 3, 5}\n",
      "Diferencia entre a y b: {9, 7}\n",
      "Diferencia entre b y a: {2, 4}\n"
     ]
    }
   ],
   "source": [
    "a = { 1, 3, 5, 7, 9 }\n",
    "b = { 1, 2, 3, 4, 5 }\n",
    "print(\"Unión:\", a.union(b))\n",
    "print(\"Intersección:\", a.intersection(b))\n",
    "print(\"Diferencia entre a y b:\", a.difference(b))\n",
    "print(\"Diferencia entre b y a:\", b.difference(a))"
   ]
  },
  {
   "cell_type": "markdown",
   "metadata": {},
   "source": [
    "### Transformar listas en conjuntos y viceversa\n",
    "Podemos transformar listas en conjuntos usando la función `set()`:"
   ]
  },
  {
   "cell_type": "code",
   "execution_count": 10,
   "metadata": {},
   "outputs": [
    {
     "name": "stdout",
     "output_type": "stream",
     "text": [
      "{1, 2, 3, 4}\n"
     ]
    }
   ],
   "source": [
    "conjunto = set([1, 2, 1, 3, 1, 4])\n",
    "print(conjunto)"
   ]
  },
  {
   "cell_type": "markdown",
   "metadata": {},
   "source": [
    "Y también podemos crear listas a partir de conjuntos, usando la función `list()`:"
   ]
  },
  {
   "cell_type": "code",
   "execution_count": 11,
   "metadata": {
    "scrolled": true
   },
   "outputs": [
    {
     "name": "stdout",
     "output_type": "stream",
     "text": [
      "[1, 2, 3, 4]\n"
     ]
    }
   ],
   "source": [
    "lista = list({1, 2, 3, 4})\n",
    "print(lista)"
   ]
  },
  {
   "cell_type": "markdown",
   "metadata": {},
   "source": [
    "### Recorrer los elementos de un conjunto\n",
    "Al igual que con las listas, podemos usar `for` para recorrer los elementos de un conjunto:"
   ]
  },
  {
   "cell_type": "code",
   "execution_count": 7,
   "metadata": {},
   "outputs": [
    {
     "name": "stdout",
     "output_type": "stream",
     "text": [
      "verde\n",
      "rojo\n",
      "azul\n",
      "amarillo\n"
     ]
    }
   ],
   "source": [
    "conjunto = {\"rojo\", \"verde\", \"azul\", \"amarillo\"}\n",
    "\n",
    "for elemento in conjunto:\n",
    "    print(elemento)"
   ]
  },
  {
   "cell_type": "markdown",
   "metadata": {},
   "source": [
    "Como ves, al tratarse de un conjunto no podemos saber en qué orden se van a imprimir los elementos.\n",
    "\n",
    "#### Conjuntos por comprensión (o _set comprehensions_)\n",
    "También podemos crear conjuntos de manera compacta a partir de los elementos en otro conjunto o lista, usando la siguiente estructura:\n",
    "\n",
    "    <conjunto_resultante> = {<instrucción con el elemento> for <elemento> in <estructura_inicial>}"
   ]
  },
  {
   "cell_type": "code",
   "execution_count": 8,
   "metadata": {},
   "outputs": [
    {
     "name": "stdout",
     "output_type": "stream",
     "text": [
      "{0, 1, 64, 4, 36, 9, 16, 49, 81, 25}\n"
     ]
    }
   ],
   "source": [
    "cuadrados = {x * x for x in range(0, 10)}\n",
    "\n",
    "print(cuadrados)"
   ]
  },
  {
   "cell_type": "markdown",
   "metadata": {},
   "source": [
    "# Ejercicios\n",
    "## 060201\n",
    "Pide al usuario 10 palabras guardándolas en 10 variables distintas, y almacénalas en un conjunto. Imprime después el número de palabras distintas introducidas por el usuario."
   ]
  },
  {
   "cell_type": "markdown",
   "metadata": {},
   "source": [
    "## 060202\n",
    "Crea un conjunto con los nombres de los meses. Después pide nombres de meses al usuario, guardándolos en distintas variables, e indica, para cada uno de ellos, si es un nombre de mes válido o no usando la operación de pertenencia a conjunto."
   ]
  },
  {
   "cell_type": "markdown",
   "metadata": {},
   "source": [
    "## 060203\n",
    "A partir de las listas `europa` y `ue` del ejercicio 060103, obtén de nuevo los países europeos que no están en la Unión Europea, pero esta vez usando conjuntos en vez de listas y el método `.difference()`."
   ]
  },
  {
   "cell_type": "markdown",
   "metadata": {},
   "source": [
    "## 060204\n",
    "En el cuaderno 0301 os puse un ejemplo de [lengua ballena](https://www.youtube.com/watch?v=tR9vr6XlwtE). Ahora podemos construir un traductor castellano-balleno, haciendo que un bucle recorra todos los elementos de la string que le pidamos al usuario, y haciendo que, si el elemento es una vocal, se escriba 7 veces.\n",
    "\n",
    "Crea un conjunto `vocales` que contenga las 5 vocales del castellano. Guarda en la variable `origen` la frase que quiera traducir el usuario y declara una lista vacía llamada `meta`. Ve metiendo en `meta` los elementos de `origen` haciendo que, si son vocales, se multipliquen por 7. Finalmente, imprime los elementos de `meta` unidos, es decir, imprimiendo `''.join(meta)`.\n",
    "\n",
    "Puedes hacerlo solo con las vocales sin tilde o extenderlo a ellas, como quieras."
   ]
  }
 ],
 "metadata": {
  "kernelspec": {
   "display_name": "Python 3",
   "language": "python",
   "name": "python3"
  },
  "language_info": {
   "codemirror_mode": {
    "name": "ipython",
    "version": 3
   },
   "file_extension": ".py",
   "mimetype": "text/x-python",
   "name": "python",
   "nbconvert_exporter": "python",
   "pygments_lexer": "ipython3",
   "version": "3.7.0"
  }
 },
 "nbformat": 4,
 "nbformat_minor": 2
}
