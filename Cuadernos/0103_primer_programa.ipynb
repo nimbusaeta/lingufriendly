{
 "cells": [
  {
   "cell_type": "markdown",
   "metadata": {},
   "source": [
    "# Tema 1: calentando motores (III)"
   ]
  },
  {
   "cell_type": "markdown",
   "metadata": {},
   "source": [
    "## Mi primer programa\n",
    "### En Colaboratory o Jupyter Notebook\n",
    "Simplemente, dale al botón de `+ CÓDIGO` (si usas Colaboratory) o `+` (si usas Jupyter Notebook) que puedes ver arriba. Esto creará una celda debajo de esta, que será de código, y escribe lo siguiente: `print('¡Hola, mundo!')`. Dale a Ctrl + Intro y habrá aparecido debajo la salida del programa, que será `¡Hola, mundo!`. Lo bueno de los cuadernos es que con esto basta."
   ]
  },
  {
   "cell_type": "markdown",
   "metadata": {},
   "source": [
    "### En local\n",
    "Abre el bloc de notas o cualquier otro programa que tengas para trabajar con texto plano. Es decir, no vale el Word, el Writer de OpenOffice ni nada parecido porque esos programas no están pensados para tratar con un texto que vaya a usarse para programar.\n",
    "\n",
    "Escribe `print('¡Hola, mundo!')` y guarda el archivo con el nombre que quieras, pero acabado en `.py`. Es importante que uses esta extensión porque es lo que le dice al intérprete de Python que tiene que leerlo como un script escrito en Python. Por ejemplo, `hola.py`. Guárdalo en el Escritorio.\n",
    "\n",
    "Ahora abre la terminal. En Windows, pulsa Inicio, escribe `cmd` y elige Símbolo del sistema. Cuando abrimos la terminal, 'estamos' en un sitio de nuestro ordenador.\n",
    "\n",
    "Seguramente, en tu terminal aparezca lo siguiente, si tienes Windows:\n",
    "\n",
    "`C:\\Users\\tu_nombre_de_usuario>`\n",
    "\n",
    "Por ejemplo, en el mío aparece `C:\\Users\\Leticia>` porque mi usuario es `Leticia`.\n",
    "\n",
    "Eso significa que estás en tu carpeta de usuario, y siempre que abrimos la terminal entramos ahí. Ahora, nuestro archivo está en el Escritorio, ¿verdad? Pues no podemos ejecutarlo sin cambiar de directorio en la terminal. Esto puede sonar muy raro, pero te acostumbrarás. Si ahora mismo escribes `cd Desktop` (_cd_ significa _change directory_) y le das a Intro, te habrás «movido» al Escritorio (en la terminal) y aparecerá lo siguiente:\n",
    "\n",
    "`C:\\Users\\tu_nombre_de_usuario\\Desktop>`\n",
    "\n",
    "Ahora ya podemos ejecutar el programa que hemos escrito. Para ello hay que escribir en la terminal, primero, el intérprete que queremos usar para leerlo, es decir, `python` (así, en minúscula); y después, el archivo que queremos ejecutar, es decir, `hola.py` o como lo hayamos llamado. Deben ir separadas por un espacio. Resumiendo:\n",
    "\n",
    "`python hola.py`\n",
    "\n",
    "Dale a Intro y a ver qué pasa. ¿Te sale el `¡Hola, mundo!`? ¡Bien! Pues eso ya es un gran paso; significa que todo funciona correctamente, ¡que no es moco de pavo!\n",
    "\n",
    "Es posible que, en vez de simplemente `python`, debas escribir `python3`, si ya tenías instalado Python 2.\n",
    "\n",
    "Aunque comparado con los cuadernos Jupyter pueda parecer un rollo usar la terminal, si vas a trabajar con programadores te va a venir muy bien saber usarla, por no decir que lo vas a necesitar. Probablemente te pidan ejecutar algún comando o hacer alguna cosa que solo puede hacerse desde la terminal. Además, para proyectos grandes en los que interactúan varios scripts y archivos, no se suelen usar los cuadernos. Por eso, en este curso, aunque los usemos por comodidad y no haga falta aprender a usar la terminal para aprobarlo, he querido enseñaros lo básico sobre ella en este tema, porque el curso es de programación general y cualquier programador sabe usarla."
   ]
  },
  {
   "cell_type": "markdown",
   "metadata": {},
   "source": [
    "## Algunos trucos de la terminal\n",
    "Los programadores valoran mucho la eficiencia y la posibilidad de hacer su trabajo más cómodo. Al fin y al cabo se pasan mucho tiempo escribiendo cosas muy parecidas. Por eso, vas a ver que tienen infinidad de trucos para ahorrar tiempo, visualizar el código de forma más clara, etc.\n",
    "\n",
    "### Autocompletado\n",
    "Uno de los «trucos» más típicos es el autocompletado. Consiste en pulsar el tabulador a mitad de comando o argumento para que el ordenador escriba el resto. Por ejemplo, si escribes en la terminal, estando en el Escritorio, `python hol` y le das al tabulador, se autocompletará el nombre del archivo, con la extensión y todo.\n",
    "\n",
    "Es importante saber que si existen dos archivos que empiezan igual, el ordenador no puede saber a cuál te refieres. Siguiendo el ejemplo anterior, imagínate que existe el archivo `hola_v2.py` porque has estado trabajando en una versión mejorada de `hola.py`. Si en la terminal pones, como antes, `python hol` y le das al tabulador, el ordenador puede tener dos comportamientos distintos:\n",
    "- completar el nombre del archivo hasta la `a`, pero luego parar y hacer un sonidito de advertencia. En este caso, «quiere» que le des una pista, porque sabe que cuando escribas el siguiente carácter ya sabrá con certeza cuál de los dos archivos quieres ejecutar.\n",
    "- completar con el nombre del primer archivo en orden alfabético. Pero si vuelves a pulsar el tabulador, pasará al siguiente archivo, y así sucesivamente.\n",
    "\n",
    "Prúebalo tú mismo.\n",
    "\n",
    "Presta siempre atención a que el archivo que estás ejecutando es el que quieres ejecutar; si no, puedes creer que cierto archivo te está dando un error y volverte loco encontrándolo porque te has equivocado de archivo 😅\n",
    "\n",
    "### Historial\n",
    "La otra gran aliada a la hora de usar la terminal es la tecla de la flecha hacia arriba, que sirve para navegar por el historial. Es muy típico que ejecutemos un programa, nos dé un error o una salida que no nos gusta, y tengamos que modificar el programa y volver a ejecutarlo. Pues bien, para volver a ejecutarlo no hace falta volver a escribir el comando anterior, sino simplemente darle a la flecha de arriba y se nos escribirá el último comando usado. ¡Genial!\n",
    "\n",
    "Si le diéramos una segunda vez, iríamos al penúltimo comando ejecutado, y así sucesivamente. Por eso se puede considerar que lo que estamos haciendo es navegar por el historial de comandos."
   ]
  }
 ],
 "metadata": {
  "kernelspec": {
   "display_name": "Python 3",
   "language": "python",
   "name": "python3"
  },
  "language_info": {
   "codemirror_mode": {
    "name": "ipython",
    "version": 3
   },
   "file_extension": ".py",
   "mimetype": "text/x-python",
   "name": "python",
   "nbconvert_exporter": "python",
   "pygments_lexer": "ipython3",
   "version": "3.7.0"
  }
 },
 "nbformat": 4,
 "nbformat_minor": 2
}
