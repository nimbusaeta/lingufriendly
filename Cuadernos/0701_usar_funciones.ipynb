{
 "cells": [
  {
   "cell_type": "markdown",
   "metadata": {},
   "source": [
    "# Tema 7: Funciones (I)\n",
    "El concepto de _función_ es muy importante en programación, ya que permite reutilizar código, y la optimización de recursos es algo que se valora mucho en este campo. Además eso hace que podamos realizar las tareas que resuelven las funciones sin necesidad de saber exactamente cómo las resuelven.\n",
    "\n",
    "Una función no es más que un conjunto de instrucciones al que le hemos dado nombre, y sirve para poder ejecutar ese conjunto de instrucciones en nuestro programa cuando queramos. Crearemos funciones cuando el conjunto de instrucciones tenga sentido para realizar una tarea concreta. Para ello primero tendremos que _definirla_ y después _llamarla_.\n",
    "\n",
    "En este tema vamos a prestar atención primero a cómo las llamamos o las usamos, para ver sus partes, y después a definirlas. Finalmente, veremos cómo se coloca todo esto en un programa."
   ]
  },
  {
   "cell_type": "markdown",
   "metadata": {},
   "source": [
    "## Usar funciones\n",
    "En realidad, llevas usando funciones todo el curso. Vamos a hacer un repaso:\n",
    "    \n",
    "| Nombre | Qué hace\n",
    "| ------ | --------\n",
    "| `print()` | Imprimir mensajes por pantalla\n",
    "| `input()` | Preguntar al usuario y devolver la respuesta como string\n",
    "| `int()`, `float()`, `str()` | Convertir, respectivamente, a números enteros, números reales y strings\n",
    "| `list()`, `set()`, `dict()` | Convertir, respectivamente, a listas, conjuntos y diccionarios\n",
    "| `range()` | Devolver un rango de números como objeto iterable\n",
    "\n",
    "¿Sabemos exactamente cómo funcionan estas funciones? No, pero no nos importa, siempre que sepamos cómo usarlas."
   ]
  },
  {
   "cell_type": "markdown",
   "metadata": {},
   "source": [
    "### Parámetros\n",
    "Los parámetros de las funciones son los argumentos que le pasamos dentro de los paréntesis al llamarlas. No siempre hacen falta (como en el caso de `print()`), pero otras veces sí son obligatorios.\n",
    "\n",
    "Lo sabremos porque saltará un error bastante transparente (`expected 1 arguments, got 0`):"
   ]
  },
  {
   "cell_type": "code",
   "execution_count": 5,
   "metadata": {},
   "outputs": [
    {
     "ename": "TypeError",
     "evalue": "range expected 1 arguments, got 0",
     "output_type": "error",
     "traceback": [
      "\u001b[1;31m---------------------------------------------------------------------------\u001b[0m",
      "\u001b[1;31mTypeError\u001b[0m                                 Traceback (most recent call last)",
      "\u001b[1;32m<ipython-input-5-5bcbe005bf48>\u001b[0m in \u001b[0;36m<module>\u001b[1;34m()\u001b[0m\n\u001b[1;32m----> 1\u001b[1;33m \u001b[0mrange\u001b[0m\u001b[1;33m(\u001b[0m\u001b[1;33m)\u001b[0m\u001b[1;33m\u001b[0m\u001b[0m\n\u001b[0m",
      "\u001b[1;31mTypeError\u001b[0m: range expected 1 arguments, got 0"
     ]
    }
   ],
   "source": [
    "range()"
   ]
  },
  {
   "cell_type": "markdown",
   "metadata": {},
   "source": [
    "Hay parámetros obligatorios y opcionales. En realidad, ya hemos hablado un poco de los parámetros de las funciones en otros temas, así que vamos a ilustrar la diferencia con ellos:\n",
    "\n",
    "- Hemos visto que la función `print()` tiene un parámetro opcional `sep` que nos permitía separar los elementos imprimidos por pantalla por otra cosa que no fuera un espacio. En realidad, todos los parámetros de `print()` son opcionales, porque si no le pasamos ninguno no da un error, sino que imprime una línea en blanco. Pero `sep` es un parámetro que siempre está definido. Lo que pasa es que por defecto tiene el valor de un espacio. En este caso, para usar ese parámetro opcional lo que hacemos es darle un valor a `sep`, que tiene que ser una cadena de texto siempre.\n",
    "- También hemos visto que `range()` tiene dos parámetros obligatorios, el número inicial y el final, y uno opcional, la distancia entre los números que ha de devolver. Todos estos números tienen que ser enteros, y esto tiene sentido, porque la utilidad de `range()` es contar de entero en entero. En este caso, para usar el parámetro opcional de la distancia entre números, no hay que escribir ningún `=`, sino simplemente escribir el número que queramos fijar como distancia en el orden correcto (tercera posición). Al igual que `sep`, también tiene un valor por defecto, que es 1, pero este parámetro no tiene ningún nombre en concreto.\n",
    "\n",
    "Es importante, al consultar en la documentación cómo se usa una función, fijarse en lo que hace la función, los parámetros que pide y admite, y de qué tipo tienen que ser. Puedes comprobar lo que acabamos de decir sobre `print()` y `range()` en la [documentación sobre las funciones por defecto que trae Python (o _built-in functions_)](https://docs.python.org/3.7/library/functions.html)."
   ]
  },
  {
   "cell_type": "markdown",
   "metadata": {},
   "source": [
    "### Valores devueltos\n",
    "Las funciones normalmente hacen dos cosas: ejecutar instrucciones y devolver valores. Esos valores los usaremos para guardarlos en variables o pasarlos como parámetros a otras funciones directamente:"
   ]
  },
  {
   "cell_type": "code",
   "execution_count": 13,
   "metadata": {},
   "outputs": [
    {
     "name": "stdout",
     "output_type": "stream",
     "text": [
      "Dime un número: 3\n",
      "Has escogido el 3\n"
     ]
    }
   ],
   "source": [
    "# Podemos guardar el valor en una variable y luego usarla:\n",
    "numero = input(\"Dime un número: \")\n",
    "print(\"Has escogido el\", numero)"
   ]
  },
  {
   "cell_type": "code",
   "execution_count": 14,
   "metadata": {},
   "outputs": [
    {
     "name": "stdout",
     "output_type": "stream",
     "text": [
      "Dime un número: 3\n",
      "Has escogido el 3\n"
     ]
    }
   ],
   "source": [
    "# O usar el valor que nos devuelve la función directamente en la llamada a otra función:\n",
    "print(\"Has escogido el\", input(\"Dime un número: \"))"
   ]
  },
  {
   "cell_type": "markdown",
   "metadata": {},
   "source": [
    "Las funciones también pueden devolver más de un valor. Por ejemplo, `divmod()` es una función que devuelve tanto el conciente de una división como su resto. Para guardar su salida en valores la sintaxis que debemos utilizar es la siguiente:"
   ]
  },
  {
   "cell_type": "code",
   "execution_count": 11,
   "metadata": {},
   "outputs": [
    {
     "name": "stdout",
     "output_type": "stream",
     "text": [
      "10 entre 3 es 3 y sobran 2\n"
     ]
    }
   ],
   "source": [
    "cociente, resto = divmod(11, 3)\n",
    "print(\"10 entre 3 es\", cociente, \"y sobran\", resto)"
   ]
  },
  {
   "cell_type": "markdown",
   "metadata": {},
   "source": [
    "En realidad, lo que Python está haciendo aquí es empaquetar los dos valores en un objeto que se llama _tupla_, y lo que estamos creando en la línea 1 cuando separamos las dos variables por comas también es una tupla. Así, en la asignación lo que se hace es guardar cada uno de los elementos de la tupla devuelta por la función en cada una de las variables."
   ]
  },
  {
   "cell_type": "markdown",
   "metadata": {},
   "source": [
    "#### El caso de `print()`\n",
    "`print()` es la única función que no devuelve ningún valor. O, mejor dicho, que siempre devuelve el mismo valor, `None`, es decir, nada.\n",
    "\n",
    "Lo único que hace `print()` es imprimir por pantalla, y si intentas asignar a una variable el valor que devuelve, no da error, pero lo que hace es:\n",
    "1. imprimir lo que le pases como parámetro;\n",
    "2. guardar en dicha variable, le pases el parámetro que le pases, siempre `None`."
   ]
  },
  {
   "cell_type": "code",
   "execution_count": 17,
   "metadata": {},
   "outputs": [
    {
     "name": "stdout",
     "output_type": "stream",
     "text": [
      "mesa\n",
      "None\n",
      "silla\n",
      "None\n"
     ]
    }
   ],
   "source": [
    "palabra = print('mesa')\n",
    "print(palabra)\n",
    "palabra = print('silla')\n",
    "print(palabra)"
   ]
  },
  {
   "cell_type": "markdown",
   "metadata": {},
   "source": [
    "En la celda anterior, fíjate en cómo la línea 1 lo que hace es asignar `None` a la variable `palabra` y a la vez imprimir por pantalla `mesa`, mientras que la línea 2 imprime el contenido de `palabra` (por eso sabemos que es `None`). Aunque cambiemos el parámetro del `print()`, el contenido vuelve a ser `None`.\n",
    "\n",
    "Por eso nunca se usa el valor que devuelve `print()`: no se asigna a variables ni se le aplican métodos."
   ]
  },
  {
   "cell_type": "markdown",
   "metadata": {},
   "source": [
    "## Ejercicios"
   ]
  },
  {
   "cell_type": "markdown",
   "metadata": {},
   "source": [
    "### 070101\n",
    "Consulta en la documentación cómo se usa la función `sum()` (Pista: está en la misma página que hemos enlazado antes). ¿Qué hace esta función? ¿Cuáles son sus parámetros obligatorios y opcionales? ¿Cómo hay que pasárselos a la función? ¿Qué pasa si no pones el parámetro _start_?"
   ]
  },
  {
   "cell_type": "markdown",
   "metadata": {},
   "source": [
    "### 070102\n",
    "Con el siguiente código pretendemos pedirle al usuario una palabra e imprimirla por pantalla en mayúsculas. ¿Sabrías explicar por qué da error? ¿Sabrías corregirlo sin añadir otra línea?"
   ]
  },
  {
   "cell_type": "code",
   "execution_count": null,
   "metadata": {},
   "outputs": [],
   "source": [
    "print(input(\"Dime una palabra: \")).capitalize()"
   ]
  },
  {
   "cell_type": "markdown",
   "metadata": {},
   "source": [
    "### 070103\n",
    "Escribe, en una línea, un programa que le pregunte una palabra al usuario, multiplique cada uno de sus caracteres por 5, los pegue e imprima el resultado por pantalla.\n",
    "\n",
    "(Pista: tendrás que usar una lista por compresión, y `\"\".join()` para que no se imprima una lista, sino una string)"
   ]
  }
 ],
 "metadata": {
  "kernelspec": {
   "display_name": "Python 3",
   "language": "python",
   "name": "python3"
  },
  "language_info": {
   "codemirror_mode": {
    "name": "ipython",
    "version": 3
   },
   "file_extension": ".py",
   "mimetype": "text/x-python",
   "name": "python",
   "nbconvert_exporter": "python",
   "pygments_lexer": "ipython3",
   "version": "3.7.0"
  }
 },
 "nbformat": 4,
 "nbformat_minor": 2
}
