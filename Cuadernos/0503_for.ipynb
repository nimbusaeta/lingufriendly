{
 "cells": [
  {
   "cell_type": "markdown",
   "metadata": {},
   "source": [
    "# Tema 5: Bucles (III)"
   ]
  },
  {
   "cell_type": "markdown",
   "metadata": {},
   "source": [
    "## Bucles con `for`\n",
    "El esquema que sigue la instrucción `for` es, de nuevo, muy parecido al de `if`:\n",
    "\n",
    "    for <variable> in <rango>:\n",
    "        <instrucciones_dentro_del_for>\n",
    "    <resto_del_programa>\n",
    "\n",
    "La gran diferencia con respecto a `while` es que aquí no trabajamos con una condición que se cumple o se deja de cumplir, sino con una variable dentro de un rango.\n",
    "\n",
    "Antes de seguir, vamos a aprender cómo funciona la función `range()`, para poder usarla para generar el rango que necesitamos en esta estructura del `for`."
   ]
  },
  {
   "cell_type": "markdown",
   "metadata": {},
   "source": [
    "### Función `range()`\n",
    "Con la función `range()` podemos generar un rango de números a partir de los números que le pasemos como argumentos. El primer argumento es el número de inicio, que pertenecerá al rango, y el segundo argumento es el número de fin, solo que este no será parte del rango.\n",
    "\n",
    "Por ejemplo, si le pasamos 0 y 9, imprimirá del 0 (incluido) al 9 (no incluido, es decir, el último que imprime es el 8):"
   ]
  },
  {
   "cell_type": "code",
   "execution_count": 1,
   "metadata": {},
   "outputs": [
    {
     "name": "stdout",
     "output_type": "stream",
     "text": [
      "0\n",
      "1\n",
      "2\n",
      "3\n",
      "4\n",
      "5\n",
      "6\n",
      "7\n",
      "8\n"
     ]
    }
   ],
   "source": [
    "for i in range(0, 9):\n",
    "    print(i)"
   ]
  },
  {
   "cell_type": "markdown",
   "metadata": {},
   "source": [
    "Estos dos argumentos que le hemos pasado son los argumentos obligatorios; sin ellos no habríamos podido ejecutar la celda porque el programa no sabría resolver la función `range()` (tiene sentido, porque para definir un rango lo mínimo que necesitamos saber es el principio y el final).\n",
    "\n",
    "Sin embargo, igual que pasaba con `print()` y el argumento `sep`, si le pasamos un tercer número, este indicará la distancia que queremos que salte en cada iteración. Por defecto, este valor es 1, así que si no escribimos ese tercer número la distancia será de 1 (también tiene sentido, porque es lo más normal cuando pensamos en un rango de números).\n",
    "\n",
    "Siguiendo el ejemplo anterior, si añadimos un 2 a los parámetros que le pasamos a `range()` obtendremos el mismo rango pero con saltos de 2 números en vez de 1:"
   ]
  },
  {
   "cell_type": "code",
   "execution_count": 2,
   "metadata": {},
   "outputs": [
    {
     "name": "stdout",
     "output_type": "stream",
     "text": [
      "0\n",
      "2\n",
      "4\n",
      "6\n",
      "8\n"
     ]
    }
   ],
   "source": [
    "for i in range(0, 9, 2):\n",
    "    print(i)"
   ]
  },
  {
   "cell_type": "markdown",
   "metadata": {},
   "source": [
    "Por supuesto, también podemos escribir rangos descendentes. En este caso tendremos que definir siempre la distancia entre los números, que será negativa. Por ejemplo, la típica cuenta atrás:"
   ]
  },
  {
   "cell_type": "code",
   "execution_count": 3,
   "metadata": {},
   "outputs": [
    {
     "name": "stdout",
     "output_type": "stream",
     "text": [
      "3\n",
      "2\n",
      "1\n",
      "¡Ya!\n"
     ]
    }
   ],
   "source": [
    "for i in range(3, 0, -1):\n",
    "    print(i)\n",
    "print(\"¡Ya!\")"
   ]
  },
  {
   "cell_type": "markdown",
   "metadata": {},
   "source": [
    "## Diferencia entre `while` y `for`\n",
    "Los bucles con `while` son más generales que los bucles `for` porque permiten escribir programas en los que no se conoce el número de veces que se repetirá un bloque de código (como el programa del cuaderno anterior que pedía al usuario adivinar números).\n",
    "\n",
    "Sin embargo, si se conoce el número de repeticiones, los bucles `for` permiten escribir código más compacto. Por ejemplo, el primer programa que hemos escrito en este cuaderno también se podría haber escrito usando `while`, así:"
   ]
  },
  {
   "cell_type": "code",
   "execution_count": 4,
   "metadata": {},
   "outputs": [
    {
     "name": "stdout",
     "output_type": "stream",
     "text": [
      "0\n",
      "1\n",
      "2\n",
      "3\n",
      "4\n",
      "5\n",
      "6\n",
      "7\n",
      "8\n"
     ]
    }
   ],
   "source": [
    "i = 0\n",
    "while i < 9:\n",
    "    print(i)\n",
    "    i = i + 1"
   ]
  },
  {
   "cell_type": "markdown",
   "metadata": {},
   "source": [
    "Pero, como puedes ver, la versión que usa la instrucción `for` es un poco más compacta porque en la misma línea se define la variable que va a servir para iterar, su valor inicial, su valor final y la distancia entre las iteraciones. No hace falta inicializar el bucle ni corremos el riesgo de crear un bucle infinito, así que tampoco hace falta cerrarlo."
   ]
  },
  {
   "cell_type": "markdown",
   "metadata": {},
   "source": [
    "Además, los bucles con `for` pueden usarse para recorrer los elementos almacenados en estructuras de datos, pero esto lo veremos en el tema 6."
   ]
  },
  {
   "cell_type": "markdown",
   "metadata": {},
   "source": [
    "## Usando el índice del bucle\n",
    "Hasta ahora lo único que hemos hecho con el índice del bucle es imprimirlo, pero puede ser muy útil operar con él para resolver ciertos problemas. Por ejemplo, calcular lo que suman los números impares que hay dentro de los 10 primeros números naturales:"
   ]
  },
  {
   "cell_type": "code",
   "execution_count": 5,
   "metadata": {},
   "outputs": [
    {
     "name": "stdout",
     "output_type": "stream",
     "text": [
      "Los números impares que hay dentro de los 10 primeros números naturales son:\n",
      "1\n",
      "3\n",
      "5\n",
      "7\n",
      "9\n",
      "Y suman:\n",
      "25\n"
     ]
    }
   ],
   "source": [
    "suma = 0\n",
    "print(\"Los números impares que hay dentro de los 10 primeros números naturales son:\")\n",
    "\n",
    "for i in range(1, 10, 2):\n",
    "    print(i)\n",
    "    suma = suma + i\n",
    "\n",
    "print(\"Y suman:\")\n",
    "print(suma)"
   ]
  },
  {
   "cell_type": "markdown",
   "metadata": {},
   "source": [
    "Aparte de imprimir su valor, hemos ido sumándolo a la variable `suma`. Fíjate en que para poder usarla dentro del bucle y también después, tenemos que declararla fuera del bucle, en la primera línea."
   ]
  },
  {
   "cell_type": "markdown",
   "metadata": {},
   "source": [
    "## Bucles con instrucciones condicionales\n",
    "Por supuesto, los bucles se pueden combinar con las demás estructuras que hemos aprendido, como las condicionales.\n",
    "\n",
    "Por ejemplo, podemos escribir un programa que encuentre los primeros números naturales cuyo cuadrado acabe en 6. Para ello, recorremos la lista de números con un `for`, y dentro de él evaluamos la condición de que el cuadrado del número acabe en 6, convirtiendo el número en una string, para poder usar el método `.endswith()`. Si es así, se imprime por pantalla un mensaje con el dato del número, su cuadrado y que acaba en 6. Si no, no se ejecuta nada más."
   ]
  },
  {
   "cell_type": "code",
   "execution_count": 6,
   "metadata": {},
   "outputs": [
    {
     "name": "stdout",
     "output_type": "stream",
     "text": [
      "El cuadrado de 4, 16, acaba en 6.\n",
      "El cuadrado de 6, 36, acaba en 6.\n",
      "El cuadrado de 14, 196, acaba en 6.\n",
      "El cuadrado de 16, 256, acaba en 6.\n",
      "El cuadrado de 24, 576, acaba en 6.\n",
      "El cuadrado de 26, 676, acaba en 6.\n",
      "El cuadrado de 34, 1156, acaba en 6.\n",
      "El cuadrado de 36, 1296, acaba en 6.\n",
      "El cuadrado de 44, 1936, acaba en 6.\n",
      "El cuadrado de 46, 2116, acaba en 6.\n",
      "El cuadrado de 54, 2916, acaba en 6.\n",
      "El cuadrado de 56, 3136, acaba en 6.\n",
      "El cuadrado de 64, 4096, acaba en 6.\n",
      "El cuadrado de 66, 4356, acaba en 6.\n",
      "El cuadrado de 74, 5476, acaba en 6.\n",
      "El cuadrado de 76, 5776, acaba en 6.\n",
      "El cuadrado de 84, 7056, acaba en 6.\n",
      "El cuadrado de 86, 7396, acaba en 6.\n",
      "El cuadrado de 94, 8836, acaba en 6.\n",
      "El cuadrado de 96, 9216, acaba en 6.\n"
     ]
    }
   ],
   "source": [
    "for i in range(0, 100):\n",
    "    if str(i * i).endswith(\"6\"):\n",
    "        print(\"El cuadrado de \", i, \", \", i * i, \", acaba en 6.\", sep=\"\")"
   ]
  },
  {
   "cell_type": "markdown",
   "metadata": {},
   "source": [
    "## Ejercicios"
   ]
  },
  {
   "cell_type": "markdown",
   "metadata": {},
   "source": [
    "### 050301\n",
    "Vuelve a hacer el ejercicio de imprimir la suma de los números naturales, pero esta vez deja que el usuario decida desde qué número empezar a sumar, hasta qué número llegar y el salto que debe darse en cada iteración.\n",
    "\n",
    "Por ejemplo, si el usuario introduce los números 10, 30 y 3, el programa debe calcular 10 + 13 + 16 + 19 + 22 + 25 + 28 = 133."
   ]
  },
  {
   "cell_type": "markdown",
   "metadata": {},
   "source": [
    "### 050302\n",
    "Escribe un programa que imprima la tabla de multiplicar de un número introducido por el usuario usando una instrucción `for`. Por ejemplo, si el usuario introduce el 3, el programa debe imprimir la tabla del 3."
   ]
  }
 ],
 "metadata": {
  "kernelspec": {
   "display_name": "Python 3",
   "language": "python",
   "name": "python3"
  },
  "language_info": {
   "codemirror_mode": {
    "name": "ipython",
    "version": 3
   },
   "file_extension": ".py",
   "mimetype": "text/x-python",
   "name": "python",
   "nbconvert_exporter": "python",
   "pygments_lexer": "ipython3",
   "version": "3.7.0"
  }
 },
 "nbformat": 4,
 "nbformat_minor": 2
}
