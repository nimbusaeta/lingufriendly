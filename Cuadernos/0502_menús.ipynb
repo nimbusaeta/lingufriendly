{
 "cells": [
  {
   "cell_type": "markdown",
   "metadata": {},
   "source": [
    "# Tema 5: Bucles (II)\n",
    "Vamos a ver con detenimiento un caso de uso concreto de los bucles con `while`: los menús de opciones."
   ]
  },
  {
   "cell_type": "markdown",
   "metadata": {},
   "source": [
    "## Menú de opciones\n",
    "Una de las cosas más útiles que podemos programar con `while` son los menús de opciones, ya que normalmente querremos que el menú se imprima cada vez que se realice la acción elegida por el usuario, sin que se acabe la ejecución, y que solo deje de salir cuando este elija la opción de Salir.\n",
    "\n",
    "Por ejemplo, podemos escribir un programa que permita al usuario elegir una persona para que se pinte por pantalla una cita suya o salir del programa, y que pueda pedir cuantos textos quiera sin que el programa se interrumpa, hasta que quiera salir. También podemos gestionar, con las condiciones, qué pasa si el usuario elige una opción no válida: una buena práctica es imprimir un mensaje recordando cuáles son las opciones válidas.\n",
    "\n",
    "Fíjate en el siguiente programa y en lo que ocurre cuando el usuario escribe `2`, `4`, `8` y `6`, o pruébalo tú misma:"
   ]
  },
  {
   "cell_type": "code",
   "execution_count": 1,
   "metadata": {},
   "outputs": [
    {
     "name": "stdout",
     "output_type": "stream",
     "text": [
      "Bienvenido a 'Mis citas célebres favoritas'\n",
      "\n",
      "Elige una persona:\n",
      "----\n",
      "1. Marco Aurelio\n",
      "2. Marguerite Yourcenar\n",
      "3. Emma Goldman\n",
      "4. Carl Sagan\n",
      "5. Chimamanda Ngozi Adichie\n",
      "6. Salir del programa\n",
      "\n",
      "Elige tu opción escribiendo el número de la opción: 2\n",
      "\n",
      "«Cada uno de nosotros posee más virtudes de lo que se cree, pero solo el éxito las pone de manifiesto.» —Marguerite Yourcenar.\n",
      "\n",
      "Elige una persona:\n",
      "----\n",
      "1. Marco Aurelio\n",
      "2. Marguerite Yourcenar\n",
      "3. Emma Goldman\n",
      "4. Carl Sagan\n",
      "5. Chimamanda Ngozi Adichie\n",
      "6. Salir del programa\n",
      "\n",
      "Elige tu opción escribiendo el número de la opción: 4\n",
      "\n",
      "«Vivimos en una sociedad profundamente dependiente de la ciencia y la tecnología en la que casi nadie entiende nada de estos temas, lo cual constituye una fórmula segura para el desastre.» —Carl Sagan.\n",
      "\n",
      "Elige una persona:\n",
      "----\n",
      "1. Marco Aurelio\n",
      "2. Marguerite Yourcenar\n",
      "3. Emma Goldman\n",
      "4. Carl Sagan\n",
      "5. Chimamanda Ngozi Adichie\n",
      "6. Salir del programa\n",
      "\n",
      "Elige tu opción escribiendo el número de la opción: 8\n",
      "\n",
      "Tienes que escribir un número del 1 al 6\n",
      "\n",
      "Elige una persona:\n",
      "----\n",
      "1. Marco Aurelio\n",
      "2. Marguerite Yourcenar\n",
      "3. Emma Goldman\n",
      "4. Carl Sagan\n",
      "5. Chimamanda Ngozi Adichie\n",
      "6. Salir del programa\n",
      "\n",
      "Elige tu opción escribiendo el número de la opción: 6\n",
      "\n",
      "Esperamos que te haya gustado. ¡Hasta la próxima!\n"
     ]
    }
   ],
   "source": [
    "### Datos\n",
    "marcoaurelio = \"«¡Asia, Europa: rincones del mundo; todo el océano: una gota del universo! El Athos: un minúsculo terrón en todo el universo; todo el presente, un instante en la eternidad.» —Marco Aurelio.\"\n",
    "\n",
    "yourcenar = \"«Cada uno de nosotros posee más virtudes de lo que se cree, pero solo el éxito las pone de manifiesto.» —Marguerite Yourcenar.\"\n",
    "\n",
    "goldman = \"«Hombres y mujeres intelectuales de todo el mundo han comenzado a percatarse de que el patriotismo es un concepto demasiado estrecho y limitado para suplir las necesidades de nuestra época.» —Emma Goldman.\"\n",
    "\n",
    "sagan = \"«Vivimos en una sociedad profundamente dependiente de la ciencia y la tecnología en la que casi nadie entiende nada de estos temas, lo cual constituye una fórmula segura para el desastre.» —Carl Sagan.\"\n",
    "\n",
    "ngozi = \"«Todos deberíamos ser feministas.» —Chimamanda Ngozi Adichie.\"\n",
    "\n",
    "### Programa\n",
    "print(\"Bienvenido a 'Mis citas célebres favoritas'\")\n",
    "\n",
    "continuar = True\n",
    "\n",
    "# menú\n",
    "while continuar:\n",
    "    print()\n",
    "    print(\"Elige una persona:\")\n",
    "    print(\"----\")\n",
    "    print(\"1. Marco Aurelio\")\n",
    "    print(\"2. Marguerite Yourcenar\")\n",
    "    print(\"3. Emma Goldman\")\n",
    "    print(\"4. Carl Sagan\")\n",
    "    print(\"5. Chimamanda Ngozi Adichie\")\n",
    "    print(\"6. Salir del programa\")\n",
    "    print()\n",
    "    option = input(\"Elige tu opción escribiendo el número de la opción: \")\n",
    "    print()\n",
    "    \n",
    "    # opción 1: Marco Aurelio \n",
    "    if option == \"1\":\n",
    "        print(marcoaurelio)\n",
    "        \n",
    "    # opción 2: Marguerite Yourcenar\n",
    "    elif option == \"2\":\n",
    "        print(yourcenar)\n",
    "        \n",
    "    # opción 3: Emma Goldman\n",
    "    elif option == \"3\":\n",
    "        print(goldman)\n",
    "        \n",
    "    # opción 4: Carl Sagan\n",
    "    elif option == \"4\":\n",
    "        print(sagan)\n",
    "        \n",
    "    # opción 5: Chimamanda Ngozi Adichie\n",
    "    elif option == \"5\":\n",
    "        print(ngozi)\n",
    "        \n",
    "    # opción 6: salir\n",
    "    elif option == \"6\":\n",
    "        continuar = False # le damos el valor False a continuar para salir del bucle\n",
    "        print(\"Esperamos que te haya gustado. ¡Hasta la próxima!\")\n",
    "        \n",
    "    # podemos implantar un código de aviso cuando el usuario no introduzca nada de lo esperable\n",
    "    else:\n",
    "        print(\"Tienes que escribir un número del 1 al 6\")"
   ]
  },
  {
   "cell_type": "markdown",
   "metadata": {},
   "source": [
    "## Estructura de los programas\n",
    "Como ves en el ejemplo anterior, primero hemos puesto la parte del programa que contiene los datos que vamos a usar en él; en este caso, las citas. Y hemos divido el programa en dos partes diferenciadas (_Datos_ y _Programa_) mediante los comentarios.\n",
    "\n",
    "Esto es una práctica habitual que conviene seguir, pues ayuda a leer el código. De hecho, más adelante veremos que estas dos partes se separarán en archivos diferentes, pero de momento los programas que hacemos son lo suficientemente pequeños como para no tener que preocuparnos por eso."
   ]
  },
  {
   "cell_type": "markdown",
   "metadata": {},
   "source": [
    "## Ejercicios"
   ]
  },
  {
   "cell_type": "markdown",
   "metadata": {},
   "source": [
    "### 050201\n",
    "En el programa de ejemplo de arriba, ¿cuál es la variable con la que controlamos el bucle `while`? ¿En qué variable se recoge lo que elige el usuario?\n",
    "\n",
    "### 050202\n",
    "En el programa de ejemplo de arriba, ¿por qué pone `option == \"1\"`, `option == \"2\"`, `option == \"3\"`... y no `option == 1`, etcétera? ¿Se podría cambiar algo en el programa para poder usar la segunda versión?\n",
    "\n",
    "### 050203\n",
    "Escribe un programa que presente un menú al usuario para que pueda consultar información sobre tu artista favorito. Puedes buscar la información en Wikipedia; por ejemplo, si lo hiciésemos sobre [Miguel Maldonado](https://es.wikipedia.org/wiki/Miguel_Maldonado) el menú quedaría así:\n",
    "\n",
    "    ¿Qué quieres saber sobre Miguel Maldonado?\n",
    "    a) Nombre completo\n",
    "    b) Fecha de nacimiento\n",
    "    c) Lugar de nacimiento\n",
    "    d) Nacionalidad\n",
    "    e) Educación\n",
    "    f) Alma máter\n",
    "    g) Ocupación\n",
    "    h) Programas\n",
    "    i) Salir\n",
    "\n",
    "Al escribir el usuario una letra del menú, debe imprimirse por pantalla la información correspondiente y, debajo, el menú de nuevo hasta que este escoja la opción Salir. Si pone una letra que no está en el menú, debe imprimirse un mensaje que le recuerde cuáles son las letras válidas."
   ]
  }
 ],
 "metadata": {
  "kernelspec": {
   "display_name": "Python 3",
   "language": "python",
   "name": "python3"
  },
  "language_info": {
   "codemirror_mode": {
    "name": "ipython",
    "version": 3
   },
   "file_extension": ".py",
   "mimetype": "text/x-python",
   "name": "python",
   "nbconvert_exporter": "python",
   "pygments_lexer": "ipython3",
   "version": "3.7.0"
  }
 },
 "nbformat": 4,
 "nbformat_minor": 2
}
