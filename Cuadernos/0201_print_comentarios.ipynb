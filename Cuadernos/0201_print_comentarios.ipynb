{
 "cells": [
  {
   "cell_type": "markdown",
   "metadata": {},
   "source": [
    "# Tema 2: variables (I)"
   ]
  },
  {
   "cell_type": "markdown",
   "metadata": {},
   "source": [
    "## ¿Qué es un programa?\n",
    "Programar es comunicarse con el ordenador. En concreto, al programar le damos órdenes al ordenador para que haga ciertas cosas. La clave está en cómo deben ser y presentarse esas órdenes. Los ordenadores necesitan instrucciones claras, precisas y no ambiguas para ejecutar lo que queremos. Tampoco hay tal cosa como las palabras polisémicas: los términos que utilicemos siempre significarán lo mismo, pues el intérprete no entiende de contextos, metáforas, etc. Como ves, los lenguajes de programación son muy distintos del lenguaje humano."
   ]
  },
  {
   "cell_type": "markdown",
   "metadata": {},
   "source": [
    "## ¿Para qué sirven los lenguajes de programación?\n",
    "El ordenador solo entiende de unos y ceros, y nosotros no somos capaces de expresarnos en esos términos. Así que, ¿cómo es posible que nos comuniquemos? Para eso hemos inventado los lenguajes de programación.\n",
    "\n",
    "Una de las primeras personas en pensar en este tipo de lenguajes fue Ada Lovelace. Ada nació en 1815 y fue hija del famoso poeta Lord Byron. Se convirtió en matemática y durante toda su vida trabajó con la idea de la máquina analítica. En realidad, era una propuesta de un conjunto de instrucciones pensadas para que una máquina resolviera problemas matemáticos. Ella comparaba su máquina analítica con una máquina de tejer: una dibuja flores y bordados, y otra resuelve o «dibuja» dibujos algebraicos.\n",
    "\n",
    "Se considera a Ada una de las primeras programadoras de la historia, pues a partir de sus ideas se establecieron los principios de los lenguajes de programación, que han dado lugar a una gran variedad de lenguajes. Estos lenguajes han evolucionado mucho con el tiempo. Por eso, se suelen organizar en tres generaciones:\n",
    "- Lenguaje máquina o código máquina: es el lenguaje que interpreta directamente el computador, ceros y unos. \n",
    "- Lenguajes de programación de bajo nivel: son un poco más complejos que el lenguaje máquina, pero siguen basándose en instrucciones muy atómicas. Estas instrucciones ejercen un control directo sobre el hardware o la parte física del ordenador, es decir, el teclado o la pantalla. Uno de los ejemplos más clásicos de este tipo de lenguajes es el ensamblador. \n",
    "- Lenguajes de programación de alto nivel: son los lenguajes que codifican las instrucciones para el ordenador de la forma más parecida al lenguaje humano. Por ejemplo, utilizan palabras como _if_, que es el «si» condicional en inglés, para expresar condiciones; o _for_, que en inglés significa «por», para repetir una instrucción varias veces. Los lenguajes de alto nivel surgen alrededor de los años 50 y entre los más famosos encontramos, por ejemplo, C, C++, Java o Python.\n",
    "\n",
    "La buena noticia es que todo lenguaje de programación sigue una estructura muy similar, con una sintaxis y una semántica parecida a Python. Por tanto, esto te servirá no solo para aprender Python, sino otros muchos lenguajes de programación. Si es el primero que conoces, puede que ahora aprendas muy despacio. Pero si después aprendes otro, verás que solo necesitarás familiarizarte con su sintaxis y semántica particulares."
   ]
  },
  {
   "cell_type": "markdown",
   "metadata": {},
   "source": [
    "## Función `print()`\n",
    "La primera función que vamos a aprender, y que de hecho ya has podido ver, es `print()`. Es una orden muy básica y muy útil. No tiene nada que ver con la impresora, sino que sirve para mostrar por pantalla el argumento que le pasemos."
   ]
  },
  {
   "cell_type": "code",
   "execution_count": 1,
   "metadata": {},
   "outputs": [
    {
     "name": "stdout",
     "output_type": "stream",
     "text": [
      "Un soneto me manda hacer Violante\n"
     ]
    }
   ],
   "source": [
    "print(\"Un soneto me manda hacer Violante\")"
   ]
  },
  {
   "cell_type": "markdown",
   "metadata": {},
   "source": [
    "Fíjate en que, para que funcione bien, hay que ponerle comillas al texto que pasamos como argumento. De lo contrario, da un error. Ejecutar la siguiente celda dará un error."
   ]
  },
  {
   "cell_type": "code",
   "execution_count": 4,
   "metadata": {},
   "outputs": [
    {
     "ename": "SyntaxError",
     "evalue": "invalid syntax (<ipython-input-4-4121f08adcd6>, line 1)",
     "output_type": "error",
     "traceback": [
      "\u001b[1;36m  File \u001b[1;32m\"<ipython-input-4-4121f08adcd6>\"\u001b[1;36m, line \u001b[1;32m1\u001b[0m\n\u001b[1;33m    print(Un soneto me manda hacer Violante)\u001b[0m\n\u001b[1;37m                  ^\u001b[0m\n\u001b[1;31mSyntaxError\u001b[0m\u001b[1;31m:\u001b[0m invalid syntax\n"
     ]
    }
   ],
   "source": [
    "print(Un soneto me manda hacer Violante)"
   ]
  },
  {
   "cell_type": "markdown",
   "metadata": {},
   "source": [
    "Este error, el de `invalid syntax`, te va a aparecer muchas veces mientras aprendes Python. No te preocupes, no has roto nada, es lo más normal del mundo. Lo que ha pasado es que el programa no se ha ejecutado porque la «sintaxis» que has usado no es la correcta. Y ya sabemos que nuestras instrucciones deben ser precisas y ajustarse a la sintaxis porque el ordenador no sobreentiende nada.\n",
    "\n",
    "Los mensajes de error nos indican en qué línea está el error, en qué altura de esa línea se encuentra (falta o sobra algo normalmente), de qué tipo es el error (`SyntaxError`) y en qué consiste exactamente (`invalid syntax`). Son francamente útiles; aprenderemos mucho de ellos. A veces no hay otra forma de aprender que a base de probar y ver si nuestro código da error. ¡Los programadores también lo hacen! Es perfectamente válido."
   ]
  },
  {
   "cell_type": "markdown",
   "metadata": {},
   "source": [
    "Podemos poner una función `print` debajo de otra para escribir en otra línea. Cada `print` escribirá en una línea nueva."
   ]
  },
  {
   "cell_type": "code",
   "execution_count": 5,
   "metadata": {},
   "outputs": [
    {
     "name": "stdout",
     "output_type": "stream",
     "text": [
      "Un soneto me manda hacer Violante\n",
      "que en mi vida me he visto en tanto aprieto\n",
      "catorce versos dicen que es soneto\n",
      "burla burlando van los tres delante.\n"
     ]
    }
   ],
   "source": [
    "print(\"Un soneto me manda hacer Violante\")\n",
    "print(\"que en mi vida me he visto en tanto aprieto\")\n",
    "print(\"catorce versos dicen que es soneto\")\n",
    "print(\"burla burlando van los tres delante.\")"
   ]
  },
  {
   "cell_type": "markdown",
   "metadata": {},
   "source": [
    "También se pueden pintar líneas vacías. Las dos líneas de abajo hacen exactamente lo mismo."
   ]
  },
  {
   "cell_type": "code",
   "execution_count": 9,
   "metadata": {},
   "outputs": [
    {
     "name": "stdout",
     "output_type": "stream",
     "text": [
      "\n",
      "\n"
     ]
    }
   ],
   "source": [
    "print()\n",
    "print(\"\")"
   ]
  },
  {
   "cell_type": "markdown",
   "metadata": {},
   "source": [
    "Si queremos, en vez de las comillas dobles podemos usar las simples. Da exactamente lo mismo, mientras usemos las mismas para abrir y cerrar la cadena de texto. Esto sirve para poder imprimir las comillas que queramos en el texto, siempre que sean distintas de las que usamos para delimitar ese texto."
   ]
  },
  {
   "cell_type": "code",
   "execution_count": 2,
   "metadata": {},
   "outputs": [
    {
     "name": "stdout",
     "output_type": "stream",
     "text": [
      "Hola\n",
      "Hola\n",
      "La profe nos ha dicho 'hola' en un programa\n",
      "La profe nos ha dicho \"hola\" en un programa\n"
     ]
    }
   ],
   "source": [
    "print(\"Hola\")\n",
    "print('Hola')\n",
    "print(\"La profe nos ha dicho 'hola' en un programa\")\n",
    "print('La profe nos ha dicho \"hola\" en un programa')"
   ]
  },
  {
   "cell_type": "markdown",
   "metadata": {},
   "source": [
    "Por último, podemos concatenar varias cadenas de texto dentro del paréntesis de `print()` para que imprima una detrás de otra. Puede que esto no te parezca muy útil ahora, pero lo será cuando empecemos a usar variables."
   ]
  },
  {
   "cell_type": "code",
   "execution_count": 4,
   "metadata": {},
   "outputs": [
    {
     "name": "stdout",
     "output_type": "stream",
     "text": [
      "Monty Python\n"
     ]
    }
   ],
   "source": [
    "print(\"Monty\", 'Python')"
   ]
  },
  {
   "cell_type": "markdown",
   "metadata": {},
   "source": [
    "Lo que va dentro de los paréntesis de `print()` (y de cualquier función que veamos) se llama _argumento_. Hay argumentos obligatorios y opcionales. En el caso de `print()` uno de sus argumentos opcionales es `sep`, que indica qué separación hay que hacer entre las cadenas cuando las concatenamos. Por defecto toma el valor ` `, es decir, un espacio (porque normalmente separamos las palabras así). Pero lo podemos modificar a nuestro gusto, pasándole el valor que queramos separado por una coma. Por ejemplo, si definimos la separación como una cadena vacía, las cadenas se imprimirán pegadas:"
   ]
  },
  {
   "cell_type": "code",
   "execution_count": 8,
   "metadata": {},
   "outputs": [
    {
     "name": "stdout",
     "output_type": "stream",
     "text": [
      "MontyPython\n"
     ]
    }
   ],
   "source": [
    "print('Monty', 'Python', sep = '')"
   ]
  },
  {
   "cell_type": "code",
   "execution_count": 3,
   "metadata": {},
   "outputs": [
    {
     "name": "stdout",
     "output_type": "stream",
     "text": [
      "Monty, Python\n"
     ]
    }
   ],
   "source": [
    "print('Monty', 'Python', sep = ', ')"
   ]
  },
  {
   "cell_type": "markdown",
   "metadata": {},
   "source": [
    "Otra forma de concatenar cadenas que queramos imprimir es usando `+`, pero en este caso siempre salen las cadenas pegadas:"
   ]
  },
  {
   "cell_type": "code",
   "execution_count": 2,
   "metadata": {},
   "outputs": [
    {
     "name": "stdout",
     "output_type": "stream",
     "text": [
      "MontyPython\n"
     ]
    }
   ],
   "source": [
    "print('Monty' + 'Python')"
   ]
  },
  {
   "cell_type": "markdown",
   "metadata": {},
   "source": [
    "## Documentar el código\n",
    "\n",
    "Al programar, habitualmente hay que trabajar con código escrito por otras personas, o incluso por nosotros mismos hace mucho tiempo (prácticamente, otra persona). Cuando los programas son pequeños es sencillo entender cómo funcionan, pero según los programas crecen de tamaño, cada vez es más complicado leerlos.\n",
    "\n",
    "A los programadores siempre los verás muy preocupados por la legibilidad del código y por eso desarrollan guías de buenas prácticas y cosas así. Hay muchas formas de hacer lo mismo, pero algunas son más transparentes que otras.\n",
    "\n",
    "La primera técnica para mejorar la legibilidad del código que vamos a aprender es la de _documentar el código_, que consiste en usar lo que se llaman _comentarios_. Los comentarios son líneas, ignoradas por el intérprete de Python, que explican el funcionamiento del código. Existen comentarios en todos los lenguajes de programación.\n",
    "\n",
    "Pueden ser líneas sueltas o insertarse a la derecha de una línea de código. Nunca se puede comentar a la izquierda de una línea de código. Se marcan colocando una almohadilla (`#`) antes de la parte que queramos comentar.\n",
    "\n",
    "En el siguiente ejemplo, verás cómo se ignoran las partes comentadas. Sin la almohadilla, obtendríamos un error al ejecutarlo."
   ]
  },
  {
   "cell_type": "code",
   "execution_count": 6,
   "metadata": {},
   "outputs": [
    {
     "name": "stdout",
     "output_type": "stream",
     "text": [
      "Un soneto me manda hacer Violante\n",
      "que en mi vida me he visto en tanto aprieto;\n",
      "catorce versos dicen que es soneto;\n",
      "burla burlando van los tres delante.\n",
      "\n",
      "Yo pensé que no hallara consonante,\n",
      "y estoy a la mitad de otro cuarteto;\n",
      "mas si me veo en el primer terceto,\n",
      "no hay cosa en los cuartetos que me espante.\n"
     ]
    }
   ],
   "source": [
    "# Primer cuarteto\n",
    "print(\"Un soneto me manda hacer Violante\")\n",
    "print(\"que en mi vida me he visto en tanto aprieto;\")\n",
    "print(\"catorce versos dicen que es soneto;\")\n",
    "print(\"burla burlando van los tres delante.\")\n",
    "\n",
    "print() # Línea en blanco\n",
    "\n",
    "# Segundo cuarteto\n",
    "print(\"Yo pensé que no hallara consonante,\")\n",
    "print(\"y estoy a la mitad de otro cuarteto;\")\n",
    "print(\"mas si me veo en el primer terceto,\")\n",
    "print(\"no hay cosa en los cuartetos que me espante.\")"
   ]
  },
  {
   "cell_type": "markdown",
   "metadata": {},
   "source": [
    "Documentar el código es mucho más importante de lo que pueda parecer al principio. Simplemente acostúmbrate a hacerlo y terminará saliéndote solo."
   ]
  },
  {
   "cell_type": "markdown",
   "metadata": {},
   "source": [
    "## Ejercicios\n",
    "### 020101\n",
    "¿Qué está mal en el siguiente código? ¿Sabrías decirlo sin ejecutar la celda?"
   ]
  },
  {
   "cell_type": "code",
   "execution_count": null,
   "metadata": {},
   "outputs": [],
   "source": [
    "print(\"Este código está mal. ¿Por qué?')"
   ]
  },
  {
   "cell_type": "markdown",
   "metadata": {},
   "source": [
    "### 020102\n",
    "Elige un poema con varias estrofas e imprímelo línea por línea dejando una línea en blanco entre estrofas."
   ]
  },
  {
   "cell_type": "markdown",
   "metadata": {},
   "source": [
    "### 020103\n",
    "Elige un extracto de una obra de teatro, de una película, de una novela... en el que haya un momento en que se reproducen las palabras textuales de un personaje. Imprímelo línea por línea, asegurándote de imprimir las palabras en estilo directo entre comillas."
   ]
  }
 ],
 "metadata": {
  "kernelspec": {
   "display_name": "Python 3",
   "language": "python",
   "name": "python3"
  },
  "language_info": {
   "codemirror_mode": {
    "name": "ipython",
    "version": 3
   },
   "file_extension": ".py",
   "mimetype": "text/x-python",
   "name": "python",
   "nbconvert_exporter": "python",
   "pygments_lexer": "ipython3",
   "version": "3.7.0"
  }
 },
 "nbformat": 4,
 "nbformat_minor": 2
}
