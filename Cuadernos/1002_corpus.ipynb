{
 "cells": [
  {
   "cell_type": "markdown",
   "metadata": {},
   "source": [
    "# Tema 10: Procesamiento del Lenguaje Natural (II) - corpus\n",
    "Natural Language Toolkit (NLTK) es una de las librerías de Python más famosas para el procesamiento del lenguaje natural (PLN). En realidad, es un conjunto de librerías diseñadas para trabajar con datos procedentes del lenguaje humano: algunas son recursos léxicos, como distintos corpus o WordNet, y otras incluyen funciones que hacen más fácil las tareas típicas del PLN como son la clasificación de textos, la tokenización, el stemming, el postagging, el parsing...\n",
    "\n",
    "Su éxito reside en que han sabido adaptar su manejo a gente de todo tipo de perfiles, como lingüistas, ingenieros, estudiantes, profesores, investigadores... Y lo mejor de todo es que es gratis, de código libre y respaldado por una gran comunidad.\n",
    "\n",
    "En este cuaderno adapto el [capítulo 1 del libro de NLTK](https://www.nltk.org/book/ch01.html), ya que en este se combinan las posibilidades de la librería con una introducción a Python y la programación en general, que ya tenéis superada. Aun así, sentíos libres de leerlo y curiosearlo para ampliar conocimientos, ya que también se explican muchos conceptos del PLN.\n",
    "\n",
    "## Descarga e instalación\n",
    "### Descargar la librería\n",
    "Si has instalado Python con Anaconda, puedes ir directamente al paso de descargar los datos. Si no, debes instalar NLTK 3.0, que puedes [descargar gratuitamente](http://nltk.org). Puedes seguir las instrucciones para bajar la versión que requiera tu sistema operativo, o seguir este resumen:\n",
    "\n",
    "1) Escribe lo siguiente en la terminal para instalar NLTK:"
   ]
  },
  {
   "cell_type": "code",
   "execution_count": 1,
   "metadata": {},
   "outputs": [
    {
     "name": "stdout",
     "output_type": "stream",
     "text": [
      "\n",
      "The following command must be run outside of the IPython shell:\n",
      "\n",
      "    $ pip install nltk\n",
      "\n",
      "The Python package manager (pip) can only be used from outside of IPython.\n",
      "Please reissue the `pip` command in a separate terminal or command prompt.\n",
      "\n",
      "See the Python documentation for more information on how to install packages:\n",
      "\n",
      "    https://docs.python.org/3/installing/\n"
     ]
    }
   ],
   "source": [
    "pip install nltk"
   ]
  },
  {
   "cell_type": "markdown",
   "metadata": {},
   "source": [
    "2) Para comprobar que se ha instalado bien, importa la librería en Python:"
   ]
  },
  {
   "cell_type": "code",
   "execution_count": 2,
   "metadata": {},
   "outputs": [],
   "source": [
    "import nltk"
   ]
  },
  {
   "cell_type": "markdown",
   "metadata": {},
   "source": [
    "Si es así, tras unos segundos aparecerá de nuevo el prompt (`>>>`) y podrás seguir. Si algo ha fallado, coméntalo en el foro del curso.\n",
    "\n",
    "### Descargar los datos\n",
    "NLTK no es solo software, sino un montón de recursos léxicos; probablemente no nos interesarán todos, de momento para aprender solo necesitamos `book`, que es el que está pensado para poder ejecutar todo lo que se enseña en el libro.\n",
    "\n",
    "1) Para ello, escribe en la terminal:"
   ]
  },
  {
   "cell_type": "code",
   "execution_count": 3,
   "metadata": {},
   "outputs": [
    {
     "name": "stdout",
     "output_type": "stream",
     "text": [
      "showing info https://raw.githubusercontent.com/nltk/nltk_data/gh-pages/index.xml\n"
     ]
    },
    {
     "data": {
      "text/plain": [
       "True"
      ]
     },
     "execution_count": 3,
     "metadata": {},
     "output_type": "execute_result"
    }
   ],
   "source": [
    "nltk.download()"
   ]
  },
  {
   "cell_type": "markdown",
   "metadata": {},
   "source": [
    "2) Aparecerá una interfaz gráfica muy fea como la de la imagen. Elige `book` y dale a `Download`.\n",
    "<img src=\"pic-1002-1.png\" alt=\"Cuadro de diálogo de descarga de paquetes de NLTK\" style=\"width: 500px;\"/>\n",
    "## Explorando corpus\n",
    "Ahora, si todo ha ido bien, deberías poder ejecutar la siguiente celda y ver cómo van imprimiéndose los títulos de los distintos textos que contiene este módulo."
   ]
  },
  {
   "cell_type": "code",
   "execution_count": 4,
   "metadata": {},
   "outputs": [
    {
     "name": "stdout",
     "output_type": "stream",
     "text": [
      "*** Introductory Examples for the NLTK Book ***\n",
      "Loading text1, ..., text9 and sent1, ..., sent9\n",
      "Type the name of the text or sentence to view it.\n",
      "Type: 'texts()' or 'sents()' to list the materials.\n",
      "text1: Moby Dick by Herman Melville 1851\n",
      "text2: Sense and Sensibility by Jane Austen 1811\n",
      "text3: The Book of Genesis\n",
      "text4: Inaugural Address Corpus\n",
      "text5: Chat Corpus\n",
      "text6: Monty Python and the Holy Grail\n",
      "text7: Wall Street Journal\n",
      "text8: Personals Corpus\n",
      "text9: The Man Who Was Thursday by G . K . Chesterton 1908\n"
     ]
    }
   ],
   "source": [
    "from nltk.book import *"
   ]
  },
  {
   "cell_type": "markdown",
   "metadata": {},
   "source": [
    "Lo que hemos importado son diferentes objetos Text, que como ves son diversos textos en inglés. Si ejecutamos, por ejemplo, `text1` nos devuelve su título, autor y año, como buen objeto Text:"
   ]
  },
  {
   "cell_type": "code",
   "execution_count": 5,
   "metadata": {},
   "outputs": [
    {
     "data": {
      "text/plain": [
       "<Text: Moby Dick by Herman Melville 1851>"
      ]
     },
     "execution_count": 5,
     "metadata": {},
     "output_type": "execute_result"
    }
   ],
   "source": [
    "text1"
   ]
  },
  {
   "cell_type": "markdown",
   "metadata": {},
   "source": [
    "Estos objetos Text tienen la particularidad de que podemos ejecutar sobre ellos ciertas operaciones muy interesantes para explorar su vocabulario y compararlo con el de otros textos. Estas operaciones suelen trabajar con los contextos de las palabras y por eso se utilizan en estudios de [semántica distribucional](https://es.wikipedia.org/wiki/Sem%C3%A1ntica_distribucional).\n",
    "\n",
    "Por ejemplo, tenemos el método `.concordance()` que recibe una string sin espacios (típicamente una palabra) como parámetro y devuelve todas las apariciones de esa palabra en el texto, con su contexto por delante y por detrás:"
   ]
  },
  {
   "cell_type": "code",
   "execution_count": 6,
   "metadata": {},
   "outputs": [
    {
     "name": "stdout",
     "output_type": "stream",
     "text": [
      "Displaying 25 of 25 matches:\n",
      " Civitas ) which is but an artificial man .\" -- OPENING SENTENCE OF HOBBES ' S \n",
      "y of that sort that was killed by any man , such is his fierceness and swiftnes\n",
      "in his deepest reveries -- stand that man on his legs , set his feet a - going \n",
      "it ? The urbane activity with which a man receives money is really marvellous ,\n",
      ", and that on no account can a monied man enter heaven . Ah ! how cheerfully we\n",
      "ure truly , enough to drive a nervous man distracted . Yet was there a sort of \n",
      "ss needle sojourning in the body of a man , travelled full forty feet , and at \n",
      " him ), bustles a little withered old man , who , for their money , dearly sell\n",
      "ld put up with the half of any decent man ' s blanket . \" I thought so . All ri\n",
      "king as much noise as the rest . This man interested me at once ; and since the\n",
      " . I have seldom seen such brawn in a man . His face was deeply brown and burnt\n",
      "ions had mounted to its height , this man slipped away unobserved , and I saw n\n",
      "us to the entrance of the seamen . No man prefers to sleep two in a bed . In fa\n",
      " an uncomfortable feeling towards the man whom you design for my bedfellow -- a\n",
      "lord , that harpooneer is a dangerous man .\" \" He pays reg ' lar ,\" was the rej\n",
      "nd a papered fireboard representing a man striking a whale . Of things not prop\n",
      " me . I remembered a story of a white man -- a whaleman too -- who , falling am\n",
      "ter all ! It ' s only his outside ; a man can be honest in any sort of skin . B\n",
      "eard of a hot sun ' s tanning a white man into a purplish yellow one . However \n",
      " you sabbee me , I sabbee -- you this man sleepe you -- you sabbee ?\" \" Me sabb\n",
      "ng about , thought I to myself -- the man ' s a human being just as I am : he h\n",
      "th him . But I don ' t fancy having a man smoking in bed with me . It ' s dange\n",
      "ter of my breeding . Nevertheless , a man like Queequeg you don ' t see every d\n",
      "opriety that I ever heard of , is any man required to be private when putting o\n",
      "e more ' s the pity . So , if any one man , in his own proper person , afford s\n"
     ]
    }
   ],
   "source": [
    "text1.concordance(\"man\")"
   ]
  },
  {
   "cell_type": "markdown",
   "metadata": {},
   "source": [
    "Vemos que aparece muchas veces en los mismos contextos, los esperables para un sustantivo: por delante determinantes y adjetivos, por detrás verbos, preposiciones...\n",
    "\n",
    "Y podríamos preguntarnos: ¿qué otras palabras aparecen en contextos similares? Pues para eso tenemos el método `.similar()`:"
   ]
  },
  {
   "cell_type": "code",
   "execution_count": 7,
   "metadata": {},
   "outputs": [
    {
     "name": "stdout",
     "output_type": "stream",
     "text": [
      "whale ship one it thing boat time all that ahab him sea captain whales\n",
      "way matter moment and world as\n"
     ]
    }
   ],
   "source": [
    "text1.similar(\"man\")"
   ]
  },
  {
   "cell_type": "markdown",
   "metadata": {},
   "source": [
    "Este método nos devuelve palabras que comparten muchos contextos con la palabra que le pasemos como parámetro, en comparación con el resto de palabras de ese texto.\n",
    "\n",
    "Como era de esperar, obtenemos otras palabras semánticamente parecidas, pues también son nombres o pronombres, muchos son de persona, son agentivos, etc.\n",
    "\n",
    "Por supuesto, en otros textos obtendremos resultados diferentes para la misma palabra:"
   ]
  },
  {
   "cell_type": "code",
   "execution_count": 8,
   "metadata": {},
   "outputs": [
    {
     "name": "stdout",
     "output_type": "stream",
     "text": [
      "woman person lady year house living moment week letter way time friend\n",
      "family gentleman thing world men other piece day\n"
     ]
    }
   ],
   "source": [
    "text2.similar(\"man\")"
   ]
  },
  {
   "cell_type": "markdown",
   "metadata": {},
   "source": [
    "Así que no solo obtenemos información sobre una palabra, sino también sobre el texto.\n",
    "\n",
    "Y cuando sospechemos que podemos encontrar contextos comunes a diferentes palabras, podemos consultarlos con `.common_contexts()`, pasándole una lista con dos o más palabras como argumento:"
   ]
  },
  {
   "cell_type": "code",
   "execution_count": 9,
   "metadata": {},
   "outputs": [
    {
     "name": "stdout",
     "output_type": "stream",
     "text": [
      "a_s old_s old_he old_of\n"
     ]
    }
   ],
   "source": [
    "text1.common_contexts([\"man\", \"woman\"])"
   ]
  },
  {
   "cell_type": "code",
   "execution_count": 10,
   "metadata": {},
   "outputs": [
    {
     "name": "stdout",
     "output_type": "stream",
     "text": [
      "young_who a_who a_whose a_whom a_of a_to young_of young_to other_in\n",
      "a_in young_i a_as\n"
     ]
    }
   ],
   "source": [
    "text2.common_contexts([\"man\", \"woman\"])"
   ]
  },
  {
   "cell_type": "markdown",
   "metadata": {},
   "source": [
    "Curiosísimo cómo en _Moby Dick_ el adjetivo que más veces aparece delante de \"man\" y \"woman\" sea \"old\", y en _Sentido y sensibilidad_ es precisamente su antónimo, \"young\"."
   ]
  },
  {
   "cell_type": "code",
   "execution_count": 11,
   "metadata": {},
   "outputs": [
    {
     "name": "stdout",
     "output_type": "stream",
     "text": [
      "but_was than_was for_was as_could was_to what_was had_been if_had\n",
      "if_did if_could than_had that_was if_is but_has you_is if_were\n",
      "that_might which_had but_is as_was\n"
     ]
    }
   ],
   "source": [
    "text2.common_contexts([\"he\", \"she\", \"it\"])"
   ]
  },
  {
   "cell_type": "markdown",
   "metadata": {},
   "source": [
    "Otra cosa interesante que podemos ver es dónde aparecen las palabras que nos interesen en los textos, es decir, a qué altura del texto se mencionan. Podemos generar lo que se llama una _gráfica de dispersión_ (_dispersion plot_ en inglés) para visualizarlo rápidamente. En ella, cada raya representa una palabra, y cada fila, el texto completo.\n",
    "\n",
    "Ejecuta lo siguiente en la terminal (en los cuadernos de Jupyter podrás ver la gráfica, pero no será dinámica: la de la terminal saldrá en una ventana nueva y podrás hacer zoom, moverte, cambiarle los colores, los márgenes, etc.), sin olvidar importar antes `nltk` y el módulo `book` como hemos hecho antes:"
   ]
  },
  {
   "cell_type": "code",
   "execution_count": 29,
   "metadata": {},
   "outputs": [
    {
     "data": {
      "image/png": "[encoded data removed]",
      "text/plain": [
       "<Figure size 432x288 with 1 Axes>"
      ]
     },
     "metadata": {
      "needs_background": "light"
     },
     "output_type": "display_data"
    }
   ],
   "source": [
    "text4.dispersion_plot([\"duties\", \"rights\", \"democracy\", \"freedom\", \"America\", \"nation\"]) # ejecutar en la terminal"
   ]
  },
  {
   "cell_type": "markdown",
   "metadata": {},
   "source": [
    "En este caso estamos pidiendo la gráfica de dispersión de estas seis palabras en el Inaugural Address Corpus, que es el conjunto de discursos pronunciados por los presidentes de Estados Unidos al acceder al cargo. Están dispuestos uno tras otro siguiendo un orden cronológico, por lo que resulta ideal para pintar este tipo de gráficas y ver cuál ha sido, de forma muy básica, la evolución de una palabra en el tiempo en el lenguaje político y social de Estados Unidos a través de su presencia en estos discursos.\n",
    "\n",
    "Podemos ver cómo palabras más mundanas como \"duties\" o \"rights\" han vivido años mejores, mientras que otras más grandilocuentes como \"freedom\" o \"nation\", y más claramente \"democracy\" o \"America\" son muy del gusto de los presidentes recientes.\n",
    "\n",
    "## Diversidad léxica y palabras características\n",
    "Ya sabemos que con `len()` podemos contar cuántos elementos hay en una estructura de datos. Pues bien, también podemos usarlo con los objetos Text para contar cuántas palabras contiene el texto:"
   ]
  },
  {
   "cell_type": "code",
   "execution_count": 13,
   "metadata": {},
   "outputs": [
    {
     "data": {
      "text/plain": [
       "260819"
      ]
     },
     "execution_count": 13,
     "metadata": {},
     "output_type": "execute_result"
    }
   ],
   "source": [
    "len(text1)"
   ]
  },
  {
   "cell_type": "markdown",
   "metadata": {},
   "source": [
    "Otra función que también hemos visto ya es `set()`, que nos devuelve un conjunto de la lista que le pasemos, es decir, una estructura de datos en la que los elementos no se repiten. Si le pasamos como argumento un objeto Text, nos devolverá el solo las palabras **únicas** que contiene ese texto:"
   ]
  },
  {
   "cell_type": "code",
   "execution_count": 14,
   "metadata": {},
   "outputs": [
    {
     "data": {
      "text/plain": [
       "19317"
      ]
     },
     "execution_count": 14,
     "metadata": {},
     "output_type": "execute_result"
    }
   ],
   "source": [
    "len(set(text1))"
   ]
  },
  {
   "cell_type": "markdown",
   "metadata": {},
   "source": [
    "Esto es interesante porque nos permite medir la [diversidad léxica](https://en.wikipedia.org/wiki/Lexical_diversity) del texto que queramos:"
   ]
  },
  {
   "cell_type": "code",
   "execution_count": 15,
   "metadata": {},
   "outputs": [
    {
     "name": "stdout",
     "output_type": "stream",
     "text": [
      "Diversidad léxica:\n",
      "Moby Dick: 7.406285585022563\n",
      "Sentido y sensibilidad: 4.826383002768831\n",
      "El hombre que fue jueves: 9.834857613454119\n"
     ]
    }
   ],
   "source": [
    "def lexical_diversity(text):\n",
    "    return len(set(text)) * 100 / len(text)\n",
    "\n",
    "print(\"Diversidad léxica:\")\n",
    "print(\"Moby Dick:\", lexical_diversity(text1))\n",
    "print(\"Sentido y sensibilidad:\", lexical_diversity(text2))\n",
    "print(\"El hombre que fue jueves:\", lexical_diversity(text9))"
   ]
  },
  {
   "cell_type": "markdown",
   "metadata": {},
   "source": [
    "También podemos contar las veces que aparece una determinada palabra en un texto con el método `.count()`:"
   ]
  },
  {
   "cell_type": "code",
   "execution_count": 16,
   "metadata": {},
   "outputs": [
    {
     "data": {
      "text/plain": [
       "906"
      ]
     },
     "execution_count": 16,
     "metadata": {},
     "output_type": "execute_result"
    }
   ],
   "source": [
    "text1.count(\"whale\")"
   ]
  },
  {
   "cell_type": "markdown",
   "metadata": {},
   "source": [
    "Esto nos permite, al combinarlo con `len()`, calcular la presencia relativa de la palabra en cada texto para poder comparar entre distintos textos (no sería justo comparar las apariciones en bruto de la palabra porque los textos tienen diferente largo).\n",
    "\n",
    "En el siguiente ejemplo, vemos cómo una palabra un tanto marcada por el argumento de la historia, como es \"woman\" en este caso, difiere mucho en su frecuencia relativa (0,99 en Emma y 0,05 en Moby Dick). Pero sería injustamente mayor si no tuviéramos en cuenta la extensión de cada novela, ya que Moby Dick tiene más del doble de palabras que Emma.\n",
    "\n",
    "Sin embargo, una palabra más independiente del argumento como es \"a\", el artículo indeterminado, experimenta poca variación cuando la observamos en distintas novelas (29,89 frente a 23,65)."
   ]
  },
  {
   "cell_type": "code",
   "execution_count": 17,
   "metadata": {},
   "outputs": [
    {
     "name": "stdout",
     "output_type": "stream",
     "text": [
      "Emma tiene 141576 palabras, de las cuales solo 6833 son únicas.\n",
      "La palabra woman aparece 68 veces, lo que hace que tenga una frecuencia\n",
      "relativa de 0.995170496121762 en este texto.\n",
      "Moby Dick tiene 260819 palabras, de las cuales solo 19317 son únicas.\n",
      "La palabra woman aparece 10 veces, lo que hace que tenga una frecuencia\n",
      "relativa de 0.05176787285810426 en este texto.\n",
      "\n",
      "Emma tiene 141576 palabras, de las cuales solo 6833 son únicas.\n",
      "La palabra a aparece 2043 veces, lo que hace que tenga una frecuencia\n",
      "relativa de 29.899019464364116 en este texto.\n",
      "Moby Dick tiene 260819 palabras, de las cuales solo 19317 son únicas.\n",
      "La palabra a aparece 4569 veces, lo que hace que tenga una frecuencia\n",
      "relativa de 23.652741108867836 en este texto.\n"
     ]
    }
   ],
   "source": [
    "def mensaje_frecuencia(text, titulo, string):\n",
    "    print(titulo, \"tiene\", len(text), \"palabras, de las cuales solo\", len(set(text)),\n",
    "        \"son únicas.\\nLa palabra\", string, \"aparece\", text.count(string),\n",
    "        \"veces, lo que hace que tenga una frecuencia\\nrelativa de\",\n",
    "        text.count(string) * 100 / len(set(text)), \"en este texto.\")\n",
    "\n",
    "mensaje_frecuencia(text2, \"Emma\", \"woman\")\n",
    "mensaje_frecuencia(text1, \"Moby Dick\", \"woman\")\n",
    "\n",
    "print()\n",
    "\n",
    "mensaje_frecuencia(text2, \"Emma\", \"a\")\n",
    "mensaje_frecuencia(text1, \"Moby Dick\", \"a\")"
   ]
  },
  {
   "cell_type": "markdown",
   "metadata": {},
   "source": [
    "## Distribuciones de frecuencia\n",
    "Pero también podemos extraer directamente las palabras más frecuentes de un texto automáticamente, es decir, las palabras con más apariciones. Y es que existe otro tipo de objeto, FreqDist, que representa una _distribución de frecuencia_, es decir, una lista de pares de valores (o tuplas) en los que un valor se corresponde con una palabra del texto y el otro con su número de apariciones en un texto dado."
   ]
  },
  {
   "cell_type": "code",
   "execution_count": 31,
   "metadata": {},
   "outputs": [
    {
     "name": "stdout",
     "output_type": "stream",
     "text": [
      "<FreqDist with 19317 samples and 260819 outcomes>\n"
     ]
    }
   ],
   "source": [
    "fdist1 = FreqDist(text1)\n",
    "print(fdist1)"
   ]
  },
  {
   "cell_type": "markdown",
   "metadata": {},
   "source": [
    "En este caso vemos que _Moby Dick_ tiene 260819 pero solo 19317 palabras únicas. Podemos comprobarlo:"
   ]
  },
  {
   "cell_type": "code",
   "execution_count": 19,
   "metadata": {},
   "outputs": [
    {
     "name": "stdout",
     "output_type": "stream",
     "text": [
      "Palabras totales: 260819\n",
      "Palabras únicas: 19317\n"
     ]
    }
   ],
   "source": [
    "print(\"Palabras totales:\", len(text1))\n",
    "print(\"Palabras únicas:\", len(set(text1)))"
   ]
  },
  {
   "cell_type": "markdown",
   "metadata": {},
   "source": [
    "Pues bien, uno de los métodos que se le pueden aplicar a las FreqDists es `.most_common()`, que devuelve las palabras con más apariciones. Podemos pasarle como parámetro el número de palabras que queremos que nos devuelva, para que no nos saque las 19317:"
   ]
  },
  {
   "cell_type": "code",
   "execution_count": 20,
   "metadata": {},
   "outputs": [
    {
     "data": {
      "text/plain": [
       "[(',', 18713),\n",
       " ('the', 13721),\n",
       " ('.', 6862),\n",
       " ('of', 6536),\n",
       " ('and', 6024),\n",
       " ('a', 4569),\n",
       " ('to', 4542),\n",
       " (';', 4072),\n",
       " ('in', 3916),\n",
       " ('that', 2982),\n",
       " (\"'\", 2684),\n",
       " ('-', 2552),\n",
       " ('his', 2459),\n",
       " ('it', 2209),\n",
       " ('I', 2124),\n",
       " ('s', 1739),\n",
       " ('is', 1695),\n",
       " ('he', 1661),\n",
       " ('with', 1659),\n",
       " ('was', 1632),\n",
       " ('as', 1620),\n",
       " ('\"', 1478),\n",
       " ('all', 1462),\n",
       " ('for', 1414),\n",
       " ('this', 1280),\n",
       " ('!', 1269),\n",
       " ('at', 1231),\n",
       " ('by', 1137),\n",
       " ('but', 1113),\n",
       " ('not', 1103),\n",
       " ('--', 1070),\n",
       " ('him', 1058),\n",
       " ('from', 1052),\n",
       " ('be', 1030),\n",
       " ('on', 1005),\n",
       " ('so', 918),\n",
       " ('whale', 906),\n",
       " ('one', 889),\n",
       " ('you', 841),\n",
       " ('had', 767)]"
      ]
     },
     "execution_count": 20,
     "metadata": {},
     "output_type": "execute_result"
    }
   ],
   "source": [
    "fdist1.most_common(40)"
   ]
  },
  {
   "cell_type": "markdown",
   "metadata": {},
   "source": [
    "Cómo no, también podemos pintarla. Es tan sencillo como usar `.plot()` y pasarle el número de palabras que queremos en la gráfica:"
   ]
  },
  {
   "cell_type": "code",
   "execution_count": 21,
   "metadata": {},
   "outputs": [
    {
     "data": {
      "image/png": "[encoded data removed]",
      "text/plain": [
       "<Figure size 432x288 with 1 Axes>"
      ]
     },
     "metadata": {
      "needs_background": "light"
     },
     "output_type": "display_data"
    }
   ],
   "source": [
    "fdist1 = FreqDist(text1)\n",
    "fdist1.plot(40) # ejecutar en la terminal para que sea dinámica"
   ]
  },
  {
   "cell_type": "markdown",
   "metadata": {},
   "source": [
    "Esto está muy bien, pero es aún más interesante pintar la gráfica de valores acumulados. Es decir, hacer que para \",\" salga su número de apariciones, pero que para la siguiente palabra, \"the\", salga la suma de sus apariciones y las de \",\", y para la siguiente, la suma de sus apariciones y las de \",\" y \"the\", y así sucesivamente. Para ello simplemente configuramos el valor del parámetro opcional `cumulative` como `True`:"
   ]
  },
  {
   "cell_type": "code",
   "execution_count": 22,
   "metadata": {},
   "outputs": [
    {
     "data": {
      "image/png": "[encoded data removed]",
      "text/plain": [
       "<Figure size 432x288 with 1 Axes>"
      ]
     },
     "metadata": {
      "needs_background": "light"
     },
     "output_type": "display_data"
    }
   ],
   "source": [
    "fdist1.plot(40, cumulative=True) # ejecutar en la terminal para que sea dinámica"
   ]
  },
  {
   "cell_type": "markdown",
   "metadata": {},
   "source": [
    "Ahora podemos fijarnos en el valor de la palabra número 40 en la gráfica (casi 120 000) y darnos cuenta de que, solo con estas 40 palabras, ¡tenemos casi la mitad de las palabras del libro! (¿Recuerdas que el número total era de 260 819?). Cómo te quedas.\n",
    "\n",
    "Igual que podemos ver las palabras más frecuentes, también podemos consultar las que aparecen solo una vez (o _hápax_), que a veces nos interesan. De hecho, existe una función específica para ello:"
   ]
  },
  {
   "cell_type": "code",
   "execution_count": 23,
   "metadata": {},
   "outputs": [
    {
     "data": {
      "text/plain": [
       "['Herman',\n",
       " 'Melville',\n",
       " ']',\n",
       " 'ETYMOLOGY',\n",
       " 'Late',\n",
       " 'Consumptive',\n",
       " 'School',\n",
       " 'threadbare',\n",
       " 'lexicons',\n",
       " 'mockingly',\n",
       " 'flags',\n",
       " 'mortality',\n",
       " 'signification',\n",
       " 'HACKLUYT',\n",
       " 'Sw',\n",
       " 'HVAL',\n",
       " 'roundness',\n",
       " 'Dut',\n",
       " 'Ger',\n",
       " 'WALLEN',\n",
       " 'WALW',\n",
       " 'IAN',\n",
       " 'RICHARDSON',\n",
       " 'KETOS',\n",
       " 'GREEK',\n",
       " 'CETUS',\n",
       " 'LATIN',\n",
       " 'WHOEL',\n",
       " 'ANGLO',\n",
       " 'SAXON',\n",
       " 'WAL',\n",
       " 'HWAL',\n",
       " 'SWEDISH',\n",
       " 'ICELANDIC',\n",
       " 'BALEINE',\n",
       " 'BALLENA',\n",
       " 'FEGEE',\n",
       " 'ERROMANGOAN',\n",
       " 'Librarian',\n",
       " 'painstaking',\n",
       " 'burrower',\n",
       " 'grub',\n",
       " 'Vaticans',\n",
       " 'stalls',\n",
       " 'higgledy',\n",
       " 'piggledy',\n",
       " 'gospel',\n",
       " 'promiscuously',\n",
       " 'commentator',\n",
       " 'belongest',\n",
       " 'sallow',\n",
       " 'Pale',\n",
       " 'Sherry',\n",
       " 'loves',\n",
       " 'bluntly',\n",
       " 'Subs',\n",
       " 'thankless',\n",
       " 'Hampton',\n",
       " 'Court',\n",
       " 'hie',\n",
       " 'refugees',\n",
       " 'pampered',\n",
       " 'Michael',\n",
       " 'Raphael',\n",
       " 'unsplinterable',\n",
       " 'GENESIS',\n",
       " 'JOB',\n",
       " 'JONAH',\n",
       " 'punish',\n",
       " 'ISAIAH',\n",
       " 'soever',\n",
       " 'cometh',\n",
       " 'incontinently',\n",
       " 'perisheth',\n",
       " 'PLUTARCH',\n",
       " 'MORALS',\n",
       " 'breedeth',\n",
       " 'Whirlpooles',\n",
       " 'Balaene',\n",
       " 'arpens',\n",
       " 'PLINY',\n",
       " 'Scarcely',\n",
       " 'TOOKE',\n",
       " 'LUCIAN',\n",
       " 'TRUE',\n",
       " 'catched',\n",
       " 'OCTHER',\n",
       " 'VERBAL',\n",
       " 'TAKEN',\n",
       " 'MOUTH',\n",
       " 'ALFRED',\n",
       " '890',\n",
       " 'gudgeon',\n",
       " 'retires',\n",
       " 'MONTAIGNE',\n",
       " 'APOLOGY',\n",
       " 'RAIMOND',\n",
       " 'SEBOND',\n",
       " 'Nick',\n",
       " 'RABELAIS',\n",
       " 'cartloads',\n",
       " 'STOWE',\n",
       " 'ANNALS',\n",
       " 'LORD',\n",
       " 'BACON',\n",
       " 'Touching',\n",
       " 'ork',\n",
       " 'DEATH',\n",
       " 'sovereignest',\n",
       " 'bruise',\n",
       " 'HAMLET',\n",
       " 'leach',\n",
       " 'Mote',\n",
       " 'availle',\n",
       " 'returne',\n",
       " 'againe',\n",
       " 'worker',\n",
       " 'Dinting',\n",
       " 'paine',\n",
       " 'thro',\n",
       " 'maine',\n",
       " 'FAERIE',\n",
       " 'Immense',\n",
       " 'til',\n",
       " 'DAVENANT',\n",
       " 'PREFACE',\n",
       " 'GONDIBERT',\n",
       " 'spermacetti',\n",
       " 'Hosmannus',\n",
       " 'Nescio',\n",
       " 'VIDE',\n",
       " 'Spencer',\n",
       " 'Talus',\n",
       " 'flail',\n",
       " 'threatens',\n",
       " 'jav',\n",
       " 'lins',\n",
       " 'WALLER',\n",
       " 'SUMMER',\n",
       " 'ISLANDS',\n",
       " 'Commonwealth',\n",
       " 'Civitas',\n",
       " 'OPENING',\n",
       " 'SENTENCE',\n",
       " 'HOBBES',\n",
       " 'LEVIATHAN',\n",
       " 'Silly',\n",
       " 'Mansoul',\n",
       " 'chewing',\n",
       " 'sprat',\n",
       " 'PILGRIM',\n",
       " 'PROGRESS',\n",
       " 'Created',\n",
       " 'PARADISE',\n",
       " 'LOST',\n",
       " '---\"',\n",
       " 'Hugest',\n",
       " 'Stretched',\n",
       " 'Draws',\n",
       " 'FULLLER',\n",
       " 'PROFANE',\n",
       " 'HOLY',\n",
       " 'STATE',\n",
       " 'DRYDEN',\n",
       " 'ANNUS',\n",
       " 'MIRABILIS',\n",
       " 'aground',\n",
       " 'EDGE',\n",
       " 'TEN',\n",
       " 'SPITZBERGEN',\n",
       " 'PURCHAS',\n",
       " 'wantonness',\n",
       " 'fuzzing',\n",
       " 'vents',\n",
       " 'HERBERT',\n",
       " 'INTO',\n",
       " 'ASIA',\n",
       " 'AFRICA',\n",
       " 'SCHOUTEN',\n",
       " 'SIXTH',\n",
       " 'CIRCUMNAVIGATION',\n",
       " 'Elbe',\n",
       " 'ducat',\n",
       " 'herrings',\n",
       " 'GREENLAND',\n",
       " 'Several',\n",
       " 'Fife',\n",
       " 'Anno',\n",
       " '1652',\n",
       " 'Pitferren',\n",
       " 'SIBBALD',\n",
       " 'FIFE',\n",
       " 'KINROSS',\n",
       " 'Myself',\n",
       " 'Sperma',\n",
       " 'ceti',\n",
       " 'fierceness',\n",
       " 'RICHARD',\n",
       " 'STRAFFORD',\n",
       " 'LETTER',\n",
       " 'BERMUDAS',\n",
       " 'PHIL',\n",
       " 'TRANS',\n",
       " '1668',\n",
       " 'PRIMER',\n",
       " 'COWLEY',\n",
       " '1729',\n",
       " '\"...',\n",
       " 'frequendy',\n",
       " 'insupportable',\n",
       " 'disorder',\n",
       " 'ULLOA',\n",
       " 'SOUTH',\n",
       " 'AMERICA',\n",
       " 'sylphs',\n",
       " 'petticoat',\n",
       " 'Oft',\n",
       " 'Tho',\n",
       " 'RAPE',\n",
       " 'LOCK',\n",
       " 'NAT',\n",
       " 'wales',\n",
       " 'JOHNSON',\n",
       " 'COOK',\n",
       " 'dung',\n",
       " 'lime',\n",
       " 'juniper',\n",
       " 'UNO',\n",
       " 'VON',\n",
       " 'TROIL',\n",
       " 'LETTERS',\n",
       " 'BANKS',\n",
       " 'SOLANDER',\n",
       " '1772',\n",
       " 'Nantuckois',\n",
       " 'JEFFERSON',\n",
       " 'MEMORIAL',\n",
       " 'MINISTER',\n",
       " 'REFERENCE',\n",
       " 'PARLIAMENT',\n",
       " 'SOMEWHERE',\n",
       " 'guarding',\n",
       " 'protecting',\n",
       " 'robbers',\n",
       " 'BLACKSTONE',\n",
       " 'Rodmond',\n",
       " 'suspends',\n",
       " 'attends',\n",
       " 'FALCONER',\n",
       " 'Bright',\n",
       " 'roofs',\n",
       " 'domes',\n",
       " 'rockets',\n",
       " 'Around',\n",
       " 'unwieldy',\n",
       " 'COWPER',\n",
       " 'VISIT',\n",
       " 'LONDON',\n",
       " 'HUNTER',\n",
       " 'DISSECTION',\n",
       " 'SMALL',\n",
       " 'SIZED',\n",
       " 'aorta',\n",
       " 'gushing',\n",
       " 'PALEY',\n",
       " 'THEOLOGY',\n",
       " 'mammiferous',\n",
       " 'hind',\n",
       " 'BARON',\n",
       " 'CUVIER',\n",
       " 'COLNETT',\n",
       " 'PURPOSE',\n",
       " 'EXTENDING',\n",
       " 'SPERMACETI',\n",
       " 'Floundered',\n",
       " 'chace',\n",
       " 'peopling',\n",
       " 'Gather',\n",
       " 'Led',\n",
       " 'instincts',\n",
       " 'trackless',\n",
       " 'Assaulted',\n",
       " 'voracious',\n",
       " 'spiral',\n",
       " 'MONTGOMERY',\n",
       " 'WORLD',\n",
       " 'FLOOD',\n",
       " 'Paean',\n",
       " 'fatter',\n",
       " 'Flounders',\n",
       " 'CHARLES',\n",
       " 'LAMB',\n",
       " 'TRIUMPH',\n",
       " '1690',\n",
       " 'OBED',\n",
       " 'Susan',\n",
       " 'HAWTHORNE',\n",
       " 'TWICE',\n",
       " 'bespeak',\n",
       " 'raal',\n",
       " 'COOPER',\n",
       " 'PILOT',\n",
       " 'Berlin',\n",
       " 'Gazette',\n",
       " 'ECKERMANN',\n",
       " 'CONVERSATIONS',\n",
       " 'GOETHE',\n",
       " 'ESSEX',\n",
       " 'WAS',\n",
       " 'ATTACKED',\n",
       " 'FINALLY',\n",
       " 'DESTROYED',\n",
       " 'OWEN',\n",
       " 'CHACE',\n",
       " 'FIRST',\n",
       " 'SAID',\n",
       " 'VESSEL',\n",
       " 'YORK',\n",
       " '1821',\n",
       " 'piping',\n",
       " 'dimmed',\n",
       " 'phospher',\n",
       " 'ELIZABETH',\n",
       " 'OAKES',\n",
       " 'SMITH',\n",
       " 'amounted',\n",
       " '440',\n",
       " 'SCORESBY',\n",
       " 'Mad',\n",
       " 'agonies',\n",
       " 'endures',\n",
       " 'infuriated',\n",
       " 'rears',\n",
       " 'snaps',\n",
       " 'propelled',\n",
       " 'observers',\n",
       " 'opportunities',\n",
       " 'habitudes',\n",
       " 'BEALE',\n",
       " 'offensively',\n",
       " 'artful',\n",
       " 'mischievous',\n",
       " 'FREDERICK',\n",
       " 'DEBELL',\n",
       " '1840',\n",
       " 'October',\n",
       " 'Raise',\n",
       " 'ay',\n",
       " 'THAR',\n",
       " 'bowes',\n",
       " 'os',\n",
       " 'ROSS',\n",
       " 'ETCHINGS',\n",
       " 'CRUIZE',\n",
       " '1846',\n",
       " 'Globe',\n",
       " 'transactions',\n",
       " 'relate',\n",
       " 'HUSSEY',\n",
       " 'SURVIVORS',\n",
       " 'parried',\n",
       " 'MISSIONARY',\n",
       " 'JOURNAL',\n",
       " 'TYERMAN',\n",
       " 'boldest',\n",
       " 'persevering',\n",
       " 'REPORT',\n",
       " 'DANIEL',\n",
       " 'SPEECH',\n",
       " 'SENATE',\n",
       " 'APPLICATION',\n",
       " 'ERECTION',\n",
       " 'BREAKWATER',\n",
       " 'CAPTORS',\n",
       " 'WHALEMAN',\n",
       " 'ADVENTURES',\n",
       " 'BIOGRAPHY',\n",
       " 'GATHERED',\n",
       " 'HOMEWARD',\n",
       " 'COMMODORE',\n",
       " 'PREBLE',\n",
       " 'REV',\n",
       " 'CHEEVER',\n",
       " 'MUTINEER',\n",
       " 'BROTHER',\n",
       " 'ANOTHER',\n",
       " 'MCCULLOCH',\n",
       " 'COMMERCIAL',\n",
       " 'reciprocal',\n",
       " 'clews',\n",
       " 'SOMETHING',\n",
       " 'UNPUBLISHED',\n",
       " 'CURRENTS',\n",
       " 'Pedestrians',\n",
       " 'recollect',\n",
       " 'gateways',\n",
       " 'VOYAGER',\n",
       " 'ARCTIC',\n",
       " 'NEWSPAPER',\n",
       " 'TAKING',\n",
       " 'RETAKING',\n",
       " 'HOBOMACK',\n",
       " 'MIRIAM',\n",
       " 'FISHERMAN',\n",
       " 'appliance',\n",
       " 'RIBS',\n",
       " 'TRUCKS',\n",
       " 'Terra',\n",
       " 'Del',\n",
       " 'Fuego',\n",
       " 'DARWIN',\n",
       " 'NATURALIST',\n",
       " \";--'\",\n",
       " '!\\'\"',\n",
       " 'WHARTON',\n",
       " 'Loomings',\n",
       " 'spleen',\n",
       " 'regulating',\n",
       " 'circulation',\n",
       " 'Whenever',\n",
       " 'drizzly',\n",
       " 'hypos',\n",
       " 'philosophical',\n",
       " 'Cato',\n",
       " 'Manhattoes',\n",
       " 'reefs',\n",
       " 'downtown',\n",
       " 'gazers',\n",
       " 'Circumambulate',\n",
       " 'Corlears',\n",
       " 'Coenties',\n",
       " 'Slip',\n",
       " 'Whitehall',\n",
       " 'Posted',\n",
       " 'sentinels',\n",
       " 'spiles',\n",
       " 'pier',\n",
       " 'lath',\n",
       " 'counters',\n",
       " 'desks',\n",
       " 'loitering',\n",
       " 'shady',\n",
       " 'Inlanders',\n",
       " 'lanes',\n",
       " 'alleys',\n",
       " 'attract',\n",
       " 'dale',\n",
       " 'dreamiest',\n",
       " 'shadiest',\n",
       " 'quietest',\n",
       " 'enchanting',\n",
       " 'Saco',\n",
       " 'crucifix',\n",
       " 'Deep',\n",
       " 'mazy',\n",
       " 'Tiger',\n",
       " 'Tennessee',\n",
       " 'Rockaway',\n",
       " 'Persians',\n",
       " 'deity',\n",
       " 'Narcissus',\n",
       " 'ungraspable',\n",
       " 'hazy',\n",
       " 'quarrelsome',\n",
       " 'offices',\n",
       " 'abominate',\n",
       " 'toils',\n",
       " 'trials',\n",
       " 'barques',\n",
       " 'schooners',\n",
       " 'broiling',\n",
       " 'buttered',\n",
       " 'judgmatically',\n",
       " 'peppered',\n",
       " 'reverentially',\n",
       " 'idolatrous',\n",
       " 'dotings',\n",
       " 'ibis',\n",
       " 'roasted',\n",
       " 'bake',\n",
       " 'plumb',\n",
       " 'Van',\n",
       " 'Rensselaers',\n",
       " 'Randolphs',\n",
       " 'Hardicanutes',\n",
       " 'lording',\n",
       " 'tallest',\n",
       " 'decoction',\n",
       " 'Seneca',\n",
       " 'Stoics',\n",
       " 'Testament',\n",
       " 'promptly',\n",
       " 'rub',\n",
       " 'infliction',\n",
       " 'BEING',\n",
       " 'PAID',\n",
       " 'urbane',\n",
       " 'ills',\n",
       " 'monied',\n",
       " 'consign',\n",
       " 'prevalent',\n",
       " 'violate',\n",
       " 'Pythagorean',\n",
       " 'commonalty',\n",
       " 'police',\n",
       " 'surveillance',\n",
       " 'programme',\n",
       " 'solo',\n",
       " 'CONTESTED',\n",
       " 'ELECTION',\n",
       " 'PRESIDENCY',\n",
       " 'UNITED',\n",
       " 'STATES',\n",
       " 'ISHMAEL',\n",
       " 'BLOODY',\n",
       " 'AFFGHANISTAN',\n",
       " 'managers',\n",
       " 'genteel',\n",
       " 'comedies',\n",
       " 'farces',\n",
       " 'cunningly',\n",
       " 'disguises',\n",
       " 'cajoling',\n",
       " 'unbiased',\n",
       " 'freewill',\n",
       " 'discriminating',\n",
       " 'overwhelming',\n",
       " 'undeliverable',\n",
       " 'itch',\n",
       " 'forbidden',\n",
       " 'ignoring',\n",
       " 'lodges',\n",
       " 'Carpet',\n",
       " 'Bag',\n",
       " 'Manhatto',\n",
       " 'candidates',\n",
       " 'penalties',\n",
       " 'Tyre',\n",
       " 'Carthage',\n",
       " 'imported',\n",
       " 'cobblestones',\n",
       " 'bitingly',\n",
       " 'shouldering',\n",
       " 'price',\n",
       " 'fervent',\n",
       " 'asphaltic',\n",
       " 'pavement',\n",
       " 'flinty',\n",
       " 'projections',\n",
       " 'soles',\n",
       " 'Too',\n",
       " 'cheapest',\n",
       " 'cheeriest',\n",
       " 'invitingly',\n",
       " 'particles',\n",
       " 'peer',\n",
       " 'Angel',\n",
       " 'Doom',\n",
       " 'wailing',\n",
       " 'gnashing',\n",
       " 'Wretched',\n",
       " 'entertainment',\n",
       " 'Moving',\n",
       " 'emigrant',\n",
       " 'poverty',\n",
       " 'creak',\n",
       " 'lodgings',\n",
       " 'zephyr',\n",
       " 'hob',\n",
       " 'toasting',\n",
       " 'observest',\n",
       " 'sashless',\n",
       " 'glazier',\n",
       " 'reasonest',\n",
       " 'chinks',\n",
       " 'crannies',\n",
       " 'lint',\n",
       " 'chattering',\n",
       " 'shiverings',\n",
       " 'cob',\n",
       " 'redder',\n",
       " 'Orion',\n",
       " 'glitters',\n",
       " 'conservatories',\n",
       " 'president',\n",
       " 'temperance',\n",
       " 'blubbering',\n",
       " 'straggling',\n",
       " 'wainscots',\n",
       " 'reminding',\n",
       " 'oilpainting',\n",
       " 'besmoked',\n",
       " 'defaced',\n",
       " 'unequal',\n",
       " 'crosslights',\n",
       " 'hags',\n",
       " 'delineate',\n",
       " 'bewitched',\n",
       " 'ponderings',\n",
       " 'boggy',\n",
       " 'soggy',\n",
       " 'squitchy',\n",
       " 'froze',\n",
       " 'heath',\n",
       " 'icebound',\n",
       " 'represents',\n",
       " 'Horner',\n",
       " 'foundered',\n",
       " 'clubs',\n",
       " 'harvesting',\n",
       " 'hacking',\n",
       " 'horrifying',\n",
       " 'Mixed',\n",
       " 'Nathan',\n",
       " 'Swain',\n",
       " 'corkscrew',\n",
       " 'Blanco',\n",
       " 'sojourning',\n",
       " 'fireplaces',\n",
       " 'duskier',\n",
       " 'cockpits',\n",
       " 'rarities',\n",
       " 'Projecting',\n",
       " 'Within',\n",
       " 'shelves',\n",
       " 'flasks',\n",
       " 'bustles',\n",
       " 'deliriums',\n",
       " 'Abominable',\n",
       " 'tumblers',\n",
       " 'cylinders',\n",
       " 'goggling',\n",
       " 'deceitfully',\n",
       " 'tapered',\n",
       " 'Parallel',\n",
       " 'pecked',\n",
       " 'footpads',\n",
       " 'Fill',\n",
       " 'shilling',\n",
       " 'examining',\n",
       " 'SKRIMSHANDER',\n",
       " 'accommodated',\n",
       " 'unoccupied',\n",
       " 'haint',\n",
       " 'pose',\n",
       " 'whalin',\n",
       " 'decidedly',\n",
       " 'objectionable',\n",
       " 'wander',\n",
       " 'Battery',\n",
       " 'ruminating',\n",
       " 'adorning',\n",
       " 'potatoes',\n",
       " 'sartainty',\n",
       " 'diabolically',\n",
       " 'steaks',\n",
       " 'undress',\n",
       " 'looker',\n",
       " 'rioting',\n",
       " 'Grampus',\n",
       " 'seed',\n",
       " 'Feegees',\n",
       " 'tramping',\n",
       " 'Enveloped',\n",
       " 'bedarned',\n",
       " 'eruption',\n",
       " 'officiating',\n",
       " 'brimmers',\n",
       " 'complained',\n",
       " 'potion',\n",
       " 'colds',\n",
       " 'catarrhs',\n",
       " 'liquor',\n",
       " 'arrantest',\n",
       " 'topers',\n",
       " 'obstreperously',\n",
       " 'aloof',\n",
       " 'desirous',\n",
       " 'hilarity',\n",
       " 'coffer',\n",
       " 'Southerner',\n",
       " 'mountaineers',\n",
       " 'Alleghanian',\n",
       " 'missed',\n",
       " 'supernaturally',\n",
       " 'congratulate',\n",
       " 'multiply',\n",
       " 'bachelor',\n",
       " 'abominated',\n",
       " 'tidiest',\n",
       " 'bedwards',\n",
       " 'shan',\n",
       " 'tablecloth',\n",
       " 'Skrimshander',\n",
       " 'bump',\n",
       " 'spraining',\n",
       " 'eider',\n",
       " 'yoking',\n",
       " 'rickety',\n",
       " 'whirlwinds',\n",
       " 'knockings',\n",
       " 'dismissed',\n",
       " 'popped',\n",
       " 'cherishing',\n",
       " 'chuckled',\n",
       " 'chuckle',\n",
       " 'mightily',\n",
       " 'catches',\n",
       " 'bamboozingly',\n",
       " 'overstocked',\n",
       " 'toothpick',\n",
       " 'rayther',\n",
       " 'BROWN',\n",
       " 'slanderin',\n",
       " 'farrago',\n",
       " 'BROKE',\n",
       " 'Sartain',\n",
       " 'Mt',\n",
       " 'Hecla',\n",
       " 'persist',\n",
       " 'mystifying',\n",
       " 'unsay',\n",
       " 'criminal',\n",
       " 'Wall',\n",
       " 'purty',\n",
       " 'sarmon',\n",
       " 'rips',\n",
       " 'tellin',\n",
       " 'bought',\n",
       " 'balmed',\n",
       " 'curios',\n",
       " 'sellin',\n",
       " 'inions',\n",
       " 'fooling',\n",
       " 'idolators',\n",
       " 'Depend',\n",
       " 'reg',\n",
       " 'lar',\n",
       " 'spliced',\n",
       " 'Johnny',\n",
       " 'sprawling',\n",
       " 'Arter',\n",
       " 'glim',\n",
       " 'jiffy',\n",
       " 'irresolute',\n",
       " 'vum',\n",
       " 'WON',\n",
       " 'Folding',\n",
       " 'scrutiny',\n",
       " 'porcupine',\n",
       " 'moccasin',\n",
       " 'ponchos',\n",
       " 'parade',\n",
       " 'rainy',\n",
       " 'remembering',\n",
       " 'commended',\n",
       " 'cobs',\n",
       " 'Nod',\n",
       " 'footfall',\n",
       " 'unlacing',\n",
       " 'blackish',\n",
       " 'plasters',\n",
       " 'inkling',\n",
       " 'Placing',\n",
       " 'crammed',\n",
       " 'scalp',\n",
       " 'mildewed',\n",
       " 'Ignorance',\n",
       " 'parent',\n",
       " 'nonplussed',\n",
       " 'undressing',\n",
       " 'checkered',\n",
       " 'Thirty',\n",
       " 'frogs',\n",
       " 'quaked',\n",
       " 'wrapall',\n",
       " 'dreadnaught',\n",
       " 'fumbled',\n",
       " 'Remembering',\n",
       " 'manikin',\n",
       " 'tenpin',\n",
       " 'andirons',\n",
       " 'jambs',\n",
       " 'bricks',\n",
       " 'appropriate',\n",
       " 'applying',\n",
       " 'hastier',\n",
       " 'withdrawals',\n",
       " 'antics',\n",
       " 'devotee',\n",
       " 'extinguishing',\n",
       " 'unceremoniously',\n",
       " 'bagged',\n",
       " 'sportsman',\n",
       " 'woodcock',\n",
       " 'uncomfortableness',\n",
       " 'deliberating',\n",
       " 'puffed',\n",
       " 'sang',\n",
       " 'Stammering',\n",
       " 'conjured',\n",
       " 'responses',\n",
       " 'debel',\n",
       " 'flourishing',\n",
       " 'Angels',\n",
       " 'flourishings',\n",
       " 'peddlin',\n",
       " 'sleepe',\n",
       " 'grunted',\n",
       " 'gettee',\n",
       " 'motioning',\n",
       " 'comely',\n",
       " 'insured',\n",
       " 'Counterpane',\n",
       " 'parti',\n",
       " 'triangles',\n",
       " 'interminable',\n",
       " 'caper',\n",
       " 'supperless',\n",
       " '21st',\n",
       " 'hemisphere',\n",
       " 'sigh',\n",
       " 'Sixteen',\n",
       " 'ached',\n",
       " 'coaches',\n",
       " 'stockinged',\n",
       " 'slippering',\n",
       " 'misbehaviour',\n",
       " 'unendurable',\n",
       " 'stepmothers',\n",
       " 'misfortunes',\n",
       " 'steeped',\n",
       " 'shudderingly',\n",
       " 'confounding',\n",
       " 'soberly',\n",
       " 'recurred',\n",
       " 'predicament',\n",
       " 'unlock',\n",
       " 'bridegroom',\n",
       " 'clasp',\n",
       " 'hugged',\n",
       " 'rouse',\n",
       " 'snore',\n",
       " 'scratch',\n",
       " 'Throwing',\n",
       " 'expostulations',\n",
       " 'unbecomingness',\n",
       " 'matrimonial',\n",
       " 'dawning',\n",
       " 'overture',\n",
       " 'innate',\n",
       " 'compliment',\n",
       " 'civility',\n",
       " 'rudeness',\n",
       " 'toilette',\n",
       " 'dressing',\n",
       " 'donning',\n",
       " 'gaspings',\n",
       " 'booting',\n",
       " 'caterpillar',\n",
       " 'outlandishness',\n",
       " 'manners',\n",
       " 'education',\n",
       " 'undergraduate',\n",
       " 'dreamt',\n",
       " 'cowhide',\n",
       " 'pinched',\n",
       " 'curtains',\n",
       " 'indecorous',\n",
       " 'contented',\n",
       " 'restricting',\n",
       " 'donned',\n",
       " 'lathering',\n",
       " 'unsheathes',\n",
       " 'whets',\n",
       " 'Rogers',\n",
       " 'cutlery',\n",
       " 'Afterwards',\n",
       " 'baton',\n",
       " 'Breakfast',\n",
       " 'pleasantly',\n",
       " 'bountifully',\n",
       " 'laughable',\n",
       " 'bosky',\n",
       " 'unshorn',\n",
       " 'gowns',\n",
       " 'toasted',\n",
       " 'lingers',\n",
       " 'tarried',\n",
       " 'barred',\n",
       " 'Grub',\n",
       " 'Park',\n",
       " 'assurance',\n",
       " 'polish',\n",
       " 'occasioned',\n",
       " 'embarrassed',\n",
       " 'bashfulness',\n",
       " 'duelled',\n",
       " 'winking',\n",
       " 'tastes',\n",
       " 'sheepishly',\n",
       " 'bashful',\n",
       " 'icicle',\n",
       " 'admirer',\n",
       " 'cordially',\n",
       " 'grappling',\n",
       " 'genteelly',\n",
       " 'eschewed',\n",
       " 'undivided',\n",
       " '6',\n",
       " 'circulating',\n",
       " 'nondescripts',\n",
       " 'Chestnut',\n",
       " 'jostle',\n",
       " 'Regent',\n",
       " 'Lascars',\n",
       " 'Bombay',\n",
       " 'Apollo',\n",
       " 'Feegeeans',\n",
       " 'Tongatobooarrs',\n",
       " 'Erromanggoans',\n",
       " 'Pannangians',\n",
       " 'Brighggians',\n",
       " 'weekly',\n",
       " 'Vermonters',\n",
       " 'stalwart',\n",
       " 'frames',\n",
       " 'felled',\n",
       " 'strutting',\n",
       " 'wester',\n",
       " 'bombazine',\n",
       " 'cloak',\n",
       " 'mow',\n",
       " 'gloves',\n",
       " 'joins',\n",
       " 'outfit',\n",
       " 'waistcoats',\n",
       " 'Hay',\n",
       " 'Seed',\n",
       " 'tract',\n",
       " 'dearest',\n",
       " 'pave',\n",
       " 'eggs',\n",
       " 'patrician',\n",
       " 'parks',\n",
       " 'scraggy',\n",
       " 'scoria',\n",
       " 'Herr',\n",
       " 'dowers',\n",
       " 'nieces',\n",
       " 'reservoirs',\n",
       " 'maples',\n",
       " 'bountiful',\n",
       " 'proffer',\n",
       " 'passer',\n",
       " 'cones',\n",
       " 'blossoms',\n",
       " 'superinduced',\n",
       " 'carnation',\n",
       " 'Salem',\n",
       " 'sweethearts',\n",
       " 'Puritanic',\n",
       " 'Whaleman',\n",
       " 'Wrapping',\n",
       " 'Each',\n",
       " 'quote',\n",
       " 'TALBOT',\n",
       " 'Near',\n",
       " 'Desolation',\n",
       " '1st',\n",
       " 'SISTER',\n",
       " 'ROBERT',\n",
       " 'WILLIS',\n",
       " 'ELLERY',\n",
       " 'NATHAN',\n",
       " 'COLEMAN',\n",
       " 'WALTER',\n",
       " 'CANNY',\n",
       " 'SETH',\n",
       " 'GLEIG',\n",
       " 'Forming',\n",
       " 'ELIZA',\n",
       " '31st',\n",
       " 'MARBLE',\n",
       " 'SHIPMATES',\n",
       " 'EZEKIEL',\n",
       " 'HARDY',\n",
       " 'AUGUST',\n",
       " '3d',\n",
       " '1833',\n",
       " 'WIDOW',\n",
       " 'Shaking',\n",
       " 'glazed',\n",
       " 'Affected',\n",
       " 'relatives',\n",
       " 'unhealing',\n",
       " 'sympathetically',\n",
       " 'wounds',\n",
       " 'bleed',\n",
       " 'blanks',\n",
       " ...]"
      ]
     },
     "execution_count": 23,
     "metadata": {},
     "output_type": "execute_result"
    }
   ],
   "source": [
    "fdist1.hapaxes()"
   ]
  },
  {
   "cell_type": "markdown",
   "metadata": {},
   "source": [
    "### Bigramas y colocaciones\n",
    "En lingüística llamamos _colocación_ a las secuencias de palabras que tienden a aparecer juntas más que otras. Pero ¡ojo! porque acabamos de ver que hay palabras que son tan frecuentes que constituyen fácilmente la mitad de las palabras de un texto. Por tanto, van a coaparecer con muchas otras palabras, simplemente porque son muy frecuentes. Es decir, \"vino tinto\" es un buen ejemplo de colocación, pero \"el vino\", no. Una característica de las colocaciones es que no aceptan sustituciones por sinónimos; decimos \"vino tinto\", pero no \"vino rojo\".\n",
    "\n",
    "La operación básica para encontrar colocaciones es buscar _bigramas_, que es como llamamos a todos los pares de palabras que aparecen en un texto. Esto lo podemos hacer con la función `bigrams()`, a la que tenemos que pasarle una lista de palabras, y nos devuelve un objeto secuencial que tendremos que convertir en lista para poder verlo:"
   ]
  },
  {
   "cell_type": "code",
   "execution_count": 24,
   "metadata": {},
   "outputs": [
    {
     "data": {
      "text/plain": [
       "[('más', 'vale'),\n",
       " ('vale', 'pájaro'),\n",
       " ('pájaro', 'en'),\n",
       " ('en', 'mano'),\n",
       " ('mano', 'que'),\n",
       " ('que', 'ciento'),\n",
       " ('ciento', 'volando')]"
      ]
     },
     "execution_count": 24,
     "metadata": {},
     "output_type": "execute_result"
    }
   ],
   "source": [
    "list(bigrams(['más', 'vale', 'pájaro', 'en', 'mano', 'que', 'ciento', 'volando']))"
   ]
  },
  {
   "cell_type": "markdown",
   "metadata": {},
   "source": [
    "Las colocaciones son, básicamente, bigramas muy frecuentes. De los bigramas que acabamos de generar, probablemente podamos encontrar en otros textos el de \"más vale\" o el de \"en mano\" que todos los demás. Y es que para encontrar colocaciones tenemos que prestar atención a los bigramas que contienen palabras menos frecuentes. En concreto, vamos a querer encontrar bigramas que aparezcan más frecuentemente de lo que esperaríamos basándonos solamente en las frecuencias de las palabras que los componen por sí solas. Es un cálculo complicado, pero la función `collocations()` lo hace por nosotros:"
   ]
  },
  {
   "cell_type": "code",
   "execution_count": 25,
   "metadata": {},
   "outputs": [
    {
     "name": "stdout",
     "output_type": "stream",
     "text": [
      "Sperm Whale; Moby Dick; White Whale; old man; Captain Ahab; sperm\n",
      "whale; Right Whale; Captain Peleg; New Bedford; Cape Horn; cried Ahab;\n",
      "years ago; lower jaw; never mind; Father Mapple; cried Stubb; chief\n",
      "mate; white whale; ivory leg; one hand\n",
      "\n",
      "Colonel Brandon; Sir John; Lady Middleton; Miss Dashwood; every thing;\n",
      "thousand pounds; dare say; Miss Steeles; said Elinor; Miss Steele;\n",
      "every body; John Dashwood; great deal; Harley Street; Berkeley Street;\n",
      "Miss Dashwoods; young man; Combe Magna; every day; next morning\n",
      "\n",
      "United States; fellow citizens; years ago; four years; Federal\n",
      "Government; General Government; American people; Vice President; God\n",
      "bless; Chief Justice; one another; fellow Americans; Old World;\n",
      "Almighty God; Fellow citizens; Chief Magistrate; every citizen; Indian\n",
      "tribes; public debt; foreign nations\n"
     ]
    }
   ],
   "source": [
    "text1.collocations()\n",
    "print()\n",
    "text2.collocations()\n",
    "print()\n",
    "text4.collocations()"
   ]
  },
  {
   "cell_type": "markdown",
   "metadata": {},
   "source": [
    "¡Esto ya nos dice bastante más sobre el contenido de los textos!\n",
    "## Carga tu propio texto\n",
    "Todo esto está muy bien, estarás pensando, pero yo no quiero analizar _Moby Dick_, quiero explorar mis propios textos. ¡Obvio!\n",
    "\n",
    "Podemos cargar cualquier texto mientras lo tengamos en formato de texto plano. El sitio ideal para buscar es el Proyecto Gutenberg. Por ejemplo, podemos buscar El Quijote, que lo tienen en [esta ficha](https://www.gutenberg.org/ebooks/2000) en varios formatos; el que nos interesa es el Plain Text UTF-8. Podemos hacer click con el botón derecho y darle a `Descargar enlace como...`, o pinchar en el enlace y copiar y pegar ese texto en un fichero en nuestro ordenador, que el resultado va a ser el mismo.\n",
    "\n",
    "Ahora, tenemos que importar del módulo corpus la función PlaintextCorpusReader, que toma como parámetros la ruta de la carpeta donde se encuentra el archivo y una regex con la que intentará hacer match en cada uno de los archivos de esa carpeta. Es decir, que para cargar nuestro corpus no hace falta que esté todo el texto en un mismo archivo, sino que estén todos los archivos en la misma carpeta y sepamos escribir una regex que capture solo los archivos que nos interesan. Si son todos, podemos poner `\".*.txt\"` (o la extensión que sea); si no, deberemos seguir un patrón en el nombre de los archivos y escribir una regex que capture solo los archivos que nos interesan.\n",
    "\n",
    "Pero nada de esto nos importa en este caso, porque solo tenemos un archivo, y se encuentra en la misma carpeta que el cuaderno. Así que dejamos la ruta vacía y en el patrón escribimos el nombre de nuestro archivo.\n",
    "\n",
    "Después hay que aplicarle el método `.words()` y ya podremos convertirlo en un objeto Text:"
   ]
  },
  {
   "cell_type": "code",
   "execution_count": 26,
   "metadata": {},
   "outputs": [],
   "source": [
    "import nltk\n",
    "from nltk.corpus import PlaintextCorpusReader\n",
    "\n",
    "ruta = \"\"\n",
    "archivos = \"quijote.txt\"\n",
    "\n",
    "mi_corpus = PlaintextCorpusReader(ruta, archivos)\n",
    "mi_corpus = nltk.Text(mi_corpus.words())"
   ]
  },
  {
   "cell_type": "markdown",
   "metadata": {},
   "source": [
    "¡Ya está! Ahora podemos aplicar todo lo aprendido a nuestro texto:"
   ]
  },
  {
   "cell_type": "code",
   "execution_count": 27,
   "metadata": {},
   "outputs": [
    {
     "name": "stdout",
     "output_type": "stream",
     "text": [
      "Displaying 12 of 12 matches:\n",
      " Lápice ; otros dicen que la de los molinos de viento ; pero , lo que yo he pod\n",
      "e y jamás imaginada aventura de los molinos de viento , con otros sucesos digno\n",
      "o , descubrieron treinta o cuarenta molinos de viento que hay en aquel campo ; \n",
      "í se parecen no son gigantes , sino molinos de viento , y lo que en ellos parec\n",
      "éndole que , sin duda alguna , eran molinos de viento , y no gigantes , aquello\n",
      "ien lo que hacía , que no eran sino molinos de viento , y no lo podía ignorar s\n",
      " libros ha vuelto estos gigantes en molinos por quitarme la gloria de su vencim\n",
      " poderío . - Peor será esto que los molinos de viento - dijo Sancho -. Mire , s\n",
      "ba y cogía pasaba por mi mano ; los molinos de aceite , los lagares de vino , e\n",
      "nos se atienen a la aventura de los molinos de viento , que a vuestra merced le\n",
      "como se pareció cuando dijo que los molinos de viento eran gigantes , y las mul\n",
      "sido tortas y pan pintado la de los molinos de viento y la temerosa de los bata\n"
     ]
    }
   ],
   "source": [
    "mi_corpus.concordance(\"molinos\")"
   ]
  },
  {
   "cell_type": "markdown",
   "metadata": {},
   "source": [
    "¿A alguien le sorprende que casi todas las apariciones de «molinos» vayan acompañadas de «de viento»?"
   ]
  },
  {
   "cell_type": "markdown",
   "metadata": {},
   "source": [
    "## Ejercicios\n",
    "### 100201\n",
    "Explora las funciones y gráficas que hemos aprendido en este cuaderno con el texto del Quijote y con tus propios textos.\n",
    "### 100202\n",
    "¿Sabrías decir qué hace el siguiente código?"
   ]
  },
  {
   "cell_type": "code",
   "execution_count": 28,
   "metadata": {},
   "outputs": [
    {
     "data": {
      "text/plain": [
       "999044"
      ]
     },
     "execution_count": 28,
     "metadata": {},
     "output_type": "execute_result"
    }
   ],
   "source": [
    "sum(len(w) for w in text1)"
   ]
  },
  {
   "cell_type": "markdown",
   "metadata": {},
   "source": [
    "¿Se te ocurre cómo puedes usarlo para calcular la longitud media de las palabras de un texto?\n",
    "### 100203\n",
    "En las 40 palabras más comunes de _Moby Dick_ que hemos visto al generar su distribución de frecuencia, hemos visto que casi todo son stopwords. \n",
    "\n",
    "Como ya hicimos en el cuaderno 1001, tiene sentido tomar la lista de palabras más frecuentes de un texto y cruzarla con una lista de stopwords en el idioma de ese texto, para limpiarla y quedarnos solo con las palabras que nos den más pistas sobre el tema o género de ese texto. Y de esto va precisamente este ejercicio:\n",
    "    \n",
    "1) descarga la lista de stopwords de inglés del repositorio [Stopwords ISO de Github](https://github.com/stopwords-iso);\n",
    "\n",
    "2) genera la distribución de frecuencias de _Sentido y sensibilidad_;\n",
    "\n",
    "3) recorre sus 50 palabras más frecuentes con `for`;\n",
    "\n",
    "4) comprueba si la palabra está en la lista de stopwords de inglés;\n",
    "\n",
    "5) comprueba también si la palabra está en la siguiente lista de signos de puntuación;\n",
    "    \n",
    "    punctuation = [\n",
    "        ',', \n",
    "        '.', \n",
    "        ';', \n",
    "        \"'\", \n",
    "        '-', \n",
    "        '\"', \n",
    "        '!', \n",
    "        '--',\n",
    "        '?'\n",
    "    ]\n",
    "\n",
    "6) si no está en ninguna de las dos listas, añádela a una lista `topic_words` e imprímela.\n",
    "\n",
    "A la vista de los resultados, ¿qué podemos decir de la lista de stopwords que nos hemos descargado? ¿Es buena o habría que editarla?"
   ]
  }
 ],
 "metadata": {
  "kernelspec": {
   "display_name": "Python 3",
   "language": "python",
   "name": "python3"
  },
  "language_info": {
   "codemirror_mode": {
    "name": "ipython",
    "version": 3
   },
   "file_extension": ".py",
   "mimetype": "text/x-python",
   "name": "python",
   "nbconvert_exporter": "python",
   "pygments_lexer": "ipython3",
   "version": "3.7.0"
  }
 },
 "nbformat": 4,
 "nbformat_minor": 2
}
