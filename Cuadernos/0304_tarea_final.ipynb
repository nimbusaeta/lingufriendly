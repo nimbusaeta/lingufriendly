{
 "cells": [
  {
   "cell_type": "markdown",
   "metadata": {},
   "source": [
    "# Ejercicio final del tema 3 - Red social\n",
    "En el ejercicio del tema anterior, solo habíamos trabajado con datos del usuario de tipo string. Además no habíamos manipulado ninguno de ellos. Ahora, vamos a poner en práctica lo que hemos aprendido en este tema.\n",
    "\n",
    "Modifica el programa anterior de forma que:\n",
    "- Le pida al usuario el dato de su estatura en centímetros y después, en la parte de imprimir el perfil, la imprima expresada en metros.\n",
    "- En vez de pedirle al usuario su edad, como antes, le pida su año de nacimiento. Después, en la parte de imprimir el perfil, que calcule su edad actual teniendo en cuenta que estamos en 2022, y la imprima.\n",
    "- Corrija el nombre y los apellidos del usuario. Es decir, que dé igual si el usuario los escribe todo en mayúsculas, todo en minúsculas o en mayúsculas y minúsculas con creatividad, que tu programa sea capaz de imprimirlo con las primeras en mayúsculas.\n",
    "\n",
    "Debería quedar, por ejemplo, así:\n",
    "\n",
    "    ¿Cómo te llamas?: JUANA\n",
    "    ¿Cuál es tu primer apellido?: asbaje\n",
    "    ¿Y el segundo?: ramírez\n",
    "    ¿Cuál es tu año de nacimiento?: 1648\n",
    "    Y para acabar, ¿cuál es tu estatura? (en centímetros): 161\n",
    "    \n",
    "    Tu perfil ha sido creado.\n",
    "    Nombre: Juana Asbaje Ramírez\n",
    "    Edad: 374 años\n",
    "    Estatura: 1.61 metros\n",
    "    \n",
    "    ¿Qué estás pensando?: Yo no estimo tesoros ni riquezas; y así, siempre me causa más contento poner riquezas en mi pensamiento que no mi pensamiento en las riquezas.\n",
    "    \n",
    "    Juana dice: Yo no estimo tesoros ni riquezas; y así, siempre me causa más contento poner riquezas en mi pensamiento que no mi pensamiento en las riquezas.\n",
    "\n",
    "Recuerda mantener la estructura del programa anterior. En programación se suele trabajar con código ya existente (lo que llaman _legacy code_) y simplemente ampliarlo o mejorarlo, así que debes acostumbrarte a toquetear código."
   ]
  }
 ],
 "metadata": {
  "kernelspec": {
   "display_name": "Python 3",
   "language": "python",
   "name": "python3"
  },
  "language_info": {
   "codemirror_mode": {
    "name": "ipython",
    "version": 3
   },
   "file_extension": ".py",
   "mimetype": "text/x-python",
   "name": "python",
   "nbconvert_exporter": "python",
   "pygments_lexer": "ipython3",
   "version": "3.7.0"
  }
 },
 "nbformat": 4,
 "nbformat_minor": 2
}
