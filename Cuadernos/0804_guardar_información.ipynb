{
 "cells": [
  {
   "cell_type": "markdown",
   "metadata": {},
   "source": [
    "# Tema 8: Ficheros y módulos (IV)\n",
    "## Guardar información entre ejecuciones\n",
    "Ahora que sabemos leer y escribir en ficheros e importar módulos, tenemos todo lo necesario para conservar la información entre sesiones de ejecución de un mismo programa.\n",
    "\n",
    "En este cuaderno simplemente vamos ver cómo se escribe un programa para gestionar una colección de libros, que cree un archivo por cada libro que queramos guardar, y que nos permita, a través de un menú, modificar esta información en el archivo y consultarla. El código es muy parecido al del cuaderno 0704 para consultar colecciones de películas y libros.\n",
    "\n",
    "Primero tenemos que pensar qué acciones vamos a permitir al usuario. Por ejemplo: guardar un nuevo libro, modificar los datos de un libro ya existente y consultar los datos de un libro. Además tendremos que dar la opción de salir, y crear en nuestro código un último caso de _fallback_ para cuando el usuario no escriba ninguna de las opciones que hemos pensado para él. Es decir, que lo primero que tenemos que pensar es el esqueleto del programa, lo que terminará siendo el programa principal, y luego escribiremos las funciones. En este caso, quedaría así:"
   ]
  },
  {
   "cell_type": "code",
   "execution_count": null,
   "metadata": {},
   "outputs": [],
   "source": [
    "# Menú\n",
    "continuar = True\n",
    "while continuar:\n",
    "    opcion = int(input(\"\"\"¿Qué quieres hacer?\n",
    "                       1. Añadir un libro.\n",
    "                       2. Modificar los datos de un libro.\n",
    "                       3. Consultar los datos de un libro.\n",
    "                       4. Salir.\n",
    "                       \"\"\"))\n",
    "    \n",
    "    if opcion == 1:\n",
    "        nuevo_libro()\n",
    "\n",
    "    elif opcion == 2:\n",
    "        modificar_libro()\n",
    "\n",
    "    elif opcion == 3:\n",
    "        consultar_libro()\n",
    "    \n",
    "    elif opcion == 4:\n",
    "        print(\"¡Adiós!\")\n",
    "        continuar = False\n",
    "    \n",
    "    else:\n",
    "        print(\"Debes escribir un número entre 1 y 4.\")"
   ]
  },
  {
   "cell_type": "markdown",
   "metadata": {},
   "source": [
    "Ahora tenemos que pensar qué deben hacer nuestras funciones `nuevo_libro()`, `modificar_libro()` y `consultar_libro()`.\n",
    "\n",
    "Las dos primeras van a ser muy parecidas:\n",
    "- pedirle los datos del libro al usuario\n",
    "- crear/sobreescribir un archivo con los datos\n",
    "- imprimir un mensaje de confirmación:\n",
    "    - en el caso de `nuevo_libro()`, dirá algo así como `Se ha añadido 'Título' a la biblioteca`\n",
    "    - en el caso de `modificar_libro()`, dirá `Se ha actualizado la información sobre 'Título' en la biblioteca`\n",
    "    \n",
    "Solamente difieren en el mensaje de confirmación y todo lo demás es igual, lo que significa que podremos reutilizar mucho código. Así que vamos a escribir 4 subfunciones: una para pedir los datos al usuario, otra para guardarlos en un archivo (que nos da igual si existe previamente o no, así que nos vale tanto para `nuevo_libro` como para `modificar_libro()`) y otras dos para imprimir los dos tipos de mensaje de confirmación.\n",
    "\n",
    "Entonces, primero, ¿qué datos vamos a pedir? Podemos pedir, por ejemplo, el título, el autor, el año de publicación y el género. Además, tenemos que pensar en cómo vamos a llamar a nuestros archivos. Podemos ponerles, de nombre, el título del libro, porque será una string y para nuestros propósitos seguro que es el dato más identificativo del libro, y de extensión \".libro\". Veamos cómo queda todo esto en funciones:"
   ]
  },
  {
   "cell_type": "code",
   "execution_count": 1,
   "metadata": {},
   "outputs": [
    {
     "name": "stdout",
     "output_type": "stream",
     "text": [
      "Título: El perfume\n",
      "Autor(es): Patrick Süskind\n",
      "Año de publicación: 1985\n",
      "Género: Novela\n"
     ]
    }
   ],
   "source": [
    "def pedir_datos():\n",
    "    # Pide los datos del libro al usuario\n",
    "    titulo = input(\"Título: \")\n",
    "    autor = input(\"Autor(es): \")\n",
    "    anno = input(\"Año de publicación: \")\n",
    "    genero = input(\"Género: \")\n",
    "    return titulo, autor, anno, genero\n",
    "\n",
    "def guardar_datos(titulo, autor, anno, genero):\n",
    "    # Guarda los datos del libro en un archivo\n",
    "    archivo = open(titulo + \".libro\", \"w\", encoding = \"UTF-8\")\n",
    "    archivo.write(titulo + \"\\n\" + autor + \"\\n\" + anno + \"\\n\" + genero + \"\\n\")\n",
    "    archivo.close()\n",
    "\n",
    "titulo, autor, anno, genero = pedir_datos()\n",
    "guardar_datos(titulo, autor, anno, genero)"
   ]
  },
  {
   "cell_type": "markdown",
   "metadata": {},
   "source": [
    "Parece que todo ha ido bien. Además, nos ha creado el fichero `El perfume.libro` con las líneas esperadas, así que definitivamente el código está bien.\n",
    "\n",
    "Fíjate en la gran diferencia que hay entre las dos funciones: en `pedir_datos()` no podemos definir ningún parámetro; precisamente lo que estamos haciendo es pedir los datos al usuario para devolverlos, así que otra cosa que tenemos que hacer es escribir una línea de `return` con todos esos datos. En cambio, en `guardar_datos()` es al contrario: ya tenemos los datos y lo que queremos es guardarlos en un archivo, pero no nos interesa que la función devuelva nada, porque una vez que están guardados los datos en el archivo ya ha hecho todo lo que queríamos.\n",
    "\n",
    "Es importante que siempre mantengamos el mismo orden en los datos: si el `return` de `pedir_datos()` es `titulo, autor, anno, genero`, los parámetros de `guardar_datos()` también deben ir en ese orden (aunque no tienen por qué llamarse igual, porque son funciones distintas). \n",
    "\n",
    "Y ahora, vamos a definir las distintas funciones que imprimen los mensajes de confirmación. Podemos pasarle el parámetro `titulo` para que salga un mensaje más personalizado:"
   ]
  },
  {
   "cell_type": "code",
   "execution_count": 3,
   "metadata": {},
   "outputs": [],
   "source": [
    "def imprimir_confirmacion_guardado(titulo):\n",
    "    # Imprime el mensaje de confirmación de guardado\n",
    "    print(\"Ok, se ha añadido\", titulo, \"a la biblioteca.\")\n",
    "    print()\n",
    "\n",
    "def imprimir_confirmacion_actualizacion(titulo):\n",
    "    # Imprime el mensaje de confirmación de actualización\n",
    "    print(\"Ok, se ha actualizado la información sobre\", titulo, \"en la biblioteca.\")\n",
    "    print()"
   ]
  },
  {
   "cell_type": "markdown",
   "metadata": {},
   "source": [
    "Bien, ya tenemos todo lo necesario para definir nuestras funciones `nuevo_libro()` y `modificar_libro()`:"
   ]
  },
  {
   "cell_type": "code",
   "execution_count": 4,
   "metadata": {},
   "outputs": [
    {
     "name": "stdout",
     "output_type": "stream",
     "text": [
      "Título: El hobbit\n",
      "Autor(es): J. R. R. Tolkien\n",
      "Año de publicación: 1937\n",
      "Género: Novela\n",
      "Ok, se ha añadido El hobbit a la biblioteca.\n",
      "\n",
      "Título: Edipo rey\n",
      "Autor(es): Sófocles\n",
      "Año de publicación: 430 a. C.\n",
      "Género: Teatro\n",
      "Ok, se ha actualizado la información sobre Edipo rey en la biblioteca.\n",
      "\n"
     ]
    }
   ],
   "source": [
    "def nuevo_libro():\n",
    "    # Pide y guarda los datos en el archivo correspondiente\n",
    "    titulo, autor, anno, genero = pedir_datos()\n",
    "    guardar_datos(titulo, autor, anno, genero)\n",
    "    imprimir_confirmacion_guardado(titulo)\n",
    "\n",
    "def modificar_libro():\n",
    "    # Pide y guarda los datos en el archivo correspondiente\n",
    "    titulo, autor, anno, genero = pedir_datos()\n",
    "    guardar_datos(titulo, autor, anno, genero)\n",
    "    imprimir_confirmacion_actualizacion(titulo)\n",
    "    \n",
    "nuevo_libro()\n",
    "modificar_libro()"
   ]
  },
  {
   "cell_type": "markdown",
   "metadata": {},
   "source": [
    "Perfecto. Fíjate en que, como `pedir_datos()` devuelve 4 valores, tenemos que llamar a esta función previendo que esos valores tienen que guardarse en otras tantas variables. Y, al contrario, en la siguiente línea llamamos a `guardar_datos()` sin meter su salida en ninguna variable, pero sí pasándoles como parámetros las variables que contienen los datos que acabamos de obtener.\n",
    "\n",
    "Ahora tenemos que definir `consultar_libro()`. Estaría bien que, ya que vamos a tener que abrir archivos en modo lectura, nos aseguremos antes de ello de que existe el archivo correspondiente al libro que nos pide el usuario.\n",
    "\n",
    "Después, sabemos que los archivos tienen la información guardada siguiendo una determinada estructura, que es la siguiente: título, autor, año y género, cada uno en una línea. Así que una cosa que podemos hacer es usar `readlines()` sobre el archivo para meter las líneas en una lista, y después imprimir de forma bonita cada elemento de la lista.\n",
    "\n",
    "Además, es probable que el usuario quiera consultar más de un libro, así que vamos a darle esa opción antes de devolverle al menú principal. Y tendremos que gestionar los inputs erróneos (de libros de los que no tenemos un archivo) del usuario, haciendo que el programa le vuelva a preguntar hasta que dé uno correcto. Veamos cómo queda:"
   ]
  },
  {
   "cell_type": "code",
   "execution_count": 7,
   "metadata": {},
   "outputs": [
    {
     "name": "stdout",
     "output_type": "stream",
     "text": [
      "Título del libro que quieres consultar: El hobbit\n",
      "Título: El hobbit\n",
      "Autor(es): J. R. R. Tolkien\n",
      "Año de publicación: 1937\n",
      "Género: Novela\n",
      "\n",
      "¿Quieres consultar otro libro?: sí\n",
      "Título del libro que quieres consultar: El perfume\n",
      "Título: El perfume\n",
      "Autor(es): Patrick Süskind\n",
      "Año de publicación: 1985\n",
      "Género: Novela\n",
      "\n",
      "¿Quieres consultar otro libro?: no\n"
     ]
    }
   ],
   "source": [
    "import os\n",
    "\n",
    "def consultar_libro():\n",
    "    # Consulta los datos en los archivos y los imprime\n",
    "    continuar = True\n",
    "    while continuar:\n",
    "        titulo = input(\"Título del libro que quieres consultar: \")\n",
    "        if os.path.isfile(titulo + \".libro\"): # comprobamos que existe el archivo\n",
    "            archivo = open(titulo + \".libro\", \"r\", encoding = \"UTF-8\")\n",
    "            lista = archivo.readlines()\n",
    "            titulo = lista[0].strip()\n",
    "            autor = lista[1].strip()\n",
    "            anno = lista[2].strip()\n",
    "            genero = lista[3].strip()\n",
    "            print(\"Título:\", titulo)\n",
    "            print(\"Autor(es):\", autor)\n",
    "            print(\"Año de publicación:\", anno)\n",
    "            print(\"Género:\", genero)\n",
    "            print()\n",
    "        else: # si no existe el archivo, preguntamos hasta que dé un nombre válido\n",
    "            print(\"No tienes ningún libro en tu biblioteca llamado\", titulo)\n",
    "        \n",
    "        otro_libro = input(\"¿Quieres consultar otro libro?: \") # preguntamos si quiere seguir consultando libros\n",
    "        if otro_libro.lower() == \"n\" or otro_libro.lower() == \"no\":\n",
    "            continuar = False\n",
    "\n",
    "consultar_libro()"
   ]
  },
  {
   "cell_type": "markdown",
   "metadata": {},
   "source": [
    "¡Ya lo tenemos todo! Si pegamos todo esto, nos queda el siguiente código:"
   ]
  },
  {
   "cell_type": "code",
   "execution_count": null,
   "metadata": {},
   "outputs": [],
   "source": [
    "### Programa para gestionar los libros de una biblioteca\n",
    "\n",
    "import os\n",
    "\n",
    "### FUNCIONES\n",
    "\n",
    "def pedir_datos():\n",
    "    # Pide los datos del libro al usuario\n",
    "    titulo = input(\"Título: \")\n",
    "    autor = input(\"Autor(es): \")\n",
    "    anno = input(\"Año de publicación: \")\n",
    "    genero = input(\"Género: \")\n",
    "    return titulo, autor, anno, genero\n",
    "\n",
    "def guardar_datos(titulo, autor, anno, genero):\n",
    "    # Guarda los datos del libro en un archivo\n",
    "    archivo = open(titulo + \".libro\", \"w\", encoding = \"UTF-8\")\n",
    "    archivo.write(titulo + \"\\n\" + autor + \"\\n\" + anno + \"\\n\" + genero + \"\\n\")\n",
    "    archivo.close()\n",
    "\n",
    "def imprimir_confirmacion_guardado(titulo):\n",
    "    # Imprime el mensaje de confirmación de guardado\n",
    "    print(\"Ok, se ha añadido\", titulo, \"a la biblioteca.\")\n",
    "    print()\n",
    "\n",
    "def imprimir_confirmacion_actualizacion(titulo):\n",
    "    # Imprime el mensaje de confirmación de actualización\n",
    "    print(\"Ok, se ha actualizado la información sobre\", titulo, \"en la biblioteca.\")\n",
    "    print()    \n",
    "\n",
    "def nuevo_libro():\n",
    "    # Pide y guarda los datos en el archivo correspondiente\n",
    "    titulo, autor, anno, genero = pedir_datos()\n",
    "    guardar_datos(titulo, autor, anno, genero)\n",
    "    imprimir_confirmacion_guardado(titulo)\n",
    "\n",
    "def modificar_libro():\n",
    "    # Pide y guarda los datos en el archivo correspondiente\n",
    "    titulo, autor, anno, genero = pedir_datos()\n",
    "    guardar_datos(titulo, autor, anno, genero)\n",
    "    imprimir_confirmacion_actualizacion(titulo)\n",
    "    \n",
    "def consultar_libro():\n",
    "    # Consulta los datos en los archivos y los imprime\n",
    "    continuar = True\n",
    "    while continuar:\n",
    "        titulo = input(\"Título del libro que quieres consultar: \")\n",
    "        if os.path.isfile(titulo + \".libro\"):\n",
    "            archivo = open(titulo + \".libro\", \"r\", encoding = \"UTF-8\")\n",
    "            lista = archivo.readlines()\n",
    "            titulo = lista[0].strip()\n",
    "            autor = lista[1].strip()\n",
    "            anno = lista[2].strip()\n",
    "            genero = lista[3].strip()\n",
    "            print(\"Título:\", titulo)\n",
    "            print(\"Autor(es):\", autor)\n",
    "            print(\"Año de publicación:\", anno)\n",
    "            print(\"Género:\", genero)\n",
    "            print()\n",
    "        else:\n",
    "            print(\"No tienes ningún libro en tu biblioteca llamado\", titulo)\n",
    "        otro_libro = input(\"¿Quieres consultar otro libro?: \")\n",
    "        if otro_libro.lower() == \"n\" or otro_libro.lower() == \"no\":\n",
    "            continuar = False\n",
    "\n",
    "### PROGRAMA PRINCIPAL\n",
    "\n",
    "# Menú\n",
    "continuar = True\n",
    "while continuar:\n",
    "    opcion = int(input(\"\"\"¿Qué quieres hacer?\n",
    "                       1. Añadir un libro.\n",
    "                       2. Modificar los datos de un libro.\n",
    "                       3. Consultar los datos de un libro.\n",
    "                       4. Salir.\n",
    "                       \"\"\"))\n",
    "    \n",
    "    # Opción 1. Añadir un libro\n",
    "    if opcion == 1:\n",
    "        nuevo_libro()\n",
    "\n",
    "    # Opción 2. Modificar un libro\n",
    "    elif opcion == 2:\n",
    "        modificar_libro()\n",
    "\n",
    "    # Opción 3. Consultar un libro\n",
    "    elif opcion == 3:\n",
    "        consultar_libro()\n",
    "    \n",
    "    # Opción 4. Salir\n",
    "    elif opcion == 4:\n",
    "        print(\"¡Adiós!\")\n",
    "        continuar = False\n",
    "    \n",
    "    # Fallback\n",
    "    else:\n",
    "        print(\"Debes escribir un número entre 1 y 4.\")\n"
   ]
  },
  {
   "cell_type": "markdown",
   "metadata": {},
   "source": [
    "Y si guardamos la parte de las funciones en un archivo que llamemos `biblioteca.py`, podemos importarlo y reducir nuestro programa a las siguientes líneas:"
   ]
  },
  {
   "cell_type": "code",
   "execution_count": null,
   "metadata": {},
   "outputs": [],
   "source": [
    "### Programa para gestionar los libros de una biblioteca\n",
    "\n",
    "from biblioteca import nuevo_libro, modificar_libro, consultar_libro\n",
    "\n",
    "# Menú\n",
    "continuar = True\n",
    "while continuar:\n",
    "    opcion = int(input(\"\"\"¿Qué quieres hacer?\n",
    "                       1. Añadir un libro.\n",
    "                       2. Modificar los datos de un libro.\n",
    "                       3. Consultar los datos de un libro.\n",
    "                       4. Salir.\n",
    "                       \"\"\"))\n",
    "    \n",
    "    # Opción 1. Añadir un libro\n",
    "    if opcion == 1:\n",
    "        nuevo_libro()\n",
    "\n",
    "    # Opción 2. Modificar un libro\n",
    "    elif opcion == 2:\n",
    "        modificar_libro()\n",
    "\n",
    "    # Opción 3. Consultar un libro\n",
    "    elif opcion == 3:\n",
    "        consultar_libro()\n",
    "    \n",
    "    # Opción 4. Salir\n",
    "    elif opcion == 4:\n",
    "        print(\"¡Adiós!\")\n",
    "        continuar = False\n",
    "    \n",
    "    # Fallback\n",
    "    else:\n",
    "        print(\"Debes escribir un número entre 1 y 4.\")"
   ]
  },
  {
   "cell_type": "markdown",
   "metadata": {},
   "source": [
    "Como ves, hemos tenido que tomar muchas decisiones que no tienen mucho que ver con la parte técnica de la programación, sino con cómo es mejor gestionar los datos, qué tiene más sentido, cuál va a ser el alcance y el propósito de nuestro programa... Esto también se aprende con la práctica. Al programar, pasas más tiempo diseñando lo que quieres construir, haciendo y deshaciendo el código, probándolo, buscando y leyendo documentación en internet sobre el lenguaje o la librería que estás usando... que escribiendo código realmente. Es decir, [no se parece nada a cómo nos lo pintan en las películas](https://www.youtube.com/watch?v=HluANRwPyNo).\n",
    "\n",
    "## Ejercicios\n",
    "### 080401\n",
    "Modifica el programa anterior incluyendo una nueva opción: registrar un préstamo. Tendrás que escribir una función parecida a `consultar_libro()`, que compruebe si el libro está en la biblioteca (es decir, que existe el archivo correspondiente al libro que se quiere prestar) y, en caso afirmativo, solamente añada un par de líneas: el nombre de la persona a la que se lo prestamos, y la fecha de devolución (como si fuéramos una biblioteca de verdad). Recuerda: tendrás que abrir el archivo en modo _append_, o si no lo que estarás haciendo es sobreescribir todo el archivo."
   ]
  }
 ],
 "metadata": {
  "kernelspec": {
   "display_name": "Python 3",
   "language": "python",
   "name": "python3"
  },
  "language_info": {
   "codemirror_mode": {
    "name": "ipython",
    "version": 3
   },
   "file_extension": ".py",
   "mimetype": "text/x-python",
   "name": "python",
   "nbconvert_exporter": "python",
   "pygments_lexer": "ipython3",
   "version": "3.7.0"
  }
 },
 "nbformat": 4,
 "nbformat_minor": 2
}
