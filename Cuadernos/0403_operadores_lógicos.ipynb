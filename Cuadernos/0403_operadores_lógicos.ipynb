{
 "cells": [
  {
   "cell_type": "markdown",
   "metadata": {},
   "source": [
    "# Tema 4: condiciones (III)"
   ]
  },
  {
   "cell_type": "markdown",
   "metadata": {},
   "source": [
    "## Operadores lógicos\n",
    "Para definir condiciones más complejas, podemos usar una serie de _operadores lógicos_:\n",
    "\n",
    "Operador | Ejemplo | Cierto si...\n",
    "---------|---------|--------------\n",
    "and | cond1 and cond2 | las dos condiciones son ciertas\n",
    "or | cond1 or cond2 | al menos una de las condiciones es cierta\n",
    "not | not cond1 | cond1 es falsa\n",
    "\n",
    "Estos operadores funcionan como `in`, es decir, no son funciones sino que son parte de la sintaxis de base de Python."
   ]
  },
  {
   "cell_type": "markdown",
   "metadata": {},
   "source": [
    "### Operador `and`\n",
    "El operador `and`  exige que **ambas condiciones** sean ciertas para que la expresión completa sea cierta.\n",
    "\n",
    "La siguiente celda devuelve `True` porque tanto `2 < 6` como `9 == 4 + 5` se resuelven como ciertas: "
   ]
  },
  {
   "cell_type": "code",
   "execution_count": 27,
   "metadata": {},
   "outputs": [
    {
     "data": {
      "text/plain": [
       "True"
      ]
     },
     "execution_count": 27,
     "metadata": {},
     "output_type": "execute_result"
    }
   ],
   "source": [
    "2 < 6 and 9 == 4 + 5"
   ]
  },
  {
   "cell_type": "markdown",
   "metadata": {},
   "source": [
    "Sin embargo, basta con que una de las condiciones sea falsa para que la supracondición que crea el `and` sea falsa a su vez:"
   ]
  },
  {
   "cell_type": "code",
   "execution_count": 28,
   "metadata": {},
   "outputs": [
    {
     "data": {
      "text/plain": [
       "False"
      ]
     },
     "execution_count": 28,
     "metadata": {},
     "output_type": "execute_result"
    }
   ],
   "source": [
    "2 > 6 and 9 == 4 + 5"
   ]
  },
  {
   "cell_type": "markdown",
   "metadata": {},
   "source": [
    "Ahora podemos escribir programas con condiciones más complejas. Por ejemplo, el siguiente programa comprueba si el número introducido por el usuario está entre 1 y 10 (inclusive):"
   ]
  },
  {
   "cell_type": "code",
   "execution_count": 23,
   "metadata": {},
   "outputs": [
    {
     "name": "stdout",
     "output_type": "stream",
     "text": [
      "Escribe un número entre 1 y 10: 4\n",
      "Muy bien\n"
     ]
    }
   ],
   "source": [
    "numero = int(input(\"Escribe un número entre 1 y 10: \"))\n",
    "\n",
    "if numero >= 1 and numero <= 10:\n",
    "    print(\"Muy bien\")\n",
    "else:\n",
    "    print(\"Número incorrecto\")"
   ]
  },
  {
   "cell_type": "markdown",
   "metadata": {},
   "source": [
    "En este caso, también podíamos haber escrito la misma condición sin usar `and`, simplemente colocando `num` entre el 0 y el 10, de la siguiente forma:"
   ]
  },
  {
   "cell_type": "code",
   "execution_count": 26,
   "metadata": {},
   "outputs": [
    {
     "name": "stdout",
     "output_type": "stream",
     "text": [
      "Escribe un número entre 1 y 10: 3\n",
      "Muy bien\n"
     ]
    }
   ],
   "source": [
    "numero = int(input(\"Escribe un número entre 1 y 10: \"))\n",
    "\n",
    "if 1 < numero <= 10:\n",
    "    print(\"Muy bien\")\n",
    "else:\n",
    "    print(\"Número incorrecto\")"
   ]
  },
  {
   "cell_type": "markdown",
   "metadata": {},
   "source": [
    "### Operador `or`\n",
    "El operador `or` solo exige que **al menos una de las condiciones** sea cierta para que la expresión completa sea cierta.\n",
    "\n",
    "La siguiente celda se resuelve como `True` porque la primera condición, `2 < 7`, es cierta. Da igual el valor de la segunda."
   ]
  },
  {
   "cell_type": "code",
   "execution_count": 6,
   "metadata": {},
   "outputs": [
    {
     "data": {
      "text/plain": [
       "True"
      ]
     },
     "execution_count": 6,
     "metadata": {},
     "output_type": "execute_result"
    }
   ],
   "source": [
    "2 < 7 or 7 >= 4"
   ]
  },
  {
   "cell_type": "markdown",
   "metadata": {},
   "source": [
    "La expresión siguiente es cierta porque la segunda condición, `7 >= 7`, es cierta."
   ]
  },
  {
   "cell_type": "code",
   "execution_count": 8,
   "metadata": {},
   "outputs": [
    {
     "data": {
      "text/plain": [
       "True"
      ]
     },
     "execution_count": 8,
     "metadata": {},
     "output_type": "execute_result"
    }
   ],
   "source": [
    "2 > 7 or 7 >= 7"
   ]
  },
  {
   "cell_type": "markdown",
   "metadata": {},
   "source": [
    "Sin embargo, la siguiente celda devuelve `False` porque las dos condiciones son falsas:"
   ]
  },
  {
   "cell_type": "code",
   "execution_count": 9,
   "metadata": {},
   "outputs": [
    {
     "data": {
      "text/plain": [
       "False"
      ]
     },
     "execution_count": 9,
     "metadata": {},
     "output_type": "execute_result"
    }
   ],
   "source": [
    "2 > 7 or 7 == 4"
   ]
  },
  {
   "cell_type": "markdown",
   "metadata": {},
   "source": [
    "### Operador `not`\n"
   ]
  },
  {
   "cell_type": "markdown",
   "metadata": {},
   "source": [
    "El operador `not` exige que **la siguiente condición** sea falsa para que la expresión completa sea cierta.\n",
    "\n",
    "Por ejemplo, la siguiente expresión es cierta, precisamente porque todo lo que va detrás del `not` es falso:"
   ]
  },
  {
   "cell_type": "code",
   "execution_count": 15,
   "metadata": {},
   "outputs": [
    {
     "data": {
      "text/plain": [
       "True"
      ]
     },
     "execution_count": 15,
     "metadata": {},
     "output_type": "execute_result"
    }
   ],
   "source": [
    "not 1 == 3"
   ]
  },
  {
   "cell_type": "markdown",
   "metadata": {},
   "source": [
    "De la misma forma, la siguiente celda devolverá `False`, porque la condición posterior es cierta."
   ]
  },
  {
   "cell_type": "code",
   "execution_count": 16,
   "metadata": {},
   "outputs": [
    {
     "data": {
      "text/plain": [
       "False"
      ]
     },
     "execution_count": 16,
     "metadata": {},
     "output_type": "execute_result"
    }
   ],
   "source": [
    "not \"esperpento\" == \"esperpento\""
   ]
  },
  {
   "cell_type": "markdown",
   "metadata": {},
   "source": [
    "Así, las siguientes dos celdas hacen lo mismo:"
   ]
  },
  {
   "cell_type": "code",
   "execution_count": 17,
   "metadata": {},
   "outputs": [
    {
     "name": "stdout",
     "output_type": "stream",
     "text": [
      "Introduce un número: 9\n",
      "El número es positivo\n"
     ]
    }
   ],
   "source": [
    "x = int(input(\"Introduce un número: \"))\n",
    "\n",
    "if x >= 0:\n",
    "    print(\"El número es positivo\")"
   ]
  },
  {
   "cell_type": "code",
   "execution_count": 18,
   "metadata": {},
   "outputs": [
    {
     "name": "stdout",
     "output_type": "stream",
     "text": [
      "Introduce un número: 3\n",
      "El número es positivo\n"
     ]
    }
   ],
   "source": [
    "x = int(input(\"Introduce un número: \"))\n",
    "\n",
    "if not x < 0:\n",
    "    print(\"El número es positivo\")"
   ]
  },
  {
   "cell_type": "markdown",
   "metadata": {},
   "source": [
    "### Un error común\n",
    "¡Atención! Un error muy natural con `and` y `or` es dejarse llevar por su sintaxis tan parecida al lenguaje natural que se nos olvida la máxima de escribir instrucciones explícitas.\n",
    "\n",
    "Es muy típico que, al usarlos para concatenar condiciones que tienen el mismo «sujeto», omitamos este en la segunda condición. Por ejemplo, en el programa que poníamos para ilustrar `and`, habríamos caído en este error en la línea 3, dejándolo así:"
   ]
  },
  {
   "cell_type": "code",
   "execution_count": 21,
   "metadata": {},
   "outputs": [
    {
     "ename": "SyntaxError",
     "evalue": "invalid syntax (<ipython-input-21-6cd37dc74156>, line 3)",
     "output_type": "error",
     "traceback": [
      "\u001b[1;36m  File \u001b[1;32m\"<ipython-input-21-6cd37dc74156>\"\u001b[1;36m, line \u001b[1;32m3\u001b[0m\n\u001b[1;33m    if numero >= 1 and <= 10:\u001b[0m\n\u001b[1;37m                        ^\u001b[0m\n\u001b[1;31mSyntaxError\u001b[0m\u001b[1;31m:\u001b[0m invalid syntax\n"
     ]
    }
   ],
   "source": [
    "numero = int(input(\"Escribe un número entre 1 y 10: \"))\n",
    "\n",
    "if numero >= 1 and <= 10:\n",
    "    print(\"Muy bien\")\n",
    "else:\n",
    "    print(\"Número incorrecto\")"
   ]
  },
  {
   "cell_type": "markdown",
   "metadata": {},
   "source": [
    "Como ves, da un error, porque detrás del `and` ¡no hemos puesto el primer valor a comparar, sino solo el segundo!\n",
    "\n",
    "Los sobreentendidos están muy bien para el lenguaje natural, donde opera el principio de economía. Pero, como hemos dicho, los ordenadores no sobreentienden nada, así que hay que ser explícitos siempre."
   ]
  },
  {
   "cell_type": "markdown",
   "metadata": {},
   "source": [
    "## Combinaciones\n",
    "Por último, puedes combinar `and` y `or` con `not`. Es perfectamente posible tener un código así:\n",
    "\n",
    "    if variable <condición> and not variable <condición>:\n",
    "        ...\n",
    "    else:\n",
    "        ...\n",
    "\n",
    "Lo cual es una de las características que contribuyen a que Python sea muy fácil de entender.\n",
    "\n",
    "Veamos un ejemplo con `and not` (recuerda que, como vimos en el cuaderno 0203, la operación módulo (`%`) devuelve el resto de la división entera):"
   ]
  },
  {
   "cell_type": "code",
   "execution_count": 34,
   "metadata": {},
   "outputs": [
    {
     "name": "stdout",
     "output_type": "stream",
     "text": [
      "Dime un número y te digo si es par: 5\n",
      "El número 5 no es par.\n"
     ]
    }
   ],
   "source": [
    "numero = int(input(\"Dime un número y te digo si es par: \"))\n",
    "\n",
    "if numero > 0 and not numero % 2 == 0:\n",
    "    print(\"El número\", numero, \"no es par.\")\n",
    "else:\n",
    "    print(\"El número\", numero, \"es par.\")"
   ]
  },
  {
   "cell_type": "markdown",
   "metadata": {},
   "source": [
    "# Ejercicios\n",
    "## 040301\n",
    "Escribe un programa que pregunte al usuario quién es el autor de _Macbeth_ y le confirme si ha acertado o no. Puedes aceptar como buenas varias respuestas, como \"William Shakespeare\" o simplemente \"Shakespeare\" utilizando `or`. También puedes normalizar las respuestas con `.lower()` para no tener que escribir tantas veces `or`."
   ]
  },
  {
   "cell_type": "markdown",
   "metadata": {},
   "source": [
    "## 040302\n",
    "El siguiente código está mal; claramente, quien lo haya escrito quiere que solo se reponda `Lo sabía...` si el usuario dice `tú`, pero en realidad devuelve esa respuesta introduzca el usuario lo que introduzca. ¿Sabrías decir por qué?"
   ]
  },
  {
   "cell_type": "code",
   "execution_count": 1,
   "metadata": {},
   "outputs": [
    {
     "name": "stdout",
     "output_type": "stream",
     "text": [
      "Espejito, espejito, ¿quién es la más bella del reino?: Ummm\n",
      "Lo sabía...\n"
     ]
    }
   ],
   "source": [
    "respuesta = input(\"Espejito, espejito, ¿quién es la más bella del reino?: \")\n",
    "\n",
    "if respuesta == \"Tú\" or \"tú\":\n",
    "    print(\"Lo sabía...\")\n",
    "else:\n",
    "    print(\"¿¡CÓMO!?\")"
   ]
  }
 ],
 "metadata": {
  "kernelspec": {
   "display_name": "Python 3",
   "language": "python",
   "name": "python3"
  },
  "language_info": {
   "codemirror_mode": {
    "name": "ipython",
    "version": 3
   },
   "file_extension": ".py",
   "mimetype": "text/x-python",
   "name": "python",
   "nbconvert_exporter": "python",
   "pygments_lexer": "ipython3",
   "version": "3.7.0"
  }
 },
 "nbformat": 4,
 "nbformat_minor": 2
}
