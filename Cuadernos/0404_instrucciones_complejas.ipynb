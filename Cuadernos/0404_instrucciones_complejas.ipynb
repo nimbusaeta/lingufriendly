{
 "cells": [
  {
   "cell_type": "markdown",
   "metadata": {},
   "source": [
    "# Tema 4: condiciones (IV)"
   ]
  },
  {
   "cell_type": "markdown",
   "metadata": {},
   "source": [
    "## Instrucciones `if` más complejas"
   ]
  },
  {
   "cell_type": "markdown",
   "metadata": {},
   "source": [
    "### Instrucciones anidadas\n",
    "Ya sabemos que el esquema general de una instrucción `if`-`else` es el siguiente:\n",
    "\n",
    "    if condición:\n",
    "        <instrucciones_parte_if>\n",
    "    else:\n",
    "        <instrucciones_parte_else>\n",
    "    <resto_del_programa>\n",
    "    \n",
    "Pues bien, las instrucciones que aparecen en la parte `if` y en la parte `else` pueden ser cualquier cosa. En particular, pueden ser otras instrucciones `if`.\n",
    "\n",
    "Por ejemplo, el siguiente programa comprueba si el número introducido por el usuario es menor o mayor que 0. Si es menor, simplemente imprime `Ese número es negativo`; pero si es mayor, comprueba si está entre 0 y 10, o es mayor que 10:"
   ]
  },
  {
   "cell_type": "code",
   "execution_count": 3,
   "metadata": {},
   "outputs": [
    {
     "name": "stdout",
     "output_type": "stream",
     "text": [
      "Escribe un número entre 1 y 10: 4\n",
      "Muy bien\n"
     ]
    }
   ],
   "source": [
    "numero = int(input(\"Escribe un número entre 1 y 10: \"))\n",
    "\n",
    "if numero < 0:\n",
    "    print(\"Ese número es negativo\")\n",
    "else:\n",
    "    if numero <= 10:\n",
    "        print(\"Muy bien\")\n",
    "    else:\n",
    "        print(\"Número incorrecto\")"
   ]
  },
  {
   "cell_type": "markdown",
   "metadata": {},
   "source": [
    "El siguiente ejemplo es un poco más complejo. El programa solicita 3 números al usuario y calcula el mayor de ellos:"
   ]
  },
  {
   "cell_type": "code",
   "execution_count": 1,
   "metadata": {},
   "outputs": [
    {
     "name": "stdout",
     "output_type": "stream",
     "text": [
      "Te voy a pedir 3 números y te voy a decir cuál de ellos es mayor.\n",
      "Introduce el primero: 2\n",
      "Dime el segundo: 4\n",
      "Ahora, el tercero: 6\n",
      "6\n"
     ]
    }
   ],
   "source": [
    "# Pedimos los números al usuario\n",
    "a = int(input(\"Te voy a pedir 3 números y te voy a decir cuál de ellos es mayor.\\nIntroduce el primero: \"))\n",
    "b = int(input(\"Dime el segundo: \"))\n",
    "c = int(input(\"Ahora, el tercero: \"))\n",
    "\n",
    "# Comprobamos cuál es el mayor\n",
    "if a >= b:\n",
    "    # Ahora, dentro de este if, podemos actuar sabiendo seguro que b no es el mayor\n",
    "    if a >= c:\n",
    "        print(a)\n",
    "    else:\n",
    "        print(c)\n",
    "else:\n",
    "    # Ahora, dentro de este else, sabemos seguro que a no es el mayor\n",
    "    if b > c:\n",
    "        print(b)\n",
    "    else:\n",
    "        print(c)"
   ]
  },
  {
   "cell_type": "markdown",
   "metadata": {},
   "source": [
    "### Instrucciones compuestas\n",
    "El siguiente programa también calcula el mayor de 3 números, pero usando los operadores lógicos que hemos visto en la sección anterior:"
   ]
  },
  {
   "cell_type": "code",
   "execution_count": 2,
   "metadata": {},
   "outputs": [
    {
     "name": "stdout",
     "output_type": "stream",
     "text": [
      "Te voy a pedir 3 números y te voy a decir cuál de ellos es mayor.\n",
      "Introduce el primero: 3\n",
      "Dime el segundo: 4\n",
      "Ahora, el tercero: 5\n",
      "5\n"
     ]
    }
   ],
   "source": [
    "# Pedimos los números al usuario\n",
    "a = int(input(\"Te voy a pedir 3 números y te voy a decir cuál de ellos es mayor.\\nIntroduce el primero: \"))\n",
    "b = int(input(\"Dime el segundo: \"))\n",
    "c = int(input(\"Ahora, el tercero: \"))\n",
    "\n",
    "# Comprobamos cuál es el mayor\n",
    "if a >= b and a >= c:\n",
    "    print(a)\n",
    "elif b >= a and b >= c:\n",
    "    print(b)\n",
    "else:\n",
    "    print(c)"
   ]
  },
  {
   "cell_type": "markdown",
   "metadata": {},
   "source": [
    "Muchas veces, vas a ver que puedes hacer lo mismo de distintas maneras. En ese caso debes elegir la que te parezca más sencilla de entender, pensando en quienes vayan a leer el código (tú mañana, tú a saber cuándo, otras personas...)."
   ]
  },
  {
   "cell_type": "markdown",
   "metadata": {},
   "source": [
    "### Instrucciones muy largas\n",
    "Cuando las condiciones de las instrucciones `if` son muy largas se pueden escribir en varias líneas. Para ello podemos terminar cada línea con una barra invertida (`\\`) o rodear la expresión completa entre paréntesis.\n",
    "\n",
    "Por ejemplo, supongamos que queremos saber si la provincia introducida por el usuario pertenece a Castilla-La Mancha. Una forma de hacerlo sería la siguiente:"
   ]
  },
  {
   "cell_type": "code",
   "execution_count": 18,
   "metadata": {},
   "outputs": [
    {
     "name": "stdout",
     "output_type": "stream",
     "text": [
      "¿En qué provincia vives?: cuenca\n",
      "Cuenca está en Castilla-La Mancha.\n"
     ]
    }
   ],
   "source": [
    "provincia = input(\"¿En qué provincia vives?: \").lower()\n",
    "\n",
    "if provincia == \"toledo\" or provincia == \"guadalajara\" or provincia == \"cuenca\" or \\\n",
    "     provincia == \"albacete\" or provincia == \"ciudad real\":\n",
    "    print(provincia.capitalize(), \"está en Castilla-La Mancha.\")\n",
    "else:\n",
    "    print(provincia.capitalize(), \"no está en Castilla-La Mancha.\")"
   ]
  },
  {
   "cell_type": "markdown",
   "metadata": {},
   "source": [
    "# Ejercicios\n",
    "## 040401\n",
    "Casi todo el mundo piensa que los años bisiestos son los divisibles entre 4, pero existe una excepción a esa regla: los años divisibles entre 100, además, solo son bisiestos si también son divisibles entre 400. Por ese motivo el año 1600 es bisiesto pero el 1700 no lo es.\n",
    "\n",
    "Antes, con el calendario juliano, no había esta excepción, pero [la adopción del calendario gregoriano conllevó incluirla](https://es.wikipedia.org/wiki/A%C3%B1o_bisiesto) para corregir el desvío en la medida del tiempo que se estaba produciendo. De hecho, en 1582 se tuvo que saltar del 4 de octubre al 15 de ese mismo mes para corregir ese desvío.\n",
    "\n",
    "Sabiendo esto, haz un programa que pida un año al usuario y diga si es bisiesto o no. Ten en cuenta que la forma de ver en Python si un número es divisible por otro es usando la operación módulo (`%`), que vimos en el cuaderno 0203. Por ejemplo, para poner la condición de que una variable `num` sea divisible entre 4 pondríamos: `if num % 4 == 0:`."
   ]
  },
  {
   "cell_type": "markdown",
   "metadata": {},
   "source": [
    "## 040402\n",
    "Escribe un programa que pregunte al usuario un nombre de mes y escriba el número de días que tiene ese mes.\n",
    "\n",
    "El nombre del mes debe poder estar escrito en mayúsculas o minúsculas. Consideraremos que el año no es bisiesto y por tanto febrero siempre tiene 28 días. Si el usuario introduce un mes que no existe, el programa mostrará un mensaje indicando que no conoce ese mes."
   ]
  }
 ],
 "metadata": {
  "kernelspec": {
   "display_name": "Python 3",
   "language": "python",
   "name": "python3"
  },
  "language_info": {
   "codemirror_mode": {
    "name": "ipython",
    "version": 3
   },
   "file_extension": ".py",
   "mimetype": "text/x-python",
   "name": "python",
   "nbconvert_exporter": "python",
   "pygments_lexer": "ipython3",
   "version": "3.7.0"
  }
 },
 "nbformat": 4,
 "nbformat_minor": 2
}
