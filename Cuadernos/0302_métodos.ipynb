{
 "cells": [
  {
   "cell_type": "markdown",
   "metadata": {},
   "source": [
    "# Tema 3: objetos y métodos (II)"
   ]
  },
  {
   "cell_type": "markdown",
   "metadata": {},
   "source": [
    "## Métodos\n",
    "Los _métodos_ son funciones que se pueden aplicar a ciertos objetos. ¡A otros no! Por eso hablamos de métodos de cadenas de texto, métodos de enteros...\n",
    "\n",
    "Hasta ahora solo hemos visto funciones, como `print()`, `input()` o `type()`. ¿Te has preguntado por qué siempre las escribo con los paréntesis al final? Es porque la notación de las funciones es así, con los paréntesis al final. De esta forma, dejo claro que `print()` es una función y no otra cosa, como una variable o un método. Las funciones reciben argumentos, que se meten dentro de esos paréntesis. A veces esos argumentos no son obligatorios, como hemos visto precisamente con `print()`, que puede funcionar tal cual.\n",
    "\n",
    "Pues bien, los métodos funcionan de otra forma, y se notan de otra forma. Un método de las cadenas de texto es, por ejemplo, `.lower()`. Este método convierte en minúsculas la cadena a la que se lo apliquemos.\n",
    "\n",
    "Como ves, un método se nota con un punto al principio. Eso se debe a que se usa escribiendo la variable a la que queremos aplicar el método, un punto (`.`), el nombre del método y los paréntesis (y argumentos, si hacen falta, dentro de los paréntesis). Es decir, así:"
   ]
  },
  {
   "cell_type": "code",
   "execution_count": 2,
   "metadata": {},
   "outputs": [
    {
     "data": {
      "text/plain": [
       "'holaaaaa'"
      ]
     },
     "execution_count": 2,
     "metadata": {},
     "output_type": "execute_result"
    }
   ],
   "source": [
    "\"HolaAaAa\".lower()"
   ]
  },
  {
   "cell_type": "markdown",
   "metadata": {},
   "source": [
    "También se pueden aplicar a una variable, siempre y cuando el valor que contenga esa variable sea del tipo al que podemos aplicar ese método. En la siguiente celda, como el valor que le asignamos a la variable `palabra` es una string, podemos usar `.lower()`:"
   ]
  },
  {
   "cell_type": "code",
   "execution_count": 3,
   "metadata": {},
   "outputs": [
    {
     "data": {
      "text/plain": [
       "'holaaaaa'"
      ]
     },
     "execution_count": 3,
     "metadata": {},
     "output_type": "execute_result"
    }
   ],
   "source": [
    "palabra = \"HolaAaAa\"\n",
    "palabra.lower()"
   ]
  },
  {
   "cell_type": "markdown",
   "metadata": {},
   "source": [
    "### Métodos de las strings\n",
    "La cadenas tienen un conjunto de métodos que nos permiten obtener información sobre su contenido o modificarlo. En este apartado solo vamos a ver algunos de ellos, pero existen muchos más."
   ]
  },
  {
   "cell_type": "markdown",
   "metadata": {},
   "source": [
    "#### Jugando con las mayúsculas y minúsculas\n",
    "Ya conocemos `.lower()`. Como te imaginarás, también podemos transformar una cadena a letras mayúsculas, usando el método `.upper()`:"
   ]
  },
  {
   "cell_type": "code",
   "execution_count": 3,
   "metadata": {},
   "outputs": [
    {
     "name": "stdout",
     "output_type": "stream",
     "text": [
      "HOLA, MUNDO\n"
     ]
    }
   ],
   "source": [
    "print(\"hola, mundo\".upper())"
   ]
  },
  {
   "cell_type": "markdown",
   "metadata": {},
   "source": [
    "Por último, `.capitalize()` convierte solo la primera letra en mayúscula."
   ]
  },
  {
   "cell_type": "code",
   "execution_count": 5,
   "metadata": {},
   "outputs": [
    {
     "name": "stdout",
     "output_type": "stream",
     "text": [
      "Hola, mundo\n"
     ]
    }
   ],
   "source": [
    "print(mensaje.capitalize())"
   ]
  },
  {
   "cell_type": "markdown",
   "metadata": {},
   "source": [
    "En realidad, estos métodos no modifican la cadena original, sino que crean una nueva, que es la que luego se imprime.\n",
    "\n",
    "Podemos demostrar esto usando variables:"
   ]
  },
  {
   "cell_type": "code",
   "execution_count": 1,
   "metadata": {},
   "outputs": [
    {
     "name": "stdout",
     "output_type": "stream",
     "text": [
      "hola, mundo\n",
      "HOLA, MUNDO\n",
      "Hola, mundo\n",
      "hola, MUNDO\n"
     ]
    }
   ],
   "source": [
    "mensaje = \"hola, MUNDO\"\n",
    "print(mensaje.lower()) # Imprime el mensaje modificado\n",
    "print(mensaje.upper()) # Imprime el mensaje modificado\n",
    "print(mensaje.capitalize()) # Imprime el mensaje modificado\n",
    "print(mensaje) # Imprime el mensaje original"
   ]
  },
  {
   "cell_type": "markdown",
   "metadata": {},
   "source": [
    "#### Obteniendo información\n",
    "También existen métodos que permiten obtener información sobre una cadena:\n",
    "\n",
    "- `.islower()` devuelve `True` si la cadena solo contiene minúsculas\n",
    "- `.isupper()` devuelve `True` si la cadena solo contiene mayúsculas\n",
    "- `.isalpha()` devuelve `True` si la cadena solo contiene letras\n",
    "- `.isnumeric()` devuelve `True` si la cadena solo contiene dígitos\n",
    "\n",
    "Comprobémoslo (puedes hacer tus propias pruebas):"
   ]
  },
  {
   "cell_type": "code",
   "execution_count": 6,
   "metadata": {},
   "outputs": [
    {
     "name": "stdout",
     "output_type": "stream",
     "text": [
      "True\n",
      "False\n",
      "False\n",
      "True\n"
     ]
    }
   ],
   "source": [
    "print(\"ola k ase\".islower())\n",
    "print(\"ola k ase\".isupper())\n",
    "print(\"Cómo mola! :3\".isalpha())\n",
    "print(\"123\".isnumeric())"
   ]
  },
  {
   "cell_type": "markdown",
   "metadata": {},
   "source": [
    "Otra información que nos puede interesar sobre una cadena es su longitud. Podemos consultarla usando `len()`, que no es un método, puesto que también se puede usar con estructuras de datos (como veremos en el tema 5), pero es muy útil aplicarlo a cadenas."
   ]
  },
  {
   "cell_type": "code",
   "execution_count": 7,
   "metadata": {},
   "outputs": [
    {
     "data": {
      "text/plain": [
       "10"
      ]
     },
     "execution_count": 7,
     "metadata": {},
     "output_type": "execute_result"
    }
   ],
   "source": [
    "len(\"esperpento\")"
   ]
  },
  {
   "cell_type": "code",
   "execution_count": 8,
   "metadata": {},
   "outputs": [
    {
     "data": {
      "text/plain": [
       "15"
      ]
     },
     "execution_count": 8,
     "metadata": {},
     "output_type": "execute_result"
    }
   ],
   "source": [
    "len(\"cogito ergo sum\")"
   ]
  },
  {
   "cell_type": "markdown",
   "metadata": {},
   "source": [
    "#### Consultando si contiene una subcadena\n",
    "Hay métodos que permiten consultar si una cadena contiene otra subcadena. En este caso la subcadena buscada va a ser un argumento obligatorio del método, es decir, deberá aparecer entre los paréntesis. Es lógico; sin esa información, el ordenador no puede hacer nada. Estos son los principales:\n",
    "\n",
    "- `.startswith()` devuelve `True` si la cadena empieza por la subcadena que le indiquemos.\n",
    "- `.endswith()` devuelve `True` si la cadena termina por la subcadena que le indiquemos.\n",
    "- `.count()` devuelve el recuento de veces que aparece en la cadena la subcadena que le indiquemos.\n",
    "\n",
    "Por ejemplo:"
   ]
  },
  {
   "cell_type": "code",
   "execution_count": 9,
   "metadata": {},
   "outputs": [
    {
     "name": "stdout",
     "output_type": "stream",
     "text": [
      "True\n",
      "False\n",
      "False\n",
      "True\n",
      "2\n",
      "6\n"
     ]
    }
   ],
   "source": [
    "cadena = \"mi mamá me mima\"\n",
    "print(cadena.startswith(\"mi\"))\n",
    "print(cadena.startswith(\"mima\"))\n",
    "print(cadena.endswith(\"mi\"))\n",
    "print(cadena.endswith(\"mima\"))\n",
    "print(cadena.count(\"mi\"))\n",
    "print(cadena.count(\"m\"))"
   ]
  },
  {
   "cell_type": "markdown",
   "metadata": {},
   "source": [
    "Si simplemente queremos consultar si la subcadena `b` se encuentra dentro de la cadena `a`, sin que nos importe si se encuenta al principio o al final, podemos usar la palabra reservada `in`. Observa que tampoco es un método; su uso es un poco distinto de los anteriores, ya que se escribe entre ambas cadenas:"
   ]
  },
  {
   "cell_type": "code",
   "execution_count": 10,
   "metadata": {},
   "outputs": [
    {
     "data": {
      "text/plain": [
       "True"
      ]
     },
     "execution_count": 10,
     "metadata": {},
     "output_type": "execute_result"
    }
   ],
   "source": [
    "a = \"cogito ergo sum\"\n",
    "b = \"ergo\"\n",
    "b in a"
   ]
  },
  {
   "cell_type": "code",
   "execution_count": 11,
   "metadata": {},
   "outputs": [
    {
     "name": "stdout",
     "output_type": "stream",
     "text": [
      "False\n",
      "True\n",
      "True\n"
     ]
    }
   ],
   "source": [
    "print(\"Eva\" in \"La casa de los espíritus\")\n",
    "print(\"Eva\" in \"Eva Luna\")\n",
    "print(\"Eva\" in \"Cuentos de Eva Luna\")"
   ]
  },
  {
   "cell_type": "markdown",
   "metadata": {},
   "source": [
    "#### Eliminando caracteres\n",
    "Finalmente, existen otros operadores que nos permiten eliminar caracteres de la cadena original o incluso\n",
    "reemplazarlos por otros nuevos."
   ]
  },
  {
   "cell_type": "code",
   "execution_count": 3,
   "metadata": {},
   "outputs": [
    {
     "name": "stdout",
     "output_type": "stream",
     "text": [
      "hola y adios\n",
      "mi teléfono\n"
     ]
    }
   ],
   "source": [
    "print(\"    hola y adios  \".strip()) # Elimina los espacios al principio y al final de la cadena\n",
    "print(\"mi casa\".replace(\"casa\", \"teléfono\")) # Reemplaza \"casa\" por \"teléfono\""
   ]
  },
  {
   "cell_type": "markdown",
   "metadata": {},
   "source": [
    "### Accediendo a determinadas subcadenas\n",
    "Otra característica de las strings es que podemos acceder, de una forma muy concisa, a un determinado carácter presente en ellas. Para ello solo tenemos que escribir el nombre de la variable que contiene la string y, seguidamente, la posición del carácter entre corchetes.\n",
    "\n",
    "¡Atención! Es importante saber que en Python siempre empezamos a contar desde 0. Por tanto, lo que nos devolverá la siguiente celda es el primer carácter de la string:"
   ]
  },
  {
   "cell_type": "code",
   "execution_count": 1,
   "metadata": {},
   "outputs": [
    {
     "data": {
      "text/plain": [
       "'b'"
      ]
     },
     "execution_count": 1,
     "metadata": {},
     "output_type": "execute_result"
    }
   ],
   "source": [
    "mensaje = \"bienvenido\"\n",
    "mensaje[0]"
   ]
  },
  {
   "cell_type": "markdown",
   "metadata": {},
   "source": [
    "Si quisiéramos acceder al último elemento, pondríamos lo siguiente:"
   ]
  },
  {
   "cell_type": "code",
   "execution_count": 2,
   "metadata": {},
   "outputs": [
    {
     "data": {
      "text/plain": [
       "'o'"
      ]
     },
     "execution_count": 2,
     "metadata": {},
     "output_type": "execute_result"
    }
   ],
   "source": [
    "mensaje[9]"
   ]
  },
  {
   "cell_type": "markdown",
   "metadata": {},
   "source": [
    "Ahora bien, en este caso contamos con la ventaja de que sabemos cuántas letras contiene la variable `mensaje`. Pero podría pasar que no lo supiéramos, como en el caso de que la variable guarde lo que haya introducido el usuario. En ese caso, para acceder al último carácter, tendríamos que echar mano de números negativos, así:"
   ]
  },
  {
   "cell_type": "code",
   "execution_count": 5,
   "metadata": {},
   "outputs": [
    {
     "name": "stdout",
     "output_type": "stream",
     "text": [
      "Indica tu nacionalidad: España\n"
     ]
    },
    {
     "data": {
      "text/plain": [
       "'a'"
      ]
     },
     "execution_count": 5,
     "metadata": {},
     "output_type": "execute_result"
    }
   ],
   "source": [
    "pais = input(\"Indica tu nacionalidad: \")\n",
    "pais[-1]"
   ]
  },
  {
   "cell_type": "markdown",
   "metadata": {},
   "source": [
    "Con los números negativos, lo que hacemos es pedirle a Python que empiece a contar por el final. (Sin embargo, en este caso Python sí empieza a contar por el 1 🤷‍♀️).\n",
    "\n",
    "¿Y qué pasa si intentamos acceder a una carácter de la string que no existe? Que se producirá un error:"
   ]
  },
  {
   "cell_type": "code",
   "execution_count": 12,
   "metadata": {},
   "outputs": [
    {
     "ename": "IndexError",
     "evalue": "string index out of range",
     "output_type": "error",
     "traceback": [
      "\u001b[1;31m---------------------------------------------------------------------------\u001b[0m",
      "\u001b[1;31mIndexError\u001b[0m                                Traceback (most recent call last)",
      "\u001b[1;32m<ipython-input-12-4f6a51a42a67>\u001b[0m in \u001b[0;36m<module>\u001b[1;34m()\u001b[0m\n\u001b[1;32m----> 1\u001b[1;33m \u001b[0mmensaje\u001b[0m\u001b[1;33m[\u001b[0m\u001b[1;36m10\u001b[0m\u001b[1;33m]\u001b[0m\u001b[1;33m\u001b[0m\u001b[0m\n\u001b[0m",
      "\u001b[1;31mIndexError\u001b[0m: string index out of range"
     ]
    }
   ],
   "source": [
    "mensaje[10]"
   ]
  },
  {
   "cell_type": "markdown",
   "metadata": {},
   "source": [
    "Además, podemos acceder a más de un carácter usando los dos puntos (`:`) como delimitador de las posiciones de inicio y fin de la subcadena que nos interese. Esta operación se llama _slicing_.\n",
    "\n",
    "La posición de inicio se incluirá en la subcadena, pero la de final no:"
   ]
  },
  {
   "cell_type": "code",
   "execution_count": 10,
   "metadata": {},
   "outputs": [
    {
     "data": {
      "text/plain": [
       "'bi'"
      ]
     },
     "execution_count": 10,
     "metadata": {},
     "output_type": "execute_result"
    }
   ],
   "source": [
    "mensaje[0:2]"
   ]
  },
  {
   "cell_type": "markdown",
   "metadata": {},
   "source": [
    "Fíjate en que se han imprimido los dos primeros caracteres. Es decir, el último número del slicing no es incluyente, sino excluyente, porque el carácter número 2 (`e`) no lo imprime.\n",
    "\n",
    "En realidad, los números del slicing no corresponden a caracteres, sino a posiciones dentro de la string. Para que nos entendamos, es como si miráramos al [cursor vertical](https://es.wikipedia.org/wiki/Cursor_(inform%C3%A1tica)#Cursor_de_texto) de un programa de texto. Si cortamos desde la posición 1 hasta la posición 4, estamos seleccionando los elementos que haya entre el cursor cuando está detrás del primer carácter y cuando está detrás del cuarto:"
   ]
  },
  {
   "cell_type": "code",
   "execution_count": 11,
   "metadata": {},
   "outputs": [
    {
     "data": {
      "text/plain": [
       "'ien'"
      ]
     },
     "execution_count": 11,
     "metadata": {},
     "output_type": "execute_result"
    }
   ],
   "source": [
    "mensaje[1:4]"
   ]
  },
  {
   "cell_type": "markdown",
   "metadata": {},
   "source": [
    "Si la posición de inicio es justo la primera que hay o la posición de final es la última, podemos omitirlas. Es decir, es lo mismo escribir `mensaje[0:4]` que `mensaje[:4]`:"
   ]
  },
  {
   "cell_type": "code",
   "execution_count": 14,
   "metadata": {},
   "outputs": [
    {
     "data": {
      "text/plain": [
       "'bien'"
      ]
     },
     "execution_count": 14,
     "metadata": {},
     "output_type": "execute_result"
    }
   ],
   "source": [
    "mensaje[0:4]"
   ]
  },
  {
   "cell_type": "code",
   "execution_count": 11,
   "metadata": {},
   "outputs": [
    {
     "data": {
      "text/plain": [
       "'bien'"
      ]
     },
     "execution_count": 11,
     "metadata": {},
     "output_type": "execute_result"
    }
   ],
   "source": [
    "mensaje[:4]"
   ]
  },
  {
   "cell_type": "markdown",
   "metadata": {},
   "source": [
    "Y una última funcionalidad de los corchetes es que se puede acceder a caracteres alternos. Es decir, si nos interesan los que están en las posiciones pares solamente, o uno de cada cuatro caracteres, también podemos obtenerlos con los corchetes. Solo hay que añadir unos segundos dos puntos al final.\n",
    "\n",
    "Por ejemplo, para que nos devuelva, desde la posición 4 hasta la 8 (`veni`), solo los caracteres que ocupan las posiciones impares, escribiremos lo siguiente:"
   ]
  },
  {
   "cell_type": "code",
   "execution_count": 8,
   "metadata": {},
   "outputs": [
    {
     "data": {
      "text/plain": [
       "'vn'"
      ]
     },
     "execution_count": 8,
     "metadata": {},
     "output_type": "execute_result"
    }
   ],
   "source": [
    "mensaje[4:8:2]"
   ]
  },
  {
   "cell_type": "markdown",
   "metadata": {},
   "source": [
    "O, desde la posición 4 hasta el final (`venido`), solo los que ocupan las posiciones 1 y 4:"
   ]
  },
  {
   "cell_type": "code",
   "execution_count": 9,
   "metadata": {},
   "outputs": [
    {
     "data": {
      "text/plain": [
       "'vi'"
      ]
     },
     "execution_count": 9,
     "metadata": {},
     "output_type": "execute_result"
    }
   ],
   "source": [
    "mensaje[4::3]"
   ]
  },
  {
   "cell_type": "markdown",
   "metadata": {},
   "source": [
    "Esta sección contiene mucha información sobre las cadenas de texto. No te preocupes si no recuerdas todas\n",
    "las operaciones que hemos explicado o algunas de ellas te han resultado un poco confusas. A lo largo del curso\n",
    "las iremos empleando y comprenderás mejor su funcionamiento."
   ]
  },
  {
   "cell_type": "markdown",
   "metadata": {},
   "source": [
    "# Ejercicios\n",
    "## 030201\n",
    "¿El método `.lower()` necesita argumentos? ¿Y la función `len()`? ¿Y `.endswith()`?"
   ]
  },
  {
   "cell_type": "markdown",
   "metadata": {},
   "source": [
    "## 030202\n",
    "Escribe un programa que:\n",
    "1. pregunte al usuario su nombre;\n",
    "2. independientemente de cómo lo haya introducido el usuario, lo escriba con la primera letra en mayúsculas y las demás en minúsculas;\n",
    "3. lo inserte en la oración «¡____ me ha herido!».\n",
    "\n",
    "Prueba que funciona introduciendo como nombre `nadie`, para que se imprima `¡Nadie me ha herido!`."
   ]
  },
  {
   "cell_type": "markdown",
   "metadata": {},
   "source": [
    "## 030203\n",
    "Haz un programa que pida al usuario su nombre y escriba:\n",
    " - su inicial\n",
    " - todo el nombre menos los dos últimos caracteres\n",
    " - el número de caracteres que contiene"
   ]
  }
 ],
 "metadata": {
  "kernelspec": {
   "display_name": "Python 3",
   "language": "python",
   "name": "python3"
  },
  "language_info": {
   "codemirror_mode": {
    "name": "ipython",
    "version": 3
   },
   "file_extension": ".py",
   "mimetype": "text/x-python",
   "name": "python",
   "nbconvert_exporter": "python",
   "pygments_lexer": "ipython3",
   "version": "3.7.0"
  }
 },
 "nbformat": 4,
 "nbformat_minor": 2
}
