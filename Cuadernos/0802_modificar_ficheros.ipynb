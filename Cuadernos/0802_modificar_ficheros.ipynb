{
 "cells": [
  {
   "cell_type": "markdown",
   "metadata": {},
   "source": [
    "# Tema 8: Ficheros y módulos (II)\n",
    "## Modos de apertura de ficheros\n",
    "Leer ficheros es muy interesante, pero sin duda también nos interesará modificarlos, es decir, escribir en ellos. Para eso, también tenemos que abrirlos y cerrarlos, con la particularidad de que, al abrirlos, tenemos que hacerlo en modo escritura.\n",
    "\n",
    "Y es que hay otro parámetro de `open()` que no hemos visto: el del modo de apertura del archivo. Por defecto, es de lectura, y por eso en el cuaderno anterior no tuvimos que especificar nada al usar `open()`. Pero para poder escribir en los archivos que abramos tendremos que escribir `\"w\"` después de la ruta del archivo (y antes de la codificación):"
   ]
  },
  {
   "cell_type": "code",
   "execution_count": 2,
   "metadata": {},
   "outputs": [
    {
     "data": {
      "text/plain": [
       "<_io.TextIOWrapper name='datos.txt' mode='w' encoding='UTF-8'>"
      ]
     },
     "execution_count": 2,
     "metadata": {},
     "output_type": "execute_result"
    }
   ],
   "source": [
    "open(\"datos.txt\", \"w\", encoding = \"UTF-8\")"
   ]
  },
  {
   "cell_type": "markdown",
   "metadata": {},
   "source": [
    "En realidad, si te acuerdas, cuando imprimimos directamente la variable `fichero` que representaba al fichero, vimos que ponía `mode='r'`, de la misma manera que ahora vemos en la salida de la celda anterior `mode='w'`.\n",
    "\n",
    "Estos son los modos de apertura disponibles:\n",
    "- `r` (de _read_): solo lectura, no permite modificar el archivo.\n",
    "- `w` (de _write_): solo escritura, borrando antes el contenido. También sirve para crear nuevos archivos.\n",
    "- `a` (de _append_): solo escritura, pero añadiendo la nueva información debajo de la que ya está en el archivo.\n",
    "- `r+`: lectura y escritura.\n",
    "\n",
    "Estos modos sirven para evitar errores. Piensa que cuando eliminamos contenido de un fichero de esta forma no hay vuelta atrás, no hay Ctrl + Z que valga. Así que usaremos uno u otro dependiendo de lo que necesitemos hacer con nuestros archivos.\n",
    "\n",
    "Si has ejecutado la celda anterior, como hemos abierto el archivo `datos.txt` en modo de escritura, habrás borrado lo que contenía. Compruébalo abriendo el fichero.\n",
    "\n",
    "## Escribir en ficheros de texto\n",
    "Vamos a escribir en un fichero nuevo. Como vamos a usar el modo `w`, no necesitamos crearlo primero. Podemos ponerle la extensión que queramos, no tiene por qué ser `.txt`.\n",
    "\n",
    "Usaremos el método `.write()`, que permite escribir una cadena de caracteres en un fichero. ¡Atención! `.write()` es un tanto diferente de `print()`:\n",
    "- Con `print()`, podíamos concatenar cadenas de texto con `,` o con `+`. Con `.write()`, solamente podemos usar `+`:"
   ]
  },
  {
   "cell_type": "code",
   "execution_count": 1,
   "metadata": {},
   "outputs": [],
   "source": [
    "fichero = open(\"nuevo_archivo.txt\", \"w\")\n",
    "fichero.write(\"La luna vino a la fragua\" + \"\\n\" + \"con su polisón de nardos.\" + \"\\n\")\n",
    "fichero.close() # Puedes comprobar que el archivo se ha creado y se han guardado las dos líneas"
   ]
  },
  {
   "cell_type": "markdown",
   "metadata": {},
   "source": [
    "- Con `print()`, cada vez que lo llamábamos escribíamos en una línea nueva. Con `.write()`, tendremos que escribir `\\n` allá donde queramos que haya un salto de línea:"
   ]
  },
  {
   "cell_type": "code",
   "execution_count": 6,
   "metadata": {},
   "outputs": [],
   "source": [
    "fichero = open(\"nuevo_archivo.txt\", \"w\")\n",
    "fichero.write(\"La luna vino a la fragua\\n\")\n",
    "fichero.write(\"con su polisón de nardos.\\n\")\n",
    "fichero.close()"
   ]
  },
  {
   "cell_type": "markdown",
   "metadata": {},
   "source": [
    "Ahora el archivo vuelve a contener solo las dos líneas, porque al abrirlo de nuevo con el modo `w`, lo hemos reescrito.\n",
    "\n",
    "### Escribir números en ficheros de texto\n",
    "¿Recuerdas que al usar `input()` para pedir datos de tipo numérico al usuario teníamos que convertir la salida a un entero o a un float? Esto ocurría porque la salida de `input()` era siempre de tipo string, así que necesitábamos convertirla cuando esperábamos que fuese un número si queríamos poder operar con él.\n",
    "\n",
    "Pues algo parecido pasa con `write()`, solo que al revés. El argumento que espera `write()` recibir es de tipo string, así que no podemos pasarle un número tal cual. Ajá, lo has adivinado, antes hay que convertirlo a string.\n",
    "\n",
    "Puedes comprobarlo ejecutando la siguiente celda:"
   ]
  },
  {
   "cell_type": "code",
   "execution_count": 7,
   "metadata": {},
   "outputs": [
    {
     "ename": "TypeError",
     "evalue": "write() argument must be str, not int",
     "output_type": "error",
     "traceback": [
      "\u001b[1;31m---------------------------------------------------------------------------\u001b[0m",
      "\u001b[1;31mTypeError\u001b[0m                                 Traceback (most recent call last)",
      "\u001b[1;32m<ipython-input-7-5d5b7dd29493>\u001b[0m in \u001b[0;36m<module>\u001b[1;34m()\u001b[0m\n\u001b[0;32m      1\u001b[0m \u001b[0mfichero\u001b[0m \u001b[1;33m=\u001b[0m \u001b[0mopen\u001b[0m\u001b[1;33m(\u001b[0m\u001b[1;34m\"nuevo_archivo.txt\"\u001b[0m\u001b[1;33m,\u001b[0m \u001b[1;34m\"w\"\u001b[0m\u001b[1;33m)\u001b[0m\u001b[1;33m\u001b[0m\u001b[0m\n\u001b[1;32m----> 2\u001b[1;33m \u001b[0mfichero\u001b[0m\u001b[1;33m.\u001b[0m\u001b[0mwrite\u001b[0m\u001b[1;33m(\u001b[0m\u001b[1;36m1\u001b[0m\u001b[1;33m)\u001b[0m\u001b[1;33m\u001b[0m\u001b[0m\n\u001b[0m\u001b[0;32m      3\u001b[0m \u001b[0mfichero\u001b[0m\u001b[1;33m.\u001b[0m\u001b[0mclose\u001b[0m\u001b[1;33m(\u001b[0m\u001b[1;33m)\u001b[0m\u001b[1;33m\u001b[0m\u001b[0m\n",
      "\u001b[1;31mTypeError\u001b[0m: write() argument must be str, not int"
     ]
    }
   ],
   "source": [
    "fichero = open(\"numeros.txt\", \"w\")\n",
    "fichero.write(1)\n",
    "fichero.close()"
   ]
  },
  {
   "cell_type": "markdown",
   "metadata": {},
   "source": [
    "Si ya tenemos el número guardado en una variable, podemos usar `str()` para convertirlo a texto. Pero si no lo tenemos guardado, también podemos simplemente escribirlo entre comillas, porque cualquier cosa que escribamos entre comillas es una string:"
   ]
  },
  {
   "cell_type": "code",
   "execution_count": 47,
   "metadata": {},
   "outputs": [],
   "source": [
    "dos = 2\n",
    "\n",
    "fichero = open(\"numeros.txt\", \"w\")\n",
    "fichero.write(\"1\")\n",
    "fichero.write(str(dos))\n",
    "\n",
    "fichero.close()"
   ]
  },
  {
   "cell_type": "markdown",
   "metadata": {},
   "source": [
    "¡Ojo! `write()` no es como `print()`: no podemos pasarles infinitos argumentos separados por comas. Pero sí podemos usar otro separador, el `+`, para concatenar strings (en `print()` también se puede usar).\n",
    "\n",
    "Vamos a escribir, en cada línea, el cuadrado de los primeros 10 números naturales:"
   ]
  },
  {
   "cell_type": "code",
   "execution_count": 15,
   "metadata": {},
   "outputs": [],
   "source": [
    "fichero = open(\"cuadrados.txt\", \"w\")\n",
    "\n",
    "for n in range(1, 11):\n",
    "    cuadrado = n * n\n",
    "    # Convertimos el número en string y a continuación escribimos el salto de línea\n",
    "    fichero.write(str(cuadrado) + \"\\n\")\n",
    "\n",
    "fichero.close()"
   ]
  },
  {
   "cell_type": "markdown",
   "metadata": {},
   "source": [
    "Ahora, el contenido de `cuadrados.txt` es:\n",
    "\n",
    "    1\n",
    "    4\n",
    "    9\n",
    "    16\n",
    "    25\n",
    "    36\n",
    "    49\n",
    "    64\n",
    "    81\n",
    "    100\n"
   ]
  },
  {
   "cell_type": "markdown",
   "metadata": {},
   "source": [
    "## Añadir texto a un fichero de texto\n",
    "Ahora vamos a añadir texto a un fichero sin borrar las líneas que ya contenía. Por ejemplo, imagina que ahora queremos añadir los cuadrados de los números del 11 al 20. Tendremos que usar el método `open()` con el modo \"a\":"
   ]
  },
  {
   "cell_type": "code",
   "execution_count": 16,
   "metadata": {},
   "outputs": [],
   "source": [
    "fichero = open(\"cuadrados.txt\", \"a\")\n",
    "\n",
    "for n in range(11, 21):\n",
    "    cuadrado = n * n\n",
    "    fichero.write(str(cuadrado) + \"\\n\")\n",
    "\n",
    "fichero.close()"
   ]
  },
  {
   "cell_type": "markdown",
   "metadata": {},
   "source": [
    "Ahora, el contenido de `cuadrados.txt` es:\n",
    "\n",
    "    1\n",
    "    4\n",
    "    9\n",
    "    16\n",
    "    25\n",
    "    36\n",
    "    49\n",
    "    64\n",
    "    81\n",
    "    100\n",
    "    121\n",
    "    144\n",
    "    169\n",
    "    196\n",
    "    225\n",
    "    256\n",
    "    289\n",
    "    324\n",
    "    361\n",
    "    400"
   ]
  },
  {
   "cell_type": "markdown",
   "metadata": {},
   "source": [
    "Si lo que queremos es modificar las líneas ya existentes, tendremos que guardar el contenido del archivo en variables, modificar esas variables como queremos que se guarden en el archivo y reescribir el archivo. Es decir, al final, sí que estamos borrando lo que ya contenía, pero lo guardamos antes de borrarlo y lo imprimimos, así que no se pierde.\n",
    "\n",
    "Por ejemplo, imagina que ahora queremos escribir al final de cada línea de nuestro archivo `cuadrados.txt` el texto `es el cuadrado de` y la raíz cuadrada correspondiente. Para ello, tendremos que abrirlo y guardar cada línea en una lista. Después, imprimiremos cada elemento de esa lista acompañado del texto « es el cuadrado de » y de la raíz correspondiente:"
   ]
  },
  {
   "cell_type": "code",
   "execution_count": 17,
   "metadata": {},
   "outputs": [],
   "source": [
    "cuadrados = [] # lista vacía en la que iremos guardando las líneas de nuestro fichero\n",
    "raices = range(1, 21) # Sabemos que las raíces son los primeros 20 números naturales\n",
    "\n",
    "with open(\"cuadrados.txt\", \"r\") as fichero:\n",
    "    for cuadrado in fichero:\n",
    "        cuadrados.append(cuadrado.strip())\n",
    "\n",
    "i = 0\n",
    "with open(\"cuadrados.txt\", \"w\") as fichero:\n",
    "    for numero in raices:\n",
    "        fichero.write(cuadrados[i] + \" es el cuadrado de \" + str((raices)[i]) + \"\\n\")\n",
    "        i = i + 1"
   ]
  },
  {
   "cell_type": "markdown",
   "metadata": {},
   "source": [
    "Ahora `cuadrados.txt` contiene estas líneas:\n",
    "\n",
    "    1 es el cuadrado de 1\n",
    "    4 es el cuadrado de 2\n",
    "    9 es el cuadrado de 3\n",
    "    ..."
   ]
  },
  {
   "cell_type": "markdown",
   "metadata": {},
   "source": [
    "En cualquier caso, es recomendable que cualquier operación o modificación que hagas en un fichero de texto la guardes en un nuevo fichero, por seguridad. Los ficheros de texto plano ocupan muy poco espacio en disco y es preferible eliminarlos cuando ya estemos seguros de que no los necesitamos."
   ]
  },
  {
   "cell_type": "markdown",
   "metadata": {},
   "source": [
    "## Ejercicios\n",
    "### 080201\n",
    "¿Sabrías decir qué contiene exactamente el fichero `numeros.txt` que hemos creado en este cuaderno, sin abrirlo?"
   ]
  },
  {
   "cell_type": "markdown",
   "metadata": {},
   "source": [
    "### 080202\n",
    "¿Sabrías decir por qué en la última línea hemos aplicado la función `str()` a `(raices)[i]` pero no a `cuadrados[i]`?"
   ]
  },
  {
   "cell_type": "markdown",
   "metadata": {},
   "source": [
    "### 080203\n",
    "Guarda en un fichero de texto este famoso poema de Quevedo:\n",
    "\n",
    "    Érase un hombre a una nariz pegado,\n",
    "    érase una nariz superlativa,\n",
    "    érase una nariz sayón y escriba,\n",
    "    érase un pez espada muy barbado.\n",
    "    Era un reloj de sol mal encarado,\n",
    "    érase una alquitara pensativa,\n",
    "    érase un elefante boca arriba,\n",
    "    era Ovidio Nasón más narizado.\n",
    "    Érase un espolón de una galera,\n",
    "    érase una pirámide de Egipto;\n",
    "    las doce tribus de narices era.\n",
    "    Érase un naricísimo infinito,\n",
    "    muchísimo nariz, nariz tan fiera,\n",
    "    que en la cara de Anás fuera delito.\n",
    "\n",
    "Ahora reescribe el fichero, pero esta vez escribiendo, cada 5 líneas, el número de línea del verso, separado del final de línea con una tabulación. Es decir, el fichero reescrito debe quedar así:\n",
    "\n",
    "    Érase un hombre a una nariz pegado,\n",
    "    érase una nariz superlativa,\n",
    "    érase una nariz sayón y escriba,\n",
    "    érase un pez espada muy barbado.\n",
    "    Era un reloj de sol mal encarado,\t5\n",
    "    érase una alquitara pensativa,\n",
    "    érase un elefante boca arriba,\n",
    "    era Ovidio Nasón más narizado.\n",
    "    Érase un espolón de una galera,\n",
    "    érase una pirámide de Egipto;\t10\n",
    "    las doce tribus de narices era.\n",
    "    Érase un naricísimo infinito,\n",
    "    muchísimo nariz, nariz tan fiera,\n",
    "    que en la cara de Anás fuera delito.\n",
    "\n",
    "Deberás, primero, meter cada línea del fichero en una lista. Y después, recorrer un rango del 1 al 14 (las líneas que tiene el fichero) para hacer que:\n",
    "- cuando el índice sea múltiplo de 5, se escriba la línea, un tabulador, el índice y un salto de línea\n",
    "- y en cualquier otro caso, que solo se escriba la línea y un salto de línea.\n",
    "\n",
    "Te sugiero, además, que utilices la siguiente celda para guardar el poema en el fichero simplemente ejecutándola, para que no tengas que estar copiando y pegando el poema cada vez que hagas una prueba ;)"
   ]
  },
  {
   "cell_type": "code",
   "execution_count": 72,
   "metadata": {},
   "outputs": [],
   "source": [
    "with open(\"soneto.txt\", \"w\", encoding=\"UTF-8\") as fichero:\n",
    "    fichero.write('''Érase un hombre a una nariz pegado,\n",
    "érase una nariz superlativa,\n",
    "érase una nariz sayón y escriba,\n",
    "érase un pez espada muy barbado.\n",
    "Era un reloj de sol mal encarado,\n",
    "érase una alquitara pensativa,\n",
    "érase un elefante boca arriba,\n",
    "era Ovidio Nasón más narizado.\n",
    "Érase un espolón de una galera,\n",
    "érase una pirámide de Egipto;\n",
    "las doce tribus de narices era.\n",
    "Érase un naricísimo infinito,\n",
    "muchísimo nariz, nariz tan fiera,\n",
    "que en la cara de Anás fuera delito.\n",
    "''')"
   ]
  }
 ],
 "metadata": {
  "kernelspec": {
   "display_name": "Python 3",
   "language": "python",
   "name": "python3"
  },
  "language_info": {
   "codemirror_mode": {
    "name": "ipython",
    "version": 3
   },
   "file_extension": ".py",
   "mimetype": "text/x-python",
   "name": "python",
   "nbconvert_exporter": "python",
   "pygments_lexer": "ipython3",
   "version": "3.7.0"
  }
 },
 "nbformat": 4,
 "nbformat_minor": 2
}
