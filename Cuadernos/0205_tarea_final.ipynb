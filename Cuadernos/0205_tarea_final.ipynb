{
 "cells": [
  {
   "cell_type": "markdown",
   "metadata": {},
   "source": [
    "# Ejercicio final del tema 2 - Red social\n",
    "## Presentación\n",
    "A lo largo de este curso vas a escribir un programa que interactuará con el usuario para tomar sus datos, publicar mensajes y recordarle entre sesiones, tal como lo hace una red social.\n",
    "\n",
    "Nuestra primera etapa será un código muy sencillo que simplemente consulte datos al usuario y los escriba en pantalla. Al final de cada tema revisaremos el programa en el estado en que lo dejamos el tema anterior, para agregarle alguna característica nueva usando lo que hemos aprendido.\n",
    "\n",
    "A medida que avances en cada tema verás que construiremos este programa de manera incremental. En cada etapa tendremos un programa que funciona completamente, y en cada tema nos basaremos en el código del tema anterior para agregar una nueva funcionalidad. Esta manera de desarrollar programas es habitual en el área de la ingeniería de software.\n",
    "\n",
    "A modo de orientación en el camino que seguiremos, el proyecto tendrá las siguientes etapas:\n",
    "\n",
    "- Fin del tema 2: recolección de datos de usuario y publicación de mensajes de estado.\n",
    "- Fin del tema 3: manipulación de los datos recolectados y publicación de los resultados.\n",
    "- Fin del tema 4: integración de un menú que permita efectuar distintas acciones sobre la red.\n",
    "- Fin del tema 5: mejora en el manejo del menú.\n",
    "- Fin del tema 6: integración de datos que autocompletarán el perfil del usuario.\n",
    "- Fin del tema 7: separación del código en distintas funciones haciendo el código más fácil de entender y modificar.\n",
    "- Fin del tema 8: nueva optimización del código en módulos e integración de archivos para recordar y almacenar los datos de un usuario.\n",
    "- Fin del tema 9: incorporación de una comprobación de formato de los datos introducidos.\n",
    "\n",
    "Como verás, salvo por la interfaz gráfica y la posibilidad de interactuar con otros usuarios, este programa cumplirá características que forman parte de cualquier red social. Al finalizar este curso verás que con solo algunas herramientas ya es posible construir programas complejos."
   ]
  },
  {
   "cell_type": "markdown",
   "metadata": {},
   "source": [
    "## Ejercicio\n",
    "Vamos a crear una red social. Para ello, lo primero que tenemos que hacer es ponerle un nombre. Te sugiero usar una cabecera como la siguiente para que quede bonito. Si quieres ponerle un nombre diferente a tu red social, puedes crear tu propia cabecera con este [generador](http://www.network-science.de/ascii/). [Friendface](http://theitcrowd.wikia.com/wiki/Friendface) tampoco es un nombre muy original.\n",
    "\n",
    "Fíjate en que las comillas de apertura y de cierre están separadas de las barras por un espacio. Si la cabecera que has elegido contiene barras, te recomiendo hacer lo mismo para que no afecten a las comillas. Esto de que las barras afecten a otro carácter se llama [_escapar un carácter_](https://es.cppreference.com/w/cpp/language/escape) y lo veremos en el tema 9 cuando hablemos de expresiones regulares."
   ]
  },
  {
   "cell_type": "code",
   "execution_count": 1,
   "metadata": {},
   "outputs": [
    {
     "name": "stdout",
     "output_type": "stream",
     "text": [
      "Te damos la bienvenida a...\n",
      "   __      _                _  __                 \n",
      "  / _|_ __(_) ___ _ __   __| |/ _| __ _  ___ ___  \n",
      " | |_| '__| |/ _ \\ '_ \\ / _` | |_ / _` |/ __/ _ \\ \n",
      " |  _| |  | |  __/ | | | (_| |  _| (_| | (_|  __/ \n",
      " |_| |_|  |_|\\___|_| |_|\\__,_|_|  \\__,_|\\___\\___| \n"
     ]
    }
   ],
   "source": [
    "print(\"Te damos la bienvenida a...\")\n",
    "print(\"   __      _                _  __                 \")\n",
    "print(\"  / _|_ __(_) ___ _ __   __| |/ _| __ _  ___ ___  \")\n",
    "print(\" | |_| '__| |/ _ \\ '_ \\ / _` | |_ / _` |/ __/ _ \\ \")\n",
    "print(\" |  _| |  | |  __/ | | | (_| |  _| (_| | (_|  __/ \")\n",
    "print(\" |_| |_|  |_|\\___|_| |_|\\__,_|_|  \\__,_|\\___\\___| \")\n"
   ]
  },
  {
   "cell_type": "markdown",
   "metadata": {},
   "source": [
    "Escribe un programa en el que le preguntes al usuario su nombre, su primer y segundo apellido y su edad. Después, debe imprimir `Tu perfil` y seguidamente los datos del usuario de forma esquemática, como si se tratase del perfil de un usuario. Haz que la parte de pedir los datos se separe de la parte de imprimirlos por medio de una línea en blanco.\n",
    "\n",
    "Después de imprimir los datos del usuario, imprime otra línea en blanco, y haz que el programa le pregunte al usuario qué está pensando. Imprime su respuesta como su mensaje de estado, detrás de otra línea en blanco.\n",
    "\n",
    "La ejecución del programa debería quedar, por ejemplo, así:\n",
    "\n",
    "    ¿Cómo te llamas?: Juana\n",
    "    ¿Cuál es tu primer apellido?: Asbaje\n",
    "    ¿Y el segundo?: Ramírez\n",
    "    ¿Cuántos años tienes?: 47\n",
    "    \n",
    "    Tu perfil\n",
    "    Nombre: Juana Asbaje Ramírez\n",
    "    Edad: 47 años\n",
    "\n",
    "    ¿Qué estás pensando?: Yo no estimo tesoros ni riquezas; y así, siempre me causa más contento poner riquezas en mi pensamiento que no mi pensamiento en las riquezas.\n",
    "    \n",
    "    Juana dice: Yo no estimo tesoros ni riquezas; y así, siempre me causa más contento poner riquezas en mi pensamiento que no mi pensamiento en las riquezas.\n",
    "\n",
    "No olvides documentar tu programa; con que expliques en qué consiste cada grupo de líneas es suficiente por ahora."
   ]
  }
 ],
 "metadata": {
  "kernelspec": {
   "display_name": "Python 3",
   "language": "python",
   "name": "python3"
  },
  "language_info": {
   "codemirror_mode": {
    "name": "ipython",
    "version": 3
   },
   "file_extension": ".py",
   "mimetype": "text/x-python",
   "name": "python",
   "nbconvert_exporter": "python",
   "pygments_lexer": "ipython3",
   "version": "3.7.0"
  }
 },
 "nbformat": 4,
 "nbformat_minor": 2
}
