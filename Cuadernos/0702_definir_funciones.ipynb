{
 "cells": [
  {
   "cell_type": "markdown",
   "metadata": {},
   "source": [
    "# Tema 7: Funciones (II)"
   ]
  },
  {
   "cell_type": "markdown",
   "metadata": {},
   "source": [
    "## Definir funciones\n",
    "Para definir una función tenemos que seguir la siguiente estructura (si, por ejemplo, nuestra función puede recibir hasta 2 parámetros):\n",
    "\n",
    "    def nombre_de_la_función(parámetro1, parámetro2...):\n",
    "        <instrucciones_dentro_de_la_función>\n",
    "\n",
    "Usaremos la palabra reservada `def` (de _define_) y daremos a la función y sus parámetros el nombre que queramos. Las reglas y recomendaciones sobre cómo nombrar variables aplican aquí.\n",
    "\n",
    "En las instrucciones escribiremos lo que queramos que se ejecute cada vez que llamemos a esa función. Por ejemplo:"
   ]
  },
  {
   "cell_type": "code",
   "execution_count": 30,
   "metadata": {},
   "outputs": [],
   "source": [
    "def imprimir_como_titulo(texto):\n",
    "    # Imprime una string con líneas de asteriscos arriba y abajo\n",
    "    print(\"******************\")\n",
    "    print(texto.upper())\n",
    "    print(\"******************\")"
   ]
  },
  {
   "cell_type": "markdown",
   "metadata": {},
   "source": [
    "Ya tenemos nuestra función definida. Ya podemos usarla con los datos que queramos."
   ]
  },
  {
   "cell_type": "code",
   "execution_count": 31,
   "metadata": {},
   "outputs": [
    {
     "name": "stdout",
     "output_type": "stream",
     "text": [
      "******************\n",
      "TEMA 7: FUNCIONES\n",
      "******************\n"
     ]
    }
   ],
   "source": [
    "imprimir_como_titulo(\"Tema 7: Funciones\")"
   ]
  },
  {
   "cell_type": "markdown",
   "metadata": {},
   "source": [
    "Ten en cuenta que, si ejecutas primero la segunda celda, te saldrá un error, porque no se habrá definido previamente la función `imprimir_como_titulo()`.\n",
    "\n",
    "Ahora puedes:\n",
    "1. Hacer cambios en la definición de la función\n",
    "2. Ejecutar la celda que contiene la definición de la función\n",
    "3. Ejecutar la celda en que se llama a la función\n",
    "\n",
    "Y verás cómo se notan esos cambios. Prueba a poner o quitar asteriscos o cambiar el título, y mira lo que sale al ejecutar la segunda celda.\n",
    "\n",
    "El segundo paso es importante; si no ejecutamos el código en que se define la función después de hacer nuestros cambios, el programa sigue almacenando la versión antigua de la función.\n",
    "\n",
    "Por supuesto, una vez definida una función, podemos usarla todas las veces que queramos:"
   ]
  },
  {
   "cell_type": "code",
   "execution_count": 32,
   "metadata": {},
   "outputs": [
    {
     "name": "stdout",
     "output_type": "stream",
     "text": [
      "********************************************************************************\n",
      "Horacio\n",
      "********************************************************************************\n",
      "\n",
      "Odas\n",
      "~~~~~~~~~~~~~~~~~~~~~~~~~~~~~~~~~~~~~~~~~~~~~~~~~~~~~~~~~~~~~~~~~~~~~~~~~~~~~~~~\n",
      "\n",
      "XI\n",
      "................................................................................\n",
      "Tu ne quaesieris (scire nefas) quem mihi, quem tibi\n",
      "finem di dederint, Leuconoe, nec Babylonios\n",
      "temptaris numeros. Ut melius quicquid erit pati!\n",
      "Seu pluris hiemes seu tribuit Iuppiter ultimam,\n",
      "quae nunc oppositis debilitat pumicibus mare\n",
      "Tyrrhenum, sapias, vina liques et spatio brevi\n",
      "spem longam reseces. Dum loquimur, fugerit invida\n",
      "aetas: carpe diem, quam minimum credula postero.\n",
      "________________________________________________________________________________\n"
     ]
    }
   ],
   "source": [
    "# Definimos la función\n",
    "def llenar_linea(caracter):\n",
    "    # Imprime una línea entera usando el carácter que recibe\n",
    "    print(caracter * 80)\n",
    "    \n",
    "# Llamamos a la función con el carácter que queramos según nuestras necesidades\n",
    "llenar_linea(\"*\")\n",
    "print(\"Horacio\")\n",
    "llenar_linea(\"*\")\n",
    "print()\n",
    "print(\"Odas\")\n",
    "llenar_linea(\"~\")\n",
    "print()\n",
    "print(\"XI\")\n",
    "llenar_linea(\".\")\n",
    "print(\"\"\"Tu ne quaesieris (scire nefas) quem mihi, quem tibi\n",
    "finem di dederint, Leuconoe, nec Babylonios\n",
    "temptaris numeros. Ut melius quicquid erit pati!\n",
    "Seu pluris hiemes seu tribuit Iuppiter ultimam,\n",
    "quae nunc oppositis debilitat pumicibus mare\n",
    "Tyrrhenum, sapias, vina liques et spatio brevi\n",
    "spem longam reseces. Dum loquimur, fugerit invida\n",
    "aetas: carpe diem, quam minimum credula postero.\"\"\")\n",
    "llenar_linea(\"_\")"
   ]
  },
  {
   "cell_type": "markdown",
   "metadata": {},
   "source": [
    "Cada vez que invocamos a la función `llenar_linea()` el parámetro `caracter` obtiene un valor distinto y por eso, aunque el código que se ejecuta es el mismo, obtenemos resultados diferentes."
   ]
  },
  {
   "cell_type": "markdown",
   "metadata": {},
   "source": [
    "### Funciones que devuelven valores\n",
    "Las funciones pueden o no devolver valores. Las funciones que hemos definido en este cuaderno, por ejemplo, no devuelven nada, solo imprimen mensajes por pantalla. A continuación vamos a crear una función que sí devuelve un valor:"
   ]
  },
  {
   "cell_type": "code",
   "execution_count": 34,
   "metadata": {},
   "outputs": [
    {
     "data": {
      "text/plain": [
       "'A'"
      ]
     },
     "execution_count": 34,
     "metadata": {},
     "output_type": "execute_result"
    }
   ],
   "source": [
    "def inicial(nombre):\n",
    "    # Devuelve la primera letra de una string\n",
    "    return nombre[0]\n",
    "\n",
    "inicial(\"Alberto\")"
   ]
  },
  {
   "cell_type": "markdown",
   "metadata": {},
   "source": [
    "Fíjate en que vemos una A, pero en este caso pone Out en rojo a la izquierda. Cuando eso ocurre (al menos en local) lo que estamos viendo no es lo que imprime por pantalla el programa, sino la salida del programa. Por eso también se ven las comillas de la string, porque es como se señala que se trata de una string.\n",
    "\n",
    "Compáralo con ejecutar cualquiera de las siguientes celdas (son equivalentes):"
   ]
  },
  {
   "cell_type": "code",
   "execution_count": 35,
   "metadata": {},
   "outputs": [
    {
     "name": "stdout",
     "output_type": "stream",
     "text": [
      "A\n"
     ]
    }
   ],
   "source": [
    "i = inicial(\"Alberto\")\n",
    "print(i)"
   ]
  },
  {
   "cell_type": "code",
   "execution_count": 36,
   "metadata": {},
   "outputs": [
    {
     "name": "stdout",
     "output_type": "stream",
     "text": [
      "A\n"
     ]
    }
   ],
   "source": [
    "print(inicial(\"Alberto\"))"
   ]
  },
  {
   "cell_type": "markdown",
   "metadata": {},
   "source": [
    "### Ámbito de las variables y parámetros\n",
    "Hay que tener cuidado con los nombres de las variables al definir una función y llamarla después. Vamos a aprender el concepto del ámbito o _scope_, muy importante en programación. \n",
    "\n",
    "Al definir una función, hemos dicho que les damos a los parámetros los nombres que queramos. Ahora bien, tenemos que ser consistentes con esos nombres mientras definimos la función, y solo usarlos dentro de la función, porque no existen fuera de ella.\n",
    "\n",
    "En la siguiente celda, la línea 4 provocará un error, porque está intentando acceder a `nombre`, que es un parámetro de la función `inicial()` y, por tanto, solo existe dentro de ella:"
   ]
  },
  {
   "cell_type": "code",
   "execution_count": 1,
   "metadata": {},
   "outputs": [
    {
     "ename": "NameError",
     "evalue": "name 'nombre' is not defined",
     "output_type": "error",
     "traceback": [
      "\u001b[1;31m---------------------------------------------------------------------------\u001b[0m",
      "\u001b[1;31mNameError\u001b[0m                                 Traceback (most recent call last)",
      "\u001b[1;32m<ipython-input-1-be40487a721a>\u001b[0m in \u001b[0;36m<module>\u001b[1;34m()\u001b[0m\n\u001b[0;32m      3\u001b[0m     \u001b[1;32mreturn\u001b[0m \u001b[0mnombre\u001b[0m\u001b[1;33m[\u001b[0m\u001b[1;36m0\u001b[0m\u001b[1;33m]\u001b[0m\u001b[1;33m\u001b[0m\u001b[0m\n\u001b[0;32m      4\u001b[0m \u001b[1;33m\u001b[0m\u001b[0m\n\u001b[1;32m----> 5\u001b[1;33m \u001b[0mprint\u001b[0m\u001b[1;33m(\u001b[0m\u001b[0mnombre\u001b[0m\u001b[1;33m)\u001b[0m\u001b[1;33m\u001b[0m\u001b[0m\n\u001b[0m",
      "\u001b[1;31mNameError\u001b[0m: name 'nombre' is not defined"
     ]
    }
   ],
   "source": [
    "def inicial(nombre):\n",
    "    # Devuelve la primera letra de una string\n",
    "    return nombre[0]\n",
    "\n",
    "print(nombre)"
   ]
  },
  {
   "cell_type": "markdown",
   "metadata": {},
   "source": [
    "Los parámetros de las funciones pertenecen al ámbito de esas funciones, lo que significa que solo se pueden utilizar dentro de ellas.\n",
    "\n",
    "Por supuesto, podríamos asignarle una string a `nombre` fuera de la función y entonces sí podríamos usarla fuera de ella, aunque se llame igual que un parámetro (un poco más adelante veremos por qué):"
   ]
  },
  {
   "cell_type": "code",
   "execution_count": 38,
   "metadata": {},
   "outputs": [
    {
     "name": "stdout",
     "output_type": "stream",
     "text": [
      "Alberto\n",
      "A\n"
     ]
    }
   ],
   "source": [
    "def inicial(nombre):\n",
    "    # Devuelve la primera letra de una string\n",
    "    return nombre[0]\n",
    "\n",
    "nombre = 'Alberto'\n",
    "print(nombre)\n",
    "print(inicial(nombre))"
   ]
  },
  {
   "cell_type": "markdown",
   "metadata": {},
   "source": [
    "Ocurriría lo mismo si no fuera un parámetro, sino una variable que se crea dentro de la función (lo que se llama una _variable local_, porque solo existe dentro de la función). Ya hemos visto que las variables se crean asignándoles un valor. Cuando definimos nuevas variables dentro de una función, esas variables solo se pueden usar dentro de la función. Por ejemplo, la línea 9 de la siguiente celda devolverá `10`, el valor absoluto de -10, pero la línea 10 provocará un error porque `resultado` es una variable local de la función `valor_absoluto()`:"
   ]
  },
  {
   "cell_type": "code",
   "execution_count": 39,
   "metadata": {},
   "outputs": [
    {
     "name": "stdout",
     "output_type": "stream",
     "text": [
      "10\n"
     ]
    },
    {
     "ename": "NameError",
     "evalue": "name 'resultado' is not defined",
     "output_type": "error",
     "traceback": [
      "\u001b[1;31m---------------------------------------------------------------------------\u001b[0m",
      "\u001b[1;31mNameError\u001b[0m                                 Traceback (most recent call last)",
      "\u001b[1;32m<ipython-input-39-e5779e5b26a6>\u001b[0m in \u001b[0;36m<module>\u001b[1;34m()\u001b[0m\n\u001b[0;32m      8\u001b[0m \u001b[1;33m\u001b[0m\u001b[0m\n\u001b[0;32m      9\u001b[0m \u001b[0mprint\u001b[0m\u001b[1;33m(\u001b[0m\u001b[0mvalor_absoluto\u001b[0m\u001b[1;33m(\u001b[0m\u001b[1;33m-\u001b[0m\u001b[1;36m10\u001b[0m\u001b[1;33m)\u001b[0m\u001b[1;33m)\u001b[0m\u001b[1;33m\u001b[0m\u001b[0m\n\u001b[1;32m---> 10\u001b[1;33m \u001b[0mprint\u001b[0m\u001b[1;33m(\u001b[0m\u001b[0mresultado\u001b[0m\u001b[1;33m)\u001b[0m\u001b[1;33m\u001b[0m\u001b[0m\n\u001b[0m",
      "\u001b[1;31mNameError\u001b[0m: name 'resultado' is not defined"
     ]
    }
   ],
   "source": [
    "def valor_absoluto(n):\n",
    "    # Devuelve el valor absoluto de un número\n",
    "    if n >= 0:\n",
    "        resultado = n\n",
    "    else:\n",
    "        resultado = -n\n",
    "    return resultado\n",
    "\n",
    "print(valor_absoluto(-10))\n",
    "print(resultado)"
   ]
  },
  {
   "cell_type": "markdown",
   "metadata": {},
   "source": [
    "Ahora puede que estés pensando que el concepto de ámbito es un rollo que no hace más que complicarlo todo, pero en realidad es muy útil para poder reutilizar código, ya que permite que dos variables distintas en distintos ámbitos puedan tener el mismo nombre."
   ]
  },
  {
   "cell_type": "code",
   "execution_count": 40,
   "metadata": {},
   "outputs": [
    {
     "name": "stdout",
     "output_type": "stream",
     "text": [
      "24\n",
      "72\n"
     ]
    }
   ],
   "source": [
    "# Funciones\n",
    "def doble(numero):\n",
    "    # Devuelve el doble del número que recibe\n",
    "    return x * 2\n",
    "\n",
    "def triple(numero):\n",
    "    # Devuelve el triple del número que recibe\n",
    "    return x * 3\n",
    "\n",
    "# Programa principal\n",
    "x = doble(4)\n",
    "print(x)\n",
    "y = triple(10)\n",
    "print(y)"
   ]
  },
  {
   "cell_type": "markdown",
   "metadata": {},
   "source": [
    "El parámetro `x` de la función `doble()` es distinto del parámetro con el mismo nombre en la función `triple()`, y también es distinto del parámetro `x` que aparece en el programa principal.\n",
    "\n",
    "Esto puede resultar un poco confuso al principio, pero permite que puedas utilizar los nombres de variables que quieras en cada función porque, aunque se llamen igual, serán variables distintas que pueden contener valores distintos."
   ]
  },
  {
   "cell_type": "markdown",
   "metadata": {},
   "source": [
    "### Parámetros por copia y por referencia\n",
    "Si queremos modificar los parámetros que le llegan a la función, no basta con asignarles el nuevo valor, porque los cambios solo serán visibles dentro de la función. Y es que los parámetros almacenan una _copia_ de los valores con los que se invocó a la función.\n",
    "\n",
    "Por ejemplo, la siguiente función seguramente no se comporta como esperas:"
   ]
  },
  {
   "cell_type": "code",
   "execution_count": 41,
   "metadata": {},
   "outputs": [
    {
     "name": "stdout",
     "output_type": "stream",
     "text": [
      "5\n"
     ]
    }
   ],
   "source": [
    "def incrementa(x):\n",
    "    # Suma 1 al número que recibe\n",
    "    x = x + 1\n",
    "\n",
    "x = 5\n",
    "incrementa(x)\n",
    "print(x)"
   ]
  },
  {
   "cell_type": "markdown",
   "metadata": {},
   "source": [
    "Aunque el parámetro `x` cambia su valor dentro de la función, esos cambios no son visibles desde fuera de la función. La explicación es que el parámetro `x` contiene una copia del valor almacenado en la variable `x` del programa principal. Al modificar el parámetro, estamos modificando la copia, pero no el original.\n",
    "\n",
    "La manera correcta de escribir el código anterior sería la siguiente:"
   ]
  },
  {
   "cell_type": "code",
   "execution_count": 42,
   "metadata": {},
   "outputs": [
    {
     "name": "stdout",
     "output_type": "stream",
     "text": [
      "6\n"
     ]
    }
   ],
   "source": [
    "def incrementa(x):\n",
    "    # Suma 1 al número que recibe\n",
    "    return x + 1\n",
    "\n",
    "x = 5\n",
    "x = incrementa(x)\n",
    "print(x)"
   ]
  },
  {
   "cell_type": "markdown",
   "metadata": {},
   "source": [
    "Los parámetros que contienen tipos básicos (números enteros, reales, cadenas de texto) se pasan por copia. Es decir, el parámetro contiene una copia del valor original con el que se invocó a la función. Por tanto, cambiar su valor dentro de la función no tiene efectos fuera de ella.\n",
    "\n",
    "Sin embargo, los parámetros que representan estructuras de datos (listas, conjuntos y diccionarios) no se pasan por copia, sino por _referencia_. Eso quiere decir que las modificaciones que realicemos dentro de la función sí serán visibles cuando salgamos de la función. Piensa que las estructuras de datos pueden contener miles o millones de datos en memoria y hacer una copia cada vez que se pasan a una función sería muy ineficiente."
   ]
  },
  {
   "cell_type": "code",
   "execution_count": 43,
   "metadata": {},
   "outputs": [
    {
     "name": "stdout",
     "output_type": "stream",
     "text": [
      "[]\n",
      "¿Qué quieres añadir?: leche\n",
      "['leche']\n",
      "¿Qué quieres añadir?: mantequilla\n",
      "['leche', 'mantequilla']\n"
     ]
    }
   ],
   "source": [
    "def añadir_elemento(lista):\n",
    "    # Añade lo que el usuario quiera a la lista que recibe\n",
    "    lista.append(input(\"¿Qué quieres añadir?: \"))\n",
    "\n",
    "mi_lista = []\n",
    "print(mi_lista)\n",
    "añadir_elemento(mi_lista)\n",
    "print(mi_lista)\n",
    "añadir_elemento(mi_lista)\n",
    "print(mi_lista)"
   ]
  },
  {
   "cell_type": "markdown",
   "metadata": {},
   "source": [
    "### Documentar las funciones\n",
    "Como habrás observado, las funciones se documentan con un comentario indentado después de la línea del `def`, en el que se indica qué hace la función. También puede ser interesante especificar los parámetros que recibe y de qué tipo han de ser, y si la función devuelve algún valor y de qué tipo es."
   ]
  },
  {
   "cell_type": "markdown",
   "metadata": {},
   "source": [
    "## Ejercicios\n",
    "### 070201\n",
    "Escribe una función `str_a_int()` que reciba un parámetro `input` y lo convierta a un número entero. Comprueba que tu función está bien ejecutando este código, que debería imprimir un 3:"
   ]
  },
  {
   "cell_type": "code",
   "execution_count": null,
   "metadata": {},
   "outputs": [],
   "source": [
    "print(str_a_int(\"3\"))"
   ]
  }
 ],
 "metadata": {
  "kernelspec": {
   "display_name": "Python 3",
   "language": "python",
   "name": "python3"
  },
  "language_info": {
   "codemirror_mode": {
    "name": "ipython",
    "version": 3
   },
   "file_extension": ".py",
   "mimetype": "text/x-python",
   "name": "python",
   "nbconvert_exporter": "python",
   "pygments_lexer": "ipython3",
   "version": "3.7.0"
  }
 },
 "nbformat": 4,
 "nbformat_minor": 2
}
