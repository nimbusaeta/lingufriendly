{
 "cells": [
  {
   "cell_type": "markdown",
   "metadata": {},
   "source": [
    "# Tema 4: condiciones (II)"
   ]
  },
  {
   "cell_type": "markdown",
   "metadata": {},
   "source": [
    "## Instrucción `if`\n",
    "Todos los programas que hemos escrito hasta ahora consisten en una secuencia de instrucciones que se ejecutan una detrás de otra. En este capítulo estudiaremos la manera de escribir instrucciones que solo se ejecutan cuando se cumplen determinadas condiciones.\n",
    "\n",
    "Para hacerlo usaremos la instrucción `if`, que, en su versión más sencilla, sigue el siguiente esquema:\n",
    "\n",
    "    if <condición>:\n",
    "        <instrucciones_dentro_del_if>\n",
    "    <resto_del_programa>\n",
    "\n",
    "Fíjate en que después de la condición se escriben dos puntos (`:`) y en que línea siguiente al `if` está sangrada hacia la derecha con cuatro espacios. Las líneas que cumplan esas dos condiciones (estar inmediatamente debajo del `if` e ir _indentadas_) serán las instrucciones dentro del `if`, es decir, lo que el programa ejecute si y solo si la condición indicada es cierta.\n",
    "\n",
    "Veamos un ejemplo sencillo:"
   ]
  },
  {
   "cell_type": "code",
   "execution_count": 1,
   "metadata": {},
   "outputs": [
    {
     "name": "stdout",
     "output_type": "stream",
     "text": [
      "El número x es positivo\n"
     ]
    }
   ],
   "source": [
    "x = 10\n",
    "if x >= 0:\n",
    "    print(\"El número x es positivo\")"
   ]
  },
  {
   "cell_type": "markdown",
   "metadata": {},
   "source": [
    "En este caso el programa imprimirá la frase `El número x es positivo` porque la condición del `if` es cierta: 10 es mayor o igual que 0.\n",
    "\n",
    "Pero si cambiamos el valor de la variable `x` como se muestra a continuación:"
   ]
  },
  {
   "cell_type": "code",
   "execution_count": 2,
   "metadata": {},
   "outputs": [],
   "source": [
    "x = -10\n",
    "if x >= 0:\n",
    "    print(\"El número x es positivo\")"
   ]
  },
  {
   "cell_type": "markdown",
   "metadata": {},
   "source": [
    "Al ejecutar la celda el programa no genera nada, porque la condición ahora es falsa. \n",
    "\n",
    "Veamos otro ejemplo:"
   ]
  },
  {
   "cell_type": "code",
   "execution_count": 1,
   "metadata": {},
   "outputs": [
    {
     "name": "stdout",
     "output_type": "stream",
     "text": [
      "Inicio\n",
      "Introduce un número entero: 6\n",
      "El número 6 es positivo\n",
      "El doble de 6 es 12\n",
      "Fin\n"
     ]
    }
   ],
   "source": [
    "print(\"Inicio\")\n",
    "numero = int(input(\"Introduce un número entero: \"))\n",
    "\n",
    "if numero >= 0:\n",
    "    print(\"El número\", numero, \"es positivo\")\n",
    "    print(\"El doble de\", numero, \"es\", numero * 2)\n",
    "print(\"Fin\")"
   ]
  },
  {
   "cell_type": "markdown",
   "metadata": {},
   "source": [
    "## Instrucción `if`-`else`\n",
    "En realidad, la instrucción `if` puede tener una estructura más compleja:\n",
    "\n",
    "    if condición:\n",
    "        <instrucciones_dentro_del_if>\n",
    "    else:\n",
    "        <instrucciones_dentro_del_else>\n",
    "    <resto_del_programa>\n",
    "\n",
    "Las instrucciones de la parte `else` solo se ejecutan si la condición es falsa. Fíjate en que siguen la misma sintaxis que el `if`, dos puntos e indentación.\n",
    "\n",
    "Así, podemos escribir, por ejemplo, un programa que nos pida dos números e imprima solo el mayor:"
   ]
  },
  {
   "cell_type": "code",
   "execution_count": 8,
   "metadata": {},
   "outputs": [
    {
     "name": "stdout",
     "output_type": "stream",
     "text": [
      "Escribe un número: 3\n",
      "Escribe otro: 4\n",
      "El mayor es 4\n"
     ]
    }
   ],
   "source": [
    "a = int(input(\"Escribe un número: \"))\n",
    "b = int(input(\"Escribe otro: \"))\n",
    "if a > b:\n",
    "    print(\"El mayor es\", a)\n",
    "else:\n",
    "    print(\"El mayor es\", b)"
   ]
  },
  {
   "cell_type": "markdown",
   "metadata": {},
   "source": [
    "## Instrucción `if`-`elif`-`else`\n",
    "Pero la instrucción `if` se puede complicar aún más, permitiéndonos controlar por dónde va la ejecución del programa según varias condiciones.\n",
    "\n",
    "    if condición:\n",
    "        <instrucciones_dentro_del_if>\n",
    "    elif:\n",
    "        <instrucciones_dentro_del_elif>\n",
    "    else:\n",
    "        <instrucciones_dentro_del_else>\n",
    "    <resto_del_programa>"
   ]
  },
  {
   "cell_type": "markdown",
   "metadata": {},
   "source": [
    "Por ejemplo, podemos escribir un programa que pregunte al usuario su altura y su peso y le indique si su índice corporal está en la franja saludable, está por debajo o está por encima:"
   ]
  },
  {
   "cell_type": "code",
   "execution_count": 2,
   "metadata": {},
   "outputs": [
    {
     "name": "stdout",
     "output_type": "stream",
     "text": [
      "Tu altura en metros (indicando la parte decimal con un punto): 1.78\n",
      "Tu peso en kilos (indicando la parte decimal con un punto): 73\n",
      "Tu peso es normal.\n",
      "Gracias por usar este programa.\n"
     ]
    }
   ],
   "source": [
    "# Pedimos los datos al usuario\n",
    "altura = float(input(\"Tu altura en metros (indicando la parte decimal con un punto): \"))\n",
    "peso = float(input(\"Tu peso en kilos (indicando la parte decimal con un punto): \"))\n",
    "\n",
    "# Calculamos el índice de masa corporal\n",
    "indice = peso / (altura * altura)\n",
    "\n",
    "# Indicamos si el peso del usuario es el adecuado\n",
    "if indice >= 25:\n",
    "    print(\"Tienes sobrepeso.\")\n",
    "elif indice >= 18.5:\n",
    "    print(\"Tu peso es normal.\")\n",
    "else:\n",
    "    print(\"Tu peso es demasiado bajo.\")\n",
    "\n",
    "# Imprimimos un mensaje de despedida, que saldrá en cualquiera de los casos\n",
    "print(\"Gracias por usar este programa.\")"
   ]
  },
  {
   "cell_type": "markdown",
   "metadata": {},
   "source": [
    "### ¿Por qué se usa `elif`?\n",
    "Es importante comprender que cada `if` genera un nuevo bucle. Si no queremos crear un nuevo bucle, debemos ir añadiendo condiciones usando `elif`, no `if`.\n",
    "\n",
    "Por ejemplo, comprueba que las dos siguientes celdas, que solo se diferencian en que una hace `if`-`elif`-`else` y la otra `if`-`if`-`else`, no dan los mismos resultados:"
   ]
  },
  {
   "cell_type": "code",
   "execution_count": 2,
   "metadata": {},
   "outputs": [
    {
     "name": "stdout",
     "output_type": "stream",
     "text": [
      "Tienes sobrepeso.\n"
     ]
    }
   ],
   "source": [
    "indice = 28\n",
    "\n",
    "# Indicamos si el peso del usuario es el adecuado\n",
    "if indice >= 25:\n",
    "    print(\"Tienes sobrepeso.\")\n",
    "elif indice >= 18.5:\n",
    "    print(\"Tu peso es normal.\")\n",
    "else:\n",
    "    print(\"Tu peso es demasiado bajo.\")"
   ]
  },
  {
   "cell_type": "code",
   "execution_count": 3,
   "metadata": {},
   "outputs": [
    {
     "name": "stdout",
     "output_type": "stream",
     "text": [
      "Tienes sobrepeso.\n",
      "Tu peso es normal.\n"
     ]
    }
   ],
   "source": [
    "indice = 28\n",
    "\n",
    "# Indicamos si el peso del usuario es el adecuado\n",
    "if indice >= 25:\n",
    "    print(\"Tienes sobrepeso.\")\n",
    "if indice >= 18.5:\n",
    "    print(\"Tu peso es normal.\")\n",
    "else:\n",
    "    print(\"Tu peso es demasiado bajo.\")"
   ]
  },
  {
   "cell_type": "markdown",
   "metadata": {},
   "source": [
    "Claramente, el código de la segunda celda está mal, porque no se puede tener sobrepeso a la vez que un peso normal.\n",
    "\n",
    "¿Y cómo sabemos si queremos crear un nuevo bucle o no? ¿Qué implica crear un nuevo bucle? Mantenerse en el mismo bucle es útil cuando necesitamos aplicar varias condiciones a la vez, es decir, que el programa «se acuerde» de que ya se ha cumplido determinada condición y todavía hay que seguir comprobando otras. Normalmente, querremos usar distintos bucles cuando las condiciones afecten a distintas variables, y en cualquier caso siempre es buena idea dejar por lo menos una línea en blanco entre dos bucles distintos para evitar confusiones."
   ]
  },
  {
   "cell_type": "markdown",
   "metadata": {},
   "source": [
    "## Un error común\n",
    "En comparaciones con booleanos, cuando queramos poner la condición de que una variable contenga `True`, no hace falta que escribamos nada más que esa variable. Es decir, las dos siguientes celdas son equivalentes, aunque la línea 3 sea distinta:"
   ]
  },
  {
   "cell_type": "code",
   "execution_count": 11,
   "metadata": {},
   "outputs": [
    {
     "name": "stdout",
     "output_type": "stream",
     "text": [
      "El hecho es cierto\n"
     ]
    }
   ],
   "source": [
    "hecho = True\n",
    "\n",
    "if hecho == True:\n",
    "    print(\"El hecho es cierto\")\n",
    "else:\n",
    "    print(\"El hecho es falso\")"
   ]
  },
  {
   "cell_type": "code",
   "execution_count": 12,
   "metadata": {},
   "outputs": [
    {
     "name": "stdout",
     "output_type": "stream",
     "text": [
      "El hecho es cierto\n"
     ]
    }
   ],
   "source": [
    "hecho = True\n",
    "\n",
    "if hecho:\n",
    "    print(\"El hecho es cierto\")\n",
    "else:\n",
    "    print(\"El hecho es falso\")"
   ]
  },
  {
   "cell_type": "markdown",
   "metadata": {},
   "source": [
    "No va a pasar nada porque lo escribas, pero esta es la forma preferida porque el código queda más limpio."
   ]
  },
  {
   "cell_type": "markdown",
   "metadata": {},
   "source": [
    "## Ejercicios\n",
    "### 040201\n",
    "Una regla mnemotécnica muy útil para saber si una palabra que acaba en -ción se escribe con una o dos ces es pensar si existe una palabra con la misma raíz pero con el interfijo -ct-. Por ejemplo, decimos _dirección_ por la misma razón por la que existe _directo_, pero _adición_, con el significado de «añadir», no tiene ninguna palabra relacionada con -ct- (_adicto_ tiene que ver con _adicción_).\n",
    "\n",
    "Escribe un programa que le pida al usuario un nombre acabado en -ción. Luego, haz que, si acaba en -cción, imprima su correspondiente palabra cognada con -ct- (tendrás que usar el slicing que aprendimos en el cuaderno 0302). Pero, si la palabra acaba en -ción, el programa tiene que decir que la palabra introducida no tiene un cognado que contenga -ct-.\n",
    "\n",
    "Puedes comprobar si el programa funciona correctamente usando las palabras _adicción_, _dirección_, _acción_, _resurrección_, _adición_, _discreción_, _ambición_..."
   ]
  },
  {
   "cell_type": "markdown",
   "metadata": {},
   "source": [
    "### 040202\n",
    "En el programa anterior, si el usuario introduce algo que no acabe en -ción, el programa no hace nada. Eso no suele ser deseable, porque el usuario se queda sin saber si el programa ha funcionado o no.\n",
    "\n",
    "Así que modifica el programa anterior añadiendo un `else` para que, cuando introduzcamos cualquier otro texto, nos devuelva un mensaje en el que diga que lo introducido no cumple con las características que se pedían."
   ]
  },
  {
   "cell_type": "markdown",
   "metadata": {},
   "source": [
    "### 040203\n",
    "¿Qué está mal en este código? ¡Responde sin ejecutar la celda!"
   ]
  },
  {
   "cell_type": "code",
   "execution_count": null,
   "metadata": {},
   "outputs": [],
   "source": [
    "a = int(input(\"Escribe un número: \"))\n",
    "b = int(input(\"Escribe otro: \"))\n",
    "if a = b:\n",
    "    print(\"¡Has escrito el mismo número!\")\n",
    "else:\n",
    "    print(\"¡Has introducido números diferentes!\")"
   ]
  }
 ],
 "metadata": {
  "kernelspec": {
   "display_name": "Python 3",
   "language": "python",
   "name": "python3"
  },
  "language_info": {
   "codemirror_mode": {
    "name": "ipython",
    "version": 3
   },
   "file_extension": ".py",
   "mimetype": "text/x-python",
   "name": "python",
   "nbconvert_exporter": "python",
   "pygments_lexer": "ipython3",
   "version": "3.7.0"
  }
 },
 "nbformat": 4,
 "nbformat_minor": 2
}
