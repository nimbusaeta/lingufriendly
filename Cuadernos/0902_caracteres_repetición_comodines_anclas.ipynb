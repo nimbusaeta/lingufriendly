{
 "cells": [
  {
   "cell_type": "markdown",
   "metadata": {},
   "source": [
    "# Tema 9: expresiones regulares (II)\n",
    "Vamos a empezar por lo más básico de las expresiones regulares.\n",
    "## Caracteres literales y metacaracteres\n",
    "### Caracteres literales\n",
    "Corresponden con caracteres de la string tal cual. Si ponemos `y` nos encuentra la primera `y` de `Monty Python`, aunque depende de las opciones del programa o la función que estemos usando al programar."
   ]
  },
  {
   "cell_type": "code",
   "execution_count": 2,
   "metadata": {},
   "outputs": [
    {
     "name": "stdout",
     "output_type": "stream",
     "text": [
      "<re.Match object; span=(4, 5), match='y'>\n",
      "['y', 'y']\n"
     ]
    }
   ],
   "source": [
    "import re\n",
    "\n",
    "a = re.search(\"y\", \"Monty Python\")\n",
    "b = re.findall(\"y\", \"Monty Python\")\n",
    "print(a)\n",
    "print(b)"
   ]
  },
  {
   "cell_type": "markdown",
   "metadata": {},
   "source": [
    "### Metacaracteres\n",
    "De por sí tienen otros significados (que enseguida veremos). Si queremos usarlos de forma literal hay que escribir `\\` delante; esto es lo que se llama _escaparlos_. Son los siguientes:\n",
    "    \n",
    "`\\ ^ $ . | ? * + ( ) [ ] { }`\n",
    "\n",
    "En la siguiente celda, para capturar el signo de cierre de interrogación, hemos escrito `\\` en el patrón. Puedes comprobar que, si lo quitas, no se captura el signo en el objeto Match que se imprime:"
   ]
  },
  {
   "cell_type": "code",
   "execution_count": 4,
   "metadata": {},
   "outputs": [
    {
     "name": "stdout",
     "output_type": "stream",
     "text": [
      "<re.Match object; span=(0, 21), match='¿Qué es una almáciga?'>\n"
     ]
    }
   ],
   "source": [
    "a = re.search(\"¿Qué es una almáciga\\?\", \"¿Qué es una almáciga?\")\n",
    "print(a)"
   ]
  },
  {
   "cell_type": "markdown",
   "metadata": {},
   "source": [
    "Hay caracteres literales que pueden escaparse para darles un uso diferente; son los [comodines](#Comodines) y también los vamos a ver."
   ]
  },
  {
   "cell_type": "markdown",
   "metadata": {},
   "source": [
    "## Sets y rangos de caracteres\n",
    "Con los corchetes cuadrados `[]` creamos un set o conjunto, es decir, buscamos un carácter de entre los que metamos dentro de los corchetes."
   ]
  },
  {
   "cell_type": "code",
   "execution_count": 17,
   "metadata": {},
   "outputs": [
    {
     "name": "stdout",
     "output_type": "stream",
     "text": [
      "['guión', 'guion']\n"
     ]
    }
   ],
   "source": [
    "a = re.findall(\"gui[oó]n\", \"Antes escribíamos guión y ahora guion\")\n",
    "print(a)"
   ]
  },
  {
   "cell_type": "markdown",
   "metadata": {},
   "source": [
    "Si junto a los corchetes usamos el guion `-`, indicamos un rango. Muy útil para capturar, por ejemplo, rangos de números, de letras..."
   ]
  },
  {
   "cell_type": "code",
   "execution_count": 18,
   "metadata": {},
   "outputs": [
    {
     "name": "stdout",
     "output_type": "stream",
     "text": [
      "['1. ', '2. ', '3. ']\n"
     ]
    }
   ],
   "source": [
    "indice = \"\"\"1. Prólogo\n",
    "2. Introducción\n",
    "3. Aspectos clave\"\"\"\n",
    "a = re.findall(\"[0-9]\\. \", indice)\n",
    "print(a)"
   ]
  },
  {
   "cell_type": "markdown",
   "metadata": {},
   "source": [
    "Se puede usar más de un rango a la vez en un mismo set; por ejemplo, podemos hacer que `[a-z]` sea _case-insensitive_ poniendo al lado el rango de letras en mayúsculas: `[a-zA-Z]`"
   ]
  },
  {
   "cell_type": "markdown",
   "metadata": {},
   "source": [
    "Los corchetes también nos sirven, junto con el acento circunflejo `^`, para negar caracteres:"
   ]
  },
  {
   "cell_type": "code",
   "execution_count": 19,
   "metadata": {},
   "outputs": [
    {
     "name": "stdout",
     "output_type": "stream",
     "text": [
      "['qé', 'qi']\n"
     ]
    }
   ],
   "source": [
    "a = re.findall(\"q[^u]\", \"qué quién qé qién\")\n",
    "print(a)"
   ]
  },
  {
   "cell_type": "markdown",
   "metadata": {},
   "source": [
    "Si metemos más caracteres dentro de los corchetes, niega todos:"
   ]
  },
  {
   "cell_type": "code",
   "execution_count": 20,
   "metadata": {},
   "outputs": [
    {
     "name": "stdout",
     "output_type": "stream",
     "text": [
      "['qé']\n"
     ]
    }
   ],
   "source": [
    "a = re.findall(\"q[^ui]\", \"qué quién qé qién\")\n",
    "print(a)"
   ]
  },
  {
   "cell_type": "markdown",
   "metadata": {},
   "source": [
    "## Repetición y alternancia\n",
    "Con `?` indicamos que el carácter anterior es opcional."
   ]
  },
  {
   "cell_type": "code",
   "execution_count": 11,
   "metadata": {},
   "outputs": [
    {
     "name": "stdout",
     "output_type": "stream",
     "text": [
      "['amigo', 'amigos']\n"
     ]
    }
   ],
   "source": [
    "# Capturar una palabra en singular y en plural\n",
    "\n",
    "a = re.findall(\"amigos?\", \"¿Tienes un amigo o tienes muchos amigos?\")\n",
    "print(a)"
   ]
  },
  {
   "cell_type": "markdown",
   "metadata": {},
   "source": [
    "Con `+` buscamos que el carácter anterior salga una o más veces."
   ]
  },
  {
   "cell_type": "code",
   "execution_count": 24,
   "metadata": {},
   "outputs": [
    {
     "name": "stdout",
     "output_type": "stream",
     "text": [
      "Ciudad del Cabo, una ciudad de 3,7 millones de habitantes\n"
     ]
    }
   ],
   "source": [
    "# Capturar cualquier conjunto de dos o más espacios\n",
    "\n",
    "a = re.sub(\" +\", \" \", \"Ciudad del  Cabo, una ciudad   de 3,7 millones de  habitantes\")\n",
    "print(a)"
   ]
  },
  {
   "cell_type": "markdown",
   "metadata": {},
   "source": [
    "El asterisco `*` se puede entender como una mezcla de `?` y `+`: indicamos que es opcional, pero que, si sale, lo haga una o más veces."
   ]
  },
  {
   "cell_type": "code",
   "execution_count": 25,
   "metadata": {},
   "outputs": [
    {
     "name": "stdout",
     "output_type": "stream",
     "text": [
      "['«ni»', '\"ni\"', '`Monty Python y los caballeros de la mesa cuadrada´']\n"
     ]
    }
   ],
   "source": [
    "# Capturar cualquier palabra entrecomillada\n",
    "\n",
    "a = re.findall('[«\"`][a-zA-Z ]*[´\"»]', '''¿Cuántas veces dicen «ni» los caballeros\n",
    "               que dicen \"ni\" en `Monty Python y los caballeros de la mesa cuadrada´?''')\n",
    "print(a)"
   ]
  },
  {
   "cell_type": "markdown",
   "metadata": {},
   "source": [
    "Podemos indicar el número exacto de apariciones de caracteres que nos interesan escribiendo un número entre llaves `{}`, o un rango si separamos los números mediante comas:"
   ]
  },
  {
   "cell_type": "code",
   "execution_count": 5,
   "metadata": {},
   "outputs": [
    {
     "name": "stdout",
     "output_type": "stream",
     "text": [
      "[' 2940,', ' 5982,']\n",
      "[' 125,', ' 987,', ' 2940,', ' 5982,', ' 13943,', ' 38492,']\n"
     ]
    }
   ],
   "source": [
    "# Capturar cualquier número entre 1000 y 9999\n",
    "\n",
    "a = re.findall(\" [1-9][0-9]{3},\", \"34, 125, 987, 2940, 5982, 13943, 38492, 748392, 404921\")\n",
    "print(a)\n",
    "\n",
    "# Capturar cualquier número entre 100 y 99999\n",
    "\n",
    "a = re.findall(\" [1-9][0-9]{2,4},\", \"34, 125, 987, 2940, 5982, 13943, 38492, 748392, 404921\")\n",
    "print(a)"
   ]
  },
  {
   "cell_type": "markdown",
   "metadata": {},
   "source": [
    "La pleca `|` permite la alternancia entre dos opciones. En este caso, queremos ver cuántas veces hacen referencia al grupo cómico, independientemente de la manera que usen para referirse a él:"
   ]
  },
  {
   "cell_type": "code",
   "execution_count": 6,
   "metadata": {},
   "outputs": [
    {
     "name": "stdout",
     "output_type": "stream",
     "text": [
      "['Monty Python', 'the Pythons', 'the Pythons']\n"
     ]
    }
   ],
   "source": [
    "a = re.findall(\"Monty Python|the Pythons\", \"\"\"Monty Python and the Holy Grail was based on Arthurian legend\n",
    "                and was directed by Jones and Gilliam. Again, the latter also contributed linking animations \n",
    "                (and put together the opening credits). Along with the rest of the Pythons, Jones and Gilliam \n",
    "                performed several roles in the film, but Chapman took the lead as King Arthur. Cleese returned \n",
    "                to the group for the film, feeling that they were once again breaking new ground. Holy Grail \n",
    "                was filmed on location, in picturesque rural areas of Scotland, with a budget of only £229,000; \n",
    "                the money was raised in part with investments from rock groups such as Pink Floyd, Jethro Tull, \n",
    "                and Led Zeppelin—and UK music industry entrepreneur Tony Stratton-Smith (founder and owner of \n",
    "                the Charisma Records label, for which the Pythons recorded their comedy albums).\"\"\")\n",
    "print(a)"
   ]
  },
  {
   "cell_type": "markdown",
   "metadata": {},
   "source": [
    "## Comodines\n",
    "Ciertos caracteres literales se pueden escapar, como hacíamos con los metacaracteres, para usos especiales. Tienen la particularidad de que al ponerlos en mayúsculas, los negamos.\n",
    "- Con `\\d` encontramos dígitos: `\\d` = `[0-9]`; con `\\D`, todo lo que no sean dígitos: `\\D` = `[^0-9]`\n",
    "- Con `\\w` encontramos caracteres alfanuméricos y la barra baja: `\\w` = `[a-zA-Z0-9_]`; con `\\W`, todo lo que no sean caracteres alfanuméricos ni la barra baja: `\\W` = `[^a-zA-Z0-9_]`\n",
    "\n",
    "### Caracteres invisibles\n",
    "- Con `\\t` encontramos el tabulador.\n",
    "- Con `\\n` encontramos el carácter de nueva línea.\n",
    "- Con `\\r` encontramos el carácter de retorno de carro.\n",
    "- Con `\\s` encontramos espacios, tabuladores y saltos de línea: `\\s` = `[ \\t\\r\\n]`; con `\\S`, todo lo que no sean espacios, tabuladores ni saltos de línea: `\\S` = `[^ \\t\\r\\n]`\n",
    "\n",
    "En Windows, por defecto, al crear un nuevo párrafo en los programas de procesamiento de texto, en realidad se están imprimiendo `\\r` y `\\n`. En Linux, se imprime solo `\\n`.\n",
    "### El punto\n",
    "El punto `.` encuentra casi todo: todo menos precisamente los saltos de línea (aunque esto es configurable). Así que ¡hay que tener mucho cuidado con el punto!"
   ]
  },
  {
   "cell_type": "markdown",
   "metadata": {},
   "source": [
    "## Anclas\n",
    "Las anclas no se corresponden con ningún carácter, sino con posiciones. Su particularidad reside en que si lo que queremos es reemplazar una string por otra, no tenemos que ponerlos en la cadena meta.\n",
    "\n",
    "El acento circunflejo `^` indica el principio de una línea y `$`, el final. Los límites de las palabras también los podemos encontrar, con `\\b` (y usar su contrario, `\\B`)."
   ]
  },
  {
   "cell_type": "markdown",
   "metadata": {},
   "source": [
    "(A veces, tenemos que poner `r` antes de la regex para que funcione bien, según se explica en esta [nota](https://docs.python.org/3/library/re.html#module-re) de la documentación de `re` sobre el uso de la barra para escapar.)"
   ]
  },
  {
   "cell_type": "code",
   "execution_count": 8,
   "metadata": {},
   "outputs": [
    {
     "name": "stdout",
     "output_type": "stream",
     "text": [
      "['1. ', '2. ', '3. ', '4. ']\n"
     ]
    }
   ],
   "source": [
    "indice = \"\"\"1. Prólogo\n",
    "2. Introducción\n",
    "3. Aspectos clave\n",
    "4. Historia desde 1979. Un relato único\"\"\"\n",
    "\n",
    "a = re.findall(r\"^[0-9]\\. \", indice, flags=re.M)\n",
    "print(a)"
   ]
  },
  {
   "cell_type": "markdown",
   "metadata": {},
   "source": [
    "Fíjate en que en la línea 6 le hemos pasado a `.findall()` un valor especial al argumento `flags`, para que lea `indice` en modo multilínea y nos sea más fácil encontrar los números de índices usando las anclas."
   ]
  },
  {
   "cell_type": "markdown",
   "metadata": {},
   "source": [
    "## Ejercicios\n",
    "### 090201\n",
    "Para encontrar `1+1=2`, ¿qué regex hay que usar? Rellena la celda con la regex correcta:"
   ]
  },
  {
   "cell_type": "code",
   "execution_count": null,
   "metadata": {},
   "outputs": [],
   "source": [
    "a = re.search(\"\", \"Todo el mundo sabe que 1+1=2\")\n",
    "print(a)"
   ]
  },
  {
   "cell_type": "markdown",
   "metadata": {},
   "source": [
    "### 090202\n",
    "Para encontrar `a-d`, `”—c` y `ó—”`, ¿qué regex hay que usar? Ojo, que no es lo mismo el guion `-` que la raya `—`. Rellena la celda con la regex correcta:"
   ]
  },
  {
   "cell_type": "code",
   "execution_count": null,
   "metadata": {},
   "outputs": [],
   "source": [
    "texto = \"\"\"de ninguna manera-dijo\n",
    "“Señores”—comenzó—”no vamos a…\"\"\"\n",
    "a = re.findall(\"\", texto)\n",
    "print(a)"
   ]
  },
  {
   "cell_type": "markdown",
   "metadata": {},
   "source": [
    "### 090203\n",
    "Escribamos un traductor balleno-castellano, que sustituya todas las vocales repetidas por una sola vocal. Rellena con regex hasta que se imprima por pantalla `hola, señora ballena`:"
   ]
  },
  {
   "cell_type": "code",
   "execution_count": null,
   "metadata": {},
   "outputs": [],
   "source": [
    "saludo = \"hoooooooooolaaaaaa, señoooooooora balleeeeeeeeenaaaaaaaaa\"\n",
    "saludo = re.sub(\"\", \"a\", saludo)\n",
    "saludo = re.sub(\"\", \"e\", saludo)\n",
    "saludo = re.sub(\"\", \"i\", saludo)\n",
    "saludo = re.sub(\"\", \"o\", saludo)\n",
    "saludo = re.sub(\"\", \"u\", saludo)\n",
    "print(saludo)"
   ]
  },
  {
   "cell_type": "markdown",
   "metadata": {},
   "source": [
    "### 090204\n",
    "Para encontrar códigos RGB de colores, ¿qué regex tendríamos que escribir? Rellena con regex hasta que se imprima `['#63ffed', '#daffbb', '#ff787b']`:"
   ]
  },
  {
   "cell_type": "code",
   "execution_count": null,
   "metadata": {},
   "outputs": [],
   "source": [
    "a = re.findall(\"\", \"#63ffed #daffbb #ff787b\")\n",
    "print(a)"
   ]
  },
  {
   "cell_type": "markdown",
   "metadata": {},
   "source": [
    "### 090205\n",
    "Tenemos una lista de términos sacados de un diccionario médico y queremos deshacernos de prefijos y sufijos. ¿Qué regex hay que usar para que se imprima una lista sin `cefalo-, -céfalo, la` ni `-itis`?"
   ]
  },
  {
   "cell_type": "code",
   "execution_count": null,
   "metadata": {},
   "outputs": [],
   "source": [
    "entries = [\n",
    "    \"acantocéfalo, la\",\n",
    "    \"acéfalo, la\",\n",
    "    \"bicéfalo, la\",\n",
    "    \"braquicéfalo, la\",\n",
    "    \"bucéfalo\",\n",
    "    \"calocéfalo, la\",\n",
    "    \"céfalo\",\n",
    "    \"cefalo-, -céfalo, la\",\n",
    "    \"cinocéfalo\",\n",
    "    \"dolicocéfalo, la\",\n",
    "    \"encéfalo\",\n",
    "    \"hidrocéfalo, la\",\n",
    "    \"macrocéfalo, la\",\n",
    "    \"mesocéfalo, la\",\n",
    "    \"microcéfalo, la\",\n",
    "    \"policéfalo, la\",\n",
    "    \"termocéfalo, la\",\n",
    "    \"tricéfalo, la\",\n",
    "    \"estomatitis\",\n",
    "    \"faringitis\",\n",
    "    \"fascitis\",\n",
    "    \"flebitis\",\n",
    "    \"flojeritis\",\n",
    "    \"gastritis\",\n",
    "    \"gastroenteritis\",\n",
    "    \"gingivitis\",\n",
    "    \"glositis\",\n",
    "    \"hepatitis\",\n",
    "    \"iritis\",\n",
    "    \"-itis\",\n",
    "    \"laringitis\",\n",
    "    \"linfangitis\",\n",
    "    \"litis\",\n",
    "    \"mastitis\",\n",
    "    \"meningitis\"]\n",
    "\n",
    "entries_clean = []\n",
    "for entry in entries:\n",
    "    if not re.match(\"\", entry):\n",
    "        entries_clean.append(entry)\n",
    "    \n",
    "print(entries_clean)"
   ]
  },
  {
   "cell_type": "markdown",
   "metadata": {},
   "source": [
    "### 090206\n",
    "Queremos corregir este error típico de software de [reconocimiento óptico de caracteres (OCR)](https://es.wikipedia.org/wiki/Reconocimiento_%C3%B3ptico_de_caracteres): `to`, `ta`, `te`, `tos`, `tas`, `tes` a menudo esconden `lo`, `la`, `le`, `los`, `las`, `les`. ¿Qué debemos buscar para que capture `to`, `tas` y `tes` pero no `todo`?"
   ]
  },
  {
   "cell_type": "code",
   "execution_count": null,
   "metadata": {},
   "outputs": [],
   "source": [
    "texto = \"\"\"todo estaba oscuro\n",
    "era to más parecido\n",
    "una de tas mejores obras\n",
    "según decían, «tes asustaban»\"\"\"\n",
    "\n",
    "resultados = re.findall(r\"\", texto)\n",
    "print(resultados)"
   ]
  }
 ],
 "metadata": {
  "kernelspec": {
   "display_name": "Python 3",
   "language": "python",
   "name": "python3"
  },
  "language_info": {
   "codemirror_mode": {
    "name": "ipython",
    "version": 3
   },
   "file_extension": ".py",
   "mimetype": "text/x-python",
   "name": "python",
   "nbconvert_exporter": "python",
   "pygments_lexer": "ipython3",
   "version": "3.7.0"
  }
 },
 "nbformat": 4,
 "nbformat_minor": 2
}
