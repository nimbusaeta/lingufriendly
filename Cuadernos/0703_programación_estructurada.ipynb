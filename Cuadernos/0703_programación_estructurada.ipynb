{
 "cells": [
  {
   "cell_type": "markdown",
   "metadata": {},
   "source": [
    "# Tema 7: Funciones (III)"
   ]
  },
  {
   "cell_type": "markdown",
   "metadata": {},
   "source": [
    "## Programación estructurada\n",
    "\n",
    "Ahora que conocemos las principales estructuras de datos y las funciones, podemos equiparar:\n",
    "- las estructuras de datos a la información que manejamos\n",
    "- las funciones a las tareas que realizamos con esa información\n",
    "\n",
    "Así pues, cuando programamos, lo primero que tenemos que pensar es cómo vamos a representar cada tipo de información que vamos a manejar y en cuántas tareas vamos a dividir la acción total del programa.\n",
    "\n",
    "Por ejemplo, una lista de números aleatorios tiene más sentido representarlo como un conjunto, mientras que una lista de números ordenados de menor a mayor (o al revés) será mejor que esté en forma de lista. Y si, por ejemplo, en algún punto de nuestro programa, aplicamos la misma modificación al mismo tipo de dato, posiblemente sea buena idea meter todas esas funciones dentro de otra función.\n",
    "\n",
    "En este cuaderno vamos a aprender a crear desde cero un programa con funciones, y en el siguiente tendremos que modificar un programa ya hecho, para optimizarlo añadiéndole funciones.\n",
    "\n",
    "### Crear funciones\n",
    "Imagina que queremos escribir un programa que sirva para recoger datos de pacientes y calcule su índice de masa corporal (IMC). Queremos que nos avise de si el paciente está en peligro de desnutrición o si, por el contrario, es obeso. También queremos que tenga un menú que nos permita hacer varias consultas hasta que queramos salir del programa.\n",
    "\n",
    "¿Por dónde empezamos? Lo mejor es dividir la tarea en tareas más sencillas, que serán nuestras funciones. Ir de lo pequeño a lo grande. Es muy recomendable ir probando que cada función que escribamos funciona como queremos, porque si no, cuando lo juntemos todo y tengamos un fallo, será más difícil corregirlo.\n",
    "\n",
    "Vamos a empezar por algo sencillo. Sabemos que tenemos que pedir los datos del peso y la altura:"
   ]
  },
  {
   "cell_type": "code",
   "execution_count": 2,
   "metadata": {},
   "outputs": [],
   "source": [
    "def pedir_datos():\n",
    "    peso = float(input(\"Especifique el peso (en kilos, separando los decimales con un punto): \"))\n",
    "    altura = float(input(\"Especifique la altura (en metros, separando los decimales con un punto): \"))\n",
    "    return peso, altura"
   ]
  },
  {
   "cell_type": "markdown",
   "metadata": {},
   "source": [
    "Probamos la función:"
   ]
  },
  {
   "cell_type": "code",
   "execution_count": 3,
   "metadata": {},
   "outputs": [
    {
     "name": "stdout",
     "output_type": "stream",
     "text": [
      "Especifique el peso (en kilos, separando los decimales con un punto): 70.5\n",
      "Especifique la altura (en metros, separando los decimales con un punto): 1.80\n"
     ]
    },
    {
     "data": {
      "text/plain": [
       "(70.5, 1.8)"
      ]
     },
     "execution_count": 3,
     "metadata": {},
     "output_type": "execute_result"
    }
   ],
   "source": [
    "pedir_datos()"
   ]
  },
  {
   "cell_type": "markdown",
   "metadata": {},
   "source": [
    "Parece que todo es correcto.\n",
    "\n",
    "Ahora tenemos que calcular el IMC con esos datos. Se hace dividiendo el peso entre el cuadrado de la altura. Por tanto, tengo que pasarle como parámetros a mi función de calcular el IMC el peso y la altura, y devolver el índice:"
   ]
  },
  {
   "cell_type": "code",
   "execution_count": 6,
   "metadata": {},
   "outputs": [
    {
     "data": {
      "text/plain": [
       "23.030045351473927"
      ]
     },
     "execution_count": 6,
     "metadata": {},
     "output_type": "execute_result"
    }
   ],
   "source": [
    "def calcular_imc(peso, altura):\n",
    "    indice = peso / (altura * altura)\n",
    "    return indice\n",
    "\n",
    "calcular_imc(65, 1.68)"
   ]
  },
  {
   "cell_type": "markdown",
   "metadata": {},
   "source": [
    "Tiene buena pinta.\n",
    "\n",
    "También vamos a necesitar una función que, según el valor del índice, imprima la clasificación del estado de salud del paciente en cuanto a su peso.\n",
    "\n",
    "La [Sociedad Española para el Estudio de la Obesidad](https://www.seedo.es/index.php/pacientes/calculo-imc) da la siguiente tabla, que tendremos que convertir en una función:\n",
    "\n",
    "- Menos de 18,5: Peso insuficiente\n",
    "- 18,5-25: Peso normal\n",
    "- 25-27: Sobrepeso grado I\n",
    "- 27-30: Sobrepeso grado II (preobesidad)\n",
    "- 30-35: Obesidad de tipo I\n",
    "- 35-40: Obesidad de tipo II\n",
    "- 40-50: Obesidad de tipo III (mórbida)\n",
    "- Más de 50: Obesidad de tipo IV (extrema)\n",
    "\n",
    "Parece que tendremos que usar condicionales:"
   ]
  },
  {
   "cell_type": "code",
   "execution_count": 7,
   "metadata": {},
   "outputs": [
    {
     "name": "stdout",
     "output_type": "stream",
     "text": [
      "Sobrepeso grado I.\n"
     ]
    }
   ],
   "source": [
    "def clasificacion_imc(indice):\n",
    "    if indice <= 18.5:\n",
    "        print(\"Peso insuficiente.\")\n",
    "    elif 18.5 < indice <= 25:\n",
    "        print(\"Peso normal.\")\n",
    "    elif 25 < indice <= 27:\n",
    "        print(\"Sobrepeso grado I.\")\n",
    "    elif 27 < indice <= 30:\n",
    "        print(\"Sobrepeso grado II (preobesidad).\")\n",
    "    elif 30 < indice <= 35:\n",
    "        print(\"Obesidad de tipo I.\")\n",
    "    elif 35 < indice <= 40:\n",
    "        print(\"Obesidad de tipo II.\")\n",
    "    elif 40 < indice <= 50:\n",
    "        print(\"Obesidad de tipo III (mórbida).\")\n",
    "    elif 50 < indice:\n",
    "        print(\"Obesidad de tipo IV (extrema).\")\n",
    "    \n",
    "clasificacion_imc(26.7)"
   ]
  },
  {
   "cell_type": "markdown",
   "metadata": {},
   "source": [
    "Parece que todo va bien, de nuevo.\n",
    "\n",
    "Ahora ya podríamos escribir nuestro programa. Pero ¿qué hacemos con las funciones?, ¿dónde las ponemos?\n",
    "\n",
    "Las funciones suelen definirse al principio del programa, y después colocar el programa principal (o _main_). Las partes en que se divide el programa se señalan mediante comentarios:"
   ]
  },
  {
   "cell_type": "code",
   "execution_count": 11,
   "metadata": {},
   "outputs": [
    {
     "name": "stdout",
     "output_type": "stream",
     "text": [
      "Opciones:\n",
      "1. Calcular el IMC de un paciente.\n",
      "2. Salir.\n",
      "1\n",
      "\n",
      "Especifique el peso (en kilos, separando los decimales con un punto): 80\n",
      "Especifique la altura (en metros, separando los decimales con un punto): 1.78\n",
      "\n",
      "El IMC del paciente es: 25.24933720489837\n",
      "\n",
      "Sobrepeso grado I.\n",
      "\n",
      "Opciones:\n",
      "1. Calcular el IMC de un paciente.\n",
      "2. Salir.\n",
      "1\n",
      "\n",
      "Especifique el peso (en kilos, separando los decimales con un punto): 67.5\n",
      "Especifique la altura (en metros, separando los decimales con un punto): 1.72\n",
      "\n",
      "El IMC del paciente es: 22.81638723634397\n",
      "\n",
      "Peso normal.\n",
      "\n",
      "Opciones:\n",
      "1. Calcular el IMC de un paciente.\n",
      "2. Salir.\n",
      "4\n",
      "\n",
      "Debe elegir entre la opción 1 y la 2.\n",
      "\n",
      "Opciones:\n",
      "1. Calcular el IMC de un paciente.\n",
      "2. Salir.\n",
      "2\n",
      "\n",
      "Gracias por utilizar la calculadora de IMC.\n"
     ]
    }
   ],
   "source": [
    "### FUNCIONES\n",
    "\n",
    "def pedir_datos():\n",
    "    # Pide datos al usuario y los devuelve\n",
    "    peso = float(input(\"Especifique el peso (en kilos, separando los decimales con un punto): \"))\n",
    "    altura = float(input(\"Especifique la altura (en metros, separando los decimales con un punto): \"))\n",
    "    return peso, altura\n",
    "\n",
    "def calcular_imc(peso, altura):\n",
    "    # Calcula el IMC a partir de los datos que recibe y lo devuelve\n",
    "    indice = peso / (altura * altura)\n",
    "    return indice\n",
    "\n",
    "def clasificacion_imc(indice):\n",
    "    # Imprime un mensaje dependiendo del valor del índice que recibe\n",
    "    if indice <= 18.5:\n",
    "        print(\"Peso insuficiente.\")\n",
    "    elif 18.5 < indice <= 25:\n",
    "        print(\"Peso normal.\")\n",
    "    elif 25 < indice <= 27:\n",
    "        print(\"Sobrepeso grado I.\")\n",
    "    elif 27 < indice <= 30:\n",
    "        print(\"Sobrepeso grado II (preobesidad).\")\n",
    "    elif 30 < indice <= 35:\n",
    "        print(\"Obesidad de tipo I.\")\n",
    "    elif 35 < indice <= 40:\n",
    "        print(\"Obesidad de tipo II.\")\n",
    "    elif 40 < indice <= 50:\n",
    "        print(\"Obesidad de tipo III (mórbida).\")\n",
    "    elif 50 < indice:\n",
    "        print(\"Obesidad de tipo IV (extrema).\")\n",
    "\n",
    "### PROGRAMA PRINCIPAL\n",
    "\n",
    "continuar = True\n",
    "while continuar:\n",
    "    \n",
    "    # Imprimimos el menú\n",
    "    opcion = input(\"Opciones:\\n1. Calcular el IMC de un paciente.\\n2. Salir.\\n\")\n",
    "    \n",
    "    # 1. Calcular IMC\n",
    "    if opcion == \"1\":\n",
    "        print()\n",
    "        peso, altura = pedir_datos()\n",
    "        indice = calcular_imc(peso, altura)\n",
    "        print()\n",
    "        print(\"El IMC del paciente es:\", indice)\n",
    "        print()\n",
    "        clasificacion_imc(indice)\n",
    "        print()\n",
    "        \n",
    "    # 2. Salir\n",
    "    elif opcion == \"2\":\n",
    "        print()\n",
    "        print(\"Gracias por utilizar la calculadora de IMC.\")\n",
    "        continuar = False\n",
    "    \n",
    "    # Fallback\n",
    "    else:\n",
    "        print()\n",
    "        print(\"Debe elegir entre la opción 1 y la 2.\")\n",
    "        print()"
   ]
  },
  {
   "cell_type": "markdown",
   "metadata": {},
   "source": [
    "## Ejercicios\n",
    "### 070301\n",
    "Escribe un programa que pregunte al usuario su nombre y le devuelva sus iniciales. Tendrás que crear una función `obtener_iniciales()` a partir de una string (que será lo que introduzca el usuario). Limítalo a cuatro palabras como máximo (nombre compuesto y dos apellidos, por ejemplo). ¡No olvides documentar la función!\n",
    "\n",
    "Prueba que la función hace lo que debe con el siguiente código:\n",
    "\n",
    "    iniciales1 = obtener_iniciales(\"Isabel\")\n",
    "    iniciales2 = obtener_iniciales(\"Julio Martín\")\n",
    "    iniciales3 = obtener_iniciales(\"María José García\")\n",
    "    iniciales4 = obtener_iniciales(\"José Antonio Díaz Velasco\")\n",
    "    print(iniciales1)\n",
    "    print(iniciales2)\n",
    "    print(iniciales3)\n",
    "    print(iniciales4)\n",
    "\n",
    "Que debería devolver lo siguiente:\n",
    "\n",
    "    I\n",
    "    ('J', 'M')\n",
    "    ('M', 'J', 'G')\n",
    "    ('J', 'A', 'D', 'V')\n",
    "\n",
    "(Pista: tendrás que convertir la string en una lista de strings, dividiendo por los espacios, con `.split()`. Recuerda que si intentas acceder al segundo elemento de una lista de un elemento, por ejemplo, dará un error porque no existe ese elemento. Así que tendrás que tratar cada longitud de lista por separado.)"
   ]
  }
 ],
 "metadata": {
  "kernelspec": {
   "display_name": "Python 3",
   "language": "python",
   "name": "python3"
  },
  "language_info": {
   "codemirror_mode": {
    "name": "ipython",
    "version": 3
   },
   "file_extension": ".py",
   "mimetype": "text/x-python",
   "name": "python",
   "nbconvert_exporter": "python",
   "pygments_lexer": "ipython3",
   "version": "3.7.0"
  }
 },
 "nbformat": 4,
 "nbformat_minor": 2
}
